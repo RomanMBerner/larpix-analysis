{
 "cells": [
  {
   "cell_type": "markdown",
   "metadata": {},
   "source": [
    "# Analysis of fitted tracks\n",
    "Plots many distributions associated with fitted tracks.\n",
    "\n",
    "## Paths\n",
    "Set ``datapath`` to point to the directory which contains ``evd`` files."
   ]
  },
  {
   "cell_type": "code",
   "execution_count": 1,
   "metadata": {},
   "outputs": [],
   "source": [
    "import ipywidgets as widgets\n",
    "import numpy as np\n",
    "import matplotlib.pyplot as plt\n",
    "import os\n",
    "import glob\n",
    "import h5py\n",
    "import scipy.stats\n",
    "import matplotlib as mpl\n",
    "mpl.rc('image', cmap='viridis')"
   ]
  },
  {
   "cell_type": "code",
   "execution_count": 2,
   "metadata": {},
   "outputs": [
    {
     "name": "stdout",
     "output_type": "stream",
     "text": [
      "datapath:  /home/rberner/PACMAN/DAQ/dataRuns/convertedData/\n",
      "datalog_2020_10_27_04_15_50_CET_evd.h5\tdatalog_2020_10_27_14_58_52_CET_evd.h5\n",
      "datalog_2020_10_27_14_21_10_CET_evd.h5\ttrash\n"
     ]
    }
   ],
   "source": [
    "#datapath = os.path.join(os.environ['SCRATCH'],'evd/')\n",
    "#datapath = '/global/project/projectdirs/dune/data/larpix/processed_data/prod_20_10_22/'\n",
    "datapath = '/home/rberner/PACMAN/DAQ/dataRuns/convertedData/'\n",
    "print('datapath: ', datapath)\n",
    "\n",
    "!ls /home/rberner/PACMAN/DAQ/dataRuns/convertedData/"
   ]
  },
  {
   "cell_type": "markdown",
   "metadata": {},
   "source": [
    "## Interactive analysis"
   ]
  },
  {
   "cell_type": "code",
   "execution_count": 3,
   "metadata": {},
   "outputs": [],
   "source": [
    "def profile_plot(x,y,xbins,method='mean',std_on=False,best_fit=False):\n",
    "    binned = scipy.stats.binned_statistic(x, [y, y**2], bins=xbins, statistic=method)\n",
    "    mean, mean2 = binned.statistic\n",
    "    std = np.sqrt(mean2 - mean**2)\n",
    "    bin_edges = binned.bin_edges\n",
    "    bin_centers = (bin_edges[:-1] + bin_edges[1:])/2.\n",
    "\n",
    "    fmt = 'r.'\n",
    "    if method != 'mean': fmt = '.'\n",
    "    plt.errorbar(x=bin_centers, y=mean, yerr=std if std_on else None, fmt=fmt, alpha=0.5)\n",
    "    \n",
    "    if best_fit:\n",
    "        fit = np.polyfit(bin_centers, mean, deg=1, w=std if std_on else None)\n",
    "        print('Best fit:',fit)\n",
    "    \n",
    "def mpv(x):\n",
    "    val,bins = np.histogram(x,bins=100)\n",
    "    idx = np.argmax(val)\n",
    "    return (bins[idx] + bins[idx+1])/2\n",
    "\n",
    "def vertical_assumption(d):\n",
    "    rv = dict()\n",
    "    theta = d['theta']\n",
    "    phi = d['phi']\n",
    "    \n",
    "    rv['start'] = np.where(np.expand_dims(phi>0,axis=-1), d['start'], d['end'])\n",
    "    rv['end'] = np.where(np.expand_dims(phi>0,axis=-1), d['end'], d['start'])\n",
    "    rv['theta'] = np.where(phi>0, theta, np.pi - theta)\n",
    "    rv['phi'] = np.abs(phi)\n",
    "    rv['residual'] = d['residual']\n",
    "    return rv\n",
    "\n",
    "def calc_theta(xyzt):\n",
    "    return np.arctan2(np.linalg.norm(xyzt[:,:2],axis=-1),xyzt[:,2])\n",
    "\n",
    "def calc_phi(xyzt):\n",
    "    return np.arctan2(xyzt[:,1],xyzt[:,0])\n",
    "\n",
    "def azimuthal(d):\n",
    "    rv = dict()\n",
    "    start = d['start'][:]\n",
    "    end = d['end'][:]\n",
    "    start[:,[1,2]] = np.array([1,-1]) * d['start'][:,[2,1]] # swap y -> -z, z -> y\n",
    "    end[:,[1,2]] = np.array([1,-1]) * d['end'][:,[2,1]] # swap y -> -z, z -> y\n",
    "    theta = calc_theta(end-start)\n",
    "    phi = calc_phi(end-start)\n",
    "    residual = d['residual'][:]\n",
    "    residual[:,[1,2]] = d['residual'][:,[2,1]] # swap y -> -z, z -> y\n",
    "    \n",
    "    rv['start'] = start\n",
    "    rv['end'] = end\n",
    "    rv['theta'] = theta\n",
    "    rv['phi'] = phi\n",
    "    rv['residual'] = residual\n",
    "    return rv\n"
   ]
  },
  {
   "cell_type": "code",
   "execution_count": 4,
   "metadata": {},
   "outputs": [
    {
     "data": {
      "application/vnd.jupyter.widget-view+json": {
       "model_id": "d9d226d2305546888567c17db29283a1",
       "version_major": 2,
       "version_minor": 0
      },
      "text/plain": [
       "Canvas(toolbar=Toolbar(toolitems=[('Home', 'Reset original view', 'home', 'home'), ('Back', 'Back to previous …"
      ]
     },
     "metadata": {},
     "output_type": "display_data"
    },
    {
     "data": {
      "application/vnd.jupyter.widget-view+json": {
       "model_id": "ab72840666dd4ff38410491cbaa85aa7",
       "version_major": 2,
       "version_minor": 0
      },
      "text/plain": [
       "Canvas(toolbar=Toolbar(toolitems=[('Home', 'Reset original view', 'home', 'home'), ('Back', 'Back to previous …"
      ]
     },
     "metadata": {},
     "output_type": "display_data"
    },
    {
     "data": {
      "application/vnd.jupyter.widget-view+json": {
       "model_id": "d8dcec86fd9b4756ac156cc6c11c0899",
       "version_major": 2,
       "version_minor": 0
      },
      "text/plain": [
       "Canvas(toolbar=Toolbar(toolitems=[('Home', 'Reset original view', 'home', 'home'), ('Back', 'Back to previous …"
      ]
     },
     "metadata": {},
     "output_type": "display_data"
    },
    {
     "data": {
      "application/vnd.jupyter.widget-view+json": {
       "model_id": "b8ed69b348734ecbaad9b0a30d26f991",
       "version_major": 2,
       "version_minor": 0
      },
      "text/plain": [
       "Canvas(toolbar=Toolbar(toolitems=[('Home', 'Reset original view', 'home', 'home'), ('Back', 'Back to previous …"
      ]
     },
     "metadata": {},
     "output_type": "display_data"
    },
    {
     "data": {
      "application/vnd.jupyter.widget-view+json": {
       "model_id": "f38318dc9b044c56b6010f47e318b6bc",
       "version_major": 2,
       "version_minor": 0
      },
      "text/plain": [
       "Canvas(toolbar=Toolbar(toolitems=[('Home', 'Reset original view', 'home', 'home'), ('Back', 'Back to previous …"
      ]
     },
     "metadata": {},
     "output_type": "display_data"
    },
    {
     "data": {
      "application/vnd.jupyter.widget-view+json": {
       "model_id": "a1ee701147a54e79a5bf9a5a7eb85165",
       "version_major": 2,
       "version_minor": 0
      },
      "text/plain": [
       "Canvas(toolbar=Toolbar(toolitems=[('Home', 'Reset original view', 'home', 'home'), ('Back', 'Back to previous …"
      ]
     },
     "metadata": {},
     "output_type": "display_data"
    },
    {
     "data": {
      "application/vnd.jupyter.widget-view+json": {
       "model_id": "4e55b17144dd48ecbe66f45095984bf1",
       "version_major": 2,
       "version_minor": 0
      },
      "text/plain": [
       "Canvas(toolbar=Toolbar(toolitems=[('Home', 'Reset original view', 'home', 'home'), ('Back', 'Back to previous …"
      ]
     },
     "metadata": {},
     "output_type": "display_data"
    },
    {
     "data": {
      "application/vnd.jupyter.widget-view+json": {
       "model_id": "bd6028385c014b4683bfc8b78d7a2885",
       "version_major": 2,
       "version_minor": 0
      },
      "text/plain": [
       "Canvas(toolbar=Toolbar(toolitems=[('Home', 'Reset original view', 'home', 'home'), ('Back', 'Back to previous …"
      ]
     },
     "metadata": {},
     "output_type": "display_data"
    },
    {
     "data": {
      "application/vnd.jupyter.widget-view+json": {
       "model_id": "6d255cec2b2343dbb8b4afffdd75b94a",
       "version_major": 2,
       "version_minor": 0
      },
      "text/plain": [
       "Canvas(toolbar=Toolbar(toolitems=[('Home', 'Reset original view', 'home', 'home'), ('Back', 'Back to previous …"
      ]
     },
     "metadata": {},
     "output_type": "display_data"
    },
    {
     "data": {
      "application/vnd.jupyter.widget-view+json": {
       "model_id": "5f06e8cf544e4b81a2e3377872b44aa9",
       "version_major": 2,
       "version_minor": 0
      },
      "text/plain": [
       "Canvas(toolbar=Toolbar(toolitems=[('Home', 'Reset original view', 'home', 'home'), ('Back', 'Back to previous …"
      ]
     },
     "metadata": {},
     "output_type": "display_data"
    },
    {
     "data": {
      "application/vnd.jupyter.widget-view+json": {
       "model_id": "fd8dd8c94f274aefb43df8e0cf9b3630",
       "version_major": 2,
       "version_minor": 0
      },
      "text/plain": [
       "Canvas(toolbar=Toolbar(toolitems=[('Home', 'Reset original view', 'home', 'home'), ('Back', 'Back to previous …"
      ]
     },
     "metadata": {},
     "output_type": "display_data"
    },
    {
     "data": {
      "application/vnd.jupyter.widget-view+json": {
       "model_id": "f6ae4ad639814e52876bbe8a13e77d63",
       "version_major": 2,
       "version_minor": 0
      },
      "text/plain": [
       "Canvas(toolbar=Toolbar(toolitems=[('Home', 'Reset original view', 'home', 'home'), ('Back', 'Back to previous …"
      ]
     },
     "metadata": {},
     "output_type": "display_data"
    },
    {
     "data": {
      "application/vnd.jupyter.widget-view+json": {
       "model_id": "beb38445251646d2acbcbe8c061b9a9a",
       "version_major": 2,
       "version_minor": 0
      },
      "text/plain": [
       "Canvas(toolbar=Toolbar(toolitems=[('Home', 'Reset original view', 'home', 'home'), ('Back', 'Back to previous …"
      ]
     },
     "metadata": {},
     "output_type": "display_data"
    },
    {
     "data": {
      "application/vnd.jupyter.widget-view+json": {
       "model_id": "50ffe37c5aa045eb84e634e3afe838c6",
       "version_major": 2,
       "version_minor": 0
      },
      "text/plain": [
       "Canvas(toolbar=Toolbar(toolitems=[('Home', 'Reset original view', 'home', 'home'), ('Back', 'Back to previous …"
      ]
     },
     "metadata": {},
     "output_type": "display_data"
    },
    {
     "data": {
      "application/vnd.jupyter.widget-view+json": {
       "model_id": "9059a3b1e2194e368bd339d995656e96",
       "version_major": 2,
       "version_minor": 0
      },
      "text/plain": [
       "Canvas(toolbar=Toolbar(toolitems=[('Home', 'Reset original view', 'home', 'home'), ('Back', 'Back to previous …"
      ]
     },
     "metadata": {},
     "output_type": "display_data"
    },
    {
     "data": {
      "application/vnd.jupyter.widget-view+json": {
       "model_id": "dd649ff1eecc4015ba9f9d20a83dfd6b",
       "version_major": 2,
       "version_minor": 0
      },
      "text/plain": [
       "Canvas(toolbar=Toolbar(toolitems=[('Home', 'Reset original view', 'home', 'home'), ('Back', 'Back to previous …"
      ]
     },
     "metadata": {},
     "output_type": "display_data"
    },
    {
     "data": {
      "application/vnd.jupyter.widget-view+json": {
       "model_id": "d0405e0506694e90abb830a790bb1e07",
       "version_major": 2,
       "version_minor": 0
      },
      "text/plain": [
       "Canvas(toolbar=Toolbar(toolitems=[('Home', 'Reset original view', 'home', 'home'), ('Back', 'Back to previous …"
      ]
     },
     "metadata": {},
     "output_type": "display_data"
    },
    {
     "name": "stderr",
     "output_type": "stream",
     "text": [
      "/home/rberner/software/anaconda3/lib/python3.7/site-packages/ipykernel_launcher.py:4: RuntimeWarning: invalid value encountered in sqrt\n",
      "  after removing the cwd from sys.path.\n"
     ]
    },
    {
     "data": {
      "application/vnd.jupyter.widget-view+json": {
       "model_id": "ebc210086bf343d2a86a74eff24bdaf6",
       "version_major": 2,
       "version_minor": 0
      },
      "text/plain": [
       "Canvas(toolbar=Toolbar(toolitems=[('Home', 'Reset original view', 'home', 'home'), ('Back', 'Back to previous …"
      ]
     },
     "metadata": {},
     "output_type": "display_data"
    },
    {
     "name": "stderr",
     "output_type": "stream",
     "text": [
      "/home/rberner/software/anaconda3/lib/python3.7/site-packages/ipykernel_launcher.py:4: RuntimeWarning: invalid value encountered in sqrt\n",
      "  after removing the cwd from sys.path.\n"
     ]
    },
    {
     "data": {
      "application/vnd.jupyter.widget-view+json": {
       "model_id": "b3685592a7a04549b67bed585dfb1b65",
       "version_major": 2,
       "version_minor": 0
      },
      "text/plain": [
       "Canvas(toolbar=Toolbar(toolitems=[('Home', 'Reset original view', 'home', 'home'), ('Back', 'Back to previous …"
      ]
     },
     "metadata": {},
     "output_type": "display_data"
    },
    {
     "name": "stderr",
     "output_type": "stream",
     "text": [
      "/home/rberner/software/anaconda3/lib/python3.7/site-packages/ipykernel_launcher.py:4: RuntimeWarning: invalid value encountered in sqrt\n",
      "  after removing the cwd from sys.path.\n"
     ]
    },
    {
     "data": {
      "application/vnd.jupyter.widget-view+json": {
       "model_id": "eaf5b40552894e6bade879fea55f4d30",
       "version_major": 2,
       "version_minor": 0
      },
      "text/plain": [
       "Canvas(toolbar=Toolbar(toolitems=[('Home', 'Reset original view', 'home', 'home'), ('Back', 'Back to previous …"
      ]
     },
     "metadata": {},
     "output_type": "display_data"
    },
    {
     "name": "stderr",
     "output_type": "stream",
     "text": [
      "/home/rberner/software/anaconda3/lib/python3.7/site-packages/ipykernel_launcher.py:4: RuntimeWarning: invalid value encountered in sqrt\n",
      "  after removing the cwd from sys.path.\n",
      "/home/rberner/software/anaconda3/lib/python3.7/site-packages/ipykernel_launcher.py:217: RuntimeWarning: More than 20 figures have been opened. Figures created through the pyplot interface (`matplotlib.pyplot.figure`) are retained until explicitly closed and may consume too much memory. (To control this warning, see the rcParam `figure.max_open_warning`).\n"
     ]
    },
    {
     "data": {
      "application/vnd.jupyter.widget-view+json": {
       "model_id": "038af1bbc0b94f30acc46f7138b336f3",
       "version_major": 2,
       "version_minor": 0
      },
      "text/plain": [
       "Canvas(toolbar=Toolbar(toolitems=[('Home', 'Reset original view', 'home', 'home'), ('Back', 'Back to previous …"
      ]
     },
     "metadata": {},
     "output_type": "display_data"
    },
    {
     "name": "stderr",
     "output_type": "stream",
     "text": [
      "/home/rberner/software/anaconda3/lib/python3.7/site-packages/ipykernel_launcher.py:4: RuntimeWarning: invalid value encountered in sqrt\n",
      "  after removing the cwd from sys.path.\n",
      "/home/rberner/software/anaconda3/lib/python3.7/site-packages/ipykernel_launcher.py:228: RuntimeWarning: More than 20 figures have been opened. Figures created through the pyplot interface (`matplotlib.pyplot.figure`) are retained until explicitly closed and may consume too much memory. (To control this warning, see the rcParam `figure.max_open_warning`).\n"
     ]
    },
    {
     "data": {
      "application/vnd.jupyter.widget-view+json": {
       "model_id": "e1929e44c68e4ac9a77884b143b55b91",
       "version_major": 2,
       "version_minor": 0
      },
      "text/plain": [
       "Canvas(toolbar=Toolbar(toolitems=[('Home', 'Reset original view', 'home', 'home'), ('Back', 'Back to previous …"
      ]
     },
     "metadata": {},
     "output_type": "display_data"
    },
    {
     "name": "stderr",
     "output_type": "stream",
     "text": [
      "/home/rberner/software/anaconda3/lib/python3.7/site-packages/ipykernel_launcher.py:237: RuntimeWarning: More than 20 figures have been opened. Figures created through the pyplot interface (`matplotlib.pyplot.figure`) are retained until explicitly closed and may consume too much memory. (To control this warning, see the rcParam `figure.max_open_warning`).\n"
     ]
    },
    {
     "data": {
      "application/vnd.jupyter.widget-view+json": {
       "model_id": "1e5cd4b970514a5e89097769cd324a49",
       "version_major": 2,
       "version_minor": 0
      },
      "text/plain": [
       "Canvas(toolbar=Toolbar(toolitems=[('Home', 'Reset original view', 'home', 'home'), ('Back', 'Back to previous …"
      ]
     },
     "metadata": {},
     "output_type": "display_data"
    },
    {
     "name": "stderr",
     "output_type": "stream",
     "text": [
      "/home/rberner/software/anaconda3/lib/python3.7/site-packages/ipykernel_launcher.py:246: RuntimeWarning: More than 20 figures have been opened. Figures created through the pyplot interface (`matplotlib.pyplot.figure`) are retained until explicitly closed and may consume too much memory. (To control this warning, see the rcParam `figure.max_open_warning`).\n"
     ]
    },
    {
     "data": {
      "application/vnd.jupyter.widget-view+json": {
       "model_id": "fb7c1ebd82b849149964754789a056d4",
       "version_major": 2,
       "version_minor": 0
      },
      "text/plain": [
       "Canvas(toolbar=Toolbar(toolitems=[('Home', 'Reset original view', 'home', 'home'), ('Back', 'Back to previous …"
      ]
     },
     "metadata": {},
     "output_type": "display_data"
    },
    {
     "name": "stderr",
     "output_type": "stream",
     "text": [
      "/home/rberner/software/anaconda3/lib/python3.7/site-packages/ipykernel_launcher.py:254: RuntimeWarning: More than 20 figures have been opened. Figures created through the pyplot interface (`matplotlib.pyplot.figure`) are retained until explicitly closed and may consume too much memory. (To control this warning, see the rcParam `figure.max_open_warning`).\n"
     ]
    },
    {
     "data": {
      "application/vnd.jupyter.widget-view+json": {
       "model_id": "f451a0d44aa44b159954f63be0f7495d",
       "version_major": 2,
       "version_minor": 0
      },
      "text/plain": [
       "Canvas(toolbar=Toolbar(toolitems=[('Home', 'Reset original view', 'home', 'home'), ('Back', 'Back to previous …"
      ]
     },
     "metadata": {},
     "output_type": "display_data"
    },
    {
     "name": "stderr",
     "output_type": "stream",
     "text": [
      "/home/rberner/software/anaconda3/lib/python3.7/site-packages/ipykernel_launcher.py:262: RuntimeWarning: More than 20 figures have been opened. Figures created through the pyplot interface (`matplotlib.pyplot.figure`) are retained until explicitly closed and may consume too much memory. (To control this warning, see the rcParam `figure.max_open_warning`).\n"
     ]
    },
    {
     "data": {
      "application/vnd.jupyter.widget-view+json": {
       "model_id": "a24181c1881a43b98f80ecf520ca622b",
       "version_major": 2,
       "version_minor": 0
      },
      "text/plain": [
       "Canvas(toolbar=Toolbar(toolitems=[('Home', 'Reset original view', 'home', 'home'), ('Back', 'Back to previous …"
      ]
     },
     "metadata": {},
     "output_type": "display_data"
    },
    {
     "name": "stderr",
     "output_type": "stream",
     "text": [
      "/home/rberner/software/anaconda3/lib/python3.7/site-packages/ipykernel_launcher.py:4: RuntimeWarning: invalid value encountered in sqrt\n",
      "  after removing the cwd from sys.path.\n",
      "/home/rberner/software/anaconda3/lib/python3.7/site-packages/ipykernel_launcher.py:274: RuntimeWarning: More than 20 figures have been opened. Figures created through the pyplot interface (`matplotlib.pyplot.figure`) are retained until explicitly closed and may consume too much memory. (To control this warning, see the rcParam `figure.max_open_warning`).\n"
     ]
    },
    {
     "data": {
      "application/vnd.jupyter.widget-view+json": {
       "model_id": "1f8702110fd04ef0aa05782c7b753dd4",
       "version_major": 2,
       "version_minor": 0
      },
      "text/plain": [
       "Canvas(toolbar=Toolbar(toolitems=[('Home', 'Reset original view', 'home', 'home'), ('Back', 'Back to previous …"
      ]
     },
     "metadata": {},
     "output_type": "display_data"
    },
    {
     "name": "stderr",
     "output_type": "stream",
     "text": [
      "/home/rberner/software/anaconda3/lib/python3.7/site-packages/ipykernel_launcher.py:4: RuntimeWarning: invalid value encountered in sqrt\n",
      "  after removing the cwd from sys.path.\n"
     ]
    },
    {
     "name": "stdout",
     "output_type": "stream",
     "text": [
      "Best fit: [0.01905498 0.06053171]\n"
     ]
    }
   ],
   "source": [
    "%matplotlib widget\n",
    "files = sorted([os.path.basename(path) for path in glob.glob(datapath+'/*.h5')])\n",
    "@widgets.interact\n",
    "def display(filename=widgets.Dropdown(options=files, description=\"File\"),\n",
    "            nhit_cut=widgets.IntText(value=7, description=\"NHit cut\"),\n",
    "            length_cut=widgets.FloatText(value=0, description=\"Length cut\"),\n",
    "            residual_cut=widgets.FloatText(value=300, description=\"Residual cut\"),\n",
    "            theta_cut=widgets.FloatText(value=0, description=\"Theta cut\"),\n",
    "            event_frac_cut=widgets.FloatText(value=0, description=\"Event fraction cut\"),\n",
    "            assume_vertical=widgets.ToggleButton(value=True, description=\"Assume vertical tracks\"),\n",
    "            azimuthal_coords=widgets.ToggleButton(value=False, description=\"Azimuthal coordinates\")\n",
    "           ):\n",
    "    plt.close('all')\n",
    "    f = h5py.File(os.path.join(datapath,filename),'r')\n",
    "    if len(f['tracks']):            \n",
    "        event_hits = np.array([f['events'][ f['tracks'][i]['event_ref'] ]['nhit'][0] for i in range(len(f['tracks']))])\n",
    "        event_fraction = f['tracks']['nhit']/event_hits\n",
    "        good_track_mask = np.ones(len(f['tracks'])).astype(bool)\n",
    "        good_track_mask = np.logical_and(f['tracks']['nhit'] > nhit_cut, good_track_mask)\n",
    "        good_track_mask = np.logical_and(f['tracks']['length'] > length_cut, good_track_mask)\n",
    "        good_track_mask = np.logical_and(np.linalg.norm(f['tracks']['residual'][:,:3],axis=-1) < residual_cut, good_track_mask)\n",
    "        good_track_mask = np.logical_and(np.abs(f['tracks']['theta']) > theta_cut, good_track_mask)\n",
    "        good_track_mask = np.logical_and(np.abs(np.pi - f['tracks']['theta']) > theta_cut, good_track_mask)\n",
    "        good_track_mask = np.logical_and(event_fraction > event_frac_cut, good_track_mask)\n",
    "        \n",
    "        if assume_vertical:\n",
    "            v = vertical_assumption(f['tracks'])\n",
    "            theta = v['theta']\n",
    "            phi = v['phi']\n",
    "            start = v['start']\n",
    "            end = v['end']\n",
    "            residual = v['residual']\n",
    "        else:\n",
    "            theta = f['tracks']['theta']\n",
    "            phi = f['tracks']['phi']\n",
    "            start = f['tracks']['start']\n",
    "            end = f['tracks']['end']\n",
    "            residual = f['tracks']['residual']\n",
    "        if azimuthal_coords:\n",
    "            a = azimuthal(f['tracks'] if not assume_vertical else v)\n",
    "            theta = a['theta']\n",
    "            phi = a['phi']\n",
    "            start = a['start']\n",
    "            end = a['end']\n",
    "            residual = a['residual']\n",
    "            \n",
    "        plt.figure('track nhit')\n",
    "        plt.hist(f['tracks']['nhit'],bins=np.linspace(0,100,100),histtype='step')\n",
    "        plt.hist(f['tracks']['nhit'][good_track_mask],bins=np.linspace(0,100,100),histtype='step')\n",
    "        plt.xlabel('nhit')\n",
    "        plt.legend(('all tracks','selected tracks'))\n",
    "        plt.savefig('track_analysis_plots/track_nhit.png')\n",
    "        \n",
    "        plt.figure('track nhit fraction')\n",
    "        plt.hist(event_fraction,bins=np.linspace(0,1,100),histtype='step')\n",
    "        plt.hist(event_fraction[good_track_mask],bins=np.linspace(0,1,100),histtype='step')\n",
    "        plt.xlabel('fraction of event hits')\n",
    "        plt.legend(('all tracks','selected tracks'))\n",
    "        plt.savefig('track_analysis_plots/track_nhit_fraction.png')\n",
    "        \n",
    "        plt.figure('track length')\n",
    "        plt.hist(f['tracks']['length'],bins=np.linspace(0,440,100),histtype='step')\n",
    "        plt.hist(f['tracks']['length'][good_track_mask],bins=np.linspace(0,440,100),histtype='step')\n",
    "        plt.xlabel('track length [mm]')\n",
    "        plt.legend(('all tracks','selected tracks'))\n",
    "        plt.savefig('track_analysis_plots/track_length.png')\n",
    "        \n",
    "        plt.figure('track theta')\n",
    "        plt.hist(theta,bins=np.linspace(0,np.pi,100),histtype='step')\n",
    "        plt.hist(theta[good_track_mask],bins=np.linspace(0,np.pi,100),histtype='step')\n",
    "        plt.xlabel('track theta [rad.]')\n",
    "        plt.legend(('all tracks','selected tracks'))\n",
    "        plt.axvline(np.pi/2)\n",
    "        plt.savefig('track_analysis_plots/track_theta.png')\n",
    "        \n",
    "        plt.figure('track phi')\n",
    "        plt.hist(phi,bins=np.linspace(-np.pi,np.pi,100),histtype='step')\n",
    "        plt.hist(phi[good_track_mask],bins=np.linspace(-np.pi,np.pi,100),histtype='step')\n",
    "        plt.xlabel('track phi [rad.]')\n",
    "        plt.legend(('all tracks','selected tracks'))\n",
    "        plt.savefig('track_analysis_plots/track_phi.png')\n",
    "        \n",
    "        plt.figure('track res x')\n",
    "        plt.hist(residual[:,0],bins=np.linspace(0,10,100),histtype='step')\n",
    "        plt.hist(residual[good_track_mask,0],bins=np.linspace(0,10,100),histtype='step')\n",
    "        plt.xlabel('track residual x [mm]')\n",
    "        plt.legend(('all tracks','selected tracks'))\n",
    "        plt.savefig('track_analysis_plots/track_res_x.png')\n",
    "        \n",
    "        plt.figure('track res y')\n",
    "        plt.hist(residual[:,1],bins=np.linspace(0,10,100),histtype='step')\n",
    "        plt.hist(residual[good_track_mask,1],bins=np.linspace(0,10,100),histtype='step')\n",
    "        plt.xlabel('track residual y [mm]')\n",
    "        plt.legend(('all tracks','selected tracks'))\n",
    "        plt.savefig('track_analysis_plots/track_res_y.png')\n",
    "        \n",
    "        plt.figure('track res z')\n",
    "        plt.hist(residual[:,2],bins=np.linspace(0,10,100),histtype='step')\n",
    "        plt.hist(residual[good_track_mask,2],bins=np.linspace(0,10,100),histtype='step')\n",
    "        plt.xlabel('track residual z [mm]')\n",
    "        plt.legend(('all tracks','selected tracks'))\n",
    "        plt.savefig('track_analysis_plots/track_res_z.png')\n",
    "        \n",
    "        plt.figure('track res')\n",
    "        plt.hist(np.linalg.norm(residual[:,:3],axis=-1),bins=np.linspace(0,10,100),histtype='step')\n",
    "        plt.hist(np.linalg.norm(residual[good_track_mask,:3],axis=-1),bins=np.linspace(0,10,100),histtype='step')\n",
    "        plt.xlabel('track residual [mm]')\n",
    "        plt.legend(('all tracks','selected tracks'))\n",
    "        plt.savefig('track_analysis_plots/track_res.png')\n",
    "        \n",
    "        plt.figure('track q')\n",
    "        plt.hist(f['tracks']['q']*0.250,bins=np.linspace(0,1e3,100),histtype='step')\n",
    "        plt.hist(f['tracks']['q'][good_track_mask]*0.250,bins=np.linspace(0,1e3,100),histtype='step')\n",
    "        plt.xlabel('track q [ke]')\n",
    "        plt.legend(('all tracks','selected tracks'))\n",
    "        plt.savefig('track_analysis_plots/track_q.png')\n",
    "        \n",
    "        plt.figure('track time length')\n",
    "        plt.hist(f['tracks']['ts_end'] - f['tracks']['ts_start'],bins=np.linspace(0,400,100),histtype='step')\n",
    "        plt.hist((f['tracks']['ts_end'] - f['tracks']['ts_start'])[good_track_mask],bins=np.linspace(0,400,100),histtype='step')\n",
    "        plt.xlabel('track dt [0.1us]')\n",
    "        plt.legend(('all tracks','selected tracks'))\n",
    "        plt.savefig('track_analysis_plots/track_time_length.png')\n",
    "        \n",
    "        plt.figure('track depth')\n",
    "        plt.hist(np.abs(end[:,2] - start[:,2]),bins=np.linspace(0,50,100),histtype='step')\n",
    "        plt.hist(np.abs(end[:,2] - start[:,2])[good_track_mask],bins=np.linspace(0,50,100),histtype='step')\n",
    "        plt.xlabel('track depth [mm]')\n",
    "        plt.legend(('all tracks','selected tracks'))\n",
    "        plt.savefig('track_analysis_plots/track_depth.png')\n",
    "        \n",
    "        plt.figure('track dQ/dx')\n",
    "        dqdx = f['tracks']['q']*0.250/f['tracks']['length']\n",
    "        plt.hist(dqdx,bins=np.linspace(0,10,100),histtype='step')\n",
    "        plt.hist(dqdx[good_track_mask],bins=np.linspace(0,10,100),histtype='step')\n",
    "        plt.xlabel('track mean dQ/dx [ke/mm]')\n",
    "        plt.legend(('all tracks','selected tracks'))\n",
    "        plt.savefig('track_analysis_plots/track_dQ_dx.png')\n",
    "\n",
    "#         good_track_mask = np.ones(len(f['tracks'])).astype(bool)\n",
    "        \n",
    "        x_start = start[good_track_mask,0]\n",
    "        y_start = start[good_track_mask,1]\n",
    "        z_start = start[good_track_mask,2]\n",
    "        x_end = end[good_track_mask,0]\n",
    "        y_end = end[good_track_mask,1]\n",
    "        z_end = end[good_track_mask,2]\n",
    "        plt.figure('track end points (x,y)')\n",
    "        fig, axes = plt.subplots(1, 2, num='track end points (x,y)', sharex=True, sharey=True)\n",
    "        axes[0].hist2d(x_start,y_start,bins=(np.linspace(-166.275,166.275,75),np.linspace(-166.275,166.275,75)),cmin=0.5)\n",
    "        plt.colorbar(axes[1].hist2d(x_end,y_end,bins=(np.linspace(-166.275,166.275,75),np.linspace(-166.275,166.275,75)),cmin=0.5)[-1])\n",
    "        plt.xlabel('x [mm]')\n",
    "        axes[0].set_ylabel('y [mm]')\n",
    "        axes[0].set_title('track start')\n",
    "        axes[1].set_title('track end')\n",
    "        fig, axes = plt.subplots(1, 2, num='track end points (x,z)', sharex=True, sharey=True)\n",
    "        axes[0].hist2d(x_start,z_start,bins=(np.linspace(-166.275,166.275,75),np.linspace(-166.275,166.275,75)),cmin=0.5)\n",
    "        plt.colorbar(axes[1].hist2d(x_end,z_end,bins=(np.linspace(-166.275,166.275,75),np.linspace(-166.275,166.275,75)),cmin=0.5)[-1])\n",
    "        plt.xlabel('x [mm]')\n",
    "        axes[0].set_ylabel('z [mm]')\n",
    "        axes[0].set_title('track start')\n",
    "        axes[1].set_title('track end')\n",
    "        fig, axes = plt.subplots(1, 2, num='track end points (y,z)', sharex=True, sharey=True)\n",
    "        axes[0].hist2d(z_start,y_start,bins=(np.linspace(-166.275,166.275,75),np.linspace(-166.275,166.275,75)),cmin=0.5)\n",
    "        plt.colorbar(axes[1].hist2d(z_end,y_end,bins=(np.linspace(-166.275,166.275,75),np.linspace(-166.275,166.275,75)),cmin=0.5)[-1])\n",
    "        plt.xlabel('z [mm]')\n",
    "        axes[0].set_ylabel('y [mm]')\n",
    "        axes[0].set_title('track start')\n",
    "        axes[1].set_title('track end')\n",
    "        plt.savefig('track_analysis_plots/track_end_points.png')\n",
    "        \n",
    "        plt.figure('track dQ/dx v. theta')\n",
    "        plt.hist2d(theta[good_track_mask],dqdx[good_track_mask],bins=(np.linspace(0,np.pi,100),np.linspace(0,10,100)))\n",
    "        plt.colorbar()\n",
    "        profile_plot(theta[good_track_mask],dqdx[good_track_mask],np.linspace(0,np.pi,100))\n",
    "        profile_plot(theta[good_track_mask],dqdx[good_track_mask],np.linspace(0,np.pi,100), method='median')\n",
    "        profile_plot(theta[good_track_mask],dqdx[good_track_mask],np.linspace(0,np.pi,100), method=mpv)\n",
    "        plt.legend(['mean','median','mpv'])\n",
    "        plt.ylabel('track mean dQ/dx [ke/mm]')\n",
    "        plt.xlabel('track theta [read.]')\n",
    "        plt.axvline(np.pi/2)\n",
    "        plt.savefig('track_analysis_plots/track_dQ_dx_vs_theta.png')\n",
    "        \n",
    "        plt.figure('track dQ/dx v. phi')\n",
    "        plt.hist2d(phi[good_track_mask],dqdx[good_track_mask],bins=(np.linspace(-np.pi,np.pi,100),np.linspace(0,10,100)))\n",
    "        plt.colorbar()\n",
    "        profile_plot(phi[good_track_mask],dqdx[good_track_mask],np.linspace(-np.pi,np.pi,100))\n",
    "        profile_plot(phi[good_track_mask],dqdx[good_track_mask],np.linspace(-np.pi,np.pi,100), method='median')\n",
    "        profile_plot(phi[good_track_mask],dqdx[good_track_mask],np.linspace(-np.pi,np.pi,100), method=mpv)\n",
    "        plt.legend(['mean','median','mpv'])\n",
    "        plt.ylabel('track mean dQ/dx [ke/mm]')\n",
    "        plt.xlabel('track phi [rad.]')\n",
    "        plt.savefig('track_analysis_plots/track_dQ_dx_vs_phi.png')\n",
    "        \n",
    "        plt.figure('track dQ/dx v. residual')\n",
    "        plt.hist2d(np.linalg.norm(residual[good_track_mask,:3],axis=-1),dqdx[good_track_mask],bins=(np.linspace(0,10,100),np.linspace(0,10,100)))\n",
    "        plt.colorbar()\n",
    "        profile_plot(np.linalg.norm(residual[good_track_mask,:3],axis=-1),dqdx[good_track_mask],np.linspace(0,10,100), method='mean')\n",
    "        profile_plot(np.linalg.norm(residual[good_track_mask,:3],axis=-1),dqdx[good_track_mask],np.linspace(0,10,100), method='median')\n",
    "        profile_plot(np.linalg.norm(residual[good_track_mask,:3],axis=-1),dqdx[good_track_mask],np.linspace(0,10,100), method=mpv)\n",
    "        plt.legend(['mean','median','mpv'])\n",
    "        plt.ylabel('track mean dQ/dx [ke/mm]')\n",
    "        plt.xlabel('track residual [mm]')\n",
    "        plt.savefig('track_analysis_plots/track_dQ_dx_vs_residual.png')\n",
    "        \n",
    "        plt.figure('track dQ/dx v. length')\n",
    "        plt.hist2d(f['tracks']['length'][good_track_mask],dqdx[good_track_mask],bins=(np.linspace(0,440,100),np.linspace(0,10,100)))\n",
    "        plt.colorbar()\n",
    "        profile_plot(f['tracks']['length'][good_track_mask],dqdx[good_track_mask],np.linspace(0,440,100), method='mean')\n",
    "        profile_plot(f['tracks']['length'][good_track_mask],dqdx[good_track_mask],np.linspace(0,440,100), method='median')\n",
    "        profile_plot(f['tracks']['length'][good_track_mask],dqdx[good_track_mask],np.linspace(0,440,100), method=mpv)\n",
    "        plt.legend(['mean','median','mpv'])\n",
    "        plt.ylabel('track mean dQ/dx [ke/mm]')\n",
    "        plt.xlabel('track length [mm]')\n",
    "        plt.savefig('track_analysis_plots/track_dQ_dx_vs_length.png')\n",
    "        \n",
    "        plt.figure('track dQ/dx v. Q')\n",
    "        plt.hist2d(f['tracks']['q'][good_track_mask],dqdx[good_track_mask],bins=(np.linspace(0,1e3,100),np.linspace(0,10,100)))\n",
    "        plt.colorbar()\n",
    "        profile_plot(f['tracks']['q'][good_track_mask],dqdx[good_track_mask],np.linspace(0,1e3,100), method='mean')\n",
    "        profile_plot(f['tracks']['q'][good_track_mask],dqdx[good_track_mask],np.linspace(0,1e3,100), method='median')\n",
    "        profile_plot(f['tracks']['q'][good_track_mask],dqdx[good_track_mask],np.linspace(0,1e3,100), method=mpv)\n",
    "        plt.legend(['mean','median','mpv'])\n",
    "        plt.ylabel('track mean dQ/dx [ke/mm]')\n",
    "        plt.xlabel('track Q [ke]')\n",
    "        plt.savefig('track_analysis_plots/track_dQ_dx_vs_Q.png')\n",
    "        \n",
    "        plt.figure('track residual v. theta')\n",
    "        plt.hist2d(theta[good_track_mask],np.linalg.norm(residual[good_track_mask,:3],axis=-1),bins=(np.linspace(0,np.pi,100),np.linspace(0,10,100)))\n",
    "        plt.colorbar()\n",
    "        profile_plot(theta[good_track_mask],np.linalg.norm(residual[good_track_mask,:3],axis=-1),np.linspace(0,np.pi,100))\n",
    "        plt.ylabel('track residual [mm]')\n",
    "        plt.xlabel('track theta [rad.]')\n",
    "        plt.axvline(np.pi/2)\n",
    "        plt.savefig('track_analysis_plots/track_residual_vs_theta.png')\n",
    "        \n",
    "        plt.figure('track length v. theta')\n",
    "        plt.hist2d(theta[good_track_mask],f['tracks']['length'][good_track_mask],bins=(np.linspace(0,np.pi,100),np.linspace(0,440,100)))\n",
    "        plt.colorbar()\n",
    "        profile_plot(theta[good_track_mask],f['tracks']['length'][good_track_mask],np.linspace(0,np.pi,100))\n",
    "        plt.ylabel('track length [mm]')\n",
    "        plt.xlabel('track theta [rad.]')\n",
    "        plt.axvline(np.pi/2)\n",
    "        plt.savefig('track_analysis_plots/track_length_vs_theta.png')\n",
    "        \n",
    "        plt.figure('track length v. residual')\n",
    "        plt.hist2d(f['tracks']['length'][good_track_mask],np.linalg.norm(residual[good_track_mask,:3],axis=-1),bins=(np.linspace(0,440,100),np.linspace(0,10,100)))\n",
    "        plt.colorbar()\n",
    "        profile_plot(f['tracks']['length'][good_track_mask],np.linalg.norm(residual[good_track_mask,:3],axis=-1),np.linspace(0,440,100))\n",
    "        plt.xlabel('track length [mm]')\n",
    "        plt.ylabel('track residual [mm]')\n",
    "        plt.savefig('track_analysis_plots/track_length_vs_residual.png')\n",
    "        \n",
    "        plt.figure('track charge v. nhit')\n",
    "        plt.hist2d(f['tracks']['nhit'][good_track_mask],f['tracks']['q'][good_track_mask]*0.250,bins=(np.linspace(0,100,100),np.linspace(0,1e3,100)))\n",
    "        plt.colorbar()\n",
    "        profile_plot(f['tracks']['nhit'][good_track_mask],f['tracks']['q'][good_track_mask]*0.250,np.linspace(0,100,100))\n",
    "        plt.xlabel('track n hits')\n",
    "        plt.ylabel('track q [ke]')\n",
    "        plt.savefig('track_analysis_plots/charge_vs_nhit.png')\n",
    "        \n",
    "        plt.figure('track dQ/dx v. mean hit q')\n",
    "        q_mean = f['tracks']['q']*0.250/f['tracks']['nhit']\n",
    "        plt.hist2d(q_mean[good_track_mask],dqdx[good_track_mask],bins=(np.linspace(0,30,100),np.linspace(0,10,100)))\n",
    "        plt.colorbar()\n",
    "        profile_plot(q_mean[good_track_mask],dqdx[good_track_mask],np.linspace(0,30,100))\n",
    "        profile_plot(q_mean[good_track_mask],dqdx[good_track_mask],np.linspace(0,30,100), method='median')\n",
    "        profile_plot(q_mean[good_track_mask],dqdx[good_track_mask],np.linspace(0,30,100), method=mpv)\n",
    "        plt.legend(['mean','median','mpv'])\n",
    "        plt.xlabel('track mean hit q [ke]')\n",
    "        plt.ylabel('track dQ/dx [ke/mm]')\n",
    "        plt.savefig('track_analysis_plots/dQ_dx_vs_mean_hit_q.png')\n",
    "        \n",
    "        plt.figure('track dQ/dx v. nhit')\n",
    "        plt.hist2d(f['tracks']['nhit'][good_track_mask],dqdx[good_track_mask],bins=(np.linspace(0,100,100),np.linspace(0,10,100)))\n",
    "        plt.colorbar()\n",
    "        profile_plot(f['tracks']['nhit'][good_track_mask],dqdx[good_track_mask],np.linspace(0,100,100))\n",
    "        profile_plot(f['tracks']['nhit'][good_track_mask],dqdx[good_track_mask],np.linspace(0,100,100), method='median')\n",
    "        profile_plot(f['tracks']['nhit'][good_track_mask],dqdx[good_track_mask],np.linspace(0,100,100), method=mpv, best_fit=True)\n",
    "        plt.legend(['mean','median','mpv'])\n",
    "        plt.xlabel('track n hits')\n",
    "        plt.ylabel('track dQ/dx [ke/mm]')\n",
    "        plt.savefig('track_analysis_plots/track_dQ_dx_vs_nhit.png')\n",
    "    else:\n",
    "        print('no events in file')"
   ]
  },
  {
   "cell_type": "code",
   "execution_count": null,
   "metadata": {},
   "outputs": [],
   "source": []
  }
 ],
 "metadata": {
  "kernelspec": {
   "display_name": "Python 3",
   "language": "python",
   "name": "python3"
  },
  "language_info": {
   "codemirror_mode": {
    "name": "ipython",
    "version": 3
   },
   "file_extension": ".py",
   "mimetype": "text/x-python",
   "name": "python",
   "nbconvert_exporter": "python",
   "pygments_lexer": "ipython3",
   "version": "3.6.9"
  }
 },
 "nbformat": 4,
 "nbformat_minor": 4
}
