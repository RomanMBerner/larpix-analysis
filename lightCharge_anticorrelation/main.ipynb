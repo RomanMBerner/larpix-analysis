{
 "cells": [
  {
   "cell_type": "markdown",
   "metadata": {},
   "source": [
    "# Description:\n",
    "To be done"
   ]
  },
  {
   "cell_type": "markdown",
   "metadata": {},
   "source": [
    "### Imports"
   ]
  },
  {
   "cell_type": "code",
   "execution_count": 1,
   "metadata": {},
   "outputs": [
    {
     "name": "stdout",
     "output_type": "stream",
     "text": [
      "Welcome to JupyROOT 6.22/02\n"
     ]
    }
   ],
   "source": [
    "#import argparse\n",
    "#from array import array\n",
    "import glob\n",
    "import math\n",
    "import numpy as np\n",
    "import os\n",
    "import ROOT\n",
    "from ROOT import TCanvas, TFile, TProfile, TNtuple, TH1F, TH2F, TH3F, TH1, TLine\n",
    "#from ROOT import gROOT, gBenchmark, gRandom, gSystem, Double, gStyle\n",
    "import scipy\n",
    "from scipy import stats\n",
    "import time"
   ]
  },
  {
   "cell_type": "markdown",
   "metadata": {},
   "source": [
    "### ROOT Batch Mode"
   ]
  },
  {
   "cell_type": "code",
   "execution_count": 2,
   "metadata": {},
   "outputs": [],
   "source": [
    "# ROOT.gROOT.SetBatch(1)"
   ]
  },
  {
   "cell_type": "markdown",
   "metadata": {},
   "source": [
    "### Paths"
   ]
  },
  {
   "cell_type": "code",
   "execution_count": 3,
   "metadata": {},
   "outputs": [
    {
     "name": "stdout",
     "output_type": "stream",
     "text": [
      " datapath:    /data/SingleModule_Nov2020/LArPix/dataRuns/rootTrees/combined_with_light/chargeLight_study_roman\n",
      " outputpath:  /home/lhep/PACMAN/larpix-analysis/lightCharge_anticorrelation\n",
      " datafiles ( 22 ): \n",
      "               sync_wLightReco_20201129_122204.root\n",
      "               sync_wLightReco_20201129_122655.root\n",
      "               sync_wLightReco_20201129_130449.root\n",
      "               sync_wLightReco_20201129_134857.root\n",
      "               sync_wLightReco_20201129_143427.root\n",
      "               sync_wLightReco_20201129_150749.root\n",
      "               sync_wLightReco_20201129_155227.root\n",
      "               sync_wLightReco_20201129_162434.root\n",
      "               sync_wLightReco_20201129_170918.root\n",
      "               sync_wLightReco_20201129_174140.root\n",
      "               sync_wLightReco_20201129_182214.root\n",
      "               sync_wLightReco_20201129_185437.root\n",
      "               sync_wLightReco_20201129_193550.root\n",
      "               sync_wLightReco_20201129_200721.root\n",
      "               sync_wLightReco_20201129_204607.root\n",
      "               sync_wLightReco_20201129_211819.root\n",
      "               sync_wLightReco_20201129_215550.root\n",
      "               sync_wLightReco_20201129_222751.root\n",
      "               sync_wLightReco_20201129_230700.root\n",
      "               sync_wLightReco_20201129_234000.root\n",
      "               sync_wLightReco_20201130_002722.root\n",
      "               sync_wLightReco_20201130_005847.root\n"
     ]
    }
   ],
   "source": [
    "# ============================================================\n",
    "# Set paths\n",
    "# ============================================================\n",
    "datapath = '/data/SingleModule_Nov2020/LArPix/dataRuns/rootTrees/combined_with_light/chargeLight_study_roman'\n",
    "print(' datapath:   ', datapath)\n",
    "\n",
    "outputpath = '/home/lhep/PACMAN/larpix-analysis/lightCharge_anticorrelation'\n",
    "print(' outputpath: ', outputpath)\n",
    "\n",
    "files = sorted([os.path.basename(path) for path in glob.glob(datapath+'/*.root')])\n",
    "print(' datafiles (', len(files), '): ')\n",
    "for f in files:\n",
    "    print('              ', f)"
   ]
  },
  {
   "cell_type": "markdown",
   "metadata": {},
   "source": [
    "### Define voxelisation"
   ]
  },
  {
   "cell_type": "code",
   "execution_count": 4,
   "metadata": {},
   "outputs": [],
   "source": [
    "# ============================================================\n",
    "# Define voxelisation\n",
    "# ============================================================\n",
    "n_pixels_x = 70\n",
    "n_pixels_y = 70\n",
    "n_pixels_z = 70\n",
    "pitch_x = 4.434\n",
    "pitch_y = 4.434\n",
    "pitch_z = 4.434\n",
    "pixels_x_min = - pitch_x * n_pixels_x/2. #-155.19\n",
    "pixels_x_max =   pitch_x * n_pixels_x/2. # 155.19\n",
    "pixels_y_min = - pitch_y * n_pixels_y/2. #-155.19\n",
    "pixels_y_max =   pitch_y * n_pixels_y/2. # 155.19\n",
    "pixels_z_min = 0.\n",
    "pixels_z_max = n_pixels_z*pitch_z*10 # factor 10 for correction... TODO: CHANGE THIS FOR NEXT PRODUCTION!!"
   ]
  },
  {
   "cell_type": "markdown",
   "metadata": {},
   "source": [
    "### Define which plots to make"
   ]
  },
  {
   "cell_type": "code",
   "execution_count": 5,
   "metadata": {},
   "outputs": [],
   "source": [
    "plot_all                                        = True\n",
    "\n",
    "plot_chargeYield_vs_hitPosX                     = False\n",
    "plot_chargeYield_vs_hitPosX_summary             = False\n",
    "plot_chargeYield_vs_eField                      = False\n",
    "plot_chargeYieldPerHit_vs_eField                = True\n",
    "plot_totalChargeYield_vs_eField                 = True\n",
    "plot_detectedLight                              = True\n",
    "plot_trackLength                                = False\n",
    "plot_nHits                                      = False\n",
    "plot_q_raw_tot                                  = False\n",
    "plot_q_corr_tot                                 = False\n",
    "plot_dQdl                                       = False\n",
    "plot_startPosY_vs_startPosX                     = False\n",
    "plot_endPosY_vs_endPosX                         = False\n",
    "plot_startPosZ_vs_endPosZ                       = False\n",
    "plot_nHits_vs_trackLength                       = False\n",
    "plot_theta_vs_spread_x                          = False\n",
    "plot_theta_vs_spread_x                          = False\n",
    "plot_phi_vs_spread_x                            = False\n",
    "plot_3D_graviCentre                             = False\n",
    "plot_graviCentre_projection_xy                  = False\n",
    "plot_graviCentre_projection_xz                  = False\n",
    "plot_graviCentre_projection_yz                  = False\n",
    "plot_detectedLight_vs_graviCentre_x             = True\n",
    "plot_detectedLight_vs_graviCentre_x_SimCorr     = True\n",
    "plot_detectedLight_vs_graviCentre_x_Selection   = True\n",
    "plot_detectedLight_vs_graviCentre_x_ProfilePlot = True\n",
    "plot_detectedLight_vs_track_GCx                 = True"
   ]
  },
  {
   "cell_type": "markdown",
   "metadata": {},
   "source": [
    "### Make a single TChain with input files"
   ]
  },
  {
   "cell_type": "code",
   "execution_count": 6,
   "metadata": {},
   "outputs": [
    {
     "name": "stdout",
     "output_type": "stream",
     "text": [
      "Done.\n"
     ]
    }
   ],
   "source": [
    "'''\n",
    "#inputFileName = files[0]\n",
    "inputFileName = 'sync_wLightReco_20201129_122204.root'\n",
    "print(' Processing file', inputFileName)\n",
    "\n",
    "input_tree = ROOT.TChain(\"t_out\", \"t_out\")\n",
    "input_tree.Add(datapath + '/' + inputFileName)\n",
    "#for root_file in config[\"data_files\"]:\n",
    "#    input_tree.Add(root_file)\n",
    "#input_tree.Add( \"/path/to.root\" )\n",
    "\n",
    "# Turn on all branches of input tree\n",
    "input_tree.SetBranchStatus(\"*\",           1)\n",
    "'''\n",
    "print('Done.')"
   ]
  },
  {
   "cell_type": "markdown",
   "metadata": {},
   "source": [
    "### Make List of TChains\n",
    "Note: Make for every file a separate TChain.\n",
    "Could substitute >1 files to a single TChain, but then it is more complicated to apply the electron lifetime correction..."
   ]
  },
  {
   "cell_type": "code",
   "execution_count": 7,
   "metadata": {},
   "outputs": [
    {
     "name": "stdout",
     "output_type": "stream",
     "text": [
      "Number of different field intensities:  10\n",
      "List with input trees: \n",
      "    1.0 kV/cm: \t [ Name: t_out Title: t_out ] \t ( 1807 entries )\n",
      "    1.0 kV/cm: \t [ Name: t_out Title: t_out ] \t ( 19770 entries )\n",
      "    1.0 kV/cm: \t [ Name: t_out Title: t_out ] \t ( 19234 entries )\n",
      "    1.0 kV/cm: \t [ Name: t_out Title: t_out ] \t ( 19520 entries )\n",
      "    0.9 kV/cm: \t [ Name: t_out Title: t_out ] \t ( 19657 entries )\n",
      "    0.9 kV/cm: \t [ Name: t_out Title: t_out ] \t ( 19369 entries )\n",
      "    0.8 kV/cm: \t [ Name: t_out Title: t_out ] \t ( 19261 entries )\n",
      "    0.8 kV/cm: \t [ Name: t_out Title: t_out ] \t ( 18800 entries )\n",
      "    0.7 kV/cm: \t [ Name: t_out Title: t_out ] \t ( 19185 entries )\n",
      "    0.7 kV/cm: \t [ Name: t_out Title: t_out ] \t ( 18178 entries )\n",
      "    0.6 kV/cm: \t [ Name: t_out Title: t_out ] \t ( 18720 entries )\n",
      "    0.6 kV/cm: \t [ Name: t_out Title: t_out ] \t ( 18202 entries )\n",
      "    0.5 kV/cm: \t [ Name: t_out Title: t_out ] \t ( 18086 entries )\n",
      "    0.5 kV/cm: \t [ Name: t_out Title: t_out ] \t ( 18149 entries )\n",
      "    0.4 kV/cm: \t [ Name: t_out Title: t_out ] \t ( 15773 entries )\n",
      "    0.4 kV/cm: \t [ Name: t_out Title: t_out ] \t ( 15905 entries )\n",
      "    0.3 kV/cm: \t [ Name: t_out Title: t_out ] \t ( 12815 entries )\n",
      "    0.3 kV/cm: \t [ Name: t_out Title: t_out ] \t ( 12816 entries )\n",
      "    0.2 kV/cm: \t [ Name: t_out Title: t_out ] \t ( 7770 entries )\n",
      "    0.2 kV/cm: \t [ Name: t_out Title: t_out ] \t ( 1144 entries )\n",
      "    0.1 kV/cm: \t [ Name: t_out Title: t_out ] \t ( 2068 entries )\n",
      "    0.1 kV/cm: \t [ Name: t_out Title: t_out ] \t ( 1964 entries )\n",
      "Done.\n"
     ]
    }
   ],
   "source": [
    "#inputFileName = files[20]\n",
    "#inputFileName = 'sync_wLightReco_20201129_122204.root'\n",
    "#print(' Processing file', inputFileName)\n",
    "\n",
    "input_tree_list       = []\n",
    "eField_intensity_list = [] # [kV/cm]\n",
    "\n",
    "'''\n",
    "for i in range(10):\n",
    "    input_tree = ROOT.TChain(\"t_out\", \"t_out\")\n",
    "    \n",
    "    if i == 0: # 0.1 kV/cm\n",
    "        input_tree.Add(datapath + '/sync_wLightReco_20201130_002722.root')\n",
    "        input_tree.Add(datapath + '/sync_wLightReco_20201130_005847.root')\n",
    "        eField_intensity_list.append(0.1)\n",
    "    if i == 1: # 0.2 kV/cm\n",
    "        input_tree.Add(datapath + '/sync_wLightReco_20201129_230700.root')\n",
    "        input_tree.Add(datapath + '/sync_wLightReco_20201129_234000.root')\n",
    "        eField_intensity_list.append(0.2)\n",
    "    if i == 2: # 0.3 kV/cm\n",
    "        input_tree.Add(datapath + '/sync_wLightReco_20201129_215550.root')\n",
    "        input_tree.Add(datapath + '/sync_wLightReco_20201129_222751.root')\n",
    "        eField_intensity_list.append(0.3)\n",
    "    if i == 3: # 0.4 kV/cm\n",
    "        input_tree.Add(datapath + '/sync_wLightReco_20201129_204607.root')\n",
    "        input_tree.Add(datapath + '/sync_wLightReco_20201129_211819.root')\n",
    "        eField_intensity_list.append(0.4)\n",
    "    if i == 4: # 0.5 kV/cm\n",
    "        input_tree.Add(datapath + '/sync_wLightReco_20201129_193550.root')\n",
    "        input_tree.Add(datapath + '/sync_wLightReco_20201129_200721.root')\n",
    "        eField_intensity_list.append(0.5)\n",
    "    if i == 5: # 0.6 kV/cm\n",
    "        input_tree.Add(datapath + '/sync_wLightReco_20201129_182214.root')\n",
    "        input_tree.Add(datapath + '/sync_wLightReco_20201129_185437.root')\n",
    "        eField_intensity_list.append(0.6)\n",
    "    if i == 6: # 0.7 kV/cm\n",
    "        input_tree.Add(datapath + '/sync_wLightReco_20201129_170918.root')\n",
    "        input_tree.Add(datapath + '/sync_wLightReco_20201129_174140.root')\n",
    "        eField_intensity_list.append(0.7)\n",
    "    if i == 7: # 0.8 kV/cm\n",
    "        input_tree.Add(datapath + '/sync_wLightReco_20201129_155227.root')\n",
    "        input_tree.Add(datapath + '/sync_wLightReco_20201129_162434.root')\n",
    "        eField_intensity_list.append(0.8)\n",
    "    if i == 8: # 0.9 kV/cm\n",
    "        input_tree.Add(datapath + '/sync_wLightReco_20201129_143427.root')\n",
    "        input_tree.Add(datapath + '/sync_wLightReco_20201129_150749.root')\n",
    "        eField_intensity_list.append(0.9)\n",
    "    if i == 9: # 1.0 kV/cm\n",
    "        input_tree.Add(datapath + '/sync_wLightReco_20201129_122204.root')\n",
    "        input_tree.Add(datapath + '/sync_wLightReco_20201129_122655.root')\n",
    "        input_tree.Add(datapath + '/sync_wLightReco_20201129_130449.root')\n",
    "        input_tree.Add(datapath + '/sync_wLightReco_20201129_134857.root')\n",
    "        eField_intensity_list.append(1.0)\n",
    "    \n",
    "    # Turn on all branches of input tree\n",
    "    input_tree.SetBranchStatus(\"*\",           1)\n",
    "    \n",
    "    # Append input_tree TChain to the input_tree_list\n",
    "    input_tree_list.append(input_tree)\n",
    "'''\n",
    "\n",
    "for i in range(len(files)):\n",
    "    input_tree = ROOT.TChain(\"t_out\", \"t_out\")\n",
    "    #print(' files[',i,']: ', files[i])\n",
    "    \n",
    "    if files[i] == 'sync_wLightReco_20201130_002722.root' or\\\n",
    "       files[i] == 'sync_wLightReco_20201130_005847.root':\n",
    "        input_tree.Add(datapath + '/' + files[i])\n",
    "        eField_intensity_list.append(0.1)\n",
    "    if files[i] == 'sync_wLightReco_20201129_230700.root' or\\\n",
    "       files[i] == 'sync_wLightReco_20201129_234000.root':\n",
    "        input_tree.Add(datapath + '/' + files[i])\n",
    "        eField_intensity_list.append(0.2)\n",
    "    if files[i] == 'sync_wLightReco_20201129_215550.root' or\\\n",
    "       files[i] == 'sync_wLightReco_20201129_222751.root':\n",
    "        input_tree.Add(datapath + '/' + files[i])\n",
    "        eField_intensity_list.append(0.3)\n",
    "    if files[i] == 'sync_wLightReco_20201129_204607.root' or\\\n",
    "       files[i] == 'sync_wLightReco_20201129_211819.root':\n",
    "        input_tree.Add(datapath + '/' + files[i])\n",
    "        eField_intensity_list.append(0.4)\n",
    "    if files[i] == 'sync_wLightReco_20201129_193550.root' or\\\n",
    "       files[i] == 'sync_wLightReco_20201129_200721.root':\n",
    "        input_tree.Add(datapath + '/' + files[i])\n",
    "        eField_intensity_list.append(0.5)\n",
    "    if files[i] == 'sync_wLightReco_20201129_182214.root' or\\\n",
    "       files[i] == 'sync_wLightReco_20201129_185437.root':\n",
    "        input_tree.Add(datapath + '/' + files[i])\n",
    "        eField_intensity_list.append(0.6)\n",
    "    if files[i] == 'sync_wLightReco_20201129_170918.root' or\\\n",
    "       files[i] == 'sync_wLightReco_20201129_174140.root':\n",
    "        input_tree.Add(datapath + '/' + files[i])\n",
    "        eField_intensity_list.append(0.7)\n",
    "    if files[i] == 'sync_wLightReco_20201129_155227.root' or\\\n",
    "       files[i] == 'sync_wLightReco_20201129_162434.root':\n",
    "        input_tree.Add(datapath + '/' + files[i])\n",
    "        eField_intensity_list.append(0.8)\n",
    "    if files[i] == 'sync_wLightReco_20201129_143427.root' or\\\n",
    "       files[i] == 'sync_wLightReco_20201129_150749.root':\n",
    "        input_tree.Add(datapath + '/' + files[i])\n",
    "        eField_intensity_list.append(0.9)\n",
    "    if files[i] == 'sync_wLightReco_20201129_122204.root' or\\\n",
    "       files[i] == 'sync_wLightReco_20201129_122655.root' or\\\n",
    "       files[i] == 'sync_wLightReco_20201129_130449.root' or\\\n",
    "       files[i] == 'sync_wLightReco_20201129_134857.root':\n",
    "        input_tree.Add(datapath + '/' + files[i])\n",
    "        eField_intensity_list.append(1.0)\n",
    "    \n",
    "    # Turn on all branches of input tree\n",
    "    input_tree.SetBranchStatus(\"*\",           1)\n",
    "    \n",
    "    # Append input_tree TChain to the input_tree_list\n",
    "    input_tree_list.append(input_tree)\n",
    "    \n",
    "n_field_intensities = len(np.unique(eField_intensity_list))\n",
    "print('Number of different field intensities: ', n_field_intensities)\n",
    "    \n",
    "print('List with input trees: ')\n",
    "for i in range(len(input_tree_list)):\n",
    "    print('   ', eField_intensity_list[i], 'kV/cm: \\t [', input_tree_list[i], '] \\t (', input_tree_list[i].GetEntries(), 'entries )')\n",
    "    \n",
    "print('Done.')"
   ]
  },
  {
   "cell_type": "markdown",
   "metadata": {},
   "source": [
    "### Create directories for plots"
   ]
  },
  {
   "cell_type": "code",
   "execution_count": 8,
   "metadata": {},
   "outputs": [
    {
     "name": "stdout",
     "output_type": "stream",
     "text": [
      "Done.\n"
     ]
    }
   ],
   "source": [
    "'''\n",
    "# If make_plots: Create corresponding folder\n",
    "make_plots = True\n",
    "\n",
    "if make_plots:\n",
    "    plot_folder = inputFileName[16:-5]\n",
    "    os.system('rm -rf plots/' + str(plot_folder))\n",
    "    os.system('mkdir plots/' + str(plot_folder))\n",
    "    os.system('mkdir plots/' + str(plot_folder) + '/eventDisplays')\n",
    "'''\n",
    "for i in range(len(eField_intensity_list)):\n",
    "    plot_folder = str(eField_intensity_list[i]) + '_kV_per_cm'\n",
    "    os.system('rm -rf plots/' + str(plot_folder))\n",
    "    os.system('mkdir plots/' + str(plot_folder))\n",
    "    os.system('mkdir plots/' + str(plot_folder) + '/eventDisplays')\n",
    "print('Done.')"
   ]
  },
  {
   "cell_type": "markdown",
   "metadata": {},
   "source": [
    "### Define track selection cuts"
   ]
  },
  {
   "cell_type": "code",
   "execution_count": 9,
   "metadata": {},
   "outputs": [],
   "source": [
    "# Define selection cuts for events\n",
    "cut_ntracks      = 1    # Only consider events with number of reconstructed tracks == cut_ntracks\n",
    "cut_lenght       = 250. # Track minimum length [mm]\n",
    "cut_throughgoing = 130. # |max(track_start_y,track_end_y)| and |min(track_start_y,track_end_y)| must be greater than cut_throughgoing [mm] (tracks must start/end ad absolute y position > 130 mm, closer than ~2.5 cm from edge)\n",
    "cut_phi          = 20.  # degrees (theta is +/- 90 deg if track is parallel to y-plane / x=const.)\n",
    "#cut_nhits        = 50.  # Min. number of hits in the track [-]\n",
    "#cut_residual2    = 3.   # Maximum allowed sqrt(res_x**2+res_y**2+res_z**2), in order to only allow tracks which are 'track-like' with a small spread\n",
    "\n",
    "# Define selection cuts for single charge hits\n",
    "cut_hit_x_min    = -141.888 # do not take into account the first 3 pixels rows closest to the LCM modules (they have less charge and light yield).\n",
    "\n",
    "#TODO:\n",
    "# CUT ON ANGLE (THETA?) -> THETA? MUST BE CLOSE TO ZERO IN ORDER TO HAVE ALMOST VERTICAL TRACKS"
   ]
  },
  {
   "cell_type": "markdown",
   "metadata": {},
   "source": [
    "### Define electron drift velocities and lifetimes for every TChain"
   ]
  },
  {
   "cell_type": "code",
   "execution_count": 10,
   "metadata": {},
   "outputs": [
    {
     "name": "stdout",
     "output_type": "stream",
     "text": [
      "\n",
      " File summary: \n",
      "    file 0 :\t sync_wLightReco_20201129_122204.root \t E-field:  1.0 kV/cm \t eLifetime:  1426.94 us +/- :  504.91 us \t eDrift:  2.26 mm/us\n",
      "    file 1 :\t sync_wLightReco_20201129_122655.root \t E-field:  1.0 kV/cm \t eLifetime:  1340.49 us +/- :  164.27 us \t eDrift:  2.26 mm/us\n",
      "    file 2 :\t sync_wLightReco_20201129_130449.root \t E-field:  1.0 kV/cm \t eLifetime:  1375.7 us +/- :  183.11 us \t eDrift:  2.26 mm/us\n",
      "    file 3 :\t sync_wLightReco_20201129_134857.root \t E-field:  1.0 kV/cm \t eLifetime:  1080.22 us +/- :  125.05 us \t eDrift:  2.26 mm/us\n",
      "    file 4 :\t sync_wLightReco_20201129_143427.root \t E-field:  0.9 kV/cm \t eLifetime:  1502.47 us +/- :  246.33 us \t eDrift:  2.17 mm/us\n",
      "    file 5 :\t sync_wLightReco_20201129_150749.root \t E-field:  0.9 kV/cm \t eLifetime:  1331.27 us +/- :  144.44 us \t eDrift:  2.17 mm/us\n",
      "    file 6 :\t sync_wLightReco_20201129_155227.root \t E-field:  0.8 kV/cm \t eLifetime:  2199.73 us +/- :  279.75 us \t eDrift:  2.06 mm/us\n",
      "    file 7 :\t sync_wLightReco_20201129_162434.root \t E-field:  0.8 kV/cm \t eLifetime:  1162.82 us +/- :  115.36 us \t eDrift:  2.06 mm/us\n",
      "    file 8 :\t sync_wLightReco_20201129_170918.root \t E-field:  0.7 kV/cm \t eLifetime:  1518.84 us +/- :  148.51 us \t eDrift:  1.94 mm/us\n",
      "    file 9 :\t sync_wLightReco_20201129_174140.root \t E-field:  0.7 kV/cm \t eLifetime:  1849.23 us +/- :  376.02 us \t eDrift:  1.94 mm/us\n",
      "    file 10 :\t sync_wLightReco_20201129_182214.root \t E-field:  0.6 kV/cm \t eLifetime:  1983.79 us +/- :  357.1 us \t eDrift:  1.81 mm/us\n",
      "    file 11 :\t sync_wLightReco_20201129_185437.root \t E-field:  0.6 kV/cm \t eLifetime:  2249.61 us +/- :  332.63 us \t eDrift:  1.81 mm/us\n",
      "    file 12 :\t sync_wLightReco_20201129_193550.root \t E-field:  0.5 kV/cm \t eLifetime:  2542.85 us +/- :  264.5 us \t eDrift:  1.65 mm/us\n",
      "    file 13 :\t sync_wLightReco_20201129_200721.root \t E-field:  0.5 kV/cm \t eLifetime:  2748.88 us +/- :  376.12 us \t eDrift:  1.65 mm/us\n",
      "    file 14 :\t sync_wLightReco_20201129_204607.root \t E-field:  0.4 kV/cm \t eLifetime:  2261.23 us +/- :  101.12 us \t eDrift:  1.46 mm/us\n",
      "    file 15 :\t sync_wLightReco_20201129_211819.root \t E-field:  0.4 kV/cm \t eLifetime:  2548.22 us +/- :  260.52 us \t eDrift:  1.46 mm/us\n",
      "    file 16 :\t sync_wLightReco_20201129_215550.root \t E-field:  0.3 kV/cm \t eLifetime:  3857.32 us +/- :  486.73 us \t eDrift:  1.23 mm/us\n",
      "    file 17 :\t sync_wLightReco_20201129_222751.root \t E-field:  0.3 kV/cm \t eLifetime:  3327.64 us +/- :  264.49 us \t eDrift:  1.23 mm/us\n",
      "    file 18 :\t sync_wLightReco_20201129_230700.root \t E-field:  0.2 kV/cm \t eLifetime:  5925.09 us +/- :  1328.23 us \t eDrift:  0.93 mm/us\n",
      "    file 19 :\t sync_wLightReco_20201129_234000.root \t E-field:  0.2 kV/cm \t eLifetime:  6081.85 us +/- :  2042.09 us \t eDrift:  0.93 mm/us\n",
      "    file 20 :\t sync_wLightReco_20201130_002722.root \t E-field:  0.1 kV/cm \t eLifetime:  12150.72 us +/- :  4718.72 us \t eDrift:  0.54 mm/us\n",
      "    file 21 :\t sync_wLightReco_20201130_005847.root \t E-field:  0.1 kV/cm \t eLifetime:  5377.79 us +/- :  1043.1 us \t eDrift:  0.54 mm/us\n",
      "Done.\n"
     ]
    }
   ],
   "source": [
    "# Make lists with electron drift velocities and lifetimes\n",
    "eDrift_vel     = [] # drift velocities [mm/us]\n",
    "eLifetimes     = [] # one float for every TChain. Lifetime in [us]\n",
    "eLifetimes_err = [] # one float for every TChain. Lifetime uncertainty in [us]\n",
    "\n",
    "eLifetime_file = '../electron_lifetime/eLifetimes.txt'\n",
    "try:\n",
    "    file1 = open(eLifetime_file, 'r')\n",
    "    lines = file1.readlines()\n",
    "    file1.close()\n",
    "except:\n",
    "    print(' File '+str(eLifetime_file)+' not found...')\n",
    "\n",
    "for chain in range(len(input_tree_list)):\n",
    "    if   eField_intensity_list[chain] == 0.1: eDrift_vel.append(0.535)\n",
    "    elif eField_intensity_list[chain] == 0.2: eDrift_vel.append(0.933)\n",
    "    elif eField_intensity_list[chain] == 0.3: eDrift_vel.append(1.230)\n",
    "    elif eField_intensity_list[chain] == 0.4: eDrift_vel.append(1.461)\n",
    "    elif eField_intensity_list[chain] == 0.5: eDrift_vel.append(1.648)\n",
    "    elif eField_intensity_list[chain] == 0.6: eDrift_vel.append(1.806)\n",
    "    elif eField_intensity_list[chain] == 0.7: eDrift_vel.append(1.941)\n",
    "    elif eField_intensity_list[chain] == 0.8: eDrift_vel.append(2.060)\n",
    "    elif eField_intensity_list[chain] == 0.9: eDrift_vel.append(2.166)\n",
    "    elif eField_intensity_list[chain] == 1.0: eDrift_vel.append(2.261)\n",
    "    else:\n",
    "        print(' WARNING: No eDrift velocity defined for eField intensity =', eField_intensity_list[chain], 'kV/cm ...')\n",
    "        eDrift_vel.append(9999.9)\n",
    "    \n",
    "    eLifetime_assigned = False\n",
    "    for line in lines:\n",
    "        if eLifetime_assigned:\n",
    "            break\n",
    "        L = line.split(',')\n",
    "        if str(L[0]) == str(files[chain][16:-5]):\n",
    "            #if str(L[0]) in ['20201130_002722',\\\n",
    "            #                 '20201130_005847',\\\n",
    "            #                 '20201129_230700',\\\n",
    "            #                 '20201129_234000',\\\n",
    "            #                 '20201129_215550',\\\n",
    "            #                 '20201129_222751']:\n",
    "            #    eLifetimes.append(2000.)\n",
    "            #    eLifetimes_err.append(2000.)\n",
    "            #    eLifetime_assigned = True\n",
    "            #else:\n",
    "            #    eLifetimes.append(float(L[1]))\n",
    "            #    eLifetimes_err.append(float(L[2]))\n",
    "            #    eLifetime_assigned = True\n",
    "            eLifetimes.append(float(L[1]))\n",
    "            eLifetimes_err.append(float(L[2]))\n",
    "            eLifetime_assigned = True\n",
    "        #else:\n",
    "        #    print(' WARNING: eLifetime for ', files[chain], ' not found in file ', eLifetime_file)\n",
    "    if not eLifetime_assigned:\n",
    "        print(' WARNING: eLifetime for file', files[chain], 'not found in file ', eLifetime_file)\n",
    "        print('          --> Setting it to 4.0 us +/- 4.0 us ...')\n",
    "        eLifetimes.append(4000.)\n",
    "        eLifetimes_err.append(4000.)\n",
    "    \n",
    "    #eLifetimes.append(2.0) # TODO: Put here the proper lifetimes!\n",
    "    \n",
    "    \n",
    "print('\\n File summary: ')\n",
    "for i in range(len(input_tree_list)):\n",
    "    print('    file', i, ':\\t', files[i],\\\n",
    "          '\\t E-field: ', eField_intensity_list[i],\\\n",
    "          'kV/cm \\t eLifetime: ', round(eLifetimes[i],2),\\\n",
    "          'us +/- : ', round(eLifetimes_err[i],2),\\\n",
    "          'us \\t eDrift: ', round(eDrift_vel[i],2), 'mm/us')    \n",
    "    \n",
    "print('Done.')"
   ]
  },
  {
   "cell_type": "markdown",
   "metadata": {},
   "source": [
    "### Loop over all TChains in input_tree_list"
   ]
  },
  {
   "cell_type": "code",
   "execution_count": 11,
   "metadata": {},
   "outputs": [
    {
     "name": "stdout",
     "output_type": "stream",
     "text": [
      "Done.\n"
     ]
    }
   ],
   "source": [
    "# Progress bar\n",
    "from IPython.display import HTML, display\n",
    "\n",
    "def progress(count, total, unit, message=''):\n",
    "    return HTML(\"\"\"\n",
    "        <progress \n",
    "            value='{count}'\n",
    "            max='{total}',\n",
    "            style='width: 30%'\n",
    "        >\n",
    "            {count}\n",
    "        </progress> {count}/{total} {unit} ({frac}%) ... {message}\n",
    "    \"\"\".format(count=count, total=total, unit=unit, frac=int(float(count)/float(total)*100.),message=message))\n",
    "\n",
    "print('Done.')"
   ]
  },
  {
   "cell_type": "code",
   "execution_count": 12,
   "metadata": {},
   "outputs": [],
   "source": [
    "e_field_list            = []\n",
    "e_field_errors_list     = []\n",
    "track_length_list       = []\n",
    "track_n_hits_list       = []\n",
    "track_start_pos_x_list  = []\n",
    "track_start_pos_y_list  = []\n",
    "track_start_pos_z_list  = []\n",
    "track_end_pos_x_list    = []\n",
    "track_end_pos_y_list    = []\n",
    "track_end_pos_z_list    = []\n",
    "track_spread_x_list     = []\n",
    "track_theta_list        = []\n",
    "track_phi_list          = []\n",
    "LCM_detectedLight_list  = []\n",
    "track_q_raw_tot_list    = []\n",
    "track_q_corr_tot_list   = []\n",
    "track_q_corr_tot_err_list = []\n",
    "track_q_corr_in_GC_bin  = [] # containing n (=number of E-field intensities) lists with m (=number of gravicentres) q_corr values\n",
    "pixels_chargeYield_list = [] # containing n (=number of E-field intensities) lists with m (=number of gravicentres) lists\n",
    "pixels_hits_x_list      = []\n",
    "pixels_hits_q_corr_list = []\n",
    "track_cgx_list          = []\n",
    "track_cgy_list          = []\n",
    "track_cgz_list          = []"
   ]
  },
  {
   "cell_type": "code",
   "execution_count": 13,
   "metadata": {},
   "outputs": [
    {
     "name": "stdout",
     "output_type": "stream",
     "text": [
      " e_field_errors_list:  [0.0017868555234909502, 0.0021247679489445697, 0.0025898833990820784, 0.0031152854056979403, 0.003702099300496341, 0.0043020044377812235, 0.00492935485980149, 0.0055431457982095846, 0.006188053870739866, 0.006825908335641544]\n"
     ]
    }
   ],
   "source": [
    "# Uncertainties on electric field intensity\n",
    "# uncertainty on HV = 0.05 kV (display shows 0.1 kV units), with max. drift distance = 30.2 cm +/- 0.2 cm\n",
    "# -> uncertainty on EField = sqrt((1./30.2*0.05)^2 + (U/(drift_dist_max*2)*0.1)**2) kV/cm\n",
    "HV_voltages = [3.065, 6.073,9.082, 12.034, 15.1, 18.107, 21.173, 24.124, 27.19, 30.198]\n",
    "drift_dist_max = 30.2\n",
    "delta_drift_dist = 0.2\n",
    "delta_HV = 0.05\n",
    "e_field_errors_list = [np.sqrt(delta_HV**2/(drift_dist_max**2)+math.pow(HV_voltages[i]/(drift_dist_max**2)*delta_drift_dist,2)) for i in range(n_field_intensities)]\n",
    "print(' e_field_errors_list: ', e_field_errors_list)"
   ]
  },
  {
   "cell_type": "code",
   "execution_count": 14,
   "metadata": {},
   "outputs": [
    {
     "data": {
      "text/html": [
       "\n",
       "        <progress \n",
       "            value='10'\n",
       "            max='10',\n",
       "            style='width: 30%'\n",
       "        >\n",
       "            10\n",
       "        </progress> 10/10 E-field processed (100%) ... \n",
       "    "
      ],
      "text/plain": [
       "<IPython.core.display.HTML object>"
      ]
     },
     "metadata": {},
     "output_type": "display_data"
    },
    {
     "name": "stdout",
     "output_type": "stream",
     "text": [
      " ----------------------------------------------------------------------------------- \n",
      " Processing chains with field_intensity:  0.1 kV/cm\n",
      "     Chain Nr. 20\n",
      "         eField [kV/cm]:      0.1 +/- 0.00179\n",
      "         eLifetime [us]:      12150.72183462109 +/- 4718.720643545804\n",
      "         eDrift_vel [mm/us]:  0.535\n",
      "         Number of tracks :  2068\n",
      "             Processed 0 of 2068 tracks. \t Elapsed time: 1  seconds ... \n",
      "     Chain Nr. 21\n",
      "         eField [kV/cm]:      0.1 +/- 0.00179\n",
      "         eLifetime [us]:      5377.790965655243 +/- 1043.1002396130393\n",
      "         eDrift_vel [mm/us]:  0.535\n",
      "         Number of tracks :  1964\n",
      "             Processed 0 of 1964 tracks. \t Elapsed time: 1  seconds ... \n",
      " ----------------------------------------------------------------------------------- \n",
      " Processing chains with field_intensity:  0.2 kV/cm\n",
      "     Chain Nr. 18\n",
      "         eField [kV/cm]:      0.2 +/- 0.00212\n",
      "         eLifetime [us]:      5925.085465719896 +/- 1328.2282444099924\n",
      "         eDrift_vel [mm/us]:  0.933\n",
      "         Number of tracks :  7770\n",
      "             Processed 0 of 7770 tracks. \t Elapsed time: 1  seconds ... \n",
      "     Chain Nr. 19\n",
      "         eField [kV/cm]:      0.2 +/- 0.00212\n",
      "         eLifetime [us]:      6081.854067811178 +/- 2042.0913585854387\n",
      "         eDrift_vel [mm/us]:  0.933\n",
      "         Number of tracks :  1144\n",
      "             Processed 0 of 1144 tracks. \t Elapsed time: 2  seconds ... \n",
      " ----------------------------------------------------------------------------------- \n",
      " Processing chains with field_intensity:  0.3 kV/cm\n",
      "     Chain Nr. 16\n",
      "         eField [kV/cm]:      0.3 +/- 0.00259\n",
      "         eLifetime [us]:      3857.3206819183697 +/- 486.72724094476007\n",
      "         eDrift_vel [mm/us]:  1.23\n",
      "         Number of tracks :  12815\n",
      "             Processed 0 of 12815 tracks. \t Elapsed time: 2  seconds ... \n",
      "             Processed 10000 of 12815 tracks. \t Elapsed time: 6  seconds ... \n",
      "     Chain Nr. 17\n",
      "         eField [kV/cm]:      0.3 +/- 0.00259\n",
      "         eLifetime [us]:      3327.638475199542 +/- 264.4930990576411\n",
      "         eDrift_vel [mm/us]:  1.23\n",
      "         Number of tracks :  12816\n",
      "             Processed 0 of 12816 tracks. \t Elapsed time: 7  seconds ... \n",
      "             Processed 10000 of 12816 tracks. \t Elapsed time: 10  seconds ... \n",
      " ----------------------------------------------------------------------------------- \n",
      " Processing chains with field_intensity:  0.4 kV/cm\n",
      "     Chain Nr. 14\n",
      "         eField [kV/cm]:      0.4 +/- 0.00312\n",
      "         eLifetime [us]:      2261.226340370707 +/- 101.12446227817392\n",
      "         eDrift_vel [mm/us]:  1.461\n",
      "         Number of tracks :  15773\n",
      "             Processed 0 of 15773 tracks. \t Elapsed time: 11  seconds ... \n",
      "             Processed 10000 of 15773 tracks. \t Elapsed time: 17  seconds ... \n",
      "     Chain Nr. 15\n",
      "         eField [kV/cm]:      0.4 +/- 0.00312\n",
      "         eLifetime [us]:      2548.218755635127 +/- 260.5224280698738\n",
      "         eDrift_vel [mm/us]:  1.461\n",
      "         Number of tracks :  15905\n",
      "             Processed 0 of 15905 tracks. \t Elapsed time: 20  seconds ... \n",
      "             Processed 10000 of 15905 tracks. \t Elapsed time: 26  seconds ... \n",
      " ----------------------------------------------------------------------------------- \n",
      " Processing chains with field_intensity:  0.5 kV/cm\n",
      "     Chain Nr. 12\n",
      "         eField [kV/cm]:      0.5 +/- 0.0037\n",
      "         eLifetime [us]:      2542.853801221178 +/- 264.49648696532387\n",
      "         eDrift_vel [mm/us]:  1.648\n",
      "         Number of tracks :  18086\n",
      "             Processed 0 of 18086 tracks. \t Elapsed time: 28  seconds ... \n",
      "             Processed 10000 of 18086 tracks. \t Elapsed time: 35  seconds ... \n",
      "     Chain Nr. 13\n",
      "         eField [kV/cm]:      0.5 +/- 0.0037\n",
      "         eLifetime [us]:      2748.8806463424644 +/- 376.11736165503106\n",
      "         eDrift_vel [mm/us]:  1.648\n",
      "         Number of tracks :  18149\n",
      "             Processed 0 of 18149 tracks. \t Elapsed time: 42  seconds ... \n",
      "             Processed 10000 of 18149 tracks. \t Elapsed time: 49  seconds ... \n",
      " ----------------------------------------------------------------------------------- \n",
      " Processing chains with field_intensity:  0.6 kV/cm\n",
      "     Chain Nr. 10\n",
      "         eField [kV/cm]:      0.6 +/- 0.0043\n",
      "         eLifetime [us]:      1983.7874197879685 +/- 357.1021809291718\n",
      "         eDrift_vel [mm/us]:  1.806\n",
      "         Number of tracks :  18720\n",
      "             Processed 0 of 18720 tracks. \t Elapsed time: 55  seconds ... \n",
      "             Processed 10000 of 18720 tracks. \t Elapsed time: 65  seconds ... \n",
      "     Chain Nr. 11\n",
      "         eField [kV/cm]:      0.6 +/- 0.0043\n",
      "         eLifetime [us]:      2249.608526991405 +/- 332.6297935910143\n",
      "         eDrift_vel [mm/us]:  1.806\n",
      "         Number of tracks :  18202\n",
      "             Processed 0 of 18202 tracks. \t Elapsed time: 72  seconds ... \n",
      "             Processed 10000 of 18202 tracks. \t Elapsed time: 79  seconds ... \n",
      " ----------------------------------------------------------------------------------- \n",
      " Processing chains with field_intensity:  0.7 kV/cm\n",
      "     Chain Nr. 8\n",
      "         eField [kV/cm]:      0.7 +/- 0.00493\n",
      "         eLifetime [us]:      1518.8418898401674 +/- 148.50566320206076\n",
      "         eDrift_vel [mm/us]:  1.941\n",
      "         Number of tracks :  19185\n",
      "             Processed 0 of 19185 tracks. \t Elapsed time: 85  seconds ... \n",
      "             Processed 10000 of 19185 tracks. \t Elapsed time: 94  seconds ... \n",
      "     Chain Nr. 9\n",
      "         eField [kV/cm]:      0.7 +/- 0.00493\n",
      "         eLifetime [us]:      1849.2310596953716 +/- 376.02285173148084\n",
      "         eDrift_vel [mm/us]:  1.941\n",
      "         Number of tracks :  18178\n",
      "             Processed 0 of 18178 tracks. \t Elapsed time: 102  seconds ... \n",
      "             Processed 10000 of 18178 tracks. \t Elapsed time: 110  seconds ... \n",
      " ----------------------------------------------------------------------------------- \n",
      " Processing chains with field_intensity:  0.8 kV/cm\n",
      "     Chain Nr. 6\n",
      "         eField [kV/cm]:      0.8 +/- 0.00554\n",
      "         eLifetime [us]:      2199.7292405699914 +/- 279.75317670026686\n",
      "         eDrift_vel [mm/us]:  2.06\n",
      "         Number of tracks :  19261\n",
      "             Processed 0 of 19261 tracks. \t Elapsed time: 116  seconds ... \n",
      "             Processed 10000 of 19261 tracks. \t Elapsed time: 124  seconds ... \n",
      "     Chain Nr. 7\n",
      "         eField [kV/cm]:      0.8 +/- 0.00554\n",
      "         eLifetime [us]:      1162.817474853896 +/- 115.35768625179703\n",
      "         eDrift_vel [mm/us]:  2.06\n",
      "         Number of tracks :  18800\n",
      "             Processed 0 of 18800 tracks. \t Elapsed time: 132  seconds ... \n",
      "             Processed 10000 of 18800 tracks. \t Elapsed time: 140  seconds ... \n",
      " ----------------------------------------------------------------------------------- \n",
      " Processing chains with field_intensity:  0.9 kV/cm\n",
      "     Chain Nr. 4\n",
      "         eField [kV/cm]:      0.9 +/- 0.00619\n",
      "         eLifetime [us]:      1502.4676078560935 +/- 246.33025980506162\n",
      "         eDrift_vel [mm/us]:  2.166\n",
      "         Number of tracks :  19657\n",
      "             Processed 0 of 19657 tracks. \t Elapsed time: 148  seconds ... \n",
      "             Processed 10000 of 19657 tracks. \t Elapsed time: 158  seconds ... \n",
      "     Chain Nr. 5\n",
      "         eField [kV/cm]:      0.9 +/- 0.00619\n",
      "         eLifetime [us]:      1331.273932313314 +/- 144.44407902705794\n",
      "         eDrift_vel [mm/us]:  2.166\n",
      "         Number of tracks :  19369\n",
      "             Processed 0 of 19369 tracks. \t Elapsed time: 166  seconds ... \n",
      "             Processed 10000 of 19369 tracks. \t Elapsed time: 175  seconds ... \n",
      " ----------------------------------------------------------------------------------- \n",
      " Processing chains with field_intensity:  1.0 kV/cm\n",
      "     Chain Nr. 2\n",
      "         eField [kV/cm]:      1.0 +/- 0.00683\n",
      "         eLifetime [us]:      1375.703443664629 +/- 183.11469825886738\n",
      "         eDrift_vel [mm/us]:  2.261\n",
      "         Number of tracks :  19234\n",
      "             Processed 0 of 19234 tracks. \t Elapsed time: 183  seconds ... \n",
      "             Processed 10000 of 19234 tracks. \t Elapsed time: 191  seconds ... \n",
      "     Chain Nr. 3\n",
      "         eField [kV/cm]:      1.0 +/- 0.00683\n",
      "         eLifetime [us]:      1080.222116491045 +/- 125.04620606332196\n",
      "         eDrift_vel [mm/us]:  2.261\n",
      "         Number of tracks :  19520\n",
      "             Processed 0 of 19520 tracks. \t Elapsed time: 200  seconds ... \n",
      "             Processed 10000 of 19520 tracks. \t Elapsed time: 212  seconds ... \n",
      " Done.\n"
     ]
    }
   ],
   "source": [
    "out = display(progress(0,n_field_intensities,'E-field intensities processed'),display_id=True)\n",
    "start = time.time()\n",
    "\n",
    "for eField in range(n_field_intensities):\n",
    "    field_intensity = (eField+1)/10.\n",
    "    \n",
    "    #if not (field_intensity == 0.5 or field_intensity == 0.6):\n",
    "    #    continue\n",
    "    \n",
    "    print( ' ----------------------------------------------------------------------------------- ')\n",
    "    print(' Processing chains with field_intensity: ', field_intensity, 'kV/cm')\n",
    "    \n",
    "    # Define lists with interesting quantities\n",
    "    track_length         = [] # Reconstructed track's length [mm]\n",
    "    track_n_hits         = [] # Reconstructed track's total number of hits [-]\n",
    "    track_start_pos_x    = [] # Reconstructed track's start position coordinates x [mm]\n",
    "    track_start_pos_y    = [] # Reconstructed track's start position coordinates y [mm]\n",
    "    track_start_pos_z    = [] # Reconstructed track's start position coordinates z [mm]\n",
    "    track_end_pos_x      = [] # Reconstructed track's end position coordinates x [mm]\n",
    "    track_end_pos_y      = [] # Reconstructed track's end position coordinates y [mm]\n",
    "    track_end_pos_z      = [] # Reconstructed track's end position coordinates z [mm]\n",
    "    track_spread_x       = [] # Reconstructed track's start_x-end_x [mm]\n",
    "    track_theta          = [] # Reconstructed track's theta ('direction') [rad]\n",
    "    track_phi            = [] # Reconstructed track's phi ('direction') [rad]\n",
    "    LCM_detectedLight    = [] # Total detected number of photo electrons by all 6 LCM SiPMs\n",
    "    #LCM_producedLight    = [] # Total reconstructed number of photons by the track (note: there is a bug in Livio's acceptance calculation...)\n",
    "    track_q_raw_tot      = [] # Reconstructed track's total charge deposit [ke] (no eLifetime correction)\n",
    "    track_q_corr_tot     = [] # Reconstructed track's total charge deposit [ke] (eLifetime corrected)\n",
    "    track_q_corr_tot_err = [] # Systematic uncertainty on the corrected track's total charge (only taking into account the electron lifetime)\n",
    "    pixels_chargeYield   = [] # Reconstructed charge on pixels for every GC bin [ke] (eLifetime corrected)\n",
    "    pixels_hits_x        = []\n",
    "    pixels_hits_q_corr   = []\n",
    "    track_cgx            = [] # gravicentre of the track (weighted by hits_q, but NOT YET ELECTRON LIFETIME CORRECTED -> TODO)\n",
    "    track_cgy            = [] # gravicentre of the track (weighted by hits_q, but NOT YET ELECTRON LIFETIME CORRECTED -> TODO)\n",
    "    track_cgz            = [] # gravicentre of the track (weighted by hits_q, but NOT YET ELECTRON LIFETIME CORRECTED -> TODO)\n",
    "    \n",
    "    \n",
    "    for chain in range(len(input_tree_list)):\n",
    "        \n",
    "        # Skip the first two files (in order to have ~ the same statistics for all eField intensities):\n",
    "        if chain == 0 or chain == 1:\n",
    "            continue\n",
    "            \n",
    "        #if chain not in [5]:\n",
    "        #    continue\n",
    "        \n",
    "        if eField_intensity_list[chain] != field_intensity:\n",
    "            continue\n",
    "        print('     Chain Nr.', chain)\n",
    "        print('         eField [kV/cm]:     ', eField_intensity_list[chain], '+/-', round(e_field_errors_list[int(eField_intensity_list[chain]*10-1)],5))\n",
    "        print('         eLifetime [us]:     ', eLifetimes[chain], '+/-', eLifetimes_err[chain])\n",
    "        print('         eDrift_vel [mm/us]: ', eDrift_vel[chain])\n",
    "\n",
    "        # Number of tracks in the TChain\n",
    "        n_tracks = input_tree_list[chain].GetEntries()\n",
    "        print('         Number of tracks : ', n_tracks)\n",
    "\n",
    "        #print(input_tree_list[chain].Print())\n",
    "\n",
    "        # List for events with a low light detection\n",
    "        #low_light_events = []\n",
    "\n",
    "        # List for track selection\n",
    "        #selected_trackIDs = []\n",
    "\n",
    "        accepted_tracks_counter = 0\n",
    "        \n",
    "        # Loop over all tracks in input_tree\n",
    "        for track_id in range(n_tracks):\n",
    "            if(track_id%10000==0):\n",
    "                now = time.time()\n",
    "                print('             Processed', track_id, 'of', n_tracks, 'tracks. \\t Elapsed time:', math.ceil(now-start), ' seconds ... \\r')\n",
    "                \n",
    "            input_tree_list[chain].GetEntry(track_id)\n",
    "\n",
    "            # Apply Selection Cuts\n",
    "            if input_tree_list[chain].t_track_length < cut_lenght:\n",
    "                continue\n",
    "            if input_tree_list[chain].t_event_ntracks > cut_ntracks:\n",
    "                continue\n",
    "            if abs(max(input_tree_list[chain].t_track_start_pos_y,input_tree_list[chain].t_track_end_pos_y)) < cut_throughgoing or\\\n",
    "               abs(min(input_tree_list[chain].t_track_start_pos_y,input_tree_list[chain].t_track_end_pos_y)) < cut_throughgoing:\n",
    "                #print(input_tree_list[chain].t_track_start_pos_y)\n",
    "                #print(input_tree_list[chain].t_track_end_pos_y)\n",
    "                #print(' ---------------- ')\n",
    "                continue\n",
    "            \n",
    "            if abs(input_tree_list[chain].t_track_phi*180./np.pi) < (90.-cut_phi) or abs(input_tree_list[chain].t_track_phi*180./np.pi) > (90.+cut_phi):\n",
    "                continue\n",
    "\n",
    "            #if track_id > 500:\n",
    "            #    break\n",
    "\n",
    "            #selected_trackIDs.append(input_tree_list[chain].t_trackID)\n",
    "\n",
    "            #if track_id > 15:\n",
    "            #    break\n",
    "\n",
    "            '''        \n",
    "            print(' ----------------------------------------- ')\n",
    "            #print(' t_eventID:           ', input_tree_list[chain].t_eventID)\n",
    "            print(' t_trackID:           ', input_tree_list[chain].t_trackID)\n",
    "            #print(' t_event_q:           ', input_tree_list[chain].t_event_q)\n",
    "            print(' t_track_length:      ', input_tree_list[chain].t_track_length)\n",
    "            print(' t_event_ntracks:     ', input_tree_list[chain].t_event_ntracks)\n",
    "            print(' t_track_start_pos_y: ', input_tree_list[chain].t_track_start_pos_y)\n",
    "            print(' t_track_end_pos_y:   ', input_tree_list[chain].t_track_end_pos_y)\n",
    "            #print(' t_track_q:           ', input_tree_list[chain].t_track_q)\n",
    "            #print(' t_event_nhits:       ', input_tree_list[chain].t_event_nhits)\n",
    "            #print(' t_track_nhits:       ', input_tree_list[chain].t_track_nhits)\n",
    "            #print(' t_tlcm1_tot:         ', input_tree_list[chain].l_tlcm1_tot)\n",
    "            '''\n",
    "            \n",
    "            # For low light events\n",
    "            #if input_tree_list[chain].l_tlcm1_tot<150:\n",
    "            #    low_light_events.append(input_tree_list[chain].t_trackID)\n",
    "\n",
    "            # Obtain the track's total charge and its center of gravity (weighted by deposited charge)\n",
    "            # Loop over all hits\n",
    "            q_raw_tot            = 0.\n",
    "            q_corr_tot           = 0.\n",
    "            q_corr_tot_errorTerm = 0.\n",
    "            cgx                  = 0.\n",
    "            cgy                  = 0.\n",
    "            cgz                  = 0.\n",
    "            counter_hits         = 0\n",
    "            for hit in range(input_tree_list[chain].t_track_nhits):\n",
    "                if input_tree_list[chain].t_track_hits_x[hit] <= cut_hit_x_min:\n",
    "                    continue\n",
    "                counter_hits += 1\n",
    "                #if hit>2:\n",
    "                #    break\n",
    "                \n",
    "                q_corr_factor = np.exp(0.1*input_tree_list[chain].t_track_hits_z[hit]/(eDrift_vel[chain]*eLifetimes[chain])) # TODO: factor 0.1 due to factor 10 problem -> fix it\n",
    "                #print(' hit_z [mm]:    ', 0.1 * input_tree_list[chain].t_track_hits_z[hit]) # TODO: factor 0.1 due to factor 10 problem -> fix it\n",
    "                #print(' q_corr_factor: ', q_corr_factor)\n",
    "                q_raw_tot += input_tree_list[chain].t_track_hits_q[hit]\n",
    "                hit_q_corr = input_tree_list[chain].t_track_hits_q[hit] * q_corr_factor # q_corr_factor corrects for the electron lifetime\n",
    "                q_corr_tot += hit_q_corr\n",
    "                q_corr_tot_errorTerm += hit_q_corr * (0.1*input_tree_list[chain].t_track_hits_z[hit]/(eDrift_vel[chain]*eLifetimes[chain]**2))\n",
    "                \n",
    "                ### print(' hit_x:  ', input_tree_list[chain].t_track_hits_x[hit], ' \\t hit_q_corr: ', hit_q_corr)\n",
    "                \n",
    "                cgx += input_tree_list[chain].t_track_hits_x[hit]*hit_q_corr\n",
    "                cgy += input_tree_list[chain].t_track_hits_y[hit]*hit_q_corr\n",
    "                cgz += 0.1 * input_tree_list[chain].t_track_hits_z[hit]*hit_q_corr # TODO: factor 0.1 due to factor 10 problem -> fix it\n",
    "                \n",
    "                pixels_hits_x.append(input_tree_list[chain].t_track_hits_x[hit])\n",
    "                pixels_hits_q_corr.append(hit_q_corr)\n",
    "            \n",
    "            if q_raw_tot > 0.:\n",
    "                track_q_raw_tot.append(q_raw_tot)\n",
    "                track_q_corr_tot.append(q_corr_tot)\n",
    "                pixels_chargeYield.append(q_corr_tot)\n",
    "                # normalize gravicentre\n",
    "                gravicentre_x = cgx/(q_corr_tot)\n",
    "                gravicentre_y = cgy/(q_corr_tot)\n",
    "                gravicentre_z = cgz/(q_corr_tot)\n",
    "                track_cgx.append(gravicentre_x)\n",
    "                track_cgy.append(gravicentre_y)\n",
    "                track_cgz.append(gravicentre_z)\n",
    "                #print(' ------------------------------ ')\n",
    "                #print(' t_trackID:     ', input_tree_list[chain].t_trackID)\n",
    "                #print(' cgx:           ', gravicentre_x)\n",
    "                #print(' cgy:           ', gravicentre_y)\n",
    "                #print(' cgz:           ', gravicentre_z)\n",
    "                #print(' pixels_chargeYield:   ', pixels_chargeYield[-1])\n",
    "                \n",
    "                q_corr_err = math.sqrt( (q_corr_tot_errorTerm/counter_hits)**2 * eLifetimes_err[chain]**2 )\n",
    "                #print(' q_corr_tot: ', q_corr_tot)\n",
    "                #print(' n_hits: ', len(pixels_hits_q_corr))\n",
    "                #print(' q_corr_perHit: ', q_corr_tot/counter_hits, '+/-', q_corr_err)\n",
    "                track_q_corr_tot_err.append(q_corr_err)\n",
    "                \n",
    "                track_length.append(input_tree_list[chain].t_track_length)\n",
    "                track_n_hits.append(input_tree_list[chain].t_track_nhits)\n",
    "                #track_q_tot.append(input_tree_list[chain].t_track_q) # this needs to be corrected by the electron lifetime (see below)\n",
    "\n",
    "                track_start_pos_x.append(input_tree_list[chain].t_track_start_pos_x)\n",
    "                track_start_pos_y.append(input_tree_list[chain].t_track_start_pos_y)\n",
    "                track_start_pos_z.append(input_tree_list[chain].t_track_start_pos_z)\n",
    "                track_end_pos_x.append(input_tree_list[chain].t_track_end_pos_x)\n",
    "                track_end_pos_y.append(input_tree_list[chain].t_track_end_pos_y)\n",
    "                track_end_pos_z.append(input_tree_list[chain].t_track_end_pos_z)\n",
    "\n",
    "                track_spread_x.append(input_tree_list[chain].t_track_start_pos_x-input_tree_list[chain].t_track_end_pos_x)\n",
    "                track_theta.append(input_tree_list[chain].t_track_theta)\n",
    "                track_phi.append(input_tree_list[chain].t_track_phi)\n",
    "\n",
    "                LCM_detectedLight.append(input_tree_list[chain].l_tlcm1_tot)\n",
    "                #LCM_producedLight.append(input_tree_list[chain].t_lcm1)\n",
    "\n",
    "    e_field_list.append(field_intensity)\n",
    "    track_length_list.append(track_length)\n",
    "    track_n_hits_list.append(track_n_hits)\n",
    "    track_q_raw_tot_list.append(track_q_raw_tot)\n",
    "    track_q_corr_tot_list.append(track_q_corr_tot)\n",
    "    track_q_corr_tot_err_list.append(track_q_corr_tot_err)\n",
    "    track_start_pos_x_list.append(track_start_pos_x)\n",
    "    track_start_pos_y_list.append(track_start_pos_y)\n",
    "    track_start_pos_z_list.append(track_start_pos_z)\n",
    "    track_end_pos_x_list.append(track_end_pos_x)\n",
    "    track_end_pos_y_list.append(track_end_pos_y)\n",
    "    track_end_pos_z_list.append(track_end_pos_z)\n",
    "    track_spread_x_list.append(track_spread_x)\n",
    "    track_theta_list.append(track_theta)\n",
    "    track_phi_list.append(track_phi)\n",
    "    LCM_detectedLight_list.append(LCM_detectedLight)\n",
    "    #LCM_producedLight_list.append(LCM_producedLight)\n",
    "    pixels_chargeYield_list.append(pixels_chargeYield)\n",
    "    track_cgx_list.append(track_cgx)\n",
    "    track_cgy_list.append(track_cgy)\n",
    "    track_cgz_list.append(track_cgz)\n",
    "    pixels_hits_x_list.append(pixels_hits_x)\n",
    "    pixels_hits_q_corr_list.append(pixels_hits_q_corr)\n",
    "    \n",
    "    #print(' Number of selected tracks: ', len(selected_trackIDs))\n",
    "\n",
    "    out.update(progress(eField+1,n_field_intensities,'E-field processed'))\n",
    "out.update(progress(n_field_intensities,n_field_intensities,'E-field processed'))\n",
    "print(' Done.')\n",
    "\n",
    "### print(' pixels_hits_x_list:      ', pixels_hits_x_list)\n",
    "### print(' pixels_hits_q_corr_list: ', pixels_hits_q_corr_list)"
   ]
  },
  {
   "cell_type": "code",
   "execution_count": 15,
   "metadata": {},
   "outputs": [
    {
     "name": "stdout",
     "output_type": "stream",
     "text": [
      " q_corr_per_hit_statErr:  [1.4590518723379875, 0.3915918515195958, 0.1615782997494656, 0.11875919169707727, 0.10032872347542814, 0.09650232574031145, 0.09694903718882714, 0.09237947185189073, 0.09551707627821997, 0.09554492600927128]\n",
      " q_corr_per_hit_systErr:  [0.9001183840894732, 0.8732257388990312, 0.5276514727340309, 0.506761826381683, 0.6889465347759851, 1.1708211012296514, 1.2304139434627006, 1.0022217594497376, 1.2807756695838808, 1.3231918413367374]\n",
      "Done.\n"
     ]
    }
   ],
   "source": [
    "# Obtain stat. and syst. uncertainties on mean charge deposited per hit\n",
    "# Note: SEM (standard error of the mean) = stdev / sqrt(n measurements [not nan or inf])\n",
    "q_corr_per_hit_systErr = []\n",
    "q_corr_per_hit_statErr = []\n",
    "for i in range(n_field_intensities):\n",
    "    #print(' eField: ', (i+1)/10.)\n",
    "    #print(' track_n_hits_list: ', track_n_hits_list)\n",
    "    #print(' track_q_corr_tot_list: ', track_q_corr_tot_list)\n",
    "    #print(' mean charge per hit:  ', np.nanmean(pixels_hits_q_corr_list[i]))\n",
    "    #print(' q_corr per hit, stat: ', scipy.stats.sem(pixels_hits_q_corr_list[i]))\n",
    "    q_corr_per_hit_statErr.append(scipy.stats.sem(pixels_hits_q_corr_list[i]))\n",
    "    err = 0.\n",
    "    #print(' number of tracks: ', len(track_q_corr_tot_list[i]))\n",
    "    for k in range(len(track_q_corr_tot_list[i])):\n",
    "        err += track_q_corr_tot_err_list[i][k]**2\n",
    "    #print(' q_corr per hit, syst: ', math.sqrt(err)/len(track_q_corr_tot_list[i]))\n",
    "    q_corr_per_hit_systErr.append(math.sqrt(err)/math.sqrt(len(track_q_corr_tot_list[i])))\n",
    "    #print(' ===================== ')\n",
    "\n",
    "print(' q_corr_per_hit_statErr: ', q_corr_per_hit_statErr)\n",
    "print(' q_corr_per_hit_systErr: ', q_corr_per_hit_systErr)\n",
    "\n",
    "print('Done.')"
   ]
  },
  {
   "cell_type": "markdown",
   "metadata": {},
   "source": [
    "### Make Plots for Selected (!) Events"
   ]
  },
  {
   "cell_type": "code",
   "execution_count": 16,
   "metadata": {},
   "outputs": [],
   "source": [
    "from plot_functions import *"
   ]
  },
  {
   "cell_type": "code",
   "execution_count": 17,
   "metadata": {},
   "outputs": [
    {
     "name": "stdout",
     "output_type": "stream",
     "text": [
      " Obtaining data...\n"
     ]
    },
    {
     "data": {
      "text/html": [
       "\n",
       "        <progress \n",
       "            value='10'\n",
       "            max='10',\n",
       "            style='width: 30%'\n",
       "        >\n",
       "            10\n",
       "        </progress> 10/10 E-field intensities processed (100%) ... \n",
       "    "
      ],
      "text/plain": [
       "<IPython.core.display.HTML object>"
      ]
     },
     "metadata": {},
     "output_type": "display_data"
    },
    {
     "name": "stderr",
     "output_type": "stream",
     "text": [
      "/home/roman/software/anaconda3/envs/larpix-analysis-38/lib/python3.8/site-packages/numpy/core/fromnumeric.py:3372: RuntimeWarning: Mean of empty slice.\n",
      "  return _methods._mean(a, axis=axis, dtype=dtype,\n",
      "/home/roman/software/anaconda3/envs/larpix-analysis-38/lib/python3.8/site-packages/numpy/core/_methods.py:170: RuntimeWarning: invalid value encountered in double_scalars\n",
      "  ret = ret.dtype.type(ret / rcount)\n",
      "/home/roman/software/anaconda3/envs/larpix-analysis-38/lib/python3.8/site-packages/numpy/core/_methods.py:233: RuntimeWarning: Degrees of freedom <= 0 for slice\n",
      "  ret = _var(a, axis=axis, dtype=dtype, out=out, ddof=ddof,\n",
      "/home/roman/software/anaconda3/envs/larpix-analysis-38/lib/python3.8/site-packages/numpy/core/_methods.py:194: RuntimeWarning: invalid value encountered in true_divide\n",
      "  arrmean = um.true_divide(\n",
      "/home/roman/software/anaconda3/envs/larpix-analysis-38/lib/python3.8/site-packages/numpy/core/_methods.py:226: RuntimeWarning: invalid value encountered in double_scalars\n",
      "  ret = ret.dtype.type(ret / rcount)\n"
     ]
    },
    {
     "name": "stdout",
     "output_type": "stream",
     "text": [
      " Make plots...\n"
     ]
    },
    {
     "data": {
      "text/html": [
       "\n",
       "        <progress \n",
       "            value='10'\n",
       "            max='10',\n",
       "            style='width: 30%'\n",
       "        >\n",
       "            10\n",
       "        </progress> 10/10 E-field intensities processed (100%) ... \n",
       "    "
      ],
      "text/plain": [
       "<IPython.core.display.HTML object>"
      ]
     },
     "metadata": {},
     "output_type": "display_data"
    },
    {
     "name": "stderr",
     "output_type": "stream",
     "text": [
      "/home/roman/software/anaconda3/envs/larpix-analysis-38/lib/python3.8/site-packages/matplotlib/backends/backend_agg.py:238: RuntimeWarning: Glyph 8722 missing from current font.\n",
      "  font.set_text(s, 0.0, flags=flags)\n",
      "/home/roman/software/anaconda3/envs/larpix-analysis-38/lib/python3.8/site-packages/matplotlib/backends/backend_agg.py:201: RuntimeWarning: Glyph 8722 missing from current font.\n",
      "  font.set_text(s, 0, flags=flags)\n"
     ]
    },
    {
     "name": "stdout",
     "output_type": "stream",
     "text": [
      "Done.\n"
     ]
    }
   ],
   "source": [
    "# Plot charge yield per hit as a function of the hit position x\n",
    "\n",
    "# Define how many graviCentre bins to have:\n",
    "n_graviCentre_bins = 10\n",
    "GC_binning = np.linspace(pixels_x_min,pixels_x_max,n_graviCentre_bins+1)\n",
    "\n",
    "# Define binning\n",
    "x_err  = []\n",
    "x_vals = []\n",
    "bin_width = GC_binning[1]-GC_binning[0]\n",
    "for ibin in range(n_graviCentre_bins):\n",
    "    x_err.append(0.5*bin_width)\n",
    "    x_vals.append(GC_binning[ibin]+0.5*bin_width)\n",
    "\n",
    "# Obtain chargeYield_perHit data\n",
    "pixels_q_corr_tot_list        = []\n",
    "pixels_q_corr_meanPerHit_list = []\n",
    "pixels_q_corr_sem_list        = []\n",
    "print(' Obtaining data...')\n",
    "out = display(progress(0,n_field_intensities,'E-field intensities processed'),display_id=True)\n",
    "for eField_index in range(n_field_intensities):    \n",
    "    _q_corr_tot_list    = []\n",
    "    _q_corr_summed     = []\n",
    "    _q_corr_meanPerHit = []\n",
    "    _q_corr_sem        = []\n",
    "    for GC in range(n_graviCentre_bins):\n",
    "        _q_corr_tot = []\n",
    "        for hit in range(len(pixels_hits_x_list[eField_index])):\n",
    "            if pixels_hits_x_list[eField_index][hit]>GC_binning[GC] and pixels_hits_x_list[eField_index][hit]<GC_binning[GC+1]:\n",
    "                _q_corr_tot.append(pixels_hits_q_corr_list[eField_index][hit])\n",
    "        _q_corr_summed.append(np.sum(_q_corr_tot))\n",
    "        _q_corr_meanPerHit.append(np.mean(_q_corr_tot))\n",
    "        _q_corr_sem.append(scipy.stats.sem(_q_corr_tot))\n",
    "    pixels_q_corr_tot_list.append(_q_corr_summed)\n",
    "    pixels_q_corr_meanPerHit_list.append(_q_corr_meanPerHit)\n",
    "    pixels_q_corr_sem_list.append(_q_corr_sem)\n",
    "    out.update(progress(eField_index+1,n_field_intensities,'E-field intensities processed'))\n",
    "out.update(progress(n_field_intensities,n_field_intensities,'E-field intensities processed'))\n",
    "\n",
    "# Make plot\n",
    "print(' Make plots...')\n",
    "if plot_all or plot_chargeYield_vs_hitPosX:\n",
    "    out = display(progress(0,n_field_intensities,'E-field intensities processed'),display_id=True)\n",
    "    for eField_index in range(n_field_intensities):\n",
    "        #print(pixels_q_corr_meanPerHit_list[eField_index])\n",
    "        if len(pixels_q_corr_meanPerHit_list[eField_index]) == 0: continue\n",
    "        plot_folder = str(e_field_list[eField_index]) + '_kV_per_cm'\n",
    "        series_label_list = ['CY [ke]','GC x [mm] (scale factor: 1/10)']\n",
    "        axis_labels = ['Hit Position x [mm]','Pixel Charge Yield per Hit [ke]']\n",
    "        x_min,x_max = pixels_x_min, pixels_x_max\n",
    "        y_min,y_max = 0,200\n",
    "        save_name = 'plots/'+str(plot_folder)+'/'+'TGraphError_ChargeYieldPerHit_vs_CoordX.png'\n",
    "        plot_errorbars(x_vals,pixels_q_corr_meanPerHit_list[eField_index],x_err,pixels_q_corr_sem_list[eField_index],\\\n",
    "                       x_min,x_max,y_min,y_max,\\\n",
    "                       axis_labels,save_name)\n",
    "        out.update(progress(eField_index+1,n_field_intensities,'E-field intensities processed'))\n",
    "    out.update(progress(n_field_intensities,n_field_intensities,'E-field intensities processed'))\n",
    "print('Done.')"
   ]
  },
  {
   "cell_type": "code",
   "execution_count": 18,
   "metadata": {},
   "outputs": [
    {
     "name": "stdout",
     "output_type": "stream",
     "text": [
      "Done.\n"
     ]
    }
   ],
   "source": [
    "# Plot charge yield per hit as a function of the hit position x (summary plot)\n",
    "if plot_all or plot_chargeYield_vs_hitPosX_summary:\n",
    "    #print(' x_vals: ', x_vals)\n",
    "    #print(' pixels_q_corr_meanPerHit_list: ', pixels_q_corr_meanPerHit_list)\n",
    "    #print(' x_err: ', x_err)\n",
    "    #print(' pixels_q_corr_sem_list: ', pixels_q_corr_sem_list)\n",
    "    \n",
    "    x_min,x_max = pixels_x_min, pixels_x_max\n",
    "    y_min,y_max = 0,200\n",
    "    \n",
    "    axis_labels = ['Hit Position x [mm]','Pixel Charge Yield per Hit [ke]']\n",
    "    save_name = 'plots/TGraphError_ChargeYieldPerHit_vs_CoordX_summary.png'\n",
    "    restrict_to_entries = [2,5,9]\n",
    "    x_vals_list      = [x_vals for i in range(n_graviCentre_bins)]\n",
    "    \n",
    "    plot_folder_list = []\n",
    "    for eField_index in range(n_field_intensities):\n",
    "        plot_folder_list.append(str(e_field_list[eField_index]) + '_kV_per_cm')\n",
    "    \n",
    "    # Plot charge yield per hit as a function of the hit position x (summary)\n",
    "    plot_profile_of_2D_hist_00(x_vals_list,pixels_q_corr_meanPerHit_list,x_err,pixels_q_corr_sem_list,\\\n",
    "                               plot_folder_list,\\\n",
    "                               axis_labels,\\\n",
    "                               x_min,x_max,y_min,y_max,\\\n",
    "                               save_name,\\\n",
    "                               restrict_to_entries,\\\n",
    "                               plot_legend=True)\n",
    "print('Done.')"
   ]
  },
  {
   "cell_type": "code",
   "execution_count": 19,
   "metadata": {},
   "outputs": [
    {
     "name": "stdout",
     "output_type": "stream",
     "text": [
      " err_tot:  [2.3592 1.2648 0.6892 0.6255 0.7893 1.2673 1.3274 1.0946 1.3763 1.4187]\n",
      " Q0_boxModel:    161.27609280553622  +/-  2.3462448720371123\n",
      " beta_boxModel:  0.1296680606186559  +/-  0.014248691784553156\n",
      " Q0_birksModel:  159.28615525623889  +/-  2.3797489178984903\n",
      " k_birksModel:   0.026019214467986343  +/-  0.0029260141973321504\n"
     ]
    },
    {
     "name": "stderr",
     "output_type": "stream",
     "text": [
      "/home/roman/PACMAN/larpix-analysis/lightCharge_anticorrelation/plot_functions.py:652: RuntimeWarning: invalid value encountered in log\n",
      "  return Q0 * E/beta * np.log(1.+beta/E)\n"
     ]
    },
    {
     "name": "stdout",
     "output_type": "stream",
     "text": [
      "Done.\n"
     ]
    },
    {
     "data": {
      "image/png": "[encoded data removed]",
      "text/plain": [
       "<Figure size 1080x720 with 1 Axes>"
      ]
     },
     "metadata": {},
     "output_type": "display_data"
    }
   ],
   "source": [
    "# Plot pixel charge yield per hit as a function of the E-field intensity\n",
    "np.set_printoptions(precision=4)\n",
    "if plot_all or plot_chargeYieldPerHit_vs_eField:\n",
    "    # Obtain chargeYield_perHit data\n",
    "    q_corr_meanPerHit = []\n",
    "    q_corr_sem        = []\n",
    "    for eField_index in range(n_field_intensities):\n",
    "        q_corr_meanPerHit.append(np.nanmean(pixels_hits_q_corr_list[eField_index]))\n",
    "        q_corr_sem.append(scipy.stats.sem(pixels_hits_q_corr_list[eField_index]))\n",
    "    #print(' mean:         ', np.nanmean(pixels_hits_q_corr_list[eField_index]))\n",
    "    #print(' stdev:        ', np.std(pixels_hits_q_corr_list[eField_index]))\n",
    "    #print(' stdev/sqrt(n):', np.std(pixels_hits_q_corr_list[eField_index])/np.sqrt(len(pixels_hits_q_corr_list[eField_index])))\n",
    "    #print(' SEM:          ', scipy.stats.sem(pixels_hits_q_corr_list[eField_index]))\n",
    "\n",
    "    err_tot = np.array(q_corr_per_hit_systErr) + np.array(q_corr_per_hit_statErr)\n",
    "    print(' err_tot: ', np.array(err_tot))\n",
    "    \n",
    "    # Make plot\n",
    "    if plot_all or plot_chargeYield_vs_eField:\n",
    "        x_min, x_max = 0.0, 1.1\n",
    "        y_min, y_max = 80, 160\n",
    "        axis_labels = ['E Field Intensity [kV/cm]','Pixel Charge Yield per Hit [ke]']\n",
    "        save_name = 'plots/TGraphError_ChargeYieldPerHit_vs_eField.png'\n",
    "        Q0_box, Q0_box_err, beta_box, beta_box_err,\\\n",
    "        Q0_birks, Q0_birks_err, k_birks, k_birks_err = \\\n",
    "        plot_birksAndBoxModel(e_field_list,q_corr_meanPerHit,e_field_errors_list,err_tot,\\\n",
    "                              x_min,x_max,y_min,y_max,\\\n",
    "                              axis_labels,save_name)\n",
    "print('Done.')"
   ]
  },
  {
   "cell_type": "code",
   "execution_count": 20,
   "metadata": {},
   "outputs": [
    {
     "name": "stdout",
     "output_type": "stream",
     "text": [
      "Done.\n"
     ]
    }
   ],
   "source": [
    "# Print recombination factor R for different fields\n",
    "# Note: Q_obs = Q_0 * R\n",
    "\n",
    "if plot_all or plot_chargeYield_vs_eField:\n",
    "\n",
    "    #print(Q0_box, Q0_box_err, beta_box, beta_box_err,Q0_birks, Q0_birks_err, k_birks, k_birks_err)\n",
    "\n",
    "    R_box_list   = []\n",
    "    R_birks_list = []\n",
    "    y_err_box    = []\n",
    "    y_err_birks  = []\n",
    "    \n",
    "    series_label_list = ['Box Model','ICARUS Model']\n",
    "    axis_labels = ['E Field Intensity [kV/cm]','Charge Recombination Factor [-]']\n",
    "\n",
    "    x_min,x_max = 0.0, 1.1\n",
    "    y_min,y_max = 0.6, 1.0\n",
    "\n",
    "    save_name = 'plots/TGraphError_recombinationFactors.png'\n",
    "\n",
    "    for eField in range(n_field_intensities):\n",
    "        Q_obs = q_corr_meanPerHit[eField]\n",
    "        R_box = e_field_list[eField]/beta_box*np.log(1.+beta_box/e_field_list[eField])\n",
    "        R_birks = 1./(1.+k_birks/e_field_list[eField]*2.1) # 2.1 = dE/dx\n",
    "        #print(' E field:       ', e_field_list[eField], 'kV/cm')\n",
    "        #print(' Q_obs:         ', Q_obs, '+/-', q_corr_sem[eField])\n",
    "        #print(' R_box:         ', R_box)\n",
    "        #print(' R_birks:       ', R_birks)\n",
    "        R_box_list.append(R_box)\n",
    "        R_birks_list.append(R_birks)\n",
    "        y_err_box.append(R_box*np.sqrt(q_corr_sem[eField]**2/Q0_box**2 + Q_obs**2/Q0_box**4*Q0_box_err**2))\n",
    "        y_err_birks.append(R_birks*np.sqrt(q_corr_sem[eField]**2/Q0_birks**2 + Q_obs**2/Q0_birks**4*Q0_birks_err**2))\n",
    "        #print(' R_obs_box:     ', q_corr_meanPerHit[eField]/Q0_box)   # Assumes Q_0 from fit!\n",
    "        #print(' R_obs_birks:   ', q_corr_meanPerHit[eField]/Q0_birks) # Assumes Q_0 from fit!\n",
    "        ###print(' Q_obs/Q_birks: ', q_corr_meanPerHit[eField]/Q0_birks)\n",
    "        ###print(' R_obs - R_fit: ', 100*(q_corr_meanPerHit[eField]/Q0_birks - 1./(1.+k_birks/e_field_list[eField])))\n",
    "        #print(' ------------------------------------------------- ')\n",
    "\n",
    "    plot_TGraphErr(e_field_list,[R_box_list,R_birks_list],e_field_errors_list,[y_err_box,y_err_birks],series_label_list,axis_labels,x_min,x_max,y_min,y_max,save_name)\n",
    "print('Done.')"
   ]
  },
  {
   "cell_type": "code",
   "execution_count": 21,
   "metadata": {},
   "outputs": [
    {
     "name": "stdout",
     "output_type": "stream",
     "text": [
      "Done.\n"
     ]
    }
   ],
   "source": [
    "# Plot total pixel charge yield as a function of the E-field intensity\n",
    "if plot_all or plot_totalChargeYield_vs_eField:\n",
    "    # Obtain chargeYield_perHit data\n",
    "    CY_tot_mean = []\n",
    "    CY_tot_sem  = []\n",
    "    for eField_index in range(n_field_intensities):\n",
    "        CY_tot_mean.append(np.nanmean(track_q_corr_tot_list[eField_index]))\n",
    "        CY_tot_sem.append(scipy.stats.sem(track_q_corr_tot_list[eField_index]))\n",
    "    \n",
    "    x_vals = np.linspace(0.1,1.0,10)\n",
    "\n",
    "    # Make plot\n",
    "    if plot_all or plot_chargeYield_vs_eField:\n",
    "        x_min = 0\n",
    "        x_max = 1.1\n",
    "        y_min = 6000\n",
    "        y_max = 10000\n",
    "        axis_labels = ['E Field Intensity [kV/cm]','Total Pixel Charge Yield [ke]']\n",
    "        save_name = 'plots/TGraphError_totalChargeYield_vs_eField.png'\n",
    "        #plot_birksAndBoxModel(x_vals,CY_tot_mean,x_err,CY_tot_sem,\\\n",
    "        #                       x_min,x_max,y_min,y_max,\\\n",
    "        #                       axis_labels,save_name)\n",
    "        plot_errorbars(x_vals,CY_tot_mean,e_field_errors_list,CY_tot_sem,\\\n",
    "                       x_min,x_max,y_min,y_max,\\\n",
    "                       axis_labels,save_name)\n",
    "print('Done.')"
   ]
  },
  {
   "cell_type": "code",
   "execution_count": 22,
   "metadata": {},
   "outputs": [
    {
     "data": {
      "text/html": [
       "\n",
       "        <progress \n",
       "            value='10'\n",
       "            max='10',\n",
       "            style='width: 30%'\n",
       "        >\n",
       "            10\n",
       "        </progress> 10/10 E-field intensities processed (100%) ... \n",
       "    "
      ],
      "text/plain": [
       "<IPython.core.display.HTML object>"
      ]
     },
     "metadata": {},
     "output_type": "display_data"
    },
    {
     "name": "stdout",
     "output_type": "stream",
     "text": [
      "Done.\n"
     ]
    }
   ],
   "source": [
    "# LCM_detectedLight\n",
    "if plot_all or plot_detectedLight:\n",
    "    out = display(progress(0,n_field_intensities,'E-field intensities processed'),display_id=True)\n",
    "    for eField_index in range(n_field_intensities):\n",
    "        #print(LCM_detectedLight_list[eField_index])\n",
    "        if len(LCM_detectedLight_list[eField_index]) == 0: continue\n",
    "        plot_folder = str(e_field_list[eField_index]) + '_kV_per_cm'\n",
    "        #print(' plot_folder: ', plot_folder)\n",
    "        x_min  = np.min(LCM_detectedLight_list[eField_index])\n",
    "        x_max  = np.max(LCM_detectedLight_list[eField_index])\n",
    "        n_bins = 50\n",
    "        axis_labels = ['LCM Detected Light [p.e.]','Entries [-]']\n",
    "        save_name = 'plots/'+str(plot_folder)+'/'+'h1_LCM_detectedLight.png'\n",
    "        plot_h1(LCM_detectedLight_list[eField],x_min,x_max,n_bins,axis_labels,save_name)\n",
    "        out.update(progress(eField_index+1,n_field_intensities,'E-field intensities processed'))\n",
    "    out.update(progress(n_field_intensities,n_field_intensities,'E-field intensities processed'))\n",
    "print('Done.')"
   ]
  },
  {
   "cell_type": "code",
   "execution_count": 23,
   "metadata": {},
   "outputs": [
    {
     "data": {
      "text/html": [
       "\n",
       "        <progress \n",
       "            value='10'\n",
       "            max='10',\n",
       "            style='width: 30%'\n",
       "        >\n",
       "            10\n",
       "        </progress> 10/10 E-field intensities processed (100%) ... \n",
       "    "
      ],
      "text/plain": [
       "<IPython.core.display.HTML object>"
      ]
     },
     "metadata": {},
     "output_type": "display_data"
    },
    {
     "name": "stdout",
     "output_type": "stream",
     "text": [
      "Done.\n"
     ]
    }
   ],
   "source": [
    "# Track Length\n",
    "if plot_all or plot_trackLength:\n",
    "    out = display(progress(0,n_field_intensities,'E-field intensities processed'),display_id=True)\n",
    "    for eField_index in range(n_field_intensities):\n",
    "        #print(track_length_list[eField_index])\n",
    "        if len(track_length_list[eField_index]) == 0: continue\n",
    "        plot_folder = str(e_field_list[eField_index]) + '_kV_per_cm'\n",
    "        #print(' plot_folder: ', plot_folder)\n",
    "        x_min  = 0\n",
    "        x_max  = np.max(track_length_list[eField_index])\n",
    "        n_bins = 50\n",
    "        axis_labels = ['Track Length [mm]','Entries [-]']\n",
    "        save_name = 'plots/'+str(plot_folder)+'/'+'h1_track_lengths.png'\n",
    "        plot_h1(track_length_list[eField_index],x_min,x_max,n_bins,axis_labels,save_name)\n",
    "        out.update(progress(eField_index+1,n_field_intensities,'E-field intensities processed'))\n",
    "    out.update(progress(n_field_intensities,n_field_intensities,'E-field intensities processed'))\n",
    "print('Done.')"
   ]
  },
  {
   "cell_type": "code",
   "execution_count": 24,
   "metadata": {},
   "outputs": [
    {
     "data": {
      "text/html": [
       "\n",
       "        <progress \n",
       "            value='10'\n",
       "            max='10',\n",
       "            style='width: 30%'\n",
       "        >\n",
       "            10\n",
       "        </progress> 10/10 E-field intensities processed (100%) ... \n",
       "    "
      ],
      "text/plain": [
       "<IPython.core.display.HTML object>"
      ]
     },
     "metadata": {},
     "output_type": "display_data"
    },
    {
     "name": "stdout",
     "output_type": "stream",
     "text": [
      "Done.\n"
     ]
    }
   ],
   "source": [
    "# Track n_hits\n",
    "if plot_all or plot_nHits:\n",
    "    out = display(progress(0,n_field_intensities,'E-field intensities processed'),display_id=True)\n",
    "    for eField_index in range(n_field_intensities):\n",
    "        #print(track_n_hits_list[eField_index])\n",
    "        if len(track_n_hits_list[eField_index]) == 0: continue\n",
    "        plot_folder = str(e_field_list[eField_index]) + '_kV_per_cm'\n",
    "        #print(' plot_folder: ', plot_folder)\n",
    "        x_min  = 0\n",
    "        x_max  = np.max(track_n_hits_list[eField_index])\n",
    "        n_bins = 50\n",
    "        axis_labels = ['Number of Hits per Track [-]','Entries [-]']\n",
    "        save_name = 'plots/'+str(plot_folder)+'/'+'h1_track_nhits.png'\n",
    "        plot_h1(track_n_hits_list[eField_index],x_min,x_max,n_bins,axis_labels,save_name)\n",
    "        out.update(progress(eField_index+1,n_field_intensities,'E-field intensities processed'))\n",
    "    out.update(progress(n_field_intensities,n_field_intensities,'E-field intensities processed'))\n",
    "print('Done.')"
   ]
  },
  {
   "cell_type": "code",
   "execution_count": 25,
   "metadata": {},
   "outputs": [
    {
     "data": {
      "text/html": [
       "\n",
       "        <progress \n",
       "            value='10'\n",
       "            max='10',\n",
       "            style='width: 30%'\n",
       "        >\n",
       "            10\n",
       "        </progress> 10/10 E-field intensities processed (100%) ... \n",
       "    "
      ],
      "text/plain": [
       "<IPython.core.display.HTML object>"
      ]
     },
     "metadata": {},
     "output_type": "display_data"
    },
    {
     "name": "stdout",
     "output_type": "stream",
     "text": [
      "Done.\n"
     ]
    }
   ],
   "source": [
    "# Track q_raw_tot\n",
    "if plot_all or plot_q_raw_tot:\n",
    "    out = display(progress(0,n_field_intensities,'E-field intensities processed'),display_id=True)\n",
    "    for eField_index in range(n_field_intensities):\n",
    "        #print(track_q_raw_tot_list[eField_index])\n",
    "        plot_folder = str(e_field_list[eField_index]) + '_kV_per_cm'\n",
    "        #print(' plot_folder: ', plot_folder)\n",
    "        x_min  = 0\n",
    "        x_max  = 20000 #np.max(track_q_raw_tot_list[eField_index])\n",
    "        n_bins = 50\n",
    "        axis_labels = ['Total Deposited Charge (raw) [ke]','Entries [-]']\n",
    "        save_name = 'plots/'+str(plot_folder)+'/'+'h1_track_q_raw_tot.png'\n",
    "        plot_h1(track_q_raw_tot_list[eField_index],x_min,x_max,n_bins,axis_labels,save_name)\n",
    "        out.update(progress(eField_index+1,n_field_intensities,'E-field intensities processed'))\n",
    "    out.update(progress(n_field_intensities,n_field_intensities,'E-field intensities processed'))\n",
    "print('Done.')"
   ]
  },
  {
   "cell_type": "code",
   "execution_count": 26,
   "metadata": {},
   "outputs": [
    {
     "data": {
      "text/html": [
       "\n",
       "        <progress \n",
       "            value='10'\n",
       "            max='10',\n",
       "            style='width: 30%'\n",
       "        >\n",
       "            10\n",
       "        </progress> 10/10 E-field intensities processed (100%) ... \n",
       "    "
      ],
      "text/plain": [
       "<IPython.core.display.HTML object>"
      ]
     },
     "metadata": {},
     "output_type": "display_data"
    },
    {
     "name": "stdout",
     "output_type": "stream",
     "text": [
      "Done.\n"
     ]
    }
   ],
   "source": [
    "# Track q_corr_tot\n",
    "if plot_all or plot_q_corr_tot:\n",
    "    out = display(progress(0,n_field_intensities,'E-field intensities processed'),display_id=True)\n",
    "    for eField_index in range(n_field_intensities):\n",
    "        #print(track_q_raw_tot_list[eField_index])\n",
    "        plot_folder = str(e_field_list[eField_index]) + '_kV_per_cm'\n",
    "        #print(' plot_folder: ', plot_folder)\n",
    "        x_min  = 0\n",
    "        x_max  = 20000 #np.max(track_q_corr_tot_list[eField_index])\n",
    "        n_bins = 50\n",
    "        axis_labels = ['Total Deposited Charge (e-lifetime corrected) [ke]','Entries [-]']\n",
    "        save_name = 'plots/'+str(plot_folder)+'/'+'h1_track_q_corr_tot.png'\n",
    "        plot_h1(track_q_corr_tot_list[eField_index],x_min,x_max,n_bins,axis_labels,save_name)\n",
    "        out.update(progress(eField_index+1,n_field_intensities,'E-field intensities processed'))\n",
    "    out.update(progress(n_field_intensities,n_field_intensities,'E-field intensities processed'))\n",
    "print('Done.')"
   ]
  },
  {
   "cell_type": "code",
   "execution_count": 27,
   "metadata": {},
   "outputs": [
    {
     "data": {
      "text/html": [
       "\n",
       "        <progress \n",
       "            value='10'\n",
       "            max='10',\n",
       "            style='width: 30%'\n",
       "        >\n",
       "            10\n",
       "        </progress> 10/10 E-field intensities processed (100%) ... \n",
       "    "
      ],
      "text/plain": [
       "<IPython.core.display.HTML object>"
      ]
     },
     "metadata": {},
     "output_type": "display_data"
    },
    {
     "name": "stdout",
     "output_type": "stream",
     "text": [
      "Done.\n"
     ]
    }
   ],
   "source": [
    "# Track dQ/dl (eLifetime corrected)\n",
    "if plot_all or plot_dQdl:\n",
    "    out = display(progress(0,n_field_intensities,'E-field intensities processed'),display_id=True)\n",
    "    for eField_index in range(n_field_intensities):\n",
    "        #print(pixels_chargeYield_list[eField_index])\n",
    "        if len(pixels_chargeYield_list[eField_index]) == 0: continue\n",
    "        plot_folder = str(e_field_list[eField_index]) + '_kV_per_cm'\n",
    "        #print(' plot_folder: ', plot_folder)\n",
    "        x_min  = 0\n",
    "        #x_max  = np.max(np.array(track_q_raw_tot_list[eField_index])/np.array(track_length_list[eField_index]))\n",
    "        x_max  = np.max(np.array(pixels_chargeYield_list[eField_index])/np.array(track_length_list[eField_index]))\n",
    "        n_bins = 50\n",
    "        axis_labels = ['<dQ/dl> [ke/mm]','Entries [-]']\n",
    "        save_name = 'plots/'+str(plot_folder)+'/'+'h1_track_dQ_dl_eLifetimeCorrected.png'\n",
    "        #plot_h1(np.array(track_q_raw_tot_list[eField_index])/np.array(track_length_list[eField_index]),x_min,x_max,n_bins,axis_labels,save_name)\n",
    "        #plot_h1(np.array(pixels_chargeYield_list[eField_index])/np.array(track_length_list[eField_index]),x_min,x_max,n_bins,axis_labels,save_name)\n",
    "        plot_h1(np.array(track_q_corr_tot_list[eField_index])/np.array(track_length_list[eField_index]),x_min,x_max,n_bins,axis_labels,save_name)\n",
    "        out.update(progress(eField_index+1,n_field_intensities,'E-field intensities processed'))\n",
    "    out.update(progress(n_field_intensities,n_field_intensities,'E-field intensities processed'))\n",
    "print('Done.')"
   ]
  },
  {
   "cell_type": "code",
   "execution_count": 28,
   "metadata": {},
   "outputs": [
    {
     "data": {
      "text/html": [
       "\n",
       "        <progress \n",
       "            value='10'\n",
       "            max='10',\n",
       "            style='width: 30%'\n",
       "        >\n",
       "            10\n",
       "        </progress> 10/10 E-field intensities processed (100%) ... \n",
       "    "
      ],
      "text/plain": [
       "<IPython.core.display.HTML object>"
      ]
     },
     "metadata": {},
     "output_type": "display_data"
    },
    {
     "name": "stderr",
     "output_type": "stream",
     "text": [
      "/home/roman/software/anaconda3/envs/larpix-analysis-38/lib/python3.8/site-packages/matplotlib/backends/backend_agg.py:238: RuntimeWarning: Glyph 8722 missing from current font.\n",
      "  font.set_text(s, 0.0, flags=flags)\n",
      "/home/roman/software/anaconda3/envs/larpix-analysis-38/lib/python3.8/site-packages/matplotlib/backends/backend_agg.py:201: RuntimeWarning: Glyph 8722 missing from current font.\n",
      "  font.set_text(s, 0, flags=flags)\n"
     ]
    },
    {
     "name": "stdout",
     "output_type": "stream",
     "text": [
      "Done.\n"
     ]
    }
   ],
   "source": [
    "# start_pos_y vs. start_pos_x\n",
    "if plot_all or plot_startPosY_vs_startPosX:\n",
    "    out = display(progress(0,n_field_intensities,'E-field intensities processed'),display_id=True)\n",
    "    for eField_index in range(n_field_intensities):\n",
    "        #print(track_start_pos_x_list[eField_index])\n",
    "        if len(track_start_pos_x_list[eField_index]) == 0: continue\n",
    "        plot_folder = str(e_field_list[eField_index]) + '_kV_per_cm'\n",
    "        #print(' plot_folder: ', plot_folder)\n",
    "        x_min    = pixels_x_min # np.min(track_start_pos_x_list[eField_index])\n",
    "        x_max    = pixels_x_max # np.max(track_start_pos_x_list[eField_index])\n",
    "        y_min    = pixels_y_min # np.min(track_start_pos_y_list[eField_index])\n",
    "        y_max    = pixels_y_max # np.max(track_start_pos_y_list[eField_index])\n",
    "        n_bins_x = n_pixels_x\n",
    "        n_bins_y = n_pixels_y\n",
    "        x_bins = np.linspace(x_min,x_max,n_bins_x)\n",
    "        y_bins = np.linspace(y_min,y_max,n_bins_y)\n",
    "        #x_bins = np.arange(x_min,x_max+1,step=1.)\n",
    "        #y_bins = np.arange(y_min,y_max+1,step=1.)\n",
    "        axis_labels = ['Track Start Position x [mm]','Track Start Position y [mm]','Entries [-]']\n",
    "        save_name = 'plots/'+str(plot_folder)+'/'+'h2_track_startPos.png'\n",
    "        plot_h2([track_start_pos_x_list[eField_index],track_start_pos_y_list[eField_index]],x_bins,y_bins,axis_labels,save_name)\n",
    "        out.update(progress(eField_index+1,n_field_intensities,'E-field intensities processed'))\n",
    "    out.update(progress(n_field_intensities,n_field_intensities,'E-field intensities processed'))\n",
    "print('Done.')"
   ]
  },
  {
   "cell_type": "code",
   "execution_count": 29,
   "metadata": {},
   "outputs": [
    {
     "data": {
      "text/html": [
       "\n",
       "        <progress \n",
       "            value='10'\n",
       "            max='10',\n",
       "            style='width: 30%'\n",
       "        >\n",
       "            10\n",
       "        </progress> 10/10 E-field intensities processed (100%) ... \n",
       "    "
      ],
      "text/plain": [
       "<IPython.core.display.HTML object>"
      ]
     },
     "metadata": {},
     "output_type": "display_data"
    },
    {
     "name": "stdout",
     "output_type": "stream",
     "text": [
      "Done.\n"
     ]
    }
   ],
   "source": [
    "# end_pos_y vs. end_pos_x\n",
    "if plot_all or plot_endPosY_vs_endPosX:\n",
    "    out = display(progress(0,n_field_intensities,'E-field intensities processed'),display_id=True)\n",
    "    for eField_index in range(n_field_intensities):\n",
    "        #print(track_end_pos_x_list[eField_index])\n",
    "        if len(track_end_pos_x_list[eField_index]) == 0: continue\n",
    "        plot_folder = str(e_field_list[eField_index]) + '_kV_per_cm'\n",
    "        #print(' plot_folder: ', plot_folder)\n",
    "        x_min    = pixels_x_min # np.min(track_start_pos_x_list[eField_index])\n",
    "        x_max    = pixels_x_max # np.max(track_start_pos_x_list[eField_index])\n",
    "        y_min    = pixels_y_min # np.min(track_start_pos_y_list[eField_index])\n",
    "        y_max    = pixels_y_max # np.max(track_start_pos_y_list[eField_index])\n",
    "        n_bins_x = n_pixels_x\n",
    "        n_bins_y = n_pixels_y\n",
    "        x_bins = np.linspace(x_min,x_max,n_bins_x)\n",
    "        y_bins = np.linspace(y_min,y_max,n_bins_y)\n",
    "        #x_bins = np.arange(x_min,x_max+1,step=1.)\n",
    "        #y_bins = np.arange(y_min,y_max+1,step=1.)\n",
    "        axis_labels = ['Track End Position x [mm]','Track End Position y [mm]','Entries [-]']\n",
    "        save_name = 'plots/'+str(plot_folder)+'/'+'h2_track_endPos.png'\n",
    "        plot_h2([track_end_pos_x_list[eField_index],track_end_pos_y_list[eField_index]],x_bins,y_bins,axis_labels,save_name)\n",
    "        out.update(progress(eField_index+1,n_field_intensities,'E-field intensities processed'))\n",
    "    out.update(progress(n_field_intensities,n_field_intensities,'E-field intensities processed'))\n",
    "print('Done.')"
   ]
  },
  {
   "cell_type": "code",
   "execution_count": 30,
   "metadata": {},
   "outputs": [
    {
     "data": {
      "text/html": [
       "\n",
       "        <progress \n",
       "            value='10'\n",
       "            max='10',\n",
       "            style='width: 30%'\n",
       "        >\n",
       "            10\n",
       "        </progress> 10/10 E-field intensities processed (100%) ... \n",
       "    "
      ],
      "text/plain": [
       "<IPython.core.display.HTML object>"
      ]
     },
     "metadata": {},
     "output_type": "display_data"
    },
    {
     "name": "stdout",
     "output_type": "stream",
     "text": [
      "Done.\n"
     ]
    }
   ],
   "source": [
    "# start_pos_z vs. end_pos_z\n",
    "if plot_all or plot_startPosZ_vs_endPosZ:\n",
    "    out = display(progress(0,n_field_intensities,'E-field intensities processed'),display_id=True)\n",
    "    for eField_index in range(n_field_intensities):\n",
    "        #print(track_start_pos_x_list[eField_index])\n",
    "        if len(track_start_pos_z_list[eField_index]) == 0: continue\n",
    "        plot_folder = str(e_field_list[eField_index]) + '_kV_per_cm'\n",
    "        #print(' plot_folder: ', plot_folder)\n",
    "        z_start_min = np.min(track_start_pos_z_list[eField_index])\n",
    "        z_start_max = np.max(track_start_pos_z_list[eField_index])\n",
    "        z_end_min   = np.min(track_end_pos_z_list[eField_index])\n",
    "        z_end_max   = np.max(track_end_pos_z_list[eField_index])\n",
    "        n_bins = n_pixels_z\n",
    "        x_bins = np.linspace(z_start_min,z_start_max,n_bins)\n",
    "        y_bins = np.linspace(z_end_min,z_end_max,n_bins)\n",
    "        #x_bins = np.arange(x_min,x_max+1,step=1.)\n",
    "        #y_bins = np.arange(y_min,y_max+1,step=1.)\n",
    "        axis_labels = ['Track Start Position z [mm]','Track End Position z [mm]','Entries [-]']\n",
    "        save_name = 'plots/'+str(plot_folder)+'/'+'h2_trEndz_vs_trStartz.png'\n",
    "        plot_h2([track_start_pos_z_list[eField_index],track_end_pos_z_list[eField_index]],x_bins,y_bins,axis_labels,save_name)\n",
    "        out.update(progress(eField_index+1,n_field_intensities,'E-field intensities processed'))\n",
    "    out.update(progress(n_field_intensities,n_field_intensities,'E-field intensities processed'))\n",
    "print('Done.')"
   ]
  },
  {
   "cell_type": "code",
   "execution_count": 31,
   "metadata": {},
   "outputs": [
    {
     "data": {
      "text/html": [
       "\n",
       "        <progress \n",
       "            value='10'\n",
       "            max='10',\n",
       "            style='width: 30%'\n",
       "        >\n",
       "            10\n",
       "        </progress> 10/10 E-field intensities processed (100%) ... \n",
       "    "
      ],
      "text/plain": [
       "<IPython.core.display.HTML object>"
      ]
     },
     "metadata": {},
     "output_type": "display_data"
    },
    {
     "name": "stdout",
     "output_type": "stream",
     "text": [
      "Done.\n"
     ]
    }
   ],
   "source": [
    "# NHits vs. TrackLength\n",
    "if plot_all or plot_nHits_vs_trackLength:\n",
    "    out = display(progress(0,n_field_intensities,'E-field intensities processed'),display_id=True)\n",
    "    for eField_index in range(n_field_intensities):\n",
    "        #print(track_length_list[eField_index])\n",
    "        if len(track_length_list[eField_index]) == 0: continue\n",
    "        plot_folder = str(e_field_list[eField_index]) + '_kV_per_cm'\n",
    "        #print(' plot_folder: ', plot_folder)\n",
    "        x_min    = 200\n",
    "        x_max    = 400\n",
    "        y_min    = 0\n",
    "        y_max    = 150\n",
    "        n_bins_x = 50\n",
    "        n_bins_y = 50\n",
    "        x_bins = np.linspace(x_min,x_max,n_bins_x)\n",
    "        y_bins = np.linspace(y_min,y_max,n_bins_y)\n",
    "        #x_bins = np.arange(x_min,x_max+1,step=1.)\n",
    "        #y_bins = np.arange(y_min,y_max+1,step=1.)\n",
    "        axis_labels = ['Track Length [mm]','Number of Hits per Track [-]','Entries [-]']\n",
    "        save_name = 'plots/'+str(plot_folder)+'/'+'h2_trackLength_vs_trackNHits.png'\n",
    "        plot_h2([track_length_list[eField_index],track_n_hits_list[eField_index]],x_bins,y_bins,axis_labels,save_name)\n",
    "        out.update(progress(eField_index+1,n_field_intensities,'E-field intensities processed'))\n",
    "    out.update(progress(n_field_intensities,n_field_intensities,'E-field intensities processed'))\n",
    "print('Done.')"
   ]
  },
  {
   "cell_type": "code",
   "execution_count": 32,
   "metadata": {},
   "outputs": [
    {
     "data": {
      "text/html": [
       "\n",
       "        <progress \n",
       "            value='10'\n",
       "            max='10',\n",
       "            style='width: 30%'\n",
       "        >\n",
       "            10\n",
       "        </progress> 10/10 E-field intensities processed (100%) ... \n",
       "    "
      ],
      "text/plain": [
       "<IPython.core.display.HTML object>"
      ]
     },
     "metadata": {},
     "output_type": "display_data"
    },
    {
     "name": "stdout",
     "output_type": "stream",
     "text": [
      "Done.\n"
     ]
    }
   ],
   "source": [
    "# Theta [rad] vs. Spread_x (spread_x = track_start_pos_x - track_end_pos_x)\n",
    "if plot_all or plot_theta_vs_spread_x:\n",
    "    out = display(progress(0,n_field_intensities,'E-field intensities processed'),display_id=True)\n",
    "    for eField_index in range(n_field_intensities):\n",
    "        #print(track_theta_list[eField_index])\n",
    "        if len(track_theta_list[eField_index]) == 0: continue\n",
    "        plot_folder = str(e_field_list[eField_index]) + '_kV_per_cm'\n",
    "        #print(' plot_folder: ', plot_folder)\n",
    "        x_min    = pixels_x_min\n",
    "        x_max    = pixels_x_max\n",
    "        y_min    = -np.pi\n",
    "        y_max    = np.pi\n",
    "        n_bins_x = n_pixels_x\n",
    "        n_bins_y = 90\n",
    "        x_bins = np.linspace(x_min,x_max,n_bins_x)\n",
    "        y_bins = np.linspace(y_min,y_max,n_bins_y)\n",
    "        #x_bins = np.arange(x_min,x_max+1,step=1.)\n",
    "        #y_bins = np.arange(y_min,y_max+1,step=1.)\n",
    "        axis_labels = ['Track start_x - end_x [mm]','Track Theta [rad]','Entries [-]']\n",
    "        save_name = 'plots/'+str(plot_folder)+'/'+'h2_theta_rad_vs_spread_x.png'\n",
    "        plot_h2([track_spread_x_list[eField_index],track_theta_list[eField_index]],x_bins,y_bins,axis_labels,save_name)\n",
    "        out.update(progress(eField_index+1,n_field_intensities,'E-field intensities processed'))\n",
    "    out.update(progress(n_field_intensities,n_field_intensities,'E-field intensities processed'))\n",
    "print('Done.')"
   ]
  },
  {
   "cell_type": "code",
   "execution_count": 33,
   "metadata": {},
   "outputs": [
    {
     "data": {
      "text/html": [
       "\n",
       "        <progress \n",
       "            value='10'\n",
       "            max='10',\n",
       "            style='width: 30%'\n",
       "        >\n",
       "            10\n",
       "        </progress> 10/10 E-field intensities processed (100%) ... \n",
       "    "
      ],
      "text/plain": [
       "<IPython.core.display.HTML object>"
      ]
     },
     "metadata": {},
     "output_type": "display_data"
    },
    {
     "name": "stdout",
     "output_type": "stream",
     "text": [
      "Done.\n"
     ]
    }
   ],
   "source": [
    "# Theta [deg] vs. Spread_x (spread_x = track_start_pos_x - track_end_pos_x)\n",
    "if plot_all or plot_theta_vs_spread_x:\n",
    "    out = display(progress(0,n_field_intensities,'E-field intensities processed'),display_id=True)\n",
    "    for eField_index in range(n_field_intensities):\n",
    "        #print(track_theta_list[eField_index])\n",
    "        if len(track_theta_list[eField_index]) == 0: continue\n",
    "        plot_folder = str(e_field_list[eField_index]) + '_kV_per_cm'\n",
    "        #print(' plot_folder: ', plot_folder)\n",
    "        x_min    = pixels_x_min\n",
    "        x_max    = pixels_x_max\n",
    "        y_min    = 70\n",
    "        y_max    = 110\n",
    "        n_bins_x = n_pixels_x\n",
    "        n_bins_y = 40\n",
    "        x_bins = np.linspace(x_min,x_max,n_bins_x)\n",
    "        y_bins = np.linspace(y_min,y_max,n_bins_y)\n",
    "        #x_bins = np.arange(x_min,x_max+1,step=1.)\n",
    "        #y_bins = np.arange(y_min,y_max+1,step=1.)\n",
    "        axis_labels = ['Track start_x - end_x [mm]','Track Theta [deg]','Entries [-]']\n",
    "        save_name = 'plots/'+str(plot_folder)+'/'+'h2_theta_deg_vs_spread_x.png'\n",
    "        plot_h2([track_spread_x_list[eField_index],np.array(track_theta_list[eField_index])*180./np.pi],x_bins,y_bins,axis_labels,save_name)\n",
    "        out.update(progress(eField_index+1,n_field_intensities,'E-field intensities processed'))\n",
    "    out.update(progress(n_field_intensities,n_field_intensities,'E-field intensities processed'))\n",
    "print('Done.')"
   ]
  },
  {
   "cell_type": "code",
   "execution_count": 34,
   "metadata": {},
   "outputs": [
    {
     "data": {
      "text/html": [
       "\n",
       "        <progress \n",
       "            value='10'\n",
       "            max='10',\n",
       "            style='width: 30%'\n",
       "        >\n",
       "            10\n",
       "        </progress> 10/10 E-field intensities processed (100%) ... \n",
       "    "
      ],
      "text/plain": [
       "<IPython.core.display.HTML object>"
      ]
     },
     "metadata": {},
     "output_type": "display_data"
    },
    {
     "name": "stdout",
     "output_type": "stream",
     "text": [
      "Done.\n"
     ]
    }
   ],
   "source": [
    "# Phi [rad] vs. Spread_x (spread_x = track_start_pos_x - track_end_pos_x)\n",
    "if plot_all or plot_phi_vs_spread_x:\n",
    "    out = display(progress(0,n_field_intensities,'E-field intensities processed'),display_id=True)\n",
    "    for eField_index in range(n_field_intensities):\n",
    "        #print(track_phi_list[eField_index])\n",
    "        if len(track_phi_list[eField_index]) == 0: continue\n",
    "        plot_folder = str(e_field_list[eField_index]) + '_kV_per_cm'\n",
    "        #print(' plot_folder: ', plot_folder)\n",
    "        x_min    = pixels_x_min\n",
    "        x_max    = pixels_x_max\n",
    "        y_min    = -np.pi\n",
    "        y_max    = np.pi\n",
    "        n_bins_x = n_pixels_x\n",
    "        n_bins_y = 90\n",
    "        x_bins = np.linspace(x_min,x_max,n_bins_x)\n",
    "        y_bins = np.linspace(y_min,y_max,n_bins_y)\n",
    "        #x_bins = np.arange(x_min,x_max+1,step=1.)\n",
    "        #y_bins = np.arange(y_min,y_max+1,step=1.)\n",
    "        axis_labels = ['Track start_x - end_x [mm]','Track Phi [rad]','Entries [-]']\n",
    "        save_name = 'plots/'+str(plot_folder)+'/'+'h2_phi_rad_vs_spread_x.png'\n",
    "        plot_h2([track_spread_x_list[eField_index],track_phi_list[eField_index]],x_bins,y_bins,axis_labels,save_name)\n",
    "        out.update(progress(eField_index+1,n_field_intensities,'E-field intensities processed'))\n",
    "    out.update(progress(n_field_intensities,n_field_intensities,'E-field intensities processed'))\n",
    "print('Done.')"
   ]
  },
  {
   "cell_type": "code",
   "execution_count": 35,
   "metadata": {},
   "outputs": [
    {
     "data": {
      "text/html": [
       "\n",
       "        <progress \n",
       "            value='10'\n",
       "            max='10',\n",
       "            style='width: 30%'\n",
       "        >\n",
       "            10\n",
       "        </progress> 10/10 E-field intensities processed (100%) ... \n",
       "    "
      ],
      "text/plain": [
       "<IPython.core.display.HTML object>"
      ]
     },
     "metadata": {},
     "output_type": "display_data"
    },
    {
     "name": "stdout",
     "output_type": "stream",
     "text": [
      "Done.\n"
     ]
    }
   ],
   "source": [
    "# abs(Phi) [deg] vs. Spread_x (spread_x = track_start_pos_x - track_end_pos_x)\n",
    "if plot_all or plot_phi_vs_spread_x:\n",
    "    out = display(progress(0,n_field_intensities,'E-field intensities processed'),display_id=True)\n",
    "    for eField_index in range(n_field_intensities):\n",
    "        #print(track_phi_list[eField_index])\n",
    "        if len(track_phi_list[eField_index]) == 0: continue\n",
    "        plot_folder = str(e_field_list[eField_index]) + '_kV_per_cm'\n",
    "        #print(' plot_folder: ', plot_folder)\n",
    "        x_min    = pixels_x_min\n",
    "        x_max    = pixels_x_max\n",
    "        y_min    = 0.\n",
    "        y_max    = 180.\n",
    "        n_bins_x = n_pixels_x\n",
    "        n_bins_y = 90\n",
    "        x_bins = np.linspace(x_min,x_max,n_bins_x)\n",
    "        y_bins = np.linspace(y_min,y_max,n_bins_y)\n",
    "        #x_bins = np.arange(x_min,x_max+1,step=1.)\n",
    "        #y_bins = np.arange(y_min,y_max+1,step=1.)\n",
    "        axis_labels = ['Track start_x - end_x [mm]','Track |Phi| [deg]','Entries [-]']\n",
    "        save_name = 'plots/'+str(plot_folder)+'/'+'h2_phi_deg_vs_spread_x.png'\n",
    "        plot_h2([track_spread_x_list[eField_index],abs(np.array(track_phi_list[eField_index])*180./np.pi)],x_bins,y_bins,axis_labels,save_name)\n",
    "        out.update(progress(eField_index+1,n_field_intensities,'E-field intensities processed'))\n",
    "    out.update(progress(n_field_intensities,n_field_intensities,'E-field intensities processed'))\n",
    "print('Done.')"
   ]
  },
  {
   "cell_type": "code",
   "execution_count": 36,
   "metadata": {},
   "outputs": [
    {
     "data": {
      "text/html": [
       "\n",
       "        <progress \n",
       "            value='10'\n",
       "            max='10',\n",
       "            style='width: 30%'\n",
       "        >\n",
       "            10\n",
       "        </progress> 10/10 E-field intensities processed (100%) ... \n",
       "    "
      ],
      "text/plain": [
       "<IPython.core.display.HTML object>"
      ]
     },
     "metadata": {},
     "output_type": "display_data"
    },
    {
     "name": "stdout",
     "output_type": "stream",
     "text": [
      "Done.\n"
     ]
    }
   ],
   "source": [
    "# 3D plot of gravicentres\n",
    "if plot_all or plot_3D_graviCentre:\n",
    "    out = display(progress(0,n_field_intensities,'E-field intensities processed'),display_id=True)\n",
    "    for eField_index in range(n_field_intensities):\n",
    "        #print(track_cgx_list[eField_index])\n",
    "        if len(track_cgx_list[eField_index]) == 0: continue\n",
    "        plot_folder = str(e_field_list[eField_index]) + '_kV_per_cm'\n",
    "        #print(' plot_folder: ', plot_folder)\n",
    "        x_min    = pixels_x_min\n",
    "        x_max    = pixels_x_max\n",
    "        y_min    = pixels_y_min\n",
    "        y_max    = pixels_y_max\n",
    "        z_min    = 0\n",
    "        z_max    = 600 #max(pixels_z_max,np.max(track_cgz_list[eField_index]))\n",
    "        n_bins_x = n_pixels_x\n",
    "        n_bins_y = n_pixels_y\n",
    "        n_bins_z = n_pixels_z\n",
    "        x_bins = np.linspace(x_min,x_max,n_bins_x)\n",
    "        y_bins = np.linspace(y_min,y_max,n_bins_y)\n",
    "        z_bins = np.linspace(z_min,z_max,n_bins_z)\n",
    "        save_name = 'plots/'+str(plot_folder)+'/'+'h3_graviCentre.png'\n",
    "        plot_h3_unweighted([track_cgx_list[eField_index],track_cgy_list[eField_index],track_cgz_list[eField_index]],\\\n",
    "                           x_bins,y_bins,z_bins,['Coordinate x [mm]','Coordinate y [mm]','Coordinate z [mm]'],save_name)\n",
    "        out.update(progress(eField_index+1,n_field_intensities,'E-field intensities processed'))\n",
    "    out.update(progress(n_field_intensities,n_field_intensities,'E-field intensities processed'))\n",
    "print('Done.')"
   ]
  },
  {
   "cell_type": "code",
   "execution_count": 37,
   "metadata": {},
   "outputs": [
    {
     "data": {
      "text/html": [
       "\n",
       "        <progress \n",
       "            value='10'\n",
       "            max='10',\n",
       "            style='width: 30%'\n",
       "        >\n",
       "            10\n",
       "        </progress> 10/10 E-field intensities processed (100%) ... \n",
       "    "
      ],
      "text/plain": [
       "<IPython.core.display.HTML object>"
      ]
     },
     "metadata": {},
     "output_type": "display_data"
    },
    {
     "name": "stdout",
     "output_type": "stream",
     "text": [
      "Done.\n"
     ]
    }
   ],
   "source": [
    "# Gravycentre projection onto xy plane\n",
    "if plot_all or plot_graviCentre_projection_xy:\n",
    "    out = display(progress(0,n_field_intensities,'E-field intensities processed'),display_id=True)\n",
    "    for eField_index in range(n_field_intensities):\n",
    "        #print(track_cgx_list[eField_index])\n",
    "        if len(track_cgx_list[eField_index]) == 0: continue\n",
    "        plot_folder = str(e_field_list[eField_index]) + '_kV_per_cm'\n",
    "        #print(' plot_folder: ', plot_folder)\n",
    "        x_min    = pixels_x_min\n",
    "        x_max    = pixels_x_max\n",
    "        y_min    = pixels_y_min\n",
    "        y_max    = pixels_y_max\n",
    "        n_bins_x = n_pixels_x\n",
    "        n_bins_y = n_pixels_y\n",
    "        x_bins = np.linspace(x_min,x_max,n_bins_x)\n",
    "        y_bins = np.linspace(y_min,y_max,n_bins_y)\n",
    "        #x_bins = np.arange(x_min,x_max+1,step=1.)\n",
    "        #y_bins = np.arange(y_min,y_max+1,step=1.)\n",
    "        axis_labels = ['Coordinate x [mm]','Coordinate y [mm]','Entries [-]']\n",
    "        save_name = 'plots/'+str(plot_folder)+'/'+'h2_graviCentre_xy.png'\n",
    "        plot_h2([track_cgx_list[eField_index],track_cgy_list[eField_index]],x_bins,y_bins,axis_labels,save_name)\n",
    "        out.update(progress(eField_index+1,n_field_intensities,'E-field intensities processed'))\n",
    "    out.update(progress(n_field_intensities,n_field_intensities,'E-field intensities processed'))\n",
    "print('Done.')"
   ]
  },
  {
   "cell_type": "code",
   "execution_count": 38,
   "metadata": {},
   "outputs": [
    {
     "data": {
      "text/html": [
       "\n",
       "        <progress \n",
       "            value='10'\n",
       "            max='10',\n",
       "            style='width: 30%'\n",
       "        >\n",
       "            10\n",
       "        </progress> 10/10 E-field intensities processed (100%) ... \n",
       "    "
      ],
      "text/plain": [
       "<IPython.core.display.HTML object>"
      ]
     },
     "metadata": {},
     "output_type": "display_data"
    },
    {
     "name": "stdout",
     "output_type": "stream",
     "text": [
      "Done.\n"
     ]
    }
   ],
   "source": [
    "# Gravycentre projection onto xz plane\n",
    "if plot_all or plot_graviCentre_projection_xz:\n",
    "    out = display(progress(0,n_field_intensities,'E-field intensities processed'),display_id=True)\n",
    "    for eField_index in range(n_field_intensities):\n",
    "        #print(track_cgx_list[eField_index])\n",
    "        if len(track_cgx_list[eField_index]) == 0: continue\n",
    "        plot_folder = str(e_field_list[eField_index]) + '_kV_per_cm'\n",
    "        #print(' plot_folder: ', plot_folder)\n",
    "        x_min    = pixels_x_min\n",
    "        x_max    = pixels_x_max\n",
    "        z_min    = 0\n",
    "        z_max    = max(pixels_z_max,np.max(track_cgz_list[eField_index]))\n",
    "        n_bins_x = n_pixels_x\n",
    "        n_bins_z = n_pixels_z\n",
    "        x_bins = np.linspace(x_min,x_max,n_bins_x)\n",
    "        z_bins = np.linspace(z_min,z_max,n_bins_z)\n",
    "        #x_bins = np.arange(x_min,x_max+1,step=1.)\n",
    "        #y_bins = np.arange(y_min,y_max+1,step=1.)\n",
    "        axis_labels = ['Coordinate x [mm]','Coordinate z [mm]','Entries [-]']\n",
    "        save_name = 'plots/'+str(plot_folder)+'/'+'h2_graviCentre_xz.png'\n",
    "        plot_h2([track_cgx_list[eField_index],track_cgz_list[eField_index]],x_bins,z_bins,axis_labels,save_name)\n",
    "        out.update(progress(eField_index+1,n_field_intensities,'E-field intensities processed'))\n",
    "    out.update(progress(n_field_intensities,n_field_intensities,'E-field intensities processed'))\n",
    "print('Done.')"
   ]
  },
  {
   "cell_type": "code",
   "execution_count": 39,
   "metadata": {},
   "outputs": [
    {
     "data": {
      "text/html": [
       "\n",
       "        <progress \n",
       "            value='10'\n",
       "            max='10',\n",
       "            style='width: 30%'\n",
       "        >\n",
       "            10\n",
       "        </progress> 10/10 E-field intensities processed (100%) ... \n",
       "    "
      ],
      "text/plain": [
       "<IPython.core.display.HTML object>"
      ]
     },
     "metadata": {},
     "output_type": "display_data"
    },
    {
     "name": "stdout",
     "output_type": "stream",
     "text": [
      "Done.\n"
     ]
    }
   ],
   "source": [
    "# Gravycentre projection onto yz plane\n",
    "if plot_all or plot_graviCentre_projection_yz:\n",
    "    out = display(progress(0,n_field_intensities,'E-field intensities processed'),display_id=True)\n",
    "    for eField_index in range(n_field_intensities):\n",
    "        #print(track_cgy_list[eField_index])\n",
    "        if len(track_cgy_list[eField_index]) == 0: continue\n",
    "        plot_folder = str(e_field_list[eField_index]) + '_kV_per_cm'\n",
    "        #print(' plot_folder: ', plot_folder)\n",
    "        y_min    = pixels_y_min\n",
    "        y_max    = pixels_y_max\n",
    "        z_min    = 0\n",
    "        z_max    = max(pixels_z_max,np.max(track_cgz_list[eField_index]))\n",
    "        n_bins_y = n_pixels_y\n",
    "        n_bins_z = n_pixels_z\n",
    "        y_bins = np.linspace(y_min,y_max,n_bins_y)\n",
    "        z_bins = np.linspace(z_min,z_max,n_bins_z)\n",
    "        #y_bins = np.arange(y_min,y_max+1,step=1.)\n",
    "        #z_bins = np.arange(z_min,z_max+1,step=1.)\n",
    "        axis_labels = ['Coordinate y [mm]','Coordinate z [mm]','Entries [-]']\n",
    "        save_name = 'plots/'+str(plot_folder)+'/'+'h2_graviCentre_yz.png'\n",
    "        plot_h2([track_cgy_list[eField_index],track_cgz_list[eField_index]],y_bins,z_bins,axis_labels,save_name)\n",
    "        out.update(progress(eField_index+1,n_field_intensities,'E-field intensities processed'))\n",
    "    out.update(progress(n_field_intensities,n_field_intensities,'E-field intensities processed'))\n",
    "print('Done.')"
   ]
  },
  {
   "cell_type": "code",
   "execution_count": 40,
   "metadata": {},
   "outputs": [
    {
     "data": {
      "text/html": [
       "\n",
       "        <progress \n",
       "            value='10'\n",
       "            max='10',\n",
       "            style='width: 30%'\n",
       "        >\n",
       "            10\n",
       "        </progress> 10/10 E-field intensities processed (100%) ... \n",
       "    "
      ],
      "text/plain": [
       "<IPython.core.display.HTML object>"
      ]
     },
     "metadata": {},
     "output_type": "display_data"
    },
    {
     "name": "stdout",
     "output_type": "stream",
     "text": [
      "Done.\n"
     ]
    }
   ],
   "source": [
    "# LCM light-yield vs. track gravicentre_x\n",
    "if plot_all or plot_detectedLight_vs_graviCentre_x:\n",
    "    out = display(progress(0,n_field_intensities,'E-field intensities processed'),display_id=True)\n",
    "    for eField_index in range(n_field_intensities):\n",
    "        #print(track_cgx_list[eField_index])\n",
    "        if len(track_cgx_list[eField_index]) == 0: continue\n",
    "        plot_folder = str(e_field_list[eField_index]) + '_kV_per_cm'\n",
    "        #print(' plot_folder: ', plot_folder)\n",
    "        x_min    = pixels_x_min\n",
    "        x_max    = pixels_x_max\n",
    "        y_min    = 0 # np.min(LCM_detectedLight_list[eField_index])\n",
    "        y_max    = 1500 # np.max(LCM_detectedLight_list[eField_index])\n",
    "        n_bins_x = n_pixels_x\n",
    "        n_bins_y = n_pixels_y\n",
    "        x_bins = np.linspace(x_min,x_max,n_bins_x)\n",
    "        y_bins = np.linspace(y_min,y_max,n_bins_y)\n",
    "        axis_labels = ['Track Gravicentre x [mm]','LCM Detected Light [p.e.]','Entries [-]']\n",
    "        save_name = 'plots/'+str(plot_folder)+'/'+'h2_LCM_detectedLight_vs_trackGC.png'\n",
    "        plot_h2([track_cgx_list[eField_index],LCM_detectedLight_list[eField_index]],x_bins,y_bins,axis_labels,save_name)\n",
    "        out.update(progress(eField_index+1,n_field_intensities,'E-field intensities processed'))\n",
    "    out.update(progress(n_field_intensities,n_field_intensities,'E-field intensities processed'))\n",
    "print('Done.')"
   ]
  },
  {
   "cell_type": "code",
   "execution_count": 41,
   "metadata": {},
   "outputs": [
    {
     "name": "stdout",
     "output_type": "stream",
     "text": [
      "plotting selection...\n"
     ]
    },
    {
     "data": {
      "text/html": [
       "\n",
       "        <progress \n",
       "            value='10'\n",
       "            max='10',\n",
       "            style='width: 30%'\n",
       "        >\n",
       "            10\n",
       "        </progress> 10/10 E-field intensities processed (100%) ... \n",
       "    "
      ],
      "text/plain": [
       "<IPython.core.display.HTML object>"
      ]
     },
     "metadata": {},
     "output_type": "display_data"
    },
    {
     "name": "stdout",
     "output_type": "stream",
     "text": [
      "plotting all...\n"
     ]
    },
    {
     "data": {
      "text/html": [
       "\n",
       "        <progress \n",
       "            value='10'\n",
       "            max='10',\n",
       "            style='width: 30%'\n",
       "        >\n",
       "            10\n",
       "        </progress> 10/10 E-field intensities processed (100%) ... \n",
       "    "
      ],
      "text/plain": [
       "<IPython.core.display.HTML object>"
      ]
     },
     "metadata": {},
     "output_type": "display_data"
    },
    {
     "name": "stdout",
     "output_type": "stream",
     "text": [
      "Done.\n"
     ]
    }
   ],
   "source": [
    "# LCM light-yield vs. track gravicentre_x, all with selection cut line, and only selected with selection cut line\n",
    "if plot_all or plot_detectedLight_vs_graviCentre_x_Selection:\n",
    "    x_min = pixels_x_min\n",
    "    x_max = pixels_x_max\n",
    "    y_min = 0\n",
    "    y_max = 1500\n",
    "    #for i in range(len(LCM_detectedLight_list)):\n",
    "    #    if np.max(LCM_detectedLight_list[i]) > y_max:\n",
    "    #        y_max = np.max(LCM_detectedLight_list[i])\n",
    "    n_bins_x = n_pixels_x\n",
    "    n_bins_y = n_pixels_y\n",
    "    x_bins = np.linspace(x_min,x_max,n_bins_x)\n",
    "    y_bins = np.linspace(y_min,y_max,n_bins_y)\n",
    "    axis_labels = ['Track Gravicentre x [mm]','LCM Detected Light [p.e.]','Entries [-]']\n",
    "\n",
    "    LY_cut_at_xmin = 400 # min. detected light at x_min (near end)\n",
    "    LY_cut_at_xmax = 50  # min. detected light at x_max (far end)\n",
    "\n",
    "    # Plot only selected\n",
    "    print('plotting selection...')\n",
    "    out = display(progress(0,n_field_intensities,'E-field intensities processed'),display_id=True)\n",
    "    for eField_index in range(n_field_intensities):\n",
    "        plot_folder = str(e_field_list[eField_index]) + '_kV_per_cm'\n",
    "        #print(' plot_folder: ', plot_folder)\n",
    "        save_name = 'plots/'+str(plot_folder)+'/h2_LCM_detectedLight_vs_trackGC_selected.png'\n",
    "        gc_list = []\n",
    "        ly_list = []\n",
    "        for entry in range(len(LCM_detectedLight_list[eField_index])):\n",
    "            if LCM_detectedLight_list[eField_index][entry]>-(track_cgx_list[eField_index][entry]-x_min)*(LY_cut_at_xmin-LY_cut_at_xmax)/(x_max-x_min)+LY_cut_at_xmin:\n",
    "                gc_list.append(track_cgx_list[eField_index][entry])\n",
    "                ly_list.append(LCM_detectedLight_list[eField_index][entry])\n",
    "        plot_LY_vs_GCx_selection([gc_list,ly_list],x_bins,y_bins,axis_labels,save_name,LY_cut_at_xmin,LY_cut_at_xmax)\n",
    "        out.update(progress(eField_index+1,n_field_intensities,'E-field intensities processed'))\n",
    "    out.update(progress(n_field_intensities,n_field_intensities,'E-field intensities processed'))\n",
    "\n",
    "    # Plot all\n",
    "    print('plotting all...')\n",
    "    out = display(progress(0,n_field_intensities,'E-field intensities processed'),display_id=True)\n",
    "    for eField_index in range(n_field_intensities):\n",
    "        plot_folder = str(e_field_list[eField_index]) + '_kV_per_cm'\n",
    "        #print(' plot_folder: ', plot_folder)\n",
    "        save_name = 'plots/'+str(plot_folder)+'/h2_LCM_detectedLight_vs_trackGC_all.png'\n",
    "        gc_list = []\n",
    "        ly_list = []\n",
    "        for entry in range(len(LCM_detectedLight_list[eField_index])):\n",
    "            if True:\n",
    "                gc_list.append(track_cgx_list[eField_index][entry])\n",
    "                ly_list.append(LCM_detectedLight_list[eField_index][entry])\n",
    "        plot_LY_vs_GCx_selection([gc_list,ly_list],x_bins,y_bins,axis_labels,save_name,LY_cut_at_xmin,LY_cut_at_xmax)\n",
    "        out.update(progress(eField_index+1,n_field_intensities,'E-field intensities processed'))\n",
    "    out.update(progress(n_field_intensities,n_field_intensities,'E-field intensities processed'))\n",
    "\n",
    "print('Done.')"
   ]
  },
  {
   "cell_type": "code",
   "execution_count": 42,
   "metadata": {},
   "outputs": [
    {
     "name": "stderr",
     "output_type": "stream",
     "text": [
      "/home/roman/software/anaconda3/envs/larpix-analysis-38/lib/python3.8/site-packages/numpy/core/fromnumeric.py:3372: RuntimeWarning: Mean of empty slice.\n",
      "  return _methods._mean(a, axis=axis, dtype=dtype,\n",
      "/home/roman/software/anaconda3/envs/larpix-analysis-38/lib/python3.8/site-packages/numpy/core/_methods.py:170: RuntimeWarning: invalid value encountered in double_scalars\n",
      "  ret = ret.dtype.type(ret / rcount)\n",
      "/home/roman/software/anaconda3/envs/larpix-analysis-38/lib/python3.8/site-packages/numpy/core/_methods.py:233: RuntimeWarning: Degrees of freedom <= 0 for slice\n",
      "  ret = _var(a, axis=axis, dtype=dtype, out=out, ddof=ddof,\n",
      "/home/roman/software/anaconda3/envs/larpix-analysis-38/lib/python3.8/site-packages/numpy/core/_methods.py:194: RuntimeWarning: invalid value encountered in true_divide\n",
      "  arrmean = um.true_divide(\n",
      "/home/roman/software/anaconda3/envs/larpix-analysis-38/lib/python3.8/site-packages/numpy/core/_methods.py:226: RuntimeWarning: invalid value encountered in double_scalars\n",
      "  ret = ret.dtype.type(ret / rcount)\n"
     ]
    },
    {
     "name": "stdout",
     "output_type": "stream",
     "text": [
      "Done.\n"
     ]
    }
   ],
   "source": [
    "# Profile plot of LCM light-yield vs. track gravicentre_x\n",
    "if plot_all or plot_detectedLight_vs_graviCentre_x_ProfilePlot:\n",
    "    x_min    = pixels_x_min\n",
    "    x_max    = pixels_x_max\n",
    "    n_bins_x = n_graviCentre_bins\n",
    "    x_width  = (x_max-x_min)/n_bins_x\n",
    "    x_err    = [0.5*x_width for i in range(n_bins_x)]\n",
    "    y_min    = 0\n",
    "    y_max    = 1500\n",
    "    #for i in range(len(LCM_detectedLight_list)):\n",
    "    #    if np.max(LCM_detectedLight_list[i]) > y_max:\n",
    "    #        y_max = np.max(LCM_detectedLight_list[i])\n",
    "    \n",
    "    LY_cut_at_xmin = 400 # min. detected light at x_min (near end)\n",
    "    LY_cut_at_xmax = 50  # min. detected light at x_max (far end)\n",
    "\n",
    "    # Define lists which will be filled with n (=number of different eField-intensities) lists with info about\n",
    "    # gravicentre, mean detected light and standard deviation of the mean detected light\n",
    "    gc_bin_i_list      = []\n",
    "    ly_mean_bin_i_list = []\n",
    "    ly_std_bin_i_list  = []\n",
    "    ly_sem_bin_i_list  = []\n",
    "    plot_folder_list   = []\n",
    "\n",
    "    # Loop over all TChains and obtain data for the profile plots\n",
    "    for eField_index in range(n_field_intensities):\n",
    "        #print(track_cgx_list[eField_index])\n",
    "        gc_bin_i      = []\n",
    "        ly_mean_bin_i = []\n",
    "        ly_std_bin_i  = []\n",
    "        ly_sem_bin_i  =[]\n",
    "        # Loop over all bins\n",
    "        for bin_i in range(n_bins_x):\n",
    "            gc_bin_i.append((bin_i+0.5)*x_width+x_min)\n",
    "            ly_in_bin_i = []\n",
    "            # Loop over all TChains\n",
    "            for entry in range(len(LCM_detectedLight_list[eField_index])):\n",
    "                # Check if GC is in current bin\n",
    "                if track_cgx_list[eField_index][entry]>((bin_i)*x_width+x_min) and track_cgx_list[eField_index][entry]<((bin_i+1)*x_width+x_min):\n",
    "                    # Check if LY is not below selection criterium\n",
    "                    if LCM_detectedLight_list[eField_index][entry]>-(track_cgx_list[eField_index][entry]-x_min)*(LY_cut_at_xmin-LY_cut_at_xmax)/(x_max-x_min)+LY_cut_at_xmin:\n",
    "                        ly_in_bin_i.append(LCM_detectedLight_list[eField_index][entry])\n",
    "            ly_mean_bin_i.append(np.mean(ly_in_bin_i))\n",
    "            ly_std_bin_i.append(np.std(ly_in_bin_i))\n",
    "            ly_sem_bin_i.append(scipy.stats.sem(ly_in_bin_i))\n",
    "        gc_bin_i_list.append(gc_bin_i)\n",
    "        ly_mean_bin_i_list.append(ly_mean_bin_i)\n",
    "        ly_std_bin_i_list.append(ly_std_bin_i)\n",
    "        ly_sem_bin_i_list.append(ly_sem_bin_i)\n",
    "        plot_folder_list.append(str(e_field_list[eField_index]) + '_kV_per_cm')\n",
    "\n",
    "    # Don't plot points with sem = 0 (likely points with only 1 measurement):\n",
    "    for entry1 in range(len(ly_sem_bin_i_list)):\n",
    "        for entry2 in range(len(ly_sem_bin_i_list[entry1])):\n",
    "            if ly_sem_bin_i_list[entry1][entry2]==0:\n",
    "                ly_mean_bin_i_list[entry1][entry2]=float('nan')\n",
    "\n",
    "    restrict_to_entries = [2,5,9]\n",
    "    \n",
    "    axis_labels = ['Track Gravicentre x [mm]','LCM Detected Light [p.e.]']\n",
    "    save_name = 'plots/profile2D_LCM_detectedLight_vs_trackGC.png'\n",
    "    plot_profile_of_2D_hist_00(gc_bin_i_list,\\\n",
    "                            ly_mean_bin_i_list,\\\n",
    "                            x_err,\\\n",
    "                            ly_sem_bin_i_list,\\\n",
    "                            plot_folder_list,\\\n",
    "                            axis_labels,\\\n",
    "                            x_min,\\\n",
    "                            x_max,\\\n",
    "                            y_min,\\\n",
    "                            y_max,\\\n",
    "                            save_name,\\\n",
    "                            restrict_to_entries)\n",
    "print('Done.')"
   ]
  },
  {
   "cell_type": "code",
   "execution_count": 43,
   "metadata": {},
   "outputs": [
    {
     "name": "stderr",
     "output_type": "stream",
     "text": [
      "/home/roman/software/anaconda3/envs/larpix-analysis-38/lib/python3.8/site-packages/numpy/core/_methods.py:226: RuntimeWarning: divide by zero encountered in double_scalars\n",
      "  ret = ret.dtype.type(ret / rcount)\n"
     ]
    },
    {
     "name": "stdout",
     "output_type": "stream",
     "text": [
      "Done.\n"
     ]
    }
   ],
   "source": [
    "# Profile plot of LCM light-yield vs. track gravicentre_x (corrected by LCM acceptance, from simulation)\n",
    "\n",
    "# Note: Correction factors are considered as having no uncertainty, which is not correct.\n",
    "# TODO: Implement uncertainties and proper error propagation!\n",
    "\n",
    "# Read acceptances from file\n",
    "filename_acceptances = 'simulated_LCMacceptances/LCM_acceptances.txt'\n",
    "acceptances = []\n",
    "try:\n",
    "    f = open(filename_acceptances, \"r\")\n",
    "    for line in f.readlines():\n",
    "        if line != 'x_bin_middle [mm],normalized acceptance [-]\\n':\n",
    "            #print(line.split(',')[1])\n",
    "            acceptances.append(float(line.split(',')[1]))\n",
    "except:\n",
    "    print(' WARNING: File', filename_acceptances, 'not found. Put acceptances as follows:')\n",
    "    acceptances = [0.7656200000000001,\\\n",
    "               0.52164,\\\n",
    "               0.3798599999999998,\\\n",
    "               0.2900499999999998,\\\n",
    "               0.2253500000000001,\\\n",
    "               0.17944,\\\n",
    "               0.14280000000000004,\\\n",
    "               0.11582000000000006,\\\n",
    "               0.09603,\\\n",
    "               0.07907999999999998]\n",
    "    print(acceptances)\n",
    "    \n",
    "corr_factors = 1./np.array(acceptances)\n",
    "\n",
    "if plot_all or plot_detectedLight_vs_graviCentre_x_SimCorr:\n",
    "    x_min    = pixels_x_min\n",
    "    x_max    = pixels_x_max\n",
    "    n_bins_x = n_graviCentre_bins\n",
    "    x_width  = (x_max-x_min)/n_bins_x\n",
    "    x_err    = [0.5*x_width for i in range(n_bins_x)]\n",
    "    y_min    = 0\n",
    "    y_max    = 5000\n",
    "    #for i in range(len(LCM_detectedLight_list)):\n",
    "    #    if np.max(LCM_detectedLight_list[i]) > y_max:\n",
    "    #        y_max = np.max(LCM_detectedLight_list[i])\n",
    "\n",
    "    # Define lists which will be filled with n (=number of different eField-intensities) lists with info about\n",
    "    # gravicentre, mean detected light and standard deviation of the mean detected light\n",
    "    gc_bin_i_list      = []\n",
    "    ly_mean_bin_i_list = []\n",
    "    ly_std_bin_i_list  = []\n",
    "    ly_sem_bin_i_list  = []\n",
    "    plot_folder_list   = []\n",
    "\n",
    "    # Loop over all TChains and obtain data for the profile plots\n",
    "    for eField_index in range(n_field_intensities):\n",
    "        #print(track_cgx_list[eField_index])\n",
    "        gc_bin_i      = []\n",
    "        ly_mean_bin_i = []\n",
    "        ly_std_bin_i  = []\n",
    "        ly_sem_bin_i  =[]\n",
    "        # Loop over all bins\n",
    "        for bin_i in range(n_bins_x):\n",
    "            gc_bin_i.append((bin_i+0.5)*x_width+x_min)\n",
    "            ly_in_bin_i = []\n",
    "            # Loop over all TChains\n",
    "            for entry in range(len(LCM_detectedLight_list[eField_index])):\n",
    "                # Check if GC is in current bin\n",
    "                if track_cgx_list[eField_index][entry]>((bin_i)*x_width+x_min) and track_cgx_list[eField_index][entry]<((bin_i+1)*x_width+x_min):\n",
    "                    # Check if LY is not below selection criterium\n",
    "                    if LCM_detectedLight_list[eField_index][entry]>-(track_cgx_list[eField_index][entry]-x_min)*(LY_cut_at_xmin-LY_cut_at_xmax)/(x_max-x_min)+LY_cut_at_xmin:\n",
    "                        ly_in_bin_i.append(LCM_detectedLight_list[eField_index][entry])\n",
    "            ly_mean_bin_i.append(np.mean(ly_in_bin_i))\n",
    "            ly_std_bin_i.append(np.std(ly_in_bin_i))\n",
    "            ly_sem_bin_i.append(scipy.stats.sem(ly_in_bin_i,ddof=10))\n",
    "        gc_bin_i_list.append(gc_bin_i)\n",
    "        ly_mean_bin_i_list.append(ly_mean_bin_i)\n",
    "        ly_std_bin_i_list.append(ly_std_bin_i)\n",
    "        ly_sem_bin_i_list.append(ly_sem_bin_i)\n",
    "        plot_folder_list.append(str(e_field_list[eField_index]) + '_kV_per_cm')\n",
    "        \n",
    "    #print(' ly_mean_bin_i_list[3]: ', ly_mean_bin_i_list[3])\n",
    "    #print(' ly_std_bin_i_list[3]: ', ly_std_bin_i_list[3])\n",
    "    #rint(' ly_sem_bin_i_list[3]: ', ly_sem_bin_i_list[3])\n",
    "\n",
    "    # Don't plot points with sem = 0 (likely points with only 1 measurement):\n",
    "    for entry1 in range(len(ly_sem_bin_i_list)):\n",
    "        for entry2 in range(len(ly_sem_bin_i_list[entry1])):\n",
    "            if ly_sem_bin_i_list[entry1][entry2]==0:\n",
    "                ly_mean_bin_i_list[entry1][entry2]=float('nan')\n",
    "                \n",
    "    #print(' ly_sem_bin_i_list: ', ly_sem_bin_i_list)\n",
    "\n",
    "    restrict_to_entries = [2,5,9]\n",
    "    #restrict_to_entries = [2,5,9]\n",
    "    \n",
    "    axis_labels = ['Track Gravicentre x [mm]','LCM Detected Light [p.e.]']\n",
    "    save_name = 'plots/profile2D_LCM_detectedLightCorrected_vs_trackGC.png'\n",
    "    plot_profile_of_2D_hist_00(gc_bin_i_list,\\\n",
    "                            ly_mean_bin_i_list*corr_factors,\\\n",
    "                            x_err,\\\n",
    "                            ly_sem_bin_i_list*corr_factors,\\\n",
    "                            plot_folder_list,\\\n",
    "                            axis_labels,\\\n",
    "                            x_min,\\\n",
    "                            x_max,\\\n",
    "                            y_min,\\\n",
    "                            y_max,\\\n",
    "                            save_name,\\\n",
    "                            restrict_to_entries)\n",
    "print('Done.')"
   ]
  },
  {
   "cell_type": "code",
   "execution_count": 44,
   "metadata": {},
   "outputs": [
    {
     "name": "stdout",
     "output_type": "stream",
     "text": [
      "Done.\n"
     ]
    }
   ],
   "source": [
    "'''\n",
    "# Normalize LCM LightYields (as func. of GC_x coord.) by the series which has a data point in every bin (series 9, 1 kV/cm)\n",
    "\n",
    "LCM_detected_light_list = [[ly_mean_bin_i_list[k][i]/ly_mean_bin_i_list[9][i] for i in range(len(ly_mean_bin_i_list[9]))] for k in range(10)]\n",
    "ly_mean_bin_i_list_sem = [scipy.stats.sem(ly_mean_bin_i_list[k]) for k in range(len(ly_mean_bin_i_list))]\n",
    "x_err = [0.0 for k in range(len(LCM_detected_light_list))]\n",
    "y_err = [0.0 for k in range(len(LCM_detected_light_list))]\n",
    "\n",
    "seaborn.set(rc={'figure.figsize':(15, 10),})\n",
    "seaborn.set_context('talk') # or paper\n",
    "\n",
    "# Define parameters of the frame\n",
    "fig = plt.figure() # plt.figure(figsize=(width,height))\n",
    "ax = fig.add_subplot(111)\n",
    "ax.patch.set_alpha(0.0)\n",
    "ax.spines['bottom'].set_color('0.5') #'black', ...\n",
    "ax.spines['bottom'].set_linewidth(2)\n",
    "ax.spines['bottom'].set_visible(True)\n",
    "ax.spines['top'].set_color('0.5')\n",
    "ax.spines['top'].set_linewidth(2)\n",
    "ax.spines['top'].set_visible(True)\n",
    "ax.spines['right'].set_color('0.5')\n",
    "ax.spines['right'].set_linewidth(2)\n",
    "ax.spines['right'].set_visible(True)\n",
    "ax.spines['left'].set_color('0.5')\n",
    "ax.spines['left'].set_linewidth(2)\n",
    "ax.spines['left'].set_visible(True)\n",
    "\n",
    "# Ticks, grid and ticks labels\n",
    "ax.tick_params(direction='in', length=10, width=2,                 # direction, length and width of the ticks (in, out, inout)\n",
    "               colors='0.5',                                       # color of the ticks ('black', '0.5')\n",
    "               bottom=True, top=True, right=True, left=True,       # whether to draw the respective ticks\n",
    "               zorder = 10.,                                       # tick and label zorder\n",
    "               pad = 10.,                                          # distance between ticks and tick labels\n",
    "               labelsize = 17,                                     # size of the tick labels\n",
    "               labelright=False, labeltop=False)                   # wether to draw the tick labels on axes\n",
    "\n",
    "# Axis limits\n",
    "ax.set_xlim((pixels_x_min,pixels_x_max))\n",
    "ax.set_ylim((0.75,2.5))\n",
    "\n",
    "x_err = [0 for i in range(len(LCM_detected_light_list))]\n",
    "y_err = [0 for i in range(len(LCM_detected_light_list))]\n",
    "\n",
    "for i in range(len(LCM_detected_light_list)):\n",
    "    if i%2==0: continue\n",
    "    plt.errorbar(gc_bin_i_list[0],LCM_detected_light_list[i],xerr=x_err, yerr=y_err, fmt='o', label=str((i+1.)/10.)+' kV/cm')\n",
    "\n",
    "# Legend\n",
    "plt.legend(loc=[0.1,0.65], prop={'size': 17}) # loc='upper right'\n",
    "\n",
    "# Axis labels\n",
    "plt.xlabel(axis_labels[0], fontsize=20, labelpad=20)\n",
    "plt.ylabel(axis_labels[1], fontsize=20, labelpad=20)\n",
    "\n",
    "# Logarithmic y axis\n",
    "#plt.ylim(bottom=0.9) #, top=200)\n",
    "#plt.yscale('linear') # linear, log\n",
    "\n",
    "# Save figure\n",
    "save_name = 'plots/TGraphError_LCM_detectedLight_vs_trackGC_normalizedByLightAt_2e-1kV_cm.png'\n",
    "plt.savefig(save_name, dpi=400) # bbox_inches='tight'\n",
    "#plt.close()\n",
    "'''\n",
    "\n",
    "print('Done.')"
   ]
  },
  {
   "cell_type": "code",
   "execution_count": null,
   "metadata": {},
   "outputs": [],
   "source": []
  },
  {
   "cell_type": "code",
   "execution_count": null,
   "metadata": {},
   "outputs": [],
   "source": []
  },
  {
   "cell_type": "code",
   "execution_count": null,
   "metadata": {},
   "outputs": [],
   "source": []
  },
  {
   "cell_type": "code",
   "execution_count": null,
   "metadata": {},
   "outputs": [],
   "source": []
  },
  {
   "cell_type": "code",
   "execution_count": 45,
   "metadata": {},
   "outputs": [
    {
     "name": "stdout",
     "output_type": "stream",
     "text": [
      " Q0_birksModel:  531.7903308893555  +/-  9.452488173544085\n",
      " k_birksModel:   -0.0173380142621785  +/-  0.001150631493548414\n",
      "Done.\n"
     ]
    },
    {
     "data": {
      "image/png": "[encoded data removed]",
      "text/plain": [
       "<Figure size 1080x720 with 1 Axes>"
      ]
     },
     "metadata": {},
     "output_type": "display_data"
    }
   ],
   "source": [
    "# Plot light yield as a function of the E-field intensity\n",
    "np.set_printoptions(precision=4)\n",
    "\n",
    "# Obtain lightYield data\n",
    "ly_mean_list = [np.nanmean(ly_mean_bin_i_list[i]) for i in range(len(ly_mean_bin_i_list))]\n",
    "ly_err_list = [scipy.stats.sem(ly_mean_bin_i_list[i]) for i in range(len(ly_mean_bin_i_list))]\n",
    "\n",
    "# Make plot\n",
    "x_min, x_max = 0.0, 1.1\n",
    "y_min, y_max = 0, 1000\n",
    "axis_labels = ['E Field Intensity [kV/cm]','LCM Light Yield [p.e.]']\n",
    "save_name = 'plots/TGraphError_LightYield_vs_eField.png'\n",
    "\n",
    "L0_birks, L0_birks_err, k_birks, k_birks_err = plot_birksModel(e_field_list,ly_mean_list,e_field_errors_list,ly_err_list,\\\n",
    "                                                               x_min,x_max,y_min,y_max,\\\n",
    "                                                               axis_labels,save_name)\n",
    "print('Done.')"
   ]
  },
  {
   "cell_type": "code",
   "execution_count": 46,
   "metadata": {},
   "outputs": [
    {
     "name": "stdout",
     "output_type": "stream",
     "text": [
      "Done.\n"
     ]
    },
    {
     "data": {
      "image/png": "[encoded data removed]",
      "text/plain": [
       "<Figure size 1080x720 with 1 Axes>"
      ]
     },
     "metadata": {},
     "output_type": "display_data"
    }
   ],
   "source": [
    "# Normalize LCM LightYields (as func. of GC_x coord.) by the series which has a data point in every bin (series 9, 1.0 kV/cm)\n",
    "# Then, take the mean of the LCM LightYields and plot them against the electric field intensity\n",
    "\n",
    "# Calculate LY mean and uncertainties for every eField intensity\n",
    "LY_mean_divByL0_eField_bins = [ly_mean_list[i]/L0_birks for i in range(len(ly_mean_list))]\n",
    "LY_divByL0_err_eField_bins  = [0. for i in range(len(ly_mean_list))]\n",
    "\n",
    "CY_mean_divByQ0_eField_bins = [np.nanmean(pixels_hits_q_corr_list[i])/161.3 for i in range(len(pixels_hits_q_corr_list))]\n",
    "CY_mean_divByQ0_err_eField_bins = [0. for i in range(len(pixels_hits_q_corr_list))]\n",
    "\n",
    "\n",
    "seaborn.set(rc={'figure.figsize':(15, 10),})\n",
    "seaborn.set_context('talk') # or paper\n",
    "\n",
    "# Define parameters of the frame\n",
    "fig = plt.figure() # plt.figure(figsize=(width,height))\n",
    "ax = fig.add_subplot(111)\n",
    "ax.patch.set_alpha(0.0)\n",
    "ax.spines['bottom'].set_color('0.5') #'black', ...\n",
    "ax.spines['bottom'].set_linewidth(2)\n",
    "ax.spines['bottom'].set_visible(True)\n",
    "ax.spines['top'].set_color('0.5')\n",
    "ax.spines['top'].set_linewidth(2)\n",
    "ax.spines['top'].set_visible(True)\n",
    "ax.spines['right'].set_color('0.5')\n",
    "ax.spines['right'].set_linewidth(2)\n",
    "ax.spines['right'].set_visible(True)\n",
    "ax.spines['left'].set_color('0.5')\n",
    "ax.spines['left'].set_linewidth(2)\n",
    "ax.spines['left'].set_visible(True)\n",
    "\n",
    "# Ticks, grid and ticks labels\n",
    "ax.tick_params(direction='in', length=10, width=2,                 # direction, length and width of the ticks (in, out, inout)\n",
    "               colors='0.5',                                       # color of the ticks ('black', '0.5')\n",
    "               bottom=True, top=True, right=True, left=True,       # whether to draw the respective ticks\n",
    "               zorder = 10.,                                       # tick and label zorder\n",
    "               pad = 10.,                                          # distance between ticks and tick labels\n",
    "               labelsize = 17,                                     # size of the tick labels\n",
    "               labelright=False, labeltop=False)                   # wether to draw the tick labels on axes\n",
    "\n",
    "# Axis limits\n",
    "ax.set_xlim((0.0,1.05))\n",
    "ax.set_ylim((0.6,1.6))\n",
    "\n",
    "#plt.errorbar(e_field_list, q_corr_meanPerHit_norm,       xerr=e_field_errors_list, yerr=q_corr_meanPerHit_norm_err, fmt='o', markersize=20, fillstyle='none', label='Charge')\n",
    "#plt.errorbar(e_field_list, LCM_detected_light_norm_list, xerr=e_field_errors_list, yerr=LY_err_eField_bins,         fmt='o', markersize=20, fillstyle='none', label='Light')\n",
    "#plt.errorbar(e_field_list,LY_mean_eField_bins,xerr=x_err, yerr=LY_err_eField_bins, fmt='s',label='Light')\n",
    "plt.errorbar(e_field_list, CY_mean_divByQ0_eField_bins, xerr=e_field_errors_list, yerr=CY_mean_divByQ0_err_eField_bins, fmt='o', markersize=20, fillstyle='none', label='Q/Q0')\n",
    "plt.errorbar(e_field_list, LY_mean_divByL0_eField_bins, xerr=e_field_errors_list, yerr=LY_divByL0_err_eField_bins,      fmt='o', markersize=20, fillstyle='none', label='L/L0')\n",
    "\n",
    "# Legend\n",
    "plt.legend(loc=[0.75,0.85], prop={'size': 17}) # loc='upper right'\n",
    "\n",
    "# Axis labels\n",
    "axis_labels = ['E Field Intensity [kV/cm]','Normalized Yield [-]']\n",
    "plt.xlabel(axis_labels[0], fontsize=20, labelpad=20)\n",
    "plt.ylabel(axis_labels[1], fontsize=20, labelpad=20)\n",
    "\n",
    "# Logarithmic y axis\n",
    "#plt.ylim(bottom=0.9) #, top=200)\n",
    "#plt.yscale('linear') # linear, log\n",
    "\n",
    "# Save figure\n",
    "save_name = 'plots/TGraphError_normalizedYields_2.png'\n",
    "plt.savefig(save_name, dpi=400) # bbox_inches='tight'\n",
    "#plt.close()\n",
    "\n",
    "print('Done.')"
   ]
  },
  {
   "cell_type": "code",
   "execution_count": 47,
   "metadata": {},
   "outputs": [
    {
     "name": "stdout",
     "output_type": "stream",
     "text": [
      "Done.\n"
     ]
    },
    {
     "data": {
      "image/png": "[encoded data removed]",
      "text/plain": [
       "<Figure size 1080x720 with 1 Axes>"
      ]
     },
     "metadata": {},
     "output_type": "display_data"
    }
   ],
   "source": [
    "# Normalize LCM LightYields (as func. of GC_x coord.) by the series which has a data point in every bin (series 9, 1.0 kV/cm)\n",
    "# Then, take the mean of the LCM LightYields and plot them against the electric field intensity\n",
    "\n",
    "# Calculate LY mean and uncertainties for every eField intensity\n",
    "LY_mean_eField_bins = []\n",
    "LY_err_eField_bins  = []\n",
    "for eField in range(len(ly_mean_bin_i_list)):\n",
    "    \n",
    "    # For every eField intensity, have len(ly_mean_bin_i_list[eField]) gravicentre_x bins (usually 10)\n",
    "    # Thus, normalize every LY in GC_x bin with the LY from GC_x bin number 9 (the one with the best statistics)\n",
    "    mean_for_every_GC_bin = [ly_mean_bin_i_list[eField][k]/ly_mean_bin_i_list[9][k] for k in range(len(ly_mean_bin_i_list[eField]))]\n",
    "    \n",
    "    # After this normalization, the geometrical effects of the LCM acceptance has canceled out\n",
    "    # Thus: Can take the mean of all LYs in all GC_x bins:\n",
    "    LY_mean_eField_bins.append(np.nanmean(mean_for_every_GC_bin))\n",
    "    \n",
    "    # The uncertainty on this mean is the SEM (standard error of the mean): SEM = stdev / sqrt(number of values not nan. or inf)\n",
    "    LY_err_eField_bins.append(np.std(mean_for_every_GC_bin)/np.sqrt(np.count_nonzero(~np.isnan(mean_for_every_GC_bin))))\n",
    "\n",
    "LCM_detected_light_list = [[ly_mean_bin_i_list[k][i]/ly_mean_bin_i_list[9][i] for i in range(len(ly_mean_bin_i_list[9]))] for k in range(10)]\n",
    "LCM_detected_light_norm_list = [np.nanmean(ly_mean_bin_i_list[k])/np.nanmean(ly_mean_bin_i_list[9]) for k in range(len(LCM_detected_light_list))]\n",
    "#print(' LCM_detected_light_norm_list: ', LCM_detected_light_norm_list)\n",
    "#print(' LY_mean_eField_bins: ', LY_mean_eField_bins)\n",
    "#print(' LY_err_eField_bins:  ', LY_err_eField_bins)\n",
    "\n",
    "\n",
    "# Calculate CY mean and uncertainties for every eField intensity\n",
    "q_corr_meanPerHit          = []\n",
    "q_corr_meanPerHit_norm     = [] # np.array(q_corr_meanPerHit)/np.max(q_corr_meanPerHit)\n",
    "q_corr_meanPerHit_norm_err = []\n",
    "q_corr_std                 = []\n",
    "q_corr_sem                 = []\n",
    "for eField in range(n_field_intensities):\n",
    "    #print(np.nanmean(pixels_hits_q_corr_list[eField]))\n",
    "    q_corr_meanPerHit.append(np.nanmean(pixels_hits_q_corr_list[eField]))\n",
    "    q_corr_meanPerHit_norm.append(np.nanmean(pixels_hits_q_corr_list[eField])/np.nanmean(pixels_hits_q_corr_list[9]))\n",
    "    q_corr_meanPerHit_norm_err.append(np.nanmean(pixels_hits_q_corr_list[eField])/np.nanmean(pixels_hits_q_corr_list[9])*\\\n",
    "                                      np.sqrt(scipy.stats.sem(pixels_hits_q_corr_list[eField])**2/(np.nanmean(pixels_hits_q_corr_list[9])**2) +\\\n",
    "                                              np.nanmean(pixels_hits_q_corr_list[eField])**2*scipy.stats.sem(pixels_hits_q_corr_list[9])**2/(np.nanmean(pixels_hits_q_corr_list[9])**4)))\n",
    "    #q_corr_std.append(np.std(pixels_hits_q_corr_list[eField]))\n",
    "    #q_corr_sem.append(scipy.stats.sem(pixels_hits_q_corr_list[eField]))\n",
    "#print(' q_corr_meanPerHit:     ', q_corr_meanPerHit)\n",
    "#print(' q_corr_meanPerHit_norm_err: ', q_corr_meanPerHit_norm_err)\n",
    "#print(' q_corr_std:            ', q_corr_std)\n",
    "#print(' q_corr_sem:            ', q_corr_sem)\n",
    "\n",
    "\n",
    "seaborn.set(rc={'figure.figsize':(15, 10),})\n",
    "seaborn.set_context('talk') # or paper\n",
    "\n",
    "# Define parameters of the frame\n",
    "fig = plt.figure() # plt.figure(figsize=(width,height))\n",
    "ax = fig.add_subplot(111)\n",
    "ax.patch.set_alpha(0.0)\n",
    "ax.spines['bottom'].set_color('0.5') #'black', ...\n",
    "ax.spines['bottom'].set_linewidth(2)\n",
    "ax.spines['bottom'].set_visible(True)\n",
    "ax.spines['top'].set_color('0.5')\n",
    "ax.spines['top'].set_linewidth(2)\n",
    "ax.spines['top'].set_visible(True)\n",
    "ax.spines['right'].set_color('0.5')\n",
    "ax.spines['right'].set_linewidth(2)\n",
    "ax.spines['right'].set_visible(True)\n",
    "ax.spines['left'].set_color('0.5')\n",
    "ax.spines['left'].set_linewidth(2)\n",
    "ax.spines['left'].set_visible(True)\n",
    "\n",
    "# Ticks, grid and ticks labels\n",
    "ax.tick_params(direction='in', length=10, width=2,                 # direction, length and width of the ticks (in, out, inout)\n",
    "               colors='0.5',                                       # color of the ticks ('black', '0.5')\n",
    "               bottom=True, top=True, right=True, left=True,       # whether to draw the respective ticks\n",
    "               zorder = 10.,                                       # tick and label zorder\n",
    "               pad = 10.,                                          # distance between ticks and tick labels\n",
    "               labelsize = 17,                                     # size of the tick labels\n",
    "               labelright=False, labeltop=False)                   # wether to draw the tick labels on axes\n",
    "\n",
    "# Axis limits\n",
    "ax.set_xlim((0.0,1.05))\n",
    "ax.set_ylim((0.6,1.6))\n",
    "\n",
    "plt.errorbar(e_field_list, q_corr_meanPerHit_norm,       xerr=e_field_errors_list, yerr=q_corr_meanPerHit_norm_err, fmt='o', markersize=20, fillstyle='none', label='Charge')\n",
    "plt.errorbar(e_field_list, LCM_detected_light_norm_list, xerr=e_field_errors_list, yerr=LY_err_eField_bins,         fmt='o', markersize=20, fillstyle='none', label='Light')\n",
    "#plt.errorbar(e_field_list,LY_mean_eField_bins,xerr=x_err, yerr=LY_err_eField_bins, fmt='s',label='Light')\n",
    "\n",
    "\n",
    "# Legend\n",
    "plt.legend(loc=[0.75,0.85], prop={'size': 17}) # loc='upper right'\n",
    "\n",
    "# Axis labels\n",
    "axis_labels = ['E Field Intensity [kV/cm]','Normalized Yield [-]']\n",
    "plt.xlabel(axis_labels[0], fontsize=20, labelpad=20)\n",
    "plt.ylabel(axis_labels[1], fontsize=20, labelpad=20)\n",
    "\n",
    "# Logarithmic y axis\n",
    "#plt.ylim(bottom=0.9) #, top=200)\n",
    "#plt.yscale('linear') # linear, log\n",
    "\n",
    "# Save figure\n",
    "save_name = 'plots/TGraphError_normalizedYields_1.png'\n",
    "plt.savefig(save_name, dpi=400) # bbox_inches='tight'\n",
    "#plt.close()\n",
    "\n",
    "print('Done.')"
   ]
  },
  {
   "cell_type": "code",
   "execution_count": 48,
   "metadata": {},
   "outputs": [],
   "source": [
    "def test_func(E, Q0, k):\n",
    "    dE_dx = 2.1\n",
    "    #rho_LAr = 1.40\n",
    "    #return 0.83 * Q0 / (1. + ((k/E*dE_dx)/(rho_LAr*E/1000.)))\n",
    "    return Q0 / (1. + k/E*dE_dx)"
   ]
  },
  {
   "cell_type": "code",
   "execution_count": 49,
   "metadata": {},
   "outputs": [],
   "source": [
    "def test_func_2(E, Q0, k):\n",
    "    dE_dx = 2.1\n",
    "    #rho_LAr = 1.40\n",
    "    #return 0.83 * Q0 / (1. + ((k/E*dE_dx)/(rho_LAr*E/1000.)))\n",
    "    return Q0 / (1. + k/E*dE_dx)"
   ]
  },
  {
   "cell_type": "code",
   "execution_count": 50,
   "metadata": {},
   "outputs": [
    {
     "name": "stdout",
     "output_type": "stream",
     "text": [
      " L0 =  1.0107799733508451  +/-  0.01796643134052798\n",
      " k =  -0.01733801082426175  +/-  0.0011506262690818888\n"
     ]
    },
    {
     "data": {
      "text/plain": [
       "[<matplotlib.lines.Line2D at 0x7f060ea044c0>]"
      ]
     },
     "execution_count": 50,
     "metadata": {},
     "output_type": "execute_result"
    },
    {
     "data": {
      "image/png": "[encoded data removed]",
      "text/plain": [
       "<Figure size 1080x720 with 1 Axes>"
      ]
     },
     "metadata": {},
     "output_type": "display_data"
    }
   ],
   "source": [
    "popt, pcov = curve_fit(test_func_2, e_field_list, LCM_detected_light_norm_list) #, p0=(150,2000)) #, method='dogbox') # p0=(150,1000), method='dogbox'\n",
    "\n",
    "L0     = popt[0]\n",
    "L0_err = np.sqrt(pcov[0][0])\n",
    "k      = popt[1]\n",
    "k_err  = np.sqrt(pcov[1][1])\n",
    "print(' L0 = ', L0, ' +/- ', L0_err)\n",
    "print(' k = ', k, ' +/- ', k_err)\n",
    "\n",
    "fit_x = []\n",
    "fit_y = []\n",
    "\n",
    "n_points=100\n",
    "for i in range(n_points):\n",
    "    E_i = (i+1)/n_points\n",
    "    if E_i >0.099:\n",
    "        fit_x.append(E_i)\n",
    "        fit_y.append(test_func_2(E_i,*popt))\n",
    "#print(fit_x)\n",
    "#print(fit_y)\n",
    "\n",
    "plt.errorbar(e_field_list, q_corr_meanPerHit_norm,       xerr=e_field_errors_list, yerr=q_corr_meanPerHit_norm_err, fmt='o', markersize=20, fillstyle='none', label='Charge')\n",
    "plt.errorbar(e_field_list, LCM_detected_light_norm_list, xerr=e_field_errors_list, yerr=LY_err_eField_bins,         fmt='o', markersize=20, fillstyle='none', label='Light')\n",
    "plt.plot(fit_x,fit_y,'r-') #,label=r'Box Model Fit: $Q_0 = %3.1f \\pm %3.1f , \\beta = %3.3f \\pm %3.3f$' %(Q0_boxModel,Q0_boxModel_err,beta_boxModel,beta_boxModel_err))"
   ]
  },
  {
   "cell_type": "code",
   "execution_count": 51,
   "metadata": {},
   "outputs": [
    {
     "name": "stdout",
     "output_type": "stream",
     "text": [
      "Done.\n"
     ]
    },
    {
     "data": {
      "image/png": "[encoded data removed]",
      "text/plain": [
       "<Figure size 1080x720 with 1 Axes>"
      ]
     },
     "metadata": {},
     "output_type": "display_data"
    }
   ],
   "source": [
    "def linear_fit(x, a, b):\n",
    "    return a * x + b\n",
    "\n",
    "#exclude_first_n_points = 0\n",
    "#L_div_by_L0 = np.array(LCM_detected_light_mean[exclude_first_n_points:])\n",
    "#Q_div_by_Qinf = np.array(pixel_detected_charge_mean[exclude_first_n_points:])#/np.array(R_box[2:-1]) #R_box,R_birks\n",
    "#L_div_by_L0   = np.array(LCM_detected_light_norm_list[exclude_first_n_points:])\n",
    "#Q_div_by_Qinf = np.array(q_corr_meanPerHit_norm[exclude_first_n_points:])#/np.array(R_box[2:-1]) #R_box,R_birks\n",
    "#print(L_div_by_L0)\n",
    "#print(Q_div_by_Qinf)\n",
    "\n",
    "#plt.errorbar(e_field_list,q_corr_meanPerHit_norm,  xerr=e_field_errors_list #, yerr=q_corr_meanPerHit_norm_err, fmt='o',markersize=5, label='Charge')\n",
    "#plt.errorbar(e_field_list,LCM_detected_light_norm_list,xerr=e_field_errors_list, yerr=LY_err_eField_bins,    fmt='o',markersize=5, label='Light')\n",
    "\n",
    "LCM_detected_light_norm_list\n",
    "\n",
    "seaborn.set(rc={'figure.figsize':(15, 10),})\n",
    "seaborn.set_context('talk') # or paper\n",
    "\n",
    "# Define parameters of the frame\n",
    "fig = plt.figure() # plt.figure(figsize=(width,height))\n",
    "ax = fig.add_subplot(111)\n",
    "ax.patch.set_alpha(0.0)\n",
    "ax.spines['bottom'].set_color('0.5') #'black', ...\n",
    "ax.spines['bottom'].set_linewidth(2)\n",
    "ax.spines['bottom'].set_visible(True)\n",
    "ax.spines['top'].set_color('0.5')\n",
    "ax.spines['top'].set_linewidth(2)\n",
    "ax.spines['top'].set_visible(True)\n",
    "ax.spines['right'].set_color('0.5')\n",
    "ax.spines['right'].set_linewidth(2)\n",
    "ax.spines['right'].set_visible(True)\n",
    "ax.spines['left'].set_color('0.5')\n",
    "ax.spines['left'].set_linewidth(2)\n",
    "ax.spines['left'].set_visible(True)\n",
    "\n",
    "# Ticks, grid and ticks labels\n",
    "ax.tick_params(direction='in', length=10, width=2,                 # direction, length and width of the ticks (in, out, inout)\n",
    "               colors='0.5',                                       # color of the ticks ('black', '0.5')\n",
    "               bottom=True, top=True, right=True, left=True,       # whether to draw the respective ticks\n",
    "               zorder = 10.,                                       # tick and label zorder\n",
    "               pad = 10.,                                          # distance between ticks and tick labels\n",
    "               labelsize = 17,                                     # size of the tick labels\n",
    "               labelright=False, labeltop=False)                   # wether to draw the tick labels on axes\n",
    "\n",
    "# Axis limits\n",
    "ax.set_xlim((0.65,1.25))\n",
    "ax.set_ylim((0.9,1.7))\n",
    "ax.set_xlim((0.8,1.05))\n",
    "ax.set_ylim((0.9,1.3))\n",
    "ax.set_xlim((0.65,1.05))\n",
    "ax.set_ylim((0.95,1.6))\n",
    "\n",
    "plt.errorbar(q_corr_meanPerHit_norm,LCM_detected_light_norm_list,xerr=q_corr_meanPerHit_norm_err, yerr=LY_err_eField_bins, fmt='o',label='Data')\n",
    "\n",
    "# Linear fit through all data points\n",
    "popt, pcov = curve_fit(linear_fit, q_corr_meanPerHit_norm, LCM_detected_light_norm_list)\n",
    "fit_x = []\n",
    "fit_y = []\n",
    "for i in range(1,200):\n",
    "    _x = 0.6+i/100.\n",
    "    if _x > 1.5:\n",
    "        break\n",
    "    fit_x.append(_x)\n",
    "    fit_y.append(linear_fit(_x,*popt))\n",
    "plt.plot(fit_x,fit_y,'r-',label=r'Linear Fit (all)')\n",
    "\n",
    "# Linear fit (excluded the first two data points)\n",
    "popt, pcov = curve_fit(linear_fit, q_corr_meanPerHit_norm[2:], LCM_detected_light_norm_list[2:])\n",
    "fit_x = []\n",
    "fit_y = []\n",
    "for i in range(1,200):\n",
    "    _x = 0.6+i/100.\n",
    "    if _x > 1.5:\n",
    "        break\n",
    "    fit_x.append(_x)\n",
    "    fit_y.append(linear_fit(_x,*popt))\n",
    "plt.plot(fit_x,fit_y,'g-',label=r'Linear Fit (first two excluded)')\n",
    "\n",
    "\n",
    "# Legend\n",
    "plt.legend(loc=[0.6,0.8], prop={'size': 17}) # loc='upper right'\n",
    "\n",
    "# Axis labels\n",
    "axis_labels = ['$Q/Q_{1kV/cm}$ [-]','$L/L_{1kV/cm}$ [-]'] # TODO: MAKE IT Q/Q_infinity!!\n",
    "plt.xlabel(axis_labels[0], fontsize=20, labelpad=20)\n",
    "plt.ylabel(axis_labels[1], fontsize=20, labelpad=20)\n",
    "\n",
    "# Logarithmic y axis\n",
    "#plt.ylim(bottom=0.9) #, top=200)\n",
    "#plt.yscale('linear') # linear, log\n",
    "\n",
    "# Save figure\n",
    "save_name = 'plots/TGraphError_normalizedYields_2.png'\n",
    "plt.savefig(save_name, dpi=400) # bbox_inches='tight'\n",
    "#plt.close()\n",
    "\n",
    "print('Done.')"
   ]
  },
  {
   "cell_type": "code",
   "execution_count": 52,
   "metadata": {},
   "outputs": [
    {
     "data": {
      "text/html": [
       "\n",
       "        <progress \n",
       "            value='10'\n",
       "            max='10',\n",
       "            style='width: 30%'\n",
       "        >\n",
       "            10\n",
       "        </progress> 10/10 E-field intensities processed (100%) ... \n",
       "    "
      ],
      "text/plain": [
       "<IPython.core.display.HTML object>"
      ]
     },
     "metadata": {},
     "output_type": "display_data"
    },
    {
     "name": "stdout",
     "output_type": "stream",
     "text": [
      "Done.\n"
     ]
    }
   ],
   "source": [
    "# LCM_producedLight_vs_track_GCx\n",
    "if plot_all or plot_producedLight_vs_track_GCx:\n",
    "    out = display(progress(0,n_field_intensities,'E-field intensities processed'),display_id=True)\n",
    "    for eField_index in range(n_field_intensities):\n",
    "        #print(LCM_detectedLight_list[eField_index])\n",
    "        if len(LCM_detectedLight_list[eField_index]) == 0: continue\n",
    "        plot_folder = str(e_field_list[eField_index]) + '_kV_per_cm'\n",
    "        #print(' plot_folder: ', plot_folder)\n",
    "        x_min    = pixels_x_min # np.min(track_start_pos_x_list[eField_index])\n",
    "        x_max    = pixels_x_max # np.max(track_start_pos_x_list[eField_index])\n",
    "        y_min    = 0\n",
    "        y_max    = 1000 #np.max(LCM_detectedLight_list[eField_index])\n",
    "        n_bins_x = n_pixels_x\n",
    "        n_bins_y = 50\n",
    "        x_bins = np.linspace(x_min,x_max,n_bins_x)\n",
    "        y_bins = np.linspace(y_min,y_max,n_bins_y)\n",
    "        axis_labels = ['Track Gravicentre x [mm]','LCM Produced Light [p.e.]','Entries [-]']\n",
    "        save_name = 'plots/'+str(plot_folder)+'/'+'h2_LCM_detectedLight_vs_trackGC.png'\n",
    "        plot_h2([track_cgx_list[eField_index],LCM_detectedLight_list[eField_index]],x_bins,y_bins,axis_labels,save_name)\n",
    "        out.update(progress(eField_index+1,n_field_intensities,'E-field intensities processed'))\n",
    "    out.update(progress(n_field_intensities,n_field_intensities,'E-field intensities processed'))\n",
    "print('Done.')"
   ]
  },
  {
   "cell_type": "code",
   "execution_count": 53,
   "metadata": {},
   "outputs": [
    {
     "name": "stdout",
     "output_type": "stream",
     "text": [
      "Done.\n"
     ]
    }
   ],
   "source": [
    "# pixel chargeYield vs. E-field intensity\n",
    "if plot_all or plot_chargeYield_vs_eField:\n",
    "    chargeYield_values = []\n",
    "    eField_values      = []\n",
    "    for eField_index in range(n_field_intensities):\n",
    "        #print(pixels_chargeYield_list[eField_index])\n",
    "        if len(pixels_chargeYield_list[eField_index]) == 0: continue\n",
    "        for entry in range(len(pixels_chargeYield_list[eField_index])):\n",
    "            chargeYield_values.append(pixels_chargeYield_list[eField_index][entry])\n",
    "            eField_values.append(e_field_list[eField_index])\n",
    "        #print((eField_index+1)/10.)\n",
    "    x_min    = -0.05\n",
    "    x_max    = 1.05\n",
    "    y_min    = 4000  # np.min(chargeYield_values)\n",
    "    y_max    = 15000 # np.max(chargeYield_values)\n",
    "    n_bins_x = 10+2\n",
    "    n_bins_y = 50\n",
    "    x_bins = np.linspace(x_min,x_max,n_bins_x)\n",
    "    y_bins = np.linspace(y_min,y_max,n_bins_y)\n",
    "    axis_labels = ['E Field Intensity [kV/cm]','Total Pixel Charge Yield [ke]','Entries [-]']\n",
    "    save_name = 'plots/'+'h2_ChargeYieldTotal_vs_eField.png'\n",
    "    plot_h2([eField_values,chargeYield_values],x_bins,y_bins,axis_labels,save_name)\n",
    "print('Done.')"
   ]
  },
  {
   "cell_type": "code",
   "execution_count": 54,
   "metadata": {},
   "outputs": [
    {
     "name": "stdout",
     "output_type": "stream",
     "text": [
      "Done.\n"
     ]
    }
   ],
   "source": [
    "# Profile plot of pixel charge-yield vs. eField\n",
    "# This plot is replaced by the plot plot_totalChargeYield_vs_eField (made above)\n",
    "'''\n",
    "if plot_all or plot_chargeYield_vs_eField_ProfilePlot:\n",
    "    x_min    = -0.05\n",
    "    x_max    = 1.05\n",
    "    y_min    = 6000  # np.min(chargeYield_values)\n",
    "    y_max    = 10000 # np.max(chargeYield_values)\n",
    "    \n",
    "    chargeYield_mean = []\n",
    "    chargeYield_std  = []\n",
    "    chargeYield_sem  = []\n",
    "    eField_vals      = []\n",
    "    plot_folder_list = []\n",
    "\n",
    "    for eField_index in range(n_field_intensities):\n",
    "        #print(pixels_chargeYield_list[eField_index])\n",
    "        if len(pixels_chargeYield_list[eField_index]) == 0: continue\n",
    "        \n",
    "        CY_values = []\n",
    "        for entry in range(len(pixels_chargeYield_list[eField_index])):\n",
    "            CY_values.append(pixels_chargeYield_list[eField_index][entry])\n",
    "        \n",
    "        chargeYield_mean.append(np.mean(CY_values))\n",
    "        chargeYield_std.append(np.std(CY_values))\n",
    "        chargeYield_sem.append(scipy.stats.sem(CY_values))\n",
    "        eField_vals.append((eField_index+1)/10.)\n",
    "        plot_folder_list.append(str(e_field_list[eField_index]) + '_kV_per_cm')\n",
    "    \n",
    "    axis_labels = ['E Field Intensity [kV/cm]','Total Pixel Charge Yield [ke]']\n",
    "    save_name = 'plots/profile2D_ChargeYieldTotal_vs_eField.png'\n",
    "    plot_legend = False\n",
    "    plot_profile_of_2D_hist_01(eField_vals,\\\n",
    "                            chargeYield_mean,\\\n",
    "                            e_field_errors_list,\\\n",
    "                            chargeYield_sem,\\\n",
    "                            axis_labels,\\\n",
    "                            x_min,\\\n",
    "                            x_max,\\\n",
    "                            y_min,\\\n",
    "                            y_max,\\\n",
    "                            save_name)\n",
    "'''\n",
    "print('Done.')"
   ]
  },
  {
   "cell_type": "code",
   "execution_count": 55,
   "metadata": {},
   "outputs": [
    {
     "name": "stdout",
     "output_type": "stream",
     "text": [
      "plotting selection...\n"
     ]
    },
    {
     "data": {
      "text/html": [
       "\n",
       "        <progress \n",
       "            value='10'\n",
       "            max='10',\n",
       "            style='width: 30%'\n",
       "        >\n",
       "            10\n",
       "        </progress> 10/10 E-field intensities processed (100%) ... \n",
       "    "
      ],
      "text/plain": [
       "<IPython.core.display.HTML object>"
      ]
     },
     "metadata": {},
     "output_type": "display_data"
    },
    {
     "name": "stdout",
     "output_type": "stream",
     "text": [
      "plotting all...\n"
     ]
    },
    {
     "data": {
      "text/html": [
       "\n",
       "        <progress \n",
       "            value='10'\n",
       "            max='10',\n",
       "            style='width: 30%'\n",
       "        >\n",
       "            10\n",
       "        </progress> 10/10 E-field intensities processed (100%) ... \n",
       "    "
      ],
      "text/plain": [
       "<IPython.core.display.HTML object>"
      ]
     },
     "metadata": {},
     "output_type": "display_data"
    },
    {
     "name": "stdout",
     "output_type": "stream",
     "text": [
      "Done.\n"
     ]
    }
   ],
   "source": [
    "# Pixel charge-yield vs. track gravicentre_x, all and in a second plot only those which passed the lightYield selection\n",
    "if plot_all or plot_chargeYield_vs_graviCentre_x_Selection:\n",
    "    x_min    = pixels_x_min\n",
    "    x_max    = pixels_x_max\n",
    "    y_min    = 0 # np.min(pixels_chargeYield_list[eField_index])\n",
    "    y_max    = 20000\n",
    "    #for i in range(len(pixels_chargeYield_list)):\n",
    "    #    if np.max(pixels_chargeYield_list[i]) > y_max:\n",
    "    #        y_max = np.max(pixels_chargeYield_list[i])\n",
    "    n_bins_x = n_pixels_x\n",
    "    n_bins_y = n_pixels_y\n",
    "    x_bins = np.linspace(x_min,x_max,n_bins_x)\n",
    "    y_bins = np.linspace(y_min,y_max,n_bins_y)\n",
    "    axis_labels = ['Track Gravicentre x [mm]','Total Pixel Charge Yield [ke]','Entries [-]']\n",
    "\n",
    "    LY_cut_at_xmin = 400 # min. detected light at x_min (near end)\n",
    "    LY_cut_at_xmax = 50  # min. detected light at x_max (far end)\n",
    "\n",
    "    # Plot only those passing the lightYield selection\n",
    "    print('plotting selection...')\n",
    "    out = display(progress(0,n_field_intensities,'E-field intensities processed'),display_id=True)\n",
    "    for eField_index in range(n_field_intensities):\n",
    "        plot_folder = str(e_field_list[eField_index]) + '_kV_per_cm'\n",
    "        #print(' plot_folder: ', plot_folder)\n",
    "        save_name = 'plots/'+str(plot_folder)+'/h2_ChargeYieldTotal_vs_trackGC_selected.png'\n",
    "        gc_list = []\n",
    "        cy_list = []\n",
    "        for entry in range(len(LCM_detectedLight_list[eField_index])):\n",
    "            if LCM_detectedLight_list[eField_index][entry]>-(track_cgx_list[eField_index][entry]-x_min)*(LY_cut_at_xmin-LY_cut_at_xmax)/(x_max-x_min)+LY_cut_at_xmin:\n",
    "                gc_list.append(track_cgx_list[eField_index][entry])\n",
    "                cy_list.append(pixels_chargeYield_list[eField_index][entry])\n",
    "        plot_LY_vs_GCx_selection([gc_list,cy_list],x_bins,y_bins,axis_labels,save_name,-1,-1) # Note: Use the same function as for the lightYield\n",
    "        out.update(progress(eField_index+1,n_field_intensities,'E-field intensities processed'))\n",
    "    out.update(progress(n_field_intensities,n_field_intensities,'E-field intensities processed'))\n",
    "\n",
    "    # Plot all\n",
    "    print('plotting all...')\n",
    "    out = display(progress(0,n_field_intensities,'E-field intensities processed'),display_id=True)\n",
    "    for eField_index in range(n_field_intensities):\n",
    "        plot_folder = str(e_field_list[eField_index]) + '_kV_per_cm'\n",
    "        #print(' plot_folder: ', plot_folder)\n",
    "        save_name = 'plots/'+str(plot_folder)+'/h2_ChargeYieldTotal_vs_trackGC_all.png'\n",
    "        gc_list = []\n",
    "        cy_list = []\n",
    "        for entry in range(len(LCM_detectedLight_list[eField_index])):\n",
    "            if True:\n",
    "                gc_list.append(track_cgx_list[eField_index][entry])\n",
    "                cy_list.append(pixels_chargeYield_list[eField_index][entry])\n",
    "        plot_LY_vs_GCx_selection([gc_list,cy_list],x_bins,y_bins,axis_labels,save_name,-1,-1) # Note: Use the same function as for the lightYield\n",
    "        out.update(progress(eField_index+1,n_field_intensities,'E-field intensities processed'))\n",
    "    out.update(progress(n_field_intensities,n_field_intensities,'E-field intensities processed'))\n",
    "\n",
    "print('Done.')"
   ]
  },
  {
   "cell_type": "code",
   "execution_count": 56,
   "metadata": {},
   "outputs": [
    {
     "name": "stdout",
     "output_type": "stream",
     "text": [
      "Done.\n"
     ]
    }
   ],
   "source": [
    "# Profile plot of pixel charge-yield vs. track gravicentre_x\n",
    "if plot_all or plot_chargeYield_vs_graviCentre_x_ProfilePlot:\n",
    "    x_min    = pixels_x_min\n",
    "    x_max    = pixels_x_max\n",
    "    n_bins_x = n_graviCentre_bins\n",
    "    x_width  = (x_max-x_min)/n_bins_x\n",
    "    x_err    = [0.5*x_width for i in range(n_bins_x)]\n",
    "    y_min    = 6000\n",
    "    y_max    = 10000\n",
    "    #for i in range(len(pixels_chargeYield_list)):\n",
    "    #    if np.max(pixels_chargeYield_list[i]) > y_max:\n",
    "    #        y_max = np.max(pixels_chargeYield_list[i])\n",
    "\n",
    "    # Define lists which will be filled with n (=number of different eField-intensities) lists with info about\n",
    "    # gravicentre, mean charge yield and standard deviation of the mean charge yield\n",
    "    gc_bin_i_list      = []\n",
    "    cy_mean_bin_i_list = []\n",
    "    cy_std_bin_i_list  = [] # standard deviation\n",
    "    cy_sem_bin_i_list  = [] # standard error of the mean\n",
    "    plot_folder_list   = []\n",
    "\n",
    "    # Loop over all TChains and obtain data for the profile plots\n",
    "    for eField_index in range(n_field_intensities):\n",
    "        #print(track_cgx_list[eField_index])\n",
    "        gc_bin_i      = []\n",
    "        cy_mean_bin_i = []\n",
    "        cy_std_bin_i  = []\n",
    "        cy_sem_bin_i  = []\n",
    "        # Loop over all bins\n",
    "        for bin_i in range(n_bins_x):\n",
    "            gc_bin_i.append((bin_i+0.5)*x_width+x_min)\n",
    "            cy_in_bin_i = []\n",
    "            # Loop over all TChains\n",
    "            for entry in range(len(pixels_chargeYield_list[eField_index])):\n",
    "                # Check if GC is in current bin\n",
    "                if track_cgx_list[eField_index][entry]>((bin_i)*x_width+x_min) and track_cgx_list[eField_index][entry]<((bin_i+1)*x_width+x_min):\n",
    "                    # Check if LY (not CY!) is not below selection criterium\n",
    "                    if LCM_detectedLight_list[eField_index][entry]>-(track_cgx_list[eField_index][entry]-x_min)*(LY_cut_at_xmin-LY_cut_at_xmax)/(x_max-x_min)+LY_cut_at_xmin:\n",
    "                        cy_in_bin_i.append(pixels_chargeYield_list[eField_index][entry])\n",
    "            cy_mean_bin_i.append(np.mean(cy_in_bin_i))\n",
    "            cy_std_bin_i.append(np.std(cy_in_bin_i))\n",
    "            cy_sem_bin_i.append(scipy.stats.sem(cy_in_bin_i))\n",
    "        gc_bin_i_list.append(gc_bin_i)\n",
    "        cy_mean_bin_i_list.append(cy_mean_bin_i)\n",
    "        cy_std_bin_i_list.append(cy_std_bin_i)\n",
    "        cy_sem_bin_i_list.append(cy_sem_bin_i)\n",
    "        plot_folder_list.append(str(e_field_list[eField_index]) + '_kV_per_cm')\n",
    "        \n",
    "    restrict_to_entries = [2,5,9]\n",
    "\n",
    "    axis_labels = ['Track Gravicentre x [mm]','Total Pixel Charge Yield [ke]']\n",
    "    save_name = 'plots/profile2D_ChargeYieldTotal_vs_trackGC.png'\n",
    "    plot_profile_of_2D_hist_00(gc_bin_i_list,\\\n",
    "                            cy_mean_bin_i_list,\\\n",
    "                            x_err,\\\n",
    "                            cy_sem_bin_i_list,\\\n",
    "                            plot_folder_list,\\\n",
    "                            axis_labels,\\\n",
    "                            x_min,\\\n",
    "                            x_max,\\\n",
    "                            y_min,\\\n",
    "                            y_max,\\\n",
    "                            save_name,\\\n",
    "                            restrict_to_entries)\n",
    "print('Done.')"
   ]
  },
  {
   "cell_type": "code",
   "execution_count": 57,
   "metadata": {},
   "outputs": [
    {
     "ename": "SyntaxError",
     "evalue": "invalid syntax (<ipython-input-57-b0bb56993ca5>, line 1)",
     "output_type": "error",
     "traceback": [
      "\u001b[0;36m  File \u001b[0;32m\"<ipython-input-57-b0bb56993ca5>\"\u001b[0;36m, line \u001b[0;32m1\u001b[0m\n\u001b[0;31m    print(do not execute the following cells)\u001b[0m\n\u001b[0m                 ^\u001b[0m\n\u001b[0;31mSyntaxError\u001b[0m\u001b[0;31m:\u001b[0m invalid syntax\n"
     ]
    }
   ],
   "source": [
    "print(do not execute the following cells)"
   ]
  },
  {
   "cell_type": "markdown",
   "metadata": {},
   "source": [
    "#### Event Display"
   ]
  },
  {
   "cell_type": "code",
   "execution_count": null,
   "metadata": {},
   "outputs": [],
   "source": [
    "# Define which TChain to be used\n",
    "chain = 15\n",
    "\n",
    "input_tree = input_tree_list[chain]\n",
    "n_tracks = input_tree.GetEntries()\n",
    "\n",
    "print(' n_tracks:          ', input_tree.GetEntries())\n",
    "\n",
    "plot_folder = str(eField_intensity_list[chain]) + '_kV_per_cm'\n",
    "print(' plot_folder: ', plot_folder)\n",
    "\n",
    "# Delete old eventDisplays\n",
    "os.system('rm -rf plots/' + str(plot_folder) +'/eventDisplays')\n",
    "os.system('mkdir plots/' + str(plot_folder) +'/eventDisplays')\n",
    "\n",
    "for track in range(n_tracks):\n",
    "    input_tree.GetEntry(track)\n",
    "    \n",
    "    if track>10:\n",
    "        break\n",
    "    \n",
    "    if track%200==0:\n",
    "        print(' Processing track', track, 'of', n_tracks, 'in total...')\n",
    "\n",
    "    # Apply Selection Cuts (those should be the same as at the very beginning!)\n",
    "    # Note: Make a selected_trackID list does not work since there are >1 files in a TChain.\n",
    "    # Could, e.g., use unique unix_ts or so.\n",
    "    # For the moment, just apply exactly the same selection cuts as above.\n",
    "    if input_tree_list[chain].t_track_length < cut_lenght:\n",
    "        continue\n",
    "    if input_tree_list[chain].t_event_ntracks > cut_ntracks:\n",
    "        continue\n",
    "    if abs(max(input_tree_list[chain].t_track_start_pos_y,input_tree_list[chain].t_track_end_pos_y)) < cut_throughgoing or\\\n",
    "       abs(min(input_tree_list[chain].t_track_start_pos_y,input_tree_list[chain].t_track_end_pos_y)) < cut_throughgoing:\n",
    "        #print(input_tree_list[chain].t_track_start_pos_y)\n",
    "        #print(input_tree_list[chain].t_track_end_pos_y)\n",
    "        #print(' ---------------- ')\n",
    "        continue\n",
    "    \n",
    "    print(' --------------- ')\n",
    "    print(' trackID: ', input_tree.t_trackID)\n",
    "    print(' start x: ', input_tree.t_track_start_pos_x)\n",
    "    print(' end x:   ', input_tree.t_track_end_pos_x)\n",
    "    print(' phi:     ', input_tree_list[chain].t_track_phi, ' \\t / \\t ', input_tree_list[chain].t_track_phi*180./np.pi)\n",
    "    print(' theta:   ', input_tree_list[chain].t_track_theta, ' \\t / \\t ', input_tree_list[chain].t_track_theta*180./np.pi)\n",
    "\n",
    "    \n",
    "    hits_x = []\n",
    "    hits_y = []\n",
    "    hits_z = []\n",
    "    hits_q = []\n",
    "\n",
    "    '''    \n",
    "    print(' ----------------------------------------- ')\n",
    "    #print(' t_eventID:        ', input_tree.t_eventID)\n",
    "    print(' t_trackID:        ', input_tree.t_trackID)\n",
    "    #print(' t_event_q:        ', input_tree.t_event_q)\n",
    "    #print(' t_track_q:        ', input_tree.t_track_q)\n",
    "    #print(' t_event_nhits:    ', input_tree.t_event_nhits)\n",
    "    print(' t_track_start:    [%.2f , %.2f , %.2f]' %(input_tree.t_track_start_pos_x,input_tree.t_track_start_pos_y,input_tree.t_track_start_pos_z))\n",
    "    print(' t_track_end:      [%.2f , %.2f , %.2f]' %(input_tree.t_track_end_pos_x,input_tree.t_track_end_pos_y,input_tree.t_track_end_pos_z))\n",
    "    #print(' max(start_y):     ', max(input_tree.t_track_start_pos_y,input_tree.t_track_end_pos_y))\n",
    "    #print(' min(start_y):     ', min(input_tree.t_track_start_pos_y,input_tree.t_track_end_pos_y))\n",
    "    print(' t_track_nhits:    ', input_tree.t_track_nhits)\n",
    "    #print(' t_track_res_x:    ', input_tree.t_track_residual_x)\n",
    "    #print(' t_track_res_y:    ', input_tree.t_track_residual_y)\n",
    "    #print(' t_track_res_z:    ', input_tree.t_track_residual_z)\n",
    "    #print(' sqrt(res_sum2):   ', np.sqrt(input_tree.t_track_residual_x**2 + input_tree.t_track_residual_y**2 + input_tree.t_track_residual_z**2  ))\n",
    "    \n",
    "    #print(' l_LCM_tot :      ', input_tree.l_tlcm1_tot)\n",
    "    '''\n",
    "    \n",
    "    # Loop over all hits\n",
    "    for hit in range(input_tree.t_track_nhits):\n",
    "        hits_x.append(input_tree.t_track_hits_x[hit])\n",
    "        hits_y.append(input_tree.t_track_hits_y[hit])\n",
    "        hits_z.append(input_tree.t_track_hits_z[hit])\n",
    "        hits_q.append(input_tree.t_track_hits_q[hit])\n",
    "    \n",
    "    \n",
    "    # Plot 2D projection (onto xy pixel tile)\n",
    "    x_min    = pixels_x_min\n",
    "    x_max    = pixels_x_max\n",
    "    y_min    = pixels_y_min\n",
    "    y_max    = pixels_y_max\n",
    "    n_bins_x = n_pixels_x\n",
    "    n_bins_y = n_pixels_y\n",
    "    x_bins = np.linspace(x_min,x_max,n_bins_x)\n",
    "    y_bins = np.linspace(y_min,y_max,n_bins_y)\n",
    "    #save_name = 'plots/'+str(plot_folder)+'/eventDisplays/trackID_'+str(input_tree.t_trackID)+'_2D.png'\n",
    "    save_name = 'plots/'+str(plot_folder)+'/eventDisplays/chain_'+str(chain)+'_trackID_'+str(input_tree.t_trackID)+'_2D.png'\n",
    "    plot_event_2D([hits_x,hits_y,hits_q],x_bins,y_bins,['Coordinate x [mm]','Coordinate y [mm]','Charge Deposition [ke]'],save_name)\n",
    "    \n",
    "    \n",
    "    # Plot 3D event display\n",
    "    x_min    = pixels_x_min\n",
    "    x_max    = pixels_x_max\n",
    "    y_min    = pixels_y_min\n",
    "    y_max    = pixels_y_max\n",
    "    z_min    = 0\n",
    "    z_max    = max(pixels_z_max,np.max(hits_z))\n",
    "    n_bins_x = n_pixels_x\n",
    "    n_bins_y = n_pixels_y\n",
    "    n_bins_z = n_pixels_z\n",
    "    x_bins = np.linspace(x_min,x_max,n_bins_x)\n",
    "    y_bins = np.linspace(y_min,y_max,n_bins_y)\n",
    "    z_bins = np.linspace(z_min,z_max,n_bins_z)\n",
    "    #save_name = 'plots/'+str(plot_folder)+'/eventDisplays/trackID_'+str(input_tree.t_trackID)+'_3D.png'\n",
    "    save_name = 'plots/'+str(plot_folder)+'/eventDisplays/chain_'+str(chain)+'_trackID_'+str(input_tree.t_trackID)+'_3D.png'\n",
    "    plot_event_3D([hits_x,hits_y,hits_z,hits_q],x_bins,y_bins,z_bins,\\\n",
    "                  ['Coordinate x [mm]','Coordinate y [mm]','Coordinate z [mm]','Charge Deposition [ke]'],save_name)\n",
    "    '''\n",
    "    # OLD VERSION\n",
    "    fig = plt.figure()\n",
    "    ax = fig.add_subplot(111, projection='3d')\n",
    "    ax.set_xlim((pixels_x_min,pixels_x_max))\n",
    "    ax.set_ylim((pixels_y_min,pixels_y_max))\n",
    "    ax.set_zlim((0.,max(3200,np.max(hits_z))))\n",
    "    img = ax.scatter(hits_x,hits_y,hits_z,c=hits_q,cmap=plt.hot())\n",
    "    fig.colorbar(img)\n",
    "    plt.show()\n",
    "    save_name = 'evDisplay_3D.png'\n",
    "    plt.savefig(save_name, dpi=400)\n",
    "    plt.close()\n",
    "    '''\n",
    "    \n",
    "print('Done.')"
   ]
  },
  {
   "cell_type": "markdown",
   "metadata": {},
   "source": [
    "### Testing Voxelisation algorithm"
   ]
  },
  {
   "cell_type": "code",
   "execution_count": null,
   "metadata": {},
   "outputs": [],
   "source": [
    "'''\n",
    "# Get all hits in the EVENT (!) and make voxelisation\n",
    "voxels = np.zeros((n_voxels_x, n_voxels_y, n_voxels_z))\n",
    "\n",
    "for hit in range(10): #input_tree.t_event_nhits):\n",
    "    #print(' hit: ', hit, ' \\t x: ', input_tree.t_event_hits_x[hit], '\\t y: ', input_tree.t_event_hits_y[hit], ' \\t z: ', input_tree.t_event_hits_z[hit])\n",
    "\n",
    "    voxel_x = math.floor((input_tree.t_event_hits_x[hit]+(pitch_x*(n_voxels_x)/2.))/pitch_x)\n",
    "    voxel_y = math.floor((input_tree.t_event_hits_y[hit]+(pitch_y*(n_voxels_y)/2.))/pitch_y)\n",
    "    voxel_z = math.floor((input_tree.t_event_hits_z[hit]+(pitch_z*(n_voxels_z)/2.))/pitch_z)\n",
    "\n",
    "    #print(' voxel_x: ', voxel_x, ' \\t voxel_y: ', voxel_y, ' \\t voxel_z: ', voxel_z)\n",
    "    if voxel_x<n_voxels_x and voxel_y<n_voxels_y and voxel_z<n_voxels_z:\n",
    "        voxels[voxel_x][voxel_y][voxel_z] += input_tree.t_event_hits_q[hit]\n",
    "    # TODO: make under- and overflow voxel for every coordinate\n",
    "\n",
    "    h3_event_hits.Fill(input_tree.t_event_hits_x[hit],input_tree.t_event_hits_y[hit],input_tree.t_event_hits_z[hit],input_tree.t_event_hits_q[hit])\n",
    "\n",
    "for vox_x in range(n_voxels_x):\n",
    "    vox_x_middle = x_min + (vox_x+0.5)*pitch_x\n",
    "    for vox_y in range(n_voxels_y):\n",
    "        vox_y_middle = y_min + (vox_y+0.5)*pitch_y\n",
    "        for vox_z in range(n_voxels_z):\n",
    "            vox_z_middle = z_min + (vox_z+0.5)*pitch_z\n",
    "            if voxels[vox_x][vox_y][vox_z] > 0:\n",
    "                ntuple.Fill(vox_x_middle,vox_y_middle,vox_z_middle,voxels[vox_x][vox_y][vox_z])\n",
    "                #h3_event_hits.Fill(vox_x_middle,vox_y_middle,vox_z_middle,voxels[vox_x][vox_y][vox_z])\n",
    "'''\n",
    "print('Done.')"
   ]
  },
  {
   "cell_type": "code",
   "execution_count": null,
   "metadata": {},
   "outputs": [],
   "source": []
  }
 ],
 "metadata": {
  "kernelspec": {
   "display_name": "Python 3",
   "language": "python",
   "name": "python3"
  },
  "language_info": {
   "codemirror_mode": {
    "name": "ipython",
    "version": 3
   },
   "file_extension": ".py",
   "mimetype": "text/x-python",
   "name": "python",
   "nbconvert_exporter": "python",
   "pygments_lexer": "ipython3",
   "version": "3.8.5"
  }
 },
 "nbformat": 4,
 "nbformat_minor": 4
}
