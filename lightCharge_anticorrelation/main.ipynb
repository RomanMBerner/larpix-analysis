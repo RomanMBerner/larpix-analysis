{
 "cells": [
  {
   "cell_type": "markdown",
   "metadata": {},
   "source": [
    "# Description:\n",
    "To be done"
   ]
  },
  {
   "cell_type": "markdown",
   "metadata": {},
   "source": [
    "### Imports"
   ]
  },
  {
   "cell_type": "code",
   "execution_count": 1,
   "metadata": {},
   "outputs": [
    {
     "name": "stdout",
     "output_type": "stream",
     "text": [
      "Welcome to JupyROOT 6.22/02\n"
     ]
    }
   ],
   "source": [
    "#import argparse\n",
    "#from array import array\n",
    "import glob\n",
    "import math\n",
    "import numpy as np\n",
    "import os\n",
    "import ROOT\n",
    "from ROOT import TCanvas, TFile, TProfile, TNtuple, TH1F, TH2F, TH3F, TH1, TLine\n",
    "#from ROOT import gROOT, gBenchmark, gRandom, gSystem, Double, gStyle\n",
    "import scipy\n",
    "from scipy import stats\n",
    "import time"
   ]
  },
  {
   "cell_type": "markdown",
   "metadata": {},
   "source": [
    "### ROOT Batch Mode"
   ]
  },
  {
   "cell_type": "code",
   "execution_count": 2,
   "metadata": {},
   "outputs": [],
   "source": [
    "# ROOT.gROOT.SetBatch(1)"
   ]
  },
  {
   "cell_type": "markdown",
   "metadata": {},
   "source": [
    "### Paths"
   ]
  },
  {
   "cell_type": "code",
   "execution_count": 3,
   "metadata": {},
   "outputs": [
    {
     "name": "stdout",
     "output_type": "stream",
     "text": [
      " datapath:    /data/SingleModule_Nov2020/LArPix/dataRuns/rootTrees/combined_with_light\n",
      " outputpath:  /home/lhep/PACMAN/larpix-analysis/lightCharge_anticorrelation\n",
      " datafiles ( 22 ): \n",
      "               sync_wLightReco_20201129_122204.root\n",
      "               sync_wLightReco_20201129_122655.root\n",
      "               sync_wLightReco_20201129_130449.root\n",
      "               sync_wLightReco_20201129_134857.root\n",
      "               sync_wLightReco_20201129_143427.root\n",
      "               sync_wLightReco_20201129_150749.root\n",
      "               sync_wLightReco_20201129_155227.root\n",
      "               sync_wLightReco_20201129_162434.root\n",
      "               sync_wLightReco_20201129_170918.root\n",
      "               sync_wLightReco_20201129_174140.root\n",
      "               sync_wLightReco_20201129_182214.root\n",
      "               sync_wLightReco_20201129_185437.root\n",
      "               sync_wLightReco_20201129_193550.root\n",
      "               sync_wLightReco_20201129_200721.root\n",
      "               sync_wLightReco_20201129_204607.root\n",
      "               sync_wLightReco_20201129_211819.root\n",
      "               sync_wLightReco_20201129_215550.root\n",
      "               sync_wLightReco_20201129_222751.root\n",
      "               sync_wLightReco_20201129_230700.root\n",
      "               sync_wLightReco_20201129_234000.root\n",
      "               sync_wLightReco_20201130_002722.root\n",
      "               sync_wLightReco_20201130_005847.root\n"
     ]
    }
   ],
   "source": [
    "# ============================================================\n",
    "# Set paths\n",
    "# ============================================================\n",
    "datapath = '/data/SingleModule_Nov2020/LArPix/dataRuns/rootTrees/combined_with_light'\n",
    "print(' datapath:   ', datapath)\n",
    "\n",
    "outputpath = '/home/lhep/PACMAN/larpix-analysis/lightCharge_anticorrelation'\n",
    "print(' outputpath: ', outputpath)\n",
    "\n",
    "files = sorted([os.path.basename(path) for path in glob.glob(datapath+'/*.root')])\n",
    "print(' datafiles (', len(files), '): ')\n",
    "for f in files:\n",
    "    print('              ', f)"
   ]
  },
  {
   "cell_type": "markdown",
   "metadata": {},
   "source": [
    "### Define voxelisation"
   ]
  },
  {
   "cell_type": "code",
   "execution_count": 4,
   "metadata": {},
   "outputs": [],
   "source": [
    "# ============================================================\n",
    "# Define voxelisation\n",
    "# ============================================================\n",
    "n_pixels_x = 70\n",
    "n_pixels_y = 70\n",
    "n_pixels_z = 70\n",
    "pitch_x = 4.434\n",
    "pitch_y = 4.434\n",
    "pitch_z = 4.434\n",
    "pixels_x_min = - pitch_x * n_pixels_x/2. #-155.19\n",
    "pixels_x_max =   pitch_x * n_pixels_x/2. # 155.19\n",
    "pixels_y_min = - pitch_y * n_pixels_y/2. #-155.19\n",
    "pixels_y_max =   pitch_y * n_pixels_y/2. # 155.19\n",
    "pixels_z_min = 0.\n",
    "pixels_z_max = n_pixels_z*pitch_z*10 # factor 10 for correction... TODO: CHANGE THIS FOR NEXT PRODUCTION!!"
   ]
  },
  {
   "cell_type": "markdown",
   "metadata": {},
   "source": [
    "### Define which plots to make"
   ]
  },
  {
   "cell_type": "code",
   "execution_count": 5,
   "metadata": {},
   "outputs": [],
   "source": [
    "plot_all                                      = True\n",
    "\n",
    "plot_chargeYield_vs_hitPosX                   = True\n",
    "plot_chargeYield_vs_eField                    = True\n",
    "plot_lightYield                               = False\n",
    "plot_trackLength                              = False\n",
    "plot_theta_vs_spread_x                        = False\n",
    "plot_phi_vs_spread_x                          = False\n",
    "plot_nHits                                    = False\n",
    "plot_q_raw_tot                                = False\n",
    "plot_q_corr_tot                               = False\n",
    "plot_dQdl                                     = False\n",
    "plot_startPosY_vs_startPosX                   = False\n",
    "plot_endPosY_vs_endPosX                       = False\n",
    "plot_startPosZ_vs_endPosZ                     = False\n",
    "plot_nHits_vs_trackLength                     = False\n",
    "plot_3D_graviCentre                           = False\n",
    "plot_graviCentre_projection_xy                = False\n",
    "plot_graviCentre_projection_xz                = False\n",
    "plot_graviCentre_projection_yz                = False\n",
    "plot_lightYield_vs_graviCentre_x              = False\n",
    "plot_lightYield_vs_graviCentre_x_Selection    = False\n",
    "plot_lightYield_vs_graviCentre_x_ProfilePlot  = False\n",
    "plot_chargeYield_vs_eField                    = False\n",
    "plot_chargeYield_vs_eField_ProfilePlot        = False\n",
    "plot_chargeYield_vs_graviCentre_x             = False\n",
    "plot_chargeYield_vs_graviCentre_x_Selection   = False\n",
    "plot_chargeYield_vs_graviCentre_x_ProfilePlot = False"
   ]
  },
  {
   "cell_type": "markdown",
   "metadata": {},
   "source": [
    "### Make a single TChain with input files"
   ]
  },
  {
   "cell_type": "code",
   "execution_count": 6,
   "metadata": {},
   "outputs": [
    {
     "name": "stdout",
     "output_type": "stream",
     "text": [
      "Done.\n"
     ]
    }
   ],
   "source": [
    "'''\n",
    "#inputFileName = files[0]\n",
    "inputFileName = 'sync_wLightReco_20201129_122204.root'\n",
    "print(' Processing file', inputFileName)\n",
    "\n",
    "input_tree = ROOT.TChain(\"t_out\", \"t_out\")\n",
    "input_tree.Add(datapath + '/' + inputFileName)\n",
    "#for root_file in config[\"data_files\"]:\n",
    "#    input_tree.Add(root_file)\n",
    "#input_tree.Add( \"/path/to.root\" )\n",
    "\n",
    "# Turn on all branches of input tree\n",
    "input_tree.SetBranchStatus(\"*\",           1)\n",
    "'''\n",
    "print('Done.')"
   ]
  },
  {
   "cell_type": "markdown",
   "metadata": {},
   "source": [
    "### Make List of TChains\n",
    "Note: Make for every file a separate TChain.\n",
    "Could substitute >1 files to a single TChain, but then it is more complicated to apply the electron lifetime correction..."
   ]
  },
  {
   "cell_type": "code",
   "execution_count": 7,
   "metadata": {},
   "outputs": [
    {
     "name": "stdout",
     "output_type": "stream",
     "text": [
      "Number of different field intensities:  10\n",
      "List with input trees: \n",
      "    1.0 kV/cm: \t [ Name: t_out Title: t_out ] \t ( 1807 entries )\n",
      "    1.0 kV/cm: \t [ Name: t_out Title: t_out ] \t ( 19770 entries )\n",
      "    1.0 kV/cm: \t [ Name: t_out Title: t_out ] \t ( 19234 entries )\n",
      "    1.0 kV/cm: \t [ Name: t_out Title: t_out ] \t ( 19520 entries )\n",
      "    0.9 kV/cm: \t [ Name: t_out Title: t_out ] \t ( 19657 entries )\n",
      "    0.9 kV/cm: \t [ Name: t_out Title: t_out ] \t ( 19369 entries )\n",
      "    0.8 kV/cm: \t [ Name: t_out Title: t_out ] \t ( 19261 entries )\n",
      "    0.8 kV/cm: \t [ Name: t_out Title: t_out ] \t ( 18800 entries )\n",
      "    0.7 kV/cm: \t [ Name: t_out Title: t_out ] \t ( 19185 entries )\n",
      "    0.7 kV/cm: \t [ Name: t_out Title: t_out ] \t ( 18178 entries )\n",
      "    0.6 kV/cm: \t [ Name: t_out Title: t_out ] \t ( 18720 entries )\n",
      "    0.6 kV/cm: \t [ Name: t_out Title: t_out ] \t ( 18202 entries )\n",
      "    0.5 kV/cm: \t [ Name: t_out Title: t_out ] \t ( 18086 entries )\n",
      "    0.5 kV/cm: \t [ Name: t_out Title: t_out ] \t ( 18149 entries )\n",
      "    0.4 kV/cm: \t [ Name: t_out Title: t_out ] \t ( 15773 entries )\n",
      "    0.4 kV/cm: \t [ Name: t_out Title: t_out ] \t ( 15905 entries )\n",
      "    0.3 kV/cm: \t [ Name: t_out Title: t_out ] \t ( 12815 entries )\n",
      "    0.3 kV/cm: \t [ Name: t_out Title: t_out ] \t ( 12816 entries )\n",
      "    0.2 kV/cm: \t [ Name: t_out Title: t_out ] \t ( 7770 entries )\n",
      "    0.2 kV/cm: \t [ Name: t_out Title: t_out ] \t ( 1144 entries )\n",
      "    0.1 kV/cm: \t [ Name: t_out Title: t_out ] \t ( 2068 entries )\n",
      "    0.1 kV/cm: \t [ Name: t_out Title: t_out ] \t ( 1964 entries )\n",
      "Done.\n"
     ]
    }
   ],
   "source": [
    "#inputFileName = files[20]\n",
    "#inputFileName = 'sync_wLightReco_20201129_122204.root'\n",
    "#print(' Processing file', inputFileName)\n",
    "\n",
    "input_tree_list       = []\n",
    "eField_intensity_list = [] # [kV/cm]\n",
    "\n",
    "'''\n",
    "for i in range(10):\n",
    "    input_tree = ROOT.TChain(\"t_out\", \"t_out\")\n",
    "    \n",
    "    if i == 0: # 0.1 kV/cm\n",
    "        input_tree.Add(datapath + '/sync_wLightReco_20201130_002722.root')\n",
    "        input_tree.Add(datapath + '/sync_wLightReco_20201130_005847.root')\n",
    "        eField_intensity_list.append(0.1)\n",
    "    if i == 1: # 0.2 kV/cm\n",
    "        input_tree.Add(datapath + '/sync_wLightReco_20201129_230700.root')\n",
    "        input_tree.Add(datapath + '/sync_wLightReco_20201129_234000.root')\n",
    "        eField_intensity_list.append(0.2)\n",
    "    if i == 2: # 0.3 kV/cm\n",
    "        input_tree.Add(datapath + '/sync_wLightReco_20201129_215550.root')\n",
    "        input_tree.Add(datapath + '/sync_wLightReco_20201129_222751.root')\n",
    "        eField_intensity_list.append(0.3)\n",
    "    if i == 3: # 0.4 kV/cm\n",
    "        input_tree.Add(datapath + '/sync_wLightReco_20201129_204607.root')\n",
    "        input_tree.Add(datapath + '/sync_wLightReco_20201129_211819.root')\n",
    "        eField_intensity_list.append(0.4)\n",
    "    if i == 4: # 0.5 kV/cm\n",
    "        input_tree.Add(datapath + '/sync_wLightReco_20201129_193550.root')\n",
    "        input_tree.Add(datapath + '/sync_wLightReco_20201129_200721.root')\n",
    "        eField_intensity_list.append(0.5)\n",
    "    if i == 5: # 0.6 kV/cm\n",
    "        input_tree.Add(datapath + '/sync_wLightReco_20201129_182214.root')\n",
    "        input_tree.Add(datapath + '/sync_wLightReco_20201129_185437.root')\n",
    "        eField_intensity_list.append(0.6)\n",
    "    if i == 6: # 0.7 kV/cm\n",
    "        input_tree.Add(datapath + '/sync_wLightReco_20201129_170918.root')\n",
    "        input_tree.Add(datapath + '/sync_wLightReco_20201129_174140.root')\n",
    "        eField_intensity_list.append(0.7)\n",
    "    if i == 7: # 0.8 kV/cm\n",
    "        input_tree.Add(datapath + '/sync_wLightReco_20201129_155227.root')\n",
    "        input_tree.Add(datapath + '/sync_wLightReco_20201129_162434.root')\n",
    "        eField_intensity_list.append(0.8)\n",
    "    if i == 8: # 0.9 kV/cm\n",
    "        input_tree.Add(datapath + '/sync_wLightReco_20201129_143427.root')\n",
    "        input_tree.Add(datapath + '/sync_wLightReco_20201129_150749.root')\n",
    "        eField_intensity_list.append(0.9)\n",
    "    if i == 9: # 1.0 kV/cm\n",
    "        input_tree.Add(datapath + '/sync_wLightReco_20201129_122204.root')\n",
    "        input_tree.Add(datapath + '/sync_wLightReco_20201129_122655.root')\n",
    "        input_tree.Add(datapath + '/sync_wLightReco_20201129_130449.root')\n",
    "        input_tree.Add(datapath + '/sync_wLightReco_20201129_134857.root')\n",
    "        eField_intensity_list.append(1.0)\n",
    "    \n",
    "    # Turn on all branches of input tree\n",
    "    input_tree.SetBranchStatus(\"*\",           1)\n",
    "    \n",
    "    # Append input_tree TChain to the input_tree_list\n",
    "    input_tree_list.append(input_tree)\n",
    "'''\n",
    "\n",
    "for i in range(len(files)):\n",
    "    input_tree = ROOT.TChain(\"t_out\", \"t_out\")\n",
    "    #print(' files[',i,']: ', files[i])\n",
    "    \n",
    "    if files[i] == 'sync_wLightReco_20201130_002722.root' or\\\n",
    "       files[i] == 'sync_wLightReco_20201130_005847.root':\n",
    "        input_tree.Add(datapath + '/' + files[i])\n",
    "        eField_intensity_list.append(0.1)\n",
    "    if files[i] == 'sync_wLightReco_20201129_230700.root' or\\\n",
    "       files[i] == 'sync_wLightReco_20201129_234000.root':\n",
    "        input_tree.Add(datapath + '/' + files[i])\n",
    "        eField_intensity_list.append(0.2)\n",
    "    if files[i] == 'sync_wLightReco_20201129_215550.root' or\\\n",
    "       files[i] == 'sync_wLightReco_20201129_222751.root':\n",
    "        input_tree.Add(datapath + '/' + files[i])\n",
    "        eField_intensity_list.append(0.3)\n",
    "    if files[i] == 'sync_wLightReco_20201129_204607.root' or\\\n",
    "       files[i] == 'sync_wLightReco_20201129_211819.root':\n",
    "        input_tree.Add(datapath + '/' + files[i])\n",
    "        eField_intensity_list.append(0.4)\n",
    "    if files[i] == 'sync_wLightReco_20201129_193550.root' or\\\n",
    "       files[i] == 'sync_wLightReco_20201129_200721.root':\n",
    "        input_tree.Add(datapath + '/' + files[i])\n",
    "        eField_intensity_list.append(0.5)\n",
    "    if files[i] == 'sync_wLightReco_20201129_182214.root' or\\\n",
    "       files[i] == 'sync_wLightReco_20201129_185437.root':\n",
    "        input_tree.Add(datapath + '/' + files[i])\n",
    "        eField_intensity_list.append(0.6)\n",
    "    if files[i] == 'sync_wLightReco_20201129_170918.root' or\\\n",
    "       files[i] == 'sync_wLightReco_20201129_174140.root':\n",
    "        input_tree.Add(datapath + '/' + files[i])\n",
    "        eField_intensity_list.append(0.7)\n",
    "    if files[i] == 'sync_wLightReco_20201129_155227.root' or\\\n",
    "       files[i] == 'sync_wLightReco_20201129_162434.root':\n",
    "        input_tree.Add(datapath + '/' + files[i])\n",
    "        eField_intensity_list.append(0.8)\n",
    "    if files[i] == 'sync_wLightReco_20201129_143427.root' or\\\n",
    "       files[i] == 'sync_wLightReco_20201129_150749.root':\n",
    "        input_tree.Add(datapath + '/' + files[i])\n",
    "        eField_intensity_list.append(0.9)\n",
    "    if files[i] == 'sync_wLightReco_20201129_122204.root' or\\\n",
    "       files[i] == 'sync_wLightReco_20201129_122655.root' or\\\n",
    "       files[i] == 'sync_wLightReco_20201129_130449.root' or\\\n",
    "       files[i] == 'sync_wLightReco_20201129_134857.root':\n",
    "        input_tree.Add(datapath + '/' + files[i])\n",
    "        eField_intensity_list.append(1.0)\n",
    "    \n",
    "    # Turn on all branches of input tree\n",
    "    input_tree.SetBranchStatus(\"*\",           1)\n",
    "    \n",
    "    # Append input_tree TChain to the input_tree_list\n",
    "    input_tree_list.append(input_tree)\n",
    "    \n",
    "n_field_intensities = len(np.unique(eField_intensity_list))\n",
    "print('Number of different field intensities: ', n_field_intensities)\n",
    "    \n",
    "print('List with input trees: ')\n",
    "for i in range(len(input_tree_list)):\n",
    "    print('   ', eField_intensity_list[i], 'kV/cm: \\t [', input_tree_list[i], '] \\t (', input_tree_list[i].GetEntries(), 'entries )')\n",
    "    \n",
    "print('Done.')"
   ]
  },
  {
   "cell_type": "markdown",
   "metadata": {},
   "source": [
    "### Create directories for plots"
   ]
  },
  {
   "cell_type": "code",
   "execution_count": 8,
   "metadata": {},
   "outputs": [
    {
     "name": "stdout",
     "output_type": "stream",
     "text": [
      "Done.\n"
     ]
    }
   ],
   "source": [
    "'''\n",
    "# If make_plots: Create corresponding folder\n",
    "make_plots = True\n",
    "\n",
    "if make_plots:\n",
    "    plot_folder = inputFileName[16:-5]\n",
    "    os.system('rm -rf plots/' + str(plot_folder))\n",
    "    os.system('mkdir plots/' + str(plot_folder))\n",
    "    os.system('mkdir plots/' + str(plot_folder) + '/eventDisplays')\n",
    "'''\n",
    "for i in range(len(eField_intensity_list)):\n",
    "    plot_folder = str(eField_intensity_list[i]) + '_kV_per_cm'\n",
    "    os.system('rm -rf plots/' + str(plot_folder))\n",
    "    os.system('mkdir plots/' + str(plot_folder))\n",
    "    os.system('mkdir plots/' + str(plot_folder) + '/eventDisplays')\n",
    "print('Done.')"
   ]
  },
  {
   "cell_type": "markdown",
   "metadata": {},
   "source": [
    "### Define track selection cuts"
   ]
  },
  {
   "cell_type": "code",
   "execution_count": 9,
   "metadata": {},
   "outputs": [],
   "source": [
    "# Define Selection Cuts\n",
    "cut_ntracks      = 1    # Only consider events with number of reconstructed tracks == cut_ntracks\n",
    "cut_lenght       = 250. # Track minimum length [mm]\n",
    "cut_throughgoing = 130. # |max(track_start_y,track_end_y)| and |min(track_start_y,track_end_y)| must be greater than cut_throughgoing [mm] (tracks must start/end ad absolute y position > 130 mm, closer than ~2.5 cm from edge)\n",
    "cut_phi          = 20.  # degrees (theta is +/- 90 deg if track is parallel to y-plane / x=const.)\n",
    "#cut_nhits        = 50.  # Min. number of hits in the track [-]\n",
    "#cut_residual2    = 3.   # Maximum allowed sqrt(res_x**2+res_y**2+res_z**2), in order to only allow tracks which are 'track-like' with a small spread\n",
    "\n",
    "#TODO:\n",
    "# CUT ON ANGLE (THETA?) -> THETA? MUST BE CLOSE TO ZERO IN ORDER TO HAVE ALMOST VERTICAL TRACKS"
   ]
  },
  {
   "cell_type": "markdown",
   "metadata": {},
   "source": [
    "### Define electron drift velocities and lifetimes for every TChain"
   ]
  },
  {
   "cell_type": "code",
   "execution_count": 10,
   "metadata": {},
   "outputs": [
    {
     "name": "stdout",
     "output_type": "stream",
     "text": [
      " WARNING: eLifetime for file sync_wLightReco_20201130_002722.root not found in file  ../electron_lifetime/eLifetimes.txt\n",
      "          --> Setting it to 4.0 us +/- 4.0 us ...\n",
      "\n",
      " File summary: \n",
      "    file 0 :\t sync_wLightReco_20201129_122204.root \t E-field:  1.0 kV/cm \t eLifetime:  1783.182472273415 ms \t eDrift:  2.261 mm/us\n",
      "    file 1 :\t sync_wLightReco_20201129_122655.root \t E-field:  1.0 kV/cm \t eLifetime:  2569.0812476631095 ms \t eDrift:  2.261 mm/us\n",
      "    file 2 :\t sync_wLightReco_20201129_130449.root \t E-field:  1.0 kV/cm \t eLifetime:  3361.5834110334017 ms \t eDrift:  2.261 mm/us\n",
      "    file 3 :\t sync_wLightReco_20201129_134857.root \t E-field:  1.0 kV/cm \t eLifetime:  2809.8163978796074 ms \t eDrift:  2.261 mm/us\n",
      "    file 4 :\t sync_wLightReco_20201129_143427.root \t E-field:  0.9 kV/cm \t eLifetime:  3117.3401241172055 ms \t eDrift:  2.166 mm/us\n",
      "    file 5 :\t sync_wLightReco_20201129_150749.root \t E-field:  0.9 kV/cm \t eLifetime:  2553.872420974916 ms \t eDrift:  2.166 mm/us\n",
      "    file 6 :\t sync_wLightReco_20201129_155227.root \t E-field:  0.8 kV/cm \t eLifetime:  2899.1377148192323 ms \t eDrift:  2.06 mm/us\n",
      "    file 7 :\t sync_wLightReco_20201129_162434.root \t E-field:  0.8 kV/cm \t eLifetime:  2528.8823286720885 ms \t eDrift:  2.06 mm/us\n",
      "    file 8 :\t sync_wLightReco_20201129_170918.root \t E-field:  0.7 kV/cm \t eLifetime:  2595.407458871994 ms \t eDrift:  1.941 mm/us\n",
      "    file 9 :\t sync_wLightReco_20201129_174140.root \t E-field:  0.7 kV/cm \t eLifetime:  2371.4954377694776 ms \t eDrift:  1.941 mm/us\n",
      "    file 10 :\t sync_wLightReco_20201129_182214.root \t E-field:  0.6 kV/cm \t eLifetime:  3345.7594180493516 ms \t eDrift:  1.806 mm/us\n",
      "    file 11 :\t sync_wLightReco_20201129_185437.root \t E-field:  0.6 kV/cm \t eLifetime:  4955.168056564605 ms \t eDrift:  1.806 mm/us\n",
      "    file 12 :\t sync_wLightReco_20201129_193550.root \t E-field:  0.5 kV/cm \t eLifetime:  4064.231575533498 ms \t eDrift:  1.648 mm/us\n",
      "    file 13 :\t sync_wLightReco_20201129_200721.root \t E-field:  0.5 kV/cm \t eLifetime:  4561.418184588865 ms \t eDrift:  1.648 mm/us\n",
      "    file 14 :\t sync_wLightReco_20201129_204607.root \t E-field:  0.4 kV/cm \t eLifetime:  3415.6174380141197 ms \t eDrift:  1.461 mm/us\n",
      "    file 15 :\t sync_wLightReco_20201129_211819.root \t E-field:  0.4 kV/cm \t eLifetime:  2974.8076686530626 ms \t eDrift:  1.461 mm/us\n",
      "    file 16 :\t sync_wLightReco_20201129_215550.root \t E-field:  0.3 kV/cm \t eLifetime:  5049.478924138764 ms \t eDrift:  1.23 mm/us\n",
      "    file 17 :\t sync_wLightReco_20201129_222751.root \t E-field:  0.3 kV/cm \t eLifetime:  5261.657951978319 ms \t eDrift:  1.23 mm/us\n",
      "    file 18 :\t sync_wLightReco_20201129_230700.root \t E-field:  0.2 kV/cm \t eLifetime:  6553.752752610093 ms \t eDrift:  0.933 mm/us\n",
      "    file 19 :\t sync_wLightReco_20201129_234000.root \t E-field:  0.2 kV/cm \t eLifetime:  4082.9178780896523 ms \t eDrift:  0.933 mm/us\n",
      "    file 20 :\t sync_wLightReco_20201130_002722.root \t E-field:  0.1 kV/cm \t eLifetime:  4000.0 ms \t eDrift:  0.535 mm/us\n",
      "    file 21 :\t sync_wLightReco_20201130_005847.root \t E-field:  0.1 kV/cm \t eLifetime:  7638.208207029441 ms \t eDrift:  0.535 mm/us\n",
      "Done.\n"
     ]
    }
   ],
   "source": [
    "# Make lists with electron drift velocities and lifetimes\n",
    "eDrift_vel     = [] # drift velocities [mm/us]\n",
    "eLifetimes     = [] # one float for every TChain. Lifetime in [us]\n",
    "eLifetimes_err = [] # one float for every TChain. Lifetime uncertainty in [us]\n",
    "\n",
    "eLifetime_file = '../electron_lifetime/eLifetimes.txt'\n",
    "try:\n",
    "    file1 = open(eLifetime_file, 'r')\n",
    "    lines = file1.readlines()\n",
    "    file1.close()\n",
    "except:\n",
    "    print(' File '+str(eLifetime_file)+' not found...')\n",
    "\n",
    "for chain in range(len(input_tree_list)):\n",
    "    if   eField_intensity_list[chain] == 0.1: eDrift_vel.append(0.535)\n",
    "    elif eField_intensity_list[chain] == 0.2: eDrift_vel.append(0.933)\n",
    "    elif eField_intensity_list[chain] == 0.3: eDrift_vel.append(1.230)\n",
    "    elif eField_intensity_list[chain] == 0.4: eDrift_vel.append(1.461)\n",
    "    elif eField_intensity_list[chain] == 0.5: eDrift_vel.append(1.648)\n",
    "    elif eField_intensity_list[chain] == 0.6: eDrift_vel.append(1.806)\n",
    "    elif eField_intensity_list[chain] == 0.7: eDrift_vel.append(1.941)\n",
    "    elif eField_intensity_list[chain] == 0.8: eDrift_vel.append(2.060)\n",
    "    elif eField_intensity_list[chain] == 0.9: eDrift_vel.append(2.166)\n",
    "    elif eField_intensity_list[chain] == 1.0: eDrift_vel.append(2.261)\n",
    "    else:\n",
    "        print(' WARNING: No eDrift velocity defined for eField intensity =', eField_intensity_list[chain], 'kV/cm ...')\n",
    "        eDrift_vel.append(9999.9)\n",
    "    \n",
    "    eLifetime_assigned = False\n",
    "    for line in lines:\n",
    "        if eLifetime_assigned:\n",
    "            break\n",
    "        L = line.split(',')\n",
    "        if str(L[0]) == str(files[chain][16:-5]):\n",
    "            eLifetimes.append(float(L[1]))\n",
    "            eLifetimes_err.append(float(L[2]))\n",
    "            eLifetime_assigned = True\n",
    "        #else:\n",
    "        #    print(' WARNING: eLifetime for ', files[chain], ' not found in file ', eLifetime_file)\n",
    "    if not eLifetime_assigned:\n",
    "        print(' WARNING: eLifetime for file', files[chain], 'not found in file ', eLifetime_file)\n",
    "        print('          --> Setting it to 4.0 us +/- 4.0 us ...')\n",
    "        eLifetimes.append(4000.)\n",
    "        eLifetimes_err.append(4000.)\n",
    "    \n",
    "    #eLifetimes.append(2.0) # TODO: Put here the proper lifetimes!\n",
    "    \n",
    "print('\\n File summary: ')\n",
    "for i in range(len(input_tree_list)):\n",
    "    print('    file', i, ':\\t', files[i],\\\n",
    "          '\\t E-field: ', eField_intensity_list[i],\\\n",
    "          'kV/cm \\t eLifetime: ', eLifetimes[i],\\\n",
    "          'ms \\t eDrift: ', eDrift_vel[i], 'mm/us')    \n",
    "    \n",
    "print('Done.')"
   ]
  },
  {
   "cell_type": "markdown",
   "metadata": {},
   "source": [
    "### Loop over all TChains in input_tree_list"
   ]
  },
  {
   "cell_type": "code",
   "execution_count": 11,
   "metadata": {},
   "outputs": [
    {
     "name": "stdout",
     "output_type": "stream",
     "text": [
      "Done.\n"
     ]
    }
   ],
   "source": [
    "# Progress bar\n",
    "from IPython.display import HTML, display\n",
    "\n",
    "def progress(count, total, unit, message=''):\n",
    "    return HTML(\"\"\"\n",
    "        <progress \n",
    "            value='{count}'\n",
    "            max='{total}',\n",
    "            style='width: 30%'\n",
    "        >\n",
    "            {count}\n",
    "        </progress> {count}/{total} {unit} ({frac}%) ... {message}\n",
    "    \"\"\".format(count=count, total=total, unit=unit, frac=int(float(count)/float(total)*100.),message=message))\n",
    "\n",
    "print('Done.')"
   ]
  },
  {
   "cell_type": "code",
   "execution_count": 12,
   "metadata": {},
   "outputs": [
    {
     "data": {
      "text/html": [
       "\n",
       "        <progress \n",
       "            value='10'\n",
       "            max='10',\n",
       "            style='width: 30%'\n",
       "        >\n",
       "            10\n",
       "        </progress> 10/10 E-field processed (100%) ... \n",
       "    "
      ],
      "text/plain": [
       "<IPython.core.display.HTML object>"
      ]
     },
     "metadata": {},
     "output_type": "display_data"
    },
    {
     "name": "stdout",
     "output_type": "stream",
     "text": [
      " ----------------------------------------------------------------------------------- \n",
      " Processing chains with field_intensity:  0.1 kV/cm\n",
      "     Chain Nr. 20\n",
      "         eField [kV/cm]:      0.1\n",
      "         eLifetime [ms]:      4000.0\n",
      "         eDrift_vel [mm/us]:  0.535\n",
      "         Number of tracks :  2068\n",
      "             Processed 0 of 2068 tracks. \t Elapsed time: 1  seconds ... \n",
      "     Chain Nr. 21\n",
      "         eField [kV/cm]:      0.1\n",
      "         eLifetime [ms]:      7638.208207029441\n",
      "         eDrift_vel [mm/us]:  0.535\n",
      "         Number of tracks :  1964\n",
      "             Processed 0 of 1964 tracks. \t Elapsed time: 1  seconds ... \n",
      " ----------------------------------------------------------------------------------- \n",
      " Processing chains with field_intensity:  0.2 kV/cm\n",
      "     Chain Nr. 18\n",
      "         eField [kV/cm]:      0.2\n",
      "         eLifetime [ms]:      6553.752752610093\n",
      "         eDrift_vel [mm/us]:  0.933\n",
      "         Number of tracks :  7770\n",
      "             Processed 0 of 7770 tracks. \t Elapsed time: 1  seconds ... \n",
      "             Processed 5000 of 7770 tracks. \t Elapsed time: 1  seconds ... \n",
      "     Chain Nr. 19\n",
      "         eField [kV/cm]:      0.2\n",
      "         eLifetime [ms]:      4082.9178780896523\n",
      "         eDrift_vel [mm/us]:  0.933\n",
      "         Number of tracks :  1144\n",
      "             Processed 0 of 1144 tracks. \t Elapsed time: 2  seconds ... \n",
      " ----------------------------------------------------------------------------------- \n",
      " Processing chains with field_intensity:  0.3 kV/cm\n",
      "     Chain Nr. 16\n",
      "         eField [kV/cm]:      0.3\n",
      "         eLifetime [ms]:      5049.478924138764\n",
      "         eDrift_vel [mm/us]:  1.23\n",
      "         Number of tracks :  12815\n",
      "             Processed 0 of 12815 tracks. \t Elapsed time: 2  seconds ... \n",
      "             Processed 5000 of 12815 tracks. \t Elapsed time: 3  seconds ... \n",
      "             Processed 10000 of 12815 tracks. \t Elapsed time: 4  seconds ... \n",
      "     Chain Nr. 17\n",
      "         eField [kV/cm]:      0.3\n",
      "         eLifetime [ms]:      5261.657951978319\n",
      "         eDrift_vel [mm/us]:  1.23\n",
      "         Number of tracks :  12816\n",
      "             Processed 0 of 12816 tracks. \t Elapsed time: 5  seconds ... \n",
      "             Processed 5000 of 12816 tracks. \t Elapsed time: 6  seconds ... \n",
      "             Processed 10000 of 12816 tracks. \t Elapsed time: 7  seconds ... \n",
      " ----------------------------------------------------------------------------------- \n",
      " Processing chains with field_intensity:  0.4 kV/cm\n",
      "     Chain Nr. 14\n",
      "         eField [kV/cm]:      0.4\n",
      "         eLifetime [ms]:      3415.6174380141197\n",
      "         eDrift_vel [mm/us]:  1.461\n",
      "         Number of tracks :  15773\n",
      "             Processed 0 of 15773 tracks. \t Elapsed time: 7  seconds ... \n",
      "             Processed 5000 of 15773 tracks. \t Elapsed time: 9  seconds ... \n",
      "             Processed 10000 of 15773 tracks. \t Elapsed time: 11  seconds ... \n",
      "             Processed 15000 of 15773 tracks. \t Elapsed time: 12  seconds ... \n",
      "     Chain Nr. 15\n",
      "         eField [kV/cm]:      0.4\n",
      "         eLifetime [ms]:      2974.8076686530626\n",
      "         eDrift_vel [mm/us]:  1.461\n",
      "         Number of tracks :  15905\n",
      "             Processed 0 of 15905 tracks. \t Elapsed time: 12  seconds ... \n",
      "             Processed 5000 of 15905 tracks. \t Elapsed time: 14  seconds ... \n",
      "             Processed 10000 of 15905 tracks. \t Elapsed time: 16  seconds ... \n",
      "             Processed 15000 of 15905 tracks. \t Elapsed time: 17  seconds ... \n",
      " ----------------------------------------------------------------------------------- \n",
      " Processing chains with field_intensity:  0.5 kV/cm\n",
      "     Chain Nr. 12\n",
      "         eField [kV/cm]:      0.5\n",
      "         eLifetime [ms]:      4064.231575533498\n",
      "         eDrift_vel [mm/us]:  1.648\n",
      "         Number of tracks :  18086\n",
      "             Processed 0 of 18086 tracks. \t Elapsed time: 17  seconds ... \n",
      "             Processed 5000 of 18086 tracks. \t Elapsed time: 19  seconds ... \n",
      "             Processed 10000 of 18086 tracks. \t Elapsed time: 22  seconds ... \n",
      "             Processed 15000 of 18086 tracks. \t Elapsed time: 24  seconds ... \n",
      "     Chain Nr. 13\n",
      "         eField [kV/cm]:      0.5\n",
      "         eLifetime [ms]:      4561.418184588865\n",
      "         eDrift_vel [mm/us]:  1.648\n",
      "         Number of tracks :  18149\n",
      "             Processed 0 of 18149 tracks. \t Elapsed time: 25  seconds ... \n",
      "             Processed 5000 of 18149 tracks. \t Elapsed time: 27  seconds ... \n",
      "             Processed 10000 of 18149 tracks. \t Elapsed time: 29  seconds ... \n",
      "             Processed 15000 of 18149 tracks. \t Elapsed time: 32  seconds ... \n",
      " ----------------------------------------------------------------------------------- \n",
      " Processing chains with field_intensity:  0.6 kV/cm\n",
      "     Chain Nr. 10\n",
      "         eField [kV/cm]:      0.6\n",
      "         eLifetime [ms]:      3345.7594180493516\n",
      "         eDrift_vel [mm/us]:  1.806\n",
      "         Number of tracks :  18720\n",
      "             Processed 0 of 18720 tracks. \t Elapsed time: 33  seconds ... \n",
      "             Processed 5000 of 18720 tracks. \t Elapsed time: 36  seconds ... \n",
      "             Processed 10000 of 18720 tracks. \t Elapsed time: 38  seconds ... \n",
      "             Processed 15000 of 18720 tracks. \t Elapsed time: 41  seconds ... \n",
      "     Chain Nr. 11\n",
      "         eField [kV/cm]:      0.6\n",
      "         eLifetime [ms]:      4955.168056564605\n",
      "         eDrift_vel [mm/us]:  1.806\n",
      "         Number of tracks :  18202\n",
      "             Processed 0 of 18202 tracks. \t Elapsed time: 43  seconds ... \n",
      "             Processed 5000 of 18202 tracks. \t Elapsed time: 46  seconds ... \n",
      "             Processed 10000 of 18202 tracks. \t Elapsed time: 49  seconds ... \n",
      "             Processed 15000 of 18202 tracks. \t Elapsed time: 51  seconds ... \n",
      " ----------------------------------------------------------------------------------- \n",
      " Processing chains with field_intensity:  0.7 kV/cm\n",
      "     Chain Nr. 8\n",
      "         eField [kV/cm]:      0.7\n",
      "         eLifetime [ms]:      2595.407458871994\n",
      "         eDrift_vel [mm/us]:  1.941\n",
      "         Number of tracks :  19185\n",
      "             Processed 0 of 19185 tracks. \t Elapsed time: 53  seconds ... \n",
      "             Processed 5000 of 19185 tracks. \t Elapsed time: 56  seconds ... \n",
      "             Processed 10000 of 19185 tracks. \t Elapsed time: 59  seconds ... \n",
      "             Processed 15000 of 19185 tracks. \t Elapsed time: 62  seconds ... \n",
      "     Chain Nr. 9\n",
      "         eField [kV/cm]:      0.7\n",
      "         eLifetime [ms]:      2371.4954377694776\n",
      "         eDrift_vel [mm/us]:  1.941\n",
      "         Number of tracks :  18178\n",
      "             Processed 0 of 18178 tracks. \t Elapsed time: 64  seconds ... \n",
      "             Processed 5000 of 18178 tracks. \t Elapsed time: 67  seconds ... \n",
      "             Processed 10000 of 18178 tracks. \t Elapsed time: 70  seconds ... \n",
      "             Processed 15000 of 18178 tracks. \t Elapsed time: 73  seconds ... \n",
      " ----------------------------------------------------------------------------------- \n",
      " Processing chains with field_intensity:  0.8 kV/cm\n",
      "     Chain Nr. 6\n",
      "         eField [kV/cm]:      0.8\n",
      "         eLifetime [ms]:      2899.1377148192323\n",
      "         eDrift_vel [mm/us]:  2.06\n",
      "         Number of tracks :  19261\n",
      "             Processed 0 of 19261 tracks. \t Elapsed time: 75  seconds ... \n",
      "             Processed 5000 of 19261 tracks. \t Elapsed time: 78  seconds ... \n",
      "             Processed 10000 of 19261 tracks. \t Elapsed time: 81  seconds ... \n",
      "             Processed 15000 of 19261 tracks. \t Elapsed time: 85  seconds ... \n",
      "     Chain Nr. 7\n",
      "         eField [kV/cm]:      0.8\n",
      "         eLifetime [ms]:      2528.8823286720885\n",
      "         eDrift_vel [mm/us]:  2.06\n",
      "         Number of tracks :  18800\n",
      "             Processed 0 of 18800 tracks. \t Elapsed time: 87  seconds ... \n",
      "             Processed 5000 of 18800 tracks. \t Elapsed time: 90  seconds ... \n",
      "             Processed 10000 of 18800 tracks. \t Elapsed time: 94  seconds ... \n",
      "             Processed 15000 of 18800 tracks. \t Elapsed time: 97  seconds ... \n",
      " ----------------------------------------------------------------------------------- \n",
      " Processing chains with field_intensity:  0.9 kV/cm\n",
      "     Chain Nr. 4\n",
      "         eField [kV/cm]:      0.9\n",
      "         eLifetime [ms]:      3117.3401241172055\n",
      "         eDrift_vel [mm/us]:  2.166\n",
      "         Number of tracks :  19657\n",
      "             Processed 0 of 19657 tracks. \t Elapsed time: 99  seconds ... \n",
      "             Processed 5000 of 19657 tracks. \t Elapsed time: 103  seconds ... \n",
      "             Processed 10000 of 19657 tracks. \t Elapsed time: 106  seconds ... \n",
      "             Processed 15000 of 19657 tracks. \t Elapsed time: 109  seconds ... \n",
      "     Chain Nr. 5\n",
      "         eField [kV/cm]:      0.9\n",
      "         eLifetime [ms]:      2553.872420974916\n",
      "         eDrift_vel [mm/us]:  2.166\n",
      "         Number of tracks :  19369\n",
      "             Processed 0 of 19369 tracks. \t Elapsed time: 112  seconds ... \n",
      "             Processed 5000 of 19369 tracks. \t Elapsed time: 116  seconds ... \n",
      "             Processed 10000 of 19369 tracks. \t Elapsed time: 119  seconds ... \n",
      "             Processed 15000 of 19369 tracks. \t Elapsed time: 122  seconds ... \n",
      " ----------------------------------------------------------------------------------- \n",
      " Processing chains with field_intensity:  1.0 kV/cm\n",
      "     Chain Nr. 2\n",
      "         eField [kV/cm]:      1.0\n",
      "         eLifetime [ms]:      3361.5834110334017\n",
      "         eDrift_vel [mm/us]:  2.261\n",
      "         Number of tracks :  19234\n",
      "             Processed 0 of 19234 tracks. \t Elapsed time: 125  seconds ... \n",
      "             Processed 5000 of 19234 tracks. \t Elapsed time: 129  seconds ... \n",
      "             Processed 10000 of 19234 tracks. \t Elapsed time: 132  seconds ... \n",
      "             Processed 15000 of 19234 tracks. \t Elapsed time: 135  seconds ... \n",
      "     Chain Nr. 3\n",
      "         eField [kV/cm]:      1.0\n",
      "         eLifetime [ms]:      2809.8163978796074\n",
      "         eDrift_vel [mm/us]:  2.261\n",
      "         Number of tracks :  19520\n",
      "             Processed 0 of 19520 tracks. \t Elapsed time: 138  seconds ... \n",
      "             Processed 5000 of 19520 tracks. \t Elapsed time: 141  seconds ... \n",
      "             Processed 10000 of 19520 tracks. \t Elapsed time: 145  seconds ... \n",
      "             Processed 15000 of 19520 tracks. \t Elapsed time: 148  seconds ... \n",
      " Done.\n"
     ]
    }
   ],
   "source": [
    "e_field_list            = []\n",
    "track_length_list       = []\n",
    "track_n_hits_list       = []\n",
    "track_start_pos_x_list  = []\n",
    "track_start_pos_y_list  = []\n",
    "track_start_pos_z_list  = []\n",
    "track_end_pos_x_list    = []\n",
    "track_end_pos_y_list    = []\n",
    "track_end_pos_z_list    = []\n",
    "track_spread_x_list     = []\n",
    "track_theta_list        = []\n",
    "track_phi_list          = []\n",
    "LCM_lightYield_list     = []\n",
    "track_q_raw_tot_list    = []\n",
    "track_q_corr_tot_list   = []\n",
    "track_q_corr_in_GC_bin  = [] # containing n (=number of E-field intensities) lists with m (=number of gravicentres) q_corr values\n",
    "pixels_chargeYield_list = [] # containing n (=number of E-field intensities) lists with m (=number of gravicentres) lists\n",
    "pixels_hits_x_list      = []\n",
    "pixels_hits_q_corr_list = []\n",
    "track_cgx_list          = []\n",
    "track_cgy_list          = []\n",
    "track_cgz_list          = []\n",
    "\n",
    "\n",
    "out = display(progress(0,n_field_intensities,'E-field intensities processed'),display_id=True)\n",
    "start = time.time()\n",
    "for eField in range(n_field_intensities):\n",
    "    field_intensity = (eField+1)/10.\n",
    "    \n",
    "    #if not (field_intensity == 0.5 or field_intensity == 0.6):\n",
    "    #    continue\n",
    "    \n",
    "    print( ' ----------------------------------------------------------------------------------- ')\n",
    "    print(' Processing chains with field_intensity: ', field_intensity, 'kV/cm')\n",
    "    \n",
    "    # Define lists with interesting quantities\n",
    "    track_length         = [] # Reconstructed track's length [mm]\n",
    "    track_n_hits         = [] # Reconstructed track's total number of hits [-]\n",
    "    track_start_pos_x    = [] # Reconstructed track's start position coordinates x [mm]\n",
    "    track_start_pos_y    = [] # Reconstructed track's start position coordinates y [mm]\n",
    "    track_start_pos_z    = [] # Reconstructed track's start position coordinates z [mm]\n",
    "    track_end_pos_x      = [] # Reconstructed track's end position coordinates x [mm]\n",
    "    track_end_pos_y      = [] # Reconstructed track's end position coordinates y [mm]\n",
    "    track_end_pos_z      = [] # Reconstructed track's end position coordinates z [mm]\n",
    "    track_spread_x       = [] # Reconstructed track's start_x-end_x [mm]\n",
    "    track_theta          = [] # Reconstructed track's theta ('direction') [rad]\n",
    "    track_phi            = [] # Reconstructed track's phi ('direction') [rad]\n",
    "    LCM_lightYield       = [] # Total reconstructed light yield of LCM [p.e.]\n",
    "    track_q_raw_tot      = [] # Reconstructed track's total charge deposit [ke] (no eLifetime correction)\n",
    "    track_q_corr_tot     = [] # Reconstructed track's total charge deposit [ke] (eLifetime corrected)\n",
    "    pixels_chargeYield   = [] # Reconstructed charge on pixels for every GC bin [ke] (eLifetime corrected)\n",
    "    pixels_hits_x        = []\n",
    "    pixels_hits_q_corr   = []\n",
    "    track_cgx            = [] # gravicentre of the track (weighted by hits_q, but NOT YET ELECTRON LIFETIME CORRECTED -> TODO)\n",
    "    track_cgy            = [] # gravicentre of the track (weighted by hits_q, but NOT YET ELECTRON LIFETIME CORRECTED -> TODO)\n",
    "    track_cgz            = [] # gravicentre of the track (weighted by hits_q, but NOT YET ELECTRON LIFETIME CORRECTED -> TODO)\n",
    "    \n",
    "    for chain in range(len(input_tree_list)):\n",
    "        \n",
    "        # Skip the first two files (in order to have ~ the same statistics for all eField intensities):\n",
    "        if chain == 0 or chain == 1:\n",
    "            continue\n",
    "            \n",
    "        #if chain not in [17,21]:\n",
    "        #    continue\n",
    "        \n",
    "        if eField_intensity_list[chain] != field_intensity:\n",
    "            continue\n",
    "        print('     Chain Nr.', chain)\n",
    "        print('         eField [kV/cm]:     ', eField_intensity_list[chain])\n",
    "        print('         eLifetime [ms]:     ', eLifetimes[chain])\n",
    "        print('         eDrift_vel [mm/us]: ', eDrift_vel[chain])\n",
    "\n",
    "        # Number of tracks in the TChain\n",
    "        n_tracks = input_tree_list[chain].GetEntries()\n",
    "        print('         Number of tracks : ', n_tracks)\n",
    "\n",
    "        #print(input_tree_list[chain].Print())\n",
    "\n",
    "        # List for events with a low light yield\n",
    "        #low_light_events = []\n",
    "\n",
    "        # List for track selection\n",
    "        #selected_trackIDs = []\n",
    "\n",
    "        accepted_tracks_counter = 0\n",
    "        \n",
    "        # Loop over all tracks in input_tree\n",
    "        for track_id in range(n_tracks):\n",
    "            if(track_id%5000==0):\n",
    "                now = time.time()\n",
    "                print('             Processed', track_id, 'of', n_tracks, 'tracks. \\t Elapsed time:', math.ceil(now-start), ' seconds ... \\r')\n",
    "                \n",
    "            input_tree_list[chain].GetEntry(track_id)\n",
    "\n",
    "            # Apply Selection Cuts\n",
    "            if input_tree_list[chain].t_track_length < cut_lenght:\n",
    "                continue\n",
    "            if input_tree_list[chain].t_event_ntracks > cut_ntracks:\n",
    "                continue\n",
    "            if abs(max(input_tree_list[chain].t_track_start_pos_y,input_tree_list[chain].t_track_end_pos_y)) < cut_throughgoing or\\\n",
    "               abs(min(input_tree_list[chain].t_track_start_pos_y,input_tree_list[chain].t_track_end_pos_y)) < cut_throughgoing:\n",
    "                #print(input_tree_list[chain].t_track_start_pos_y)\n",
    "                #print(input_tree_list[chain].t_track_end_pos_y)\n",
    "                #print(' ---------------- ')\n",
    "                continue\n",
    "            \n",
    "            if abs(input_tree_list[chain].t_track_phi*180./np.pi) < (90.-cut_phi) or abs(input_tree_list[chain].t_track_phi*180./np.pi) > (90.+cut_phi):\n",
    "                continue\n",
    "\n",
    "            #if track_id > 300:\n",
    "            #    break\n",
    "\n",
    "            #selected_trackIDs.append(input_tree_list[chain].t_trackID)\n",
    "\n",
    "            #if track_id > 15:\n",
    "            #    break\n",
    "\n",
    "            '''        \n",
    "            print(' ----------------------------------------- ')\n",
    "            #print(' t_eventID:           ', input_tree_list[chain].t_eventID)\n",
    "            print(' t_trackID:           ', input_tree_list[chain].t_trackID)\n",
    "            #print(' t_event_q:           ', input_tree_list[chain].t_event_q)\n",
    "            print(' t_track_length:      ', input_tree_list[chain].t_track_length)\n",
    "            print(' t_event_ntracks:     ', input_tree_list[chain].t_event_ntracks)\n",
    "            print(' t_track_start_pos_y: ', input_tree_list[chain].t_track_start_pos_y)\n",
    "            print(' t_track_end_pos_y:   ', input_tree_list[chain].t_track_end_pos_y)\n",
    "            #print(' t_track_q:           ', input_tree_list[chain].t_track_q)\n",
    "            #print(' t_event_nhits:       ', input_tree_list[chain].t_event_nhits)\n",
    "            #print(' t_track_nhits:       ', input_tree_list[chain].t_track_nhits)\n",
    "            #print(' t_tlcm1_tot:         ', input_tree_list[chain].l_tlcm1_tot)\n",
    "            '''\n",
    "\n",
    "            track_length.append(input_tree_list[chain].t_track_length)\n",
    "            track_n_hits.append(input_tree_list[chain].t_track_nhits)\n",
    "            #track_q_tot.append(input_tree_list[chain].t_track_q) # this needs to be corrected by the electron lifetime (see below)\n",
    "\n",
    "            track_start_pos_x.append(input_tree_list[chain].t_track_start_pos_x)\n",
    "            track_start_pos_y.append(input_tree_list[chain].t_track_start_pos_y)\n",
    "            track_start_pos_z.append(input_tree_list[chain].t_track_start_pos_z)\n",
    "            track_end_pos_x.append(input_tree_list[chain].t_track_end_pos_x)\n",
    "            track_end_pos_y.append(input_tree_list[chain].t_track_end_pos_y)\n",
    "            track_end_pos_z.append(input_tree_list[chain].t_track_end_pos_z)\n",
    "            \n",
    "            track_spread_x.append(input_tree_list[chain].t_track_start_pos_x-input_tree_list[chain].t_track_end_pos_x)\n",
    "            track_theta.append(input_tree_list[chain].t_track_theta)\n",
    "            track_phi.append(input_tree_list[chain].t_track_phi)\n",
    "\n",
    "            LCM_lightYield.append(input_tree_list[chain].l_tlcm1_tot)\n",
    "            \n",
    "            # For low light events\n",
    "            #if input_tree_list[chain].l_tlcm1_tot<150:\n",
    "            #    low_light_events.append(input_tree_list[chain].t_trackID)\n",
    "\n",
    "            # Obtain the track's total charge and its center of gravity (weighted by deposited charge)\n",
    "            # Loop over all hits\n",
    "            q_raw_tot  = 0.\n",
    "            q_corr_tot = 0.\n",
    "            cgx        = 0.\n",
    "            cgy        = 0.\n",
    "            cgz        = 0.\n",
    "            for hit in range(input_tree_list[chain].t_track_nhits):\n",
    "                ### if hit>2:\n",
    "                ###     break\n",
    "                \n",
    "                q_corr_factor = np.exp(0.1*input_tree_list[chain].t_track_hits_z[hit]/(eDrift_vel[chain]*eLifetimes[chain])) # TODO: factor 0.1 due to factor 10 problem -> fix it\n",
    "                #    print(' hit_z [mm]:    ', 0.1 * input_tree_list[chain].t_track_hits_z[hit]) # TODO: factor 0.1 due to factor 10 problem -> fix it\n",
    "                #    print(' q_corr_factor: ', q_corr_factor)\n",
    "                q_raw_tot += input_tree_list[chain].t_track_hits_q[hit]\n",
    "                hit_q_corr = input_tree_list[chain].t_track_hits_q[hit] * q_corr_factor # q_corr_factor corrects for the electron lifetime\n",
    "                q_corr_tot += hit_q_corr\n",
    "                \n",
    "                ### print(' hit_x:  ', input_tree_list[chain].t_track_hits_x[hit], ' \\t hit_q_corr: ', hit_q_corr)\n",
    "                \n",
    "                cgx += input_tree_list[chain].t_track_hits_x[hit]*hit_q_corr\n",
    "                cgy += input_tree_list[chain].t_track_hits_y[hit]*hit_q_corr\n",
    "                cgz += 0.1 * input_tree_list[chain].t_track_hits_z[hit]*hit_q_corr # TODO: factor 0.1 due to factor 10 problem -> fix it\n",
    "                \n",
    "                pixels_hits_x.append(input_tree_list[chain].t_track_hits_x[hit])\n",
    "                pixels_hits_q_corr.append(hit_q_corr)\n",
    "            \n",
    "            track_q_raw_tot.append(q_raw_tot)\n",
    "            track_q_corr_tot.append(q_corr_tot)\n",
    "            pixels_chargeYield.append(q_corr_tot)\n",
    "            # normalize gravicentre\n",
    "            gravicentre_x = cgx/(q_corr_tot)\n",
    "            gravicentre_y = cgy/(q_corr_tot)\n",
    "            gravicentre_z = cgz/(q_corr_tot)\n",
    "            track_cgx.append(gravicentre_x)\n",
    "            track_cgy.append(gravicentre_y)\n",
    "            track_cgz.append(gravicentre_z)\n",
    "            #print(' ------------------------------ ')\n",
    "            #print(' t_trackID:     ', input_tree_list[chain].t_trackID)\n",
    "            #print(' cgx:           ', gravicentre_x)\n",
    "            #print(' cgy:           ', gravicentre_y)\n",
    "            #print(' cgz:           ', gravicentre_z)\n",
    "            #print(' pixels_chargeYield:   ', pixels_chargeYield[-1])\n",
    "\n",
    "    e_field_list.append(field_intensity)\n",
    "    track_length_list.append(track_length)\n",
    "    track_n_hits_list.append(track_n_hits)\n",
    "    track_q_raw_tot_list.append(track_q_raw_tot)\n",
    "    track_q_corr_tot_list.append(track_q_corr_tot)\n",
    "    track_start_pos_x_list.append(track_start_pos_x)\n",
    "    track_start_pos_y_list.append(track_start_pos_y)\n",
    "    track_start_pos_z_list.append(track_start_pos_z)\n",
    "    track_end_pos_x_list.append(track_end_pos_x)\n",
    "    track_end_pos_y_list.append(track_end_pos_y)\n",
    "    track_end_pos_z_list.append(track_end_pos_z)\n",
    "    track_spread_x_list.append(track_spread_x)\n",
    "    track_theta_list.append(track_theta)\n",
    "    track_phi_list.append(track_phi)\n",
    "    LCM_lightYield_list.append(LCM_lightYield)\n",
    "    pixels_chargeYield_list.append(pixels_chargeYield)\n",
    "    track_cgx_list.append(track_cgx)\n",
    "    track_cgy_list.append(track_cgy)\n",
    "    track_cgz_list.append(track_cgz)\n",
    "    pixels_hits_x_list.append(pixels_hits_x)\n",
    "    pixels_hits_q_corr_list.append(pixels_hits_q_corr)\n",
    "    \n",
    "    #print(' Number of selected tracks: ', len(selected_trackIDs))\n",
    "\n",
    "    out.update(progress(eField+1,n_field_intensities,'E-field processed'))\n",
    "out.update(progress(n_field_intensities,n_field_intensities,'E-field processed'))\n",
    "print(' Done.')\n",
    "\n",
    "### print(' pixels_hits_x_list:      ', pixels_hits_x_list)\n",
    "### print(' pixels_hits_q_corr_list: ', pixels_hits_q_corr_list)\n"
   ]
  },
  {
   "cell_type": "markdown",
   "metadata": {},
   "source": [
    "### Make Plots for Selected (!) Events"
   ]
  },
  {
   "cell_type": "code",
   "execution_count": 13,
   "metadata": {},
   "outputs": [],
   "source": [
    "from plot_functions import *"
   ]
  },
  {
   "cell_type": "code",
   "execution_count": 14,
   "metadata": {},
   "outputs": [
    {
     "name": "stdout",
     "output_type": "stream",
     "text": [
      " Obtaining data...\n"
     ]
    },
    {
     "data": {
      "text/html": [
       "\n",
       "        <progress \n",
       "            value='10'\n",
       "            max='10',\n",
       "            style='width: 30%'\n",
       "        >\n",
       "            10\n",
       "        </progress> 10/10 E-field intensities processed (100%) ... \n",
       "    "
      ],
      "text/plain": [
       "<IPython.core.display.HTML object>"
      ]
     },
     "metadata": {},
     "output_type": "display_data"
    },
    {
     "name": "stderr",
     "output_type": "stream",
     "text": [
      "/home/roman/software/anaconda3/envs/larpix-analysis-38/lib/python3.8/site-packages/numpy/core/fromnumeric.py:3372: RuntimeWarning: Mean of empty slice.\n",
      "  return _methods._mean(a, axis=axis, dtype=dtype,\n",
      "/home/roman/software/anaconda3/envs/larpix-analysis-38/lib/python3.8/site-packages/numpy/core/_methods.py:170: RuntimeWarning: invalid value encountered in double_scalars\n",
      "  ret = ret.dtype.type(ret / rcount)\n",
      "/home/roman/software/anaconda3/envs/larpix-analysis-38/lib/python3.8/site-packages/numpy/core/_methods.py:233: RuntimeWarning: Degrees of freedom <= 0 for slice\n",
      "  ret = _var(a, axis=axis, dtype=dtype, out=out, ddof=ddof,\n",
      "/home/roman/software/anaconda3/envs/larpix-analysis-38/lib/python3.8/site-packages/numpy/core/_methods.py:194: RuntimeWarning: invalid value encountered in true_divide\n",
      "  arrmean = um.true_divide(\n",
      "/home/roman/software/anaconda3/envs/larpix-analysis-38/lib/python3.8/site-packages/numpy/core/_methods.py:226: RuntimeWarning: invalid value encountered in double_scalars\n",
      "  ret = ret.dtype.type(ret / rcount)\n"
     ]
    },
    {
     "name": "stdout",
     "output_type": "stream",
     "text": [
      " Make plots...\n"
     ]
    },
    {
     "data": {
      "text/html": [
       "\n",
       "        <progress \n",
       "            value='10'\n",
       "            max='10',\n",
       "            style='width: 30%'\n",
       "        >\n",
       "            10\n",
       "        </progress> 10/10 E-field intensities processed (100%) ... \n",
       "    "
      ],
      "text/plain": [
       "<IPython.core.display.HTML object>"
      ]
     },
     "metadata": {},
     "output_type": "display_data"
    },
    {
     "name": "stderr",
     "output_type": "stream",
     "text": [
      "/home/roman/software/anaconda3/envs/larpix-analysis-38/lib/python3.8/site-packages/matplotlib/backends/backend_agg.py:238: RuntimeWarning: Glyph 8722 missing from current font.\n",
      "  font.set_text(s, 0.0, flags=flags)\n",
      "/home/roman/software/anaconda3/envs/larpix-analysis-38/lib/python3.8/site-packages/matplotlib/backends/backend_agg.py:201: RuntimeWarning: Glyph 8722 missing from current font.\n",
      "  font.set_text(s, 0, flags=flags)\n"
     ]
    },
    {
     "name": "stdout",
     "output_type": "stream",
     "text": [
      "Done.\n"
     ]
    }
   ],
   "source": [
    "# Plot charge yield per hit as a function of the hit position x\n",
    "\n",
    "# Define how many graviCentre bins to have:\n",
    "n_graviCentre_bins = 10\n",
    "GC_binning = np.linspace(pixels_x_min,pixels_x_max,n_graviCentre_bins+1)\n",
    "\n",
    "# Define binning\n",
    "x_err  = []\n",
    "x_vals = []\n",
    "bin_width = GC_binning[1]-GC_binning[0]\n",
    "for ibin in range(n_graviCentre_bins):\n",
    "    x_err.append(0.5*bin_width)\n",
    "    x_vals.append(GC_binning[ibin]+0.5*bin_width)\n",
    "\n",
    "# Obtain chargeYield_perHit data\n",
    "pixels_q_corr_tot_list        = []\n",
    "pixels_q_corr_meanPerHit_list = []\n",
    "pixels_q_corr_sem_list        = []\n",
    "print(' Obtaining data...')\n",
    "out = display(progress(0,n_field_intensities,'E-field intensities processed'),display_id=True)\n",
    "for eField_index in range(n_field_intensities):    \n",
    "    _q_corr_tot_list    = []\n",
    "    _q_corr_summed     = []\n",
    "    _q_corr_meanPerHit = []\n",
    "    _q_corr_sem        = []\n",
    "    for GC in range(n_graviCentre_bins):\n",
    "        _q_corr_tot = []\n",
    "        for hit in range(len(pixels_hits_x_list[eField_index])):\n",
    "            if pixels_hits_x_list[eField_index][hit]>GC_binning[GC] and pixels_hits_x_list[eField_index][hit]<GC_binning[GC+1]:\n",
    "                _q_corr_tot.append(pixels_hits_q_corr_list[eField_index][hit])\n",
    "        _q_corr_summed.append(np.sum(_q_corr_tot))\n",
    "        _q_corr_meanPerHit.append(np.mean(_q_corr_tot))\n",
    "        _q_corr_sem.append(scipy.stats.sem(_q_corr_tot))\n",
    "    pixels_q_corr_tot_list.append(_q_corr_summed)\n",
    "    pixels_q_corr_meanPerHit_list.append(_q_corr_meanPerHit)\n",
    "    pixels_q_corr_sem_list.append(_q_corr_sem)\n",
    "    out.update(progress(eField_index+1,n_field_intensities,'E-field intensities processed'))\n",
    "out.update(progress(n_field_intensities,n_field_intensities,'E-field intensities processed'))\n",
    "\n",
    "# Make plot\n",
    "print(' Make plots...')\n",
    "if plot_all or plot_chargeYield_vs_hitPosX:\n",
    "    out = display(progress(0,n_field_intensities,'E-field intensities processed'),display_id=True)\n",
    "    for eField_index in range(n_field_intensities):\n",
    "        #print(pixels_q_corr_meanPerHit_list[eField_index])\n",
    "        if len(pixels_q_corr_meanPerHit_list[eField_index]) == 0: continue\n",
    "        plot_folder = str(e_field_list[eField_index]) + '_kV_per_cm'\n",
    "        series_label_list = ['CY [ke]','GC x [mm] (scale factor: 1/10)']\n",
    "        axis_labels = ['Hit Position x [mm]','Pixel Charge Yield per Hit [ke]']\n",
    "        x_min,x_max = pixels_x_min, pixels_x_max\n",
    "        y_min,y_max = 0,200\n",
    "        save_name = 'plots/'+str(plot_folder)+'/'+'TGraphError_ChargeYield_vs_CoordX.png'\n",
    "        plot_errorbars(x_vals,pixels_q_corr_meanPerHit_list[eField_index],x_err,pixels_q_corr_sem_list[eField_index],\\\n",
    "                       x_min,x_max,y_min,y_max,\\\n",
    "                       axis_labels,save_name)\n",
    "        out.update(progress(eField_index+1,n_field_intensities,'E-field intensities processed'))\n",
    "    out.update(progress(n_field_intensities,n_field_intensities,'E-field intensities processed'))\n",
    "print('Done.')"
   ]
  },
  {
   "cell_type": "code",
   "execution_count": 15,
   "metadata": {},
   "outputs": [
    {
     "name": "stderr",
     "output_type": "stream",
     "text": [
      "/home/roman/PACMAN/larpix-analysis/lightCharge_anticorrelation/plot_functions.py:652: RuntimeWarning: invalid value encountered in log\n",
      "  return Q0 * E/beta * np.log(1.+beta/E)\n"
     ]
    },
    {
     "name": "stdout",
     "output_type": "stream",
     "text": [
      " Q0:    155.40048759986396  +/-  1.7556709855115205\n",
      " beta:  0.10908766101861914  +/-  0.01034885228138031\n",
      "Done.\n"
     ]
    }
   ],
   "source": [
    "# Plot pixel charge yield per hit as a function of the E-field intensity\n",
    "\n",
    "# Obtain chargeYield_perHit data\n",
    "q_corr_meanPerHit = []\n",
    "q_corr_sem        = []\n",
    "for eField_index in range(n_field_intensities):    \n",
    "    q_corr_meanPerHit.append(np.nanmean(pixels_hits_q_corr_list[eField_index]))\n",
    "    q_corr_sem.append(scipy.stats.sem(pixels_hits_q_corr_list[eField_index]))\n",
    "\n",
    "x_vals = np.linspace(0.1,1.0,10)\n",
    "x_err = [0.05 for i in range(10)]\n",
    "\n",
    "# Make plot\n",
    "if plot_all or plot_chargeYield_vs_eField:\n",
    "    x_min = 0\n",
    "    x_max = 1.1\n",
    "    y_min = 80\n",
    "    y_max = 160\n",
    "    axis_labels = ['E Field Intensity [kV/cm]','Pixel Charge Yield per Hit [ke]']\n",
    "    save_name = 'plots/TGraphError_ChargeYield_vs_eField.png'\n",
    "    plot_boxModel(x_vals,q_corr_meanPerHit,x_err,q_corr_sem,\\\n",
    "                   x_min,x_max,y_min,y_max,\\\n",
    "                   axis_labels,save_name)\n",
    "print('Done.')"
   ]
  },
  {
   "cell_type": "code",
   "execution_count": 16,
   "metadata": {},
   "outputs": [
    {
     "data": {
      "text/html": [
       "\n",
       "        <progress \n",
       "            value='10'\n",
       "            max='10',\n",
       "            style='width: 30%'\n",
       "        >\n",
       "            10\n",
       "        </progress> 10/10 E-field intensities processed (100%) ... \n",
       "    "
      ],
      "text/plain": [
       "<IPython.core.display.HTML object>"
      ]
     },
     "metadata": {},
     "output_type": "display_data"
    },
    {
     "name": "stdout",
     "output_type": "stream",
     "text": [
      "Done.\n"
     ]
    }
   ],
   "source": [
    "# LCM_lightYield\n",
    "if plot_all or plot_lightYield:\n",
    "    out = display(progress(0,n_field_intensities,'E-field intensities processed'),display_id=True)\n",
    "    for eField_index in range(n_field_intensities):\n",
    "        #print(LCM_lightYield_list[eField_index])\n",
    "        if len(LCM_lightYield_list[eField_index]) == 0: continue\n",
    "        plot_folder = str(e_field_list[eField_index]) + '_kV_per_cm'\n",
    "        #print(' plot_folder: ', plot_folder)\n",
    "        x_min  = np.min(LCM_lightYield_list[eField_index])\n",
    "        x_max  = np.max(LCM_lightYield_list[eField_index])\n",
    "        n_bins = 50\n",
    "        axis_labels = ['Reconstructed LCM Light Yield [-]','Entries [-]']\n",
    "        save_name = 'plots/'+str(plot_folder)+'/'+'h1_LCM_lightYield.png'\n",
    "        plot_h1(LCM_lightYield_list[eField],x_min,x_max,n_bins,axis_labels,save_name)\n",
    "        out.update(progress(eField_index+1,n_field_intensities,'E-field intensities processed'))\n",
    "    out.update(progress(n_field_intensities,n_field_intensities,'E-field intensities processed'))\n",
    "print('Done.')"
   ]
  },
  {
   "cell_type": "code",
   "execution_count": 17,
   "metadata": {},
   "outputs": [
    {
     "data": {
      "text/html": [
       "\n",
       "        <progress \n",
       "            value='10'\n",
       "            max='10',\n",
       "            style='width: 30%'\n",
       "        >\n",
       "            10\n",
       "        </progress> 10/10 E-field intensities processed (100%) ... \n",
       "    "
      ],
      "text/plain": [
       "<IPython.core.display.HTML object>"
      ]
     },
     "metadata": {},
     "output_type": "display_data"
    },
    {
     "name": "stdout",
     "output_type": "stream",
     "text": [
      "Done.\n"
     ]
    }
   ],
   "source": [
    "# Track Length\n",
    "if plot_all or plot_trackLength:\n",
    "    out = display(progress(0,n_field_intensities,'E-field intensities processed'),display_id=True)\n",
    "    for eField_index in range(n_field_intensities):\n",
    "        #print(track_length_list[eField_index])\n",
    "        if len(track_length_list[eField_index]) == 0: continue\n",
    "        plot_folder = str(e_field_list[eField_index]) + '_kV_per_cm'\n",
    "        #print(' plot_folder: ', plot_folder)\n",
    "        x_min  = 0\n",
    "        x_max  = np.max(track_length_list[eField_index])\n",
    "        n_bins = 50\n",
    "        axis_labels = ['Track Length [mm]','Entries [-]']\n",
    "        save_name = 'plots/'+str(plot_folder)+'/'+'h1_track_lengths.png'\n",
    "        plot_h1(track_length_list[eField_index],x_min,x_max,n_bins,axis_labels,save_name)\n",
    "        out.update(progress(eField_index+1,n_field_intensities,'E-field intensities processed'))\n",
    "    out.update(progress(n_field_intensities,n_field_intensities,'E-field intensities processed'))\n",
    "print('Done.')"
   ]
  },
  {
   "cell_type": "code",
   "execution_count": 18,
   "metadata": {},
   "outputs": [
    {
     "data": {
      "text/html": [
       "\n",
       "        <progress \n",
       "            value='10'\n",
       "            max='10',\n",
       "            style='width: 30%'\n",
       "        >\n",
       "            10\n",
       "        </progress> 10/10 E-field intensities processed (100%) ... \n",
       "    "
      ],
      "text/plain": [
       "<IPython.core.display.HTML object>"
      ]
     },
     "metadata": {},
     "output_type": "display_data"
    },
    {
     "name": "stdout",
     "output_type": "stream",
     "text": [
      "Done.\n"
     ]
    }
   ],
   "source": [
    "# Track n_hits\n",
    "if plot_all or plot_nHits:\n",
    "    out = display(progress(0,n_field_intensities,'E-field intensities processed'),display_id=True)\n",
    "    for eField_index in range(n_field_intensities):\n",
    "        #print(track_n_hits_list[eField_index])\n",
    "        if len(track_n_hits_list[eField_index]) == 0: continue\n",
    "        plot_folder = str(e_field_list[eField_index]) + '_kV_per_cm'\n",
    "        #print(' plot_folder: ', plot_folder)\n",
    "        x_min  = 0\n",
    "        x_max  = np.max(track_n_hits_list[eField_index])\n",
    "        n_bins = 50\n",
    "        axis_labels = ['Number of Hits per Track [-]','Entries [-]']\n",
    "        save_name = 'plots/'+str(plot_folder)+'/'+'h1_track_nhits.png'\n",
    "        plot_h1(track_n_hits_list[eField_index],x_min,x_max,n_bins,axis_labels,save_name)\n",
    "        out.update(progress(eField_index+1,n_field_intensities,'E-field intensities processed'))\n",
    "    out.update(progress(n_field_intensities,n_field_intensities,'E-field intensities processed'))\n",
    "print('Done.')"
   ]
  },
  {
   "cell_type": "code",
   "execution_count": 19,
   "metadata": {},
   "outputs": [
    {
     "data": {
      "text/html": [
       "\n",
       "        <progress \n",
       "            value='10'\n",
       "            max='10',\n",
       "            style='width: 30%'\n",
       "        >\n",
       "            10\n",
       "        </progress> 10/10 E-field intensities processed (100%) ... \n",
       "    "
      ],
      "text/plain": [
       "<IPython.core.display.HTML object>"
      ]
     },
     "metadata": {},
     "output_type": "display_data"
    },
    {
     "name": "stdout",
     "output_type": "stream",
     "text": [
      "Done.\n"
     ]
    }
   ],
   "source": [
    "# Track q_raw_tot\n",
    "if plot_all or plot_q_raw_tot:\n",
    "    out = display(progress(0,n_field_intensities,'E-field intensities processed'),display_id=True)\n",
    "    for eField_index in range(n_field_intensities):\n",
    "        #print(track_q_raw_tot_list[eField_index])\n",
    "        plot_folder = str(e_field_list[eField_index]) + '_kV_per_cm'\n",
    "        #print(' plot_folder: ', plot_folder)\n",
    "        x_min  = 0\n",
    "        x_max  = 20000 #np.max(track_q_raw_tot_list[eField_index])\n",
    "        n_bins = 50\n",
    "        axis_labels = ['Total Deposited Charge (raw) [ke]','Entries [-]']\n",
    "        save_name = 'plots/'+str(plot_folder)+'/'+'h1_track_q_raw_tot.png'\n",
    "        plot_h1(track_q_raw_tot_list[eField_index],x_min,x_max,n_bins,axis_labels,save_name)\n",
    "        out.update(progress(eField_index+1,n_field_intensities,'E-field intensities processed'))\n",
    "    out.update(progress(n_field_intensities,n_field_intensities,'E-field intensities processed'))\n",
    "print('Done.')"
   ]
  },
  {
   "cell_type": "code",
   "execution_count": 20,
   "metadata": {},
   "outputs": [
    {
     "data": {
      "text/html": [
       "\n",
       "        <progress \n",
       "            value='10'\n",
       "            max='10',\n",
       "            style='width: 30%'\n",
       "        >\n",
       "            10\n",
       "        </progress> 10/10 E-field intensities processed (100%) ... \n",
       "    "
      ],
      "text/plain": [
       "<IPython.core.display.HTML object>"
      ]
     },
     "metadata": {},
     "output_type": "display_data"
    },
    {
     "name": "stdout",
     "output_type": "stream",
     "text": [
      "Done.\n"
     ]
    }
   ],
   "source": [
    "# Track q_corr_tot\n",
    "if plot_all or plot_q_corr_tot:\n",
    "    out = display(progress(0,n_field_intensities,'E-field intensities processed'),display_id=True)\n",
    "    for eField_index in range(n_field_intensities):\n",
    "        #print(track_q_raw_tot_list[eField_index])\n",
    "        plot_folder = str(e_field_list[eField_index]) + '_kV_per_cm'\n",
    "        #print(' plot_folder: ', plot_folder)\n",
    "        x_min  = 0\n",
    "        x_max  = 20000 #np.max(track_q_corr_tot_list[eField_index])\n",
    "        n_bins = 50\n",
    "        axis_labels = ['Total Deposited Charge (e-lifetime corrected) [ke]','Entries [-]']\n",
    "        save_name = 'plots/'+str(plot_folder)+'/'+'h1_track_q_corr_tot.png'\n",
    "        plot_h1(track_q_corr_tot_list[eField_index],x_min,x_max,n_bins,axis_labels,save_name)\n",
    "        out.update(progress(eField_index+1,n_field_intensities,'E-field intensities processed'))\n",
    "    out.update(progress(n_field_intensities,n_field_intensities,'E-field intensities processed'))\n",
    "print('Done.')"
   ]
  },
  {
   "cell_type": "code",
   "execution_count": 21,
   "metadata": {},
   "outputs": [
    {
     "data": {
      "text/html": [
       "\n",
       "        <progress \n",
       "            value='10'\n",
       "            max='10',\n",
       "            style='width: 30%'\n",
       "        >\n",
       "            10\n",
       "        </progress> 10/10 E-field intensities processed (100%) ... \n",
       "    "
      ],
      "text/plain": [
       "<IPython.core.display.HTML object>"
      ]
     },
     "metadata": {},
     "output_type": "display_data"
    },
    {
     "name": "stdout",
     "output_type": "stream",
     "text": [
      "Done.\n"
     ]
    }
   ],
   "source": [
    "# Track dQ/dl (eLifetime corrected)\n",
    "if plot_all or plot_dQdl:\n",
    "    out = display(progress(0,n_field_intensities,'E-field intensities processed'),display_id=True)\n",
    "    for eField_index in range(n_field_intensities):\n",
    "        #print(pixels_chargeYield_list[eField_index])\n",
    "        if len(pixels_chargeYield_list[eField_index]) == 0: continue\n",
    "        plot_folder = str(e_field_list[eField_index]) + '_kV_per_cm'\n",
    "        #print(' plot_folder: ', plot_folder)\n",
    "        x_min  = 0\n",
    "        #x_max  = np.max(np.array(track_q_raw_tot_list[eField_index])/np.array(track_length_list[eField_index]))\n",
    "        x_max  = np.max(np.array(pixels_chargeYield_list[eField_index])/np.array(track_length_list[eField_index]))\n",
    "        n_bins = 50\n",
    "        axis_labels = ['<dQ/dl> [ke/mm]','Entries [-]']\n",
    "        save_name = 'plots/'+str(plot_folder)+'/'+'h1_track_dQ_dl_eLifetimeCorrected.png'\n",
    "        #plot_h1(np.array(track_q_raw_tot_list[eField_index])/np.array(track_length_list[eField_index]),x_min,x_max,n_bins,axis_labels,save_name)\n",
    "        #plot_h1(np.array(pixels_chargeYield_list[eField_index])/np.array(track_length_list[eField_index]),x_min,x_max,n_bins,axis_labels,save_name)\n",
    "        plot_h1(np.array(track_q_corr_tot_list[eField_index])/np.array(track_length_list[eField_index]),x_min,x_max,n_bins,axis_labels,save_name)\n",
    "        out.update(progress(eField_index+1,n_field_intensities,'E-field intensities processed'))\n",
    "    out.update(progress(n_field_intensities,n_field_intensities,'E-field intensities processed'))\n",
    "print('Done.')"
   ]
  },
  {
   "cell_type": "code",
   "execution_count": 22,
   "metadata": {},
   "outputs": [
    {
     "data": {
      "text/html": [
       "\n",
       "        <progress \n",
       "            value='10'\n",
       "            max='10',\n",
       "            style='width: 30%'\n",
       "        >\n",
       "            10\n",
       "        </progress> 10/10 E-field intensities processed (100%) ... \n",
       "    "
      ],
      "text/plain": [
       "<IPython.core.display.HTML object>"
      ]
     },
     "metadata": {},
     "output_type": "display_data"
    },
    {
     "name": "stderr",
     "output_type": "stream",
     "text": [
      "/home/roman/software/anaconda3/envs/larpix-analysis-38/lib/python3.8/site-packages/matplotlib/backends/backend_agg.py:238: RuntimeWarning: Glyph 8722 missing from current font.\n",
      "  font.set_text(s, 0.0, flags=flags)\n",
      "/home/roman/software/anaconda3/envs/larpix-analysis-38/lib/python3.8/site-packages/matplotlib/backends/backend_agg.py:201: RuntimeWarning: Glyph 8722 missing from current font.\n",
      "  font.set_text(s, 0, flags=flags)\n"
     ]
    },
    {
     "name": "stdout",
     "output_type": "stream",
     "text": [
      "Done.\n"
     ]
    }
   ],
   "source": [
    "# start_pos_y vs. start_pos_x\n",
    "if plot_all or plot_startPosY_vs_startPosX:\n",
    "    out = display(progress(0,n_field_intensities,'E-field intensities processed'),display_id=True)\n",
    "    for eField_index in range(n_field_intensities):\n",
    "        #print(track_start_pos_x_list[eField_index])\n",
    "        if len(track_start_pos_x_list[eField_index]) == 0: continue\n",
    "        plot_folder = str(e_field_list[eField_index]) + '_kV_per_cm'\n",
    "        #print(' plot_folder: ', plot_folder)\n",
    "        x_min    = pixels_x_min # np.min(track_start_pos_x_list[eField_index])\n",
    "        x_max    = pixels_x_max # np.max(track_start_pos_x_list[eField_index])\n",
    "        y_min    = pixels_y_min # np.min(track_start_pos_y_list[eField_index])\n",
    "        y_max    = pixels_y_max # np.max(track_start_pos_y_list[eField_index])\n",
    "        n_bins_x = n_pixels_x\n",
    "        n_bins_y = n_pixels_y\n",
    "        x_bins = np.linspace(x_min,x_max,n_bins_x)\n",
    "        y_bins = np.linspace(y_min,y_max,n_bins_y)\n",
    "        #x_bins = np.arange(x_min,x_max+1,step=1.)\n",
    "        #y_bins = np.arange(y_min,y_max+1,step=1.)\n",
    "        axis_labels = ['Track Start Position x [mm]','Track Start Position y [mm]','Entries [-]']\n",
    "        save_name = 'plots/'+str(plot_folder)+'/'+'h2_track_startPos.png'\n",
    "        plot_h2([track_start_pos_x_list[eField_index],track_start_pos_y_list[eField_index]],x_bins,y_bins,axis_labels,save_name)\n",
    "        out.update(progress(eField_index+1,n_field_intensities,'E-field intensities processed'))\n",
    "    out.update(progress(n_field_intensities,n_field_intensities,'E-field intensities processed'))\n",
    "print('Done.')"
   ]
  },
  {
   "cell_type": "code",
   "execution_count": 23,
   "metadata": {},
   "outputs": [
    {
     "data": {
      "text/html": [
       "\n",
       "        <progress \n",
       "            value='10'\n",
       "            max='10',\n",
       "            style='width: 30%'\n",
       "        >\n",
       "            10\n",
       "        </progress> 10/10 E-field intensities processed (100%) ... \n",
       "    "
      ],
      "text/plain": [
       "<IPython.core.display.HTML object>"
      ]
     },
     "metadata": {},
     "output_type": "display_data"
    },
    {
     "name": "stdout",
     "output_type": "stream",
     "text": [
      "Done.\n"
     ]
    }
   ],
   "source": [
    "# end_pos_y vs. end_pos_x\n",
    "if plot_all or plot_endPosY_vs_endPosX:\n",
    "    out = display(progress(0,n_field_intensities,'E-field intensities processed'),display_id=True)\n",
    "    for eField_index in range(n_field_intensities):\n",
    "        #print(track_end_pos_x_list[eField_index])\n",
    "        if len(track_end_pos_x_list[eField_index]) == 0: continue\n",
    "        plot_folder = str(e_field_list[eField_index]) + '_kV_per_cm'\n",
    "        #print(' plot_folder: ', plot_folder)\n",
    "        x_min    = pixels_x_min # np.min(track_start_pos_x_list[eField_index])\n",
    "        x_max    = pixels_x_max # np.max(track_start_pos_x_list[eField_index])\n",
    "        y_min    = pixels_y_min # np.min(track_start_pos_y_list[eField_index])\n",
    "        y_max    = pixels_y_max # np.max(track_start_pos_y_list[eField_index])\n",
    "        n_bins_x = n_pixels_x\n",
    "        n_bins_y = n_pixels_y\n",
    "        x_bins = np.linspace(x_min,x_max,n_bins_x)\n",
    "        y_bins = np.linspace(y_min,y_max,n_bins_y)\n",
    "        #x_bins = np.arange(x_min,x_max+1,step=1.)\n",
    "        #y_bins = np.arange(y_min,y_max+1,step=1.)\n",
    "        axis_labels = ['Track End Position x [mm]','Track End Position y [mm]','Entries [-]']\n",
    "        save_name = 'plots/'+str(plot_folder)+'/'+'h2_track_endPos.png'\n",
    "        plot_h2([track_end_pos_x_list[eField_index],track_end_pos_y_list[eField_index]],x_bins,y_bins,axis_labels,save_name)\n",
    "        out.update(progress(eField_index+1,n_field_intensities,'E-field intensities processed'))\n",
    "    out.update(progress(n_field_intensities,n_field_intensities,'E-field intensities processed'))\n",
    "print('Done.')"
   ]
  },
  {
   "cell_type": "code",
   "execution_count": 24,
   "metadata": {},
   "outputs": [
    {
     "data": {
      "text/html": [
       "\n",
       "        <progress \n",
       "            value='10'\n",
       "            max='10',\n",
       "            style='width: 30%'\n",
       "        >\n",
       "            10\n",
       "        </progress> 10/10 E-field intensities processed (100%) ... \n",
       "    "
      ],
      "text/plain": [
       "<IPython.core.display.HTML object>"
      ]
     },
     "metadata": {},
     "output_type": "display_data"
    },
    {
     "name": "stdout",
     "output_type": "stream",
     "text": [
      "Done.\n"
     ]
    }
   ],
   "source": [
    "# start_pos_z vs. end_pos_z\n",
    "if plot_all or plot_startPosZ_vs_endPosZ:\n",
    "    out = display(progress(0,n_field_intensities,'E-field intensities processed'),display_id=True)\n",
    "    for eField_index in range(n_field_intensities):\n",
    "        #print(track_start_pos_x_list[eField_index])\n",
    "        if len(track_start_pos_z_list[eField_index]) == 0: continue\n",
    "        plot_folder = str(e_field_list[eField_index]) + '_kV_per_cm'\n",
    "        #print(' plot_folder: ', plot_folder)\n",
    "        z_start_min = np.min(track_start_pos_z_list[eField_index])\n",
    "        z_start_max = np.max(track_start_pos_z_list[eField_index])\n",
    "        z_end_min   = np.min(track_end_pos_z_list[eField_index])\n",
    "        z_end_max   = np.max(track_end_pos_z_list[eField_index])\n",
    "        n_bins = n_pixels_z\n",
    "        x_bins = np.linspace(z_start_min,z_start_max,n_bins)\n",
    "        y_bins = np.linspace(z_end_min,z_end_max,n_bins)\n",
    "        #x_bins = np.arange(x_min,x_max+1,step=1.)\n",
    "        #y_bins = np.arange(y_min,y_max+1,step=1.)\n",
    "        axis_labels = ['Track Start Position z [mm]','Track End Position z [mm]','Entries [-]']\n",
    "        save_name = 'plots/'+str(plot_folder)+'/'+'h2_trEndz_vs_trStartz.png'\n",
    "        plot_h2([track_start_pos_z_list[eField_index],track_end_pos_z_list[eField_index]],x_bins,y_bins,axis_labels,save_name)\n",
    "        out.update(progress(eField_index+1,n_field_intensities,'E-field intensities processed'))\n",
    "    out.update(progress(n_field_intensities,n_field_intensities,'E-field intensities processed'))\n",
    "print('Done.')"
   ]
  },
  {
   "cell_type": "code",
   "execution_count": 25,
   "metadata": {},
   "outputs": [
    {
     "data": {
      "text/html": [
       "\n",
       "        <progress \n",
       "            value='10'\n",
       "            max='10',\n",
       "            style='width: 30%'\n",
       "        >\n",
       "            10\n",
       "        </progress> 10/10 E-field intensities processed (100%) ... \n",
       "    "
      ],
      "text/plain": [
       "<IPython.core.display.HTML object>"
      ]
     },
     "metadata": {},
     "output_type": "display_data"
    },
    {
     "name": "stdout",
     "output_type": "stream",
     "text": [
      "Done.\n"
     ]
    }
   ],
   "source": [
    "# NHits vs. TrackLength\n",
    "if plot_all or plot_nHits_vs_trackLength:\n",
    "    out = display(progress(0,n_field_intensities,'E-field intensities processed'),display_id=True)\n",
    "    for eField_index in range(n_field_intensities):\n",
    "        #print(track_length_list[eField_index])\n",
    "        if len(track_length_list[eField_index]) == 0: continue\n",
    "        plot_folder = str(e_field_list[eField_index]) + '_kV_per_cm'\n",
    "        #print(' plot_folder: ', plot_folder)\n",
    "        x_min    = 200\n",
    "        x_max    = 400\n",
    "        y_min    = 0\n",
    "        y_max    = 150\n",
    "        n_bins_x = 50\n",
    "        n_bins_y = 50\n",
    "        x_bins = np.linspace(x_min,x_max,n_bins_x)\n",
    "        y_bins = np.linspace(y_min,y_max,n_bins_y)\n",
    "        #x_bins = np.arange(x_min,x_max+1,step=1.)\n",
    "        #y_bins = np.arange(y_min,y_max+1,step=1.)\n",
    "        axis_labels = ['Track Length [mm]','Number of Hits per Track [-]','Entries [-]']\n",
    "        save_name = 'plots/'+str(plot_folder)+'/'+'h2_trackLength_vs_trackNHits.png'\n",
    "        plot_h2([track_length_list[eField_index],track_n_hits_list[eField_index]],x_bins,y_bins,axis_labels,save_name)\n",
    "        out.update(progress(eField_index+1,n_field_intensities,'E-field intensities processed'))\n",
    "    out.update(progress(n_field_intensities,n_field_intensities,'E-field intensities processed'))\n",
    "print('Done.')"
   ]
  },
  {
   "cell_type": "code",
   "execution_count": 26,
   "metadata": {},
   "outputs": [
    {
     "data": {
      "text/html": [
       "\n",
       "        <progress \n",
       "            value='10'\n",
       "            max='10',\n",
       "            style='width: 30%'\n",
       "        >\n",
       "            10\n",
       "        </progress> 10/10 E-field intensities processed (100%) ... \n",
       "    "
      ],
      "text/plain": [
       "<IPython.core.display.HTML object>"
      ]
     },
     "metadata": {},
     "output_type": "display_data"
    },
    {
     "name": "stdout",
     "output_type": "stream",
     "text": [
      "Done.\n"
     ]
    }
   ],
   "source": [
    "# Theta [rad] vs. Spread_x (spread_x = track_start_pos_x - track_end_pos_x)\n",
    "if plot_all or plot_theta_vs_spread_x:\n",
    "    out = display(progress(0,n_field_intensities,'E-field intensities processed'),display_id=True)\n",
    "    for eField_index in range(n_field_intensities):\n",
    "        #print(track_theta_list[eField_index])\n",
    "        if len(track_theta_list[eField_index]) == 0: continue\n",
    "        plot_folder = str(e_field_list[eField_index]) + '_kV_per_cm'\n",
    "        #print(' plot_folder: ', plot_folder)\n",
    "        x_min    = pixels_x_min\n",
    "        x_max    = pixels_x_max\n",
    "        y_min    = -np.pi\n",
    "        y_max    = np.pi\n",
    "        n_bins_x = n_pixels_x\n",
    "        n_bins_y = 90\n",
    "        x_bins = np.linspace(x_min,x_max,n_bins_x)\n",
    "        y_bins = np.linspace(y_min,y_max,n_bins_y)\n",
    "        #x_bins = np.arange(x_min,x_max+1,step=1.)\n",
    "        #y_bins = np.arange(y_min,y_max+1,step=1.)\n",
    "        axis_labels = ['Track start_x - end_x [mm]','Track Theta [rad]','Entries [-]']\n",
    "        save_name = 'plots/'+str(plot_folder)+'/'+'h2_theta_rad_vs_spread_x.png'\n",
    "        plot_h2([track_spread_x_list[eField_index],track_theta_list[eField_index]],x_bins,y_bins,axis_labels,save_name)\n",
    "        out.update(progress(eField_index+1,n_field_intensities,'E-field intensities processed'))\n",
    "    out.update(progress(n_field_intensities,n_field_intensities,'E-field intensities processed'))\n",
    "print('Done.')"
   ]
  },
  {
   "cell_type": "code",
   "execution_count": 27,
   "metadata": {},
   "outputs": [
    {
     "data": {
      "text/html": [
       "\n",
       "        <progress \n",
       "            value='10'\n",
       "            max='10',\n",
       "            style='width: 30%'\n",
       "        >\n",
       "            10\n",
       "        </progress> 10/10 E-field intensities processed (100%) ... \n",
       "    "
      ],
      "text/plain": [
       "<IPython.core.display.HTML object>"
      ]
     },
     "metadata": {},
     "output_type": "display_data"
    },
    {
     "name": "stdout",
     "output_type": "stream",
     "text": [
      "Done.\n"
     ]
    }
   ],
   "source": [
    "# Theta [deg] vs. Spread_x (spread_x = track_start_pos_x - track_end_pos_x)\n",
    "if plot_all or plot_theta_vs_spread_x:\n",
    "    out = display(progress(0,n_field_intensities,'E-field intensities processed'),display_id=True)\n",
    "    for eField_index in range(n_field_intensities):\n",
    "        #print(track_theta_list[eField_index])\n",
    "        if len(track_theta_list[eField_index]) == 0: continue\n",
    "        plot_folder = str(e_field_list[eField_index]) + '_kV_per_cm'\n",
    "        #print(' plot_folder: ', plot_folder)\n",
    "        x_min    = pixels_x_min\n",
    "        x_max    = pixels_x_max\n",
    "        y_min    = 70\n",
    "        y_max    = 110\n",
    "        n_bins_x = n_pixels_x\n",
    "        n_bins_y = 40\n",
    "        x_bins = np.linspace(x_min,x_max,n_bins_x)\n",
    "        y_bins = np.linspace(y_min,y_max,n_bins_y)\n",
    "        #x_bins = np.arange(x_min,x_max+1,step=1.)\n",
    "        #y_bins = np.arange(y_min,y_max+1,step=1.)\n",
    "        axis_labels = ['Track start_x - end_x [mm]','Track Theta [deg]','Entries [-]']\n",
    "        save_name = 'plots/'+str(plot_folder)+'/'+'h2_theta_deg_vs_spread_x.png'\n",
    "        plot_h2([track_spread_x_list[eField_index],np.array(track_theta_list[eField_index])*180./np.pi],x_bins,y_bins,axis_labels,save_name)\n",
    "        out.update(progress(eField_index+1,n_field_intensities,'E-field intensities processed'))\n",
    "    out.update(progress(n_field_intensities,n_field_intensities,'E-field intensities processed'))\n",
    "print('Done.')"
   ]
  },
  {
   "cell_type": "code",
   "execution_count": 28,
   "metadata": {},
   "outputs": [
    {
     "data": {
      "text/html": [
       "\n",
       "        <progress \n",
       "            value='10'\n",
       "            max='10',\n",
       "            style='width: 30%'\n",
       "        >\n",
       "            10\n",
       "        </progress> 10/10 E-field intensities processed (100%) ... \n",
       "    "
      ],
      "text/plain": [
       "<IPython.core.display.HTML object>"
      ]
     },
     "metadata": {},
     "output_type": "display_data"
    },
    {
     "name": "stdout",
     "output_type": "stream",
     "text": [
      "Done.\n"
     ]
    }
   ],
   "source": [
    "# Phi [rad] vs. Spread_x (spread_x = track_start_pos_x - track_end_pos_x)\n",
    "if plot_all or plot_phi_vs_spread_x:\n",
    "    out = display(progress(0,n_field_intensities,'E-field intensities processed'),display_id=True)\n",
    "    for eField_index in range(n_field_intensities):\n",
    "        #print(track_phi_list[eField_index])\n",
    "        if len(track_phi_list[eField_index]) == 0: continue\n",
    "        plot_folder = str(e_field_list[eField_index]) + '_kV_per_cm'\n",
    "        #print(' plot_folder: ', plot_folder)\n",
    "        x_min    = pixels_x_min\n",
    "        x_max    = pixels_x_max\n",
    "        y_min    = -np.pi\n",
    "        y_max    = np.pi\n",
    "        n_bins_x = n_pixels_x\n",
    "        n_bins_y = 90\n",
    "        x_bins = np.linspace(x_min,x_max,n_bins_x)\n",
    "        y_bins = np.linspace(y_min,y_max,n_bins_y)\n",
    "        #x_bins = np.arange(x_min,x_max+1,step=1.)\n",
    "        #y_bins = np.arange(y_min,y_max+1,step=1.)\n",
    "        axis_labels = ['Track start_x - end_x [mm]','Track Phi [rad]','Entries [-]']\n",
    "        save_name = 'plots/'+str(plot_folder)+'/'+'h2_phi_rad_vs_spread_x.png'\n",
    "        plot_h2([track_spread_x_list[eField_index],track_phi_list[eField_index]],x_bins,y_bins,axis_labels,save_name)\n",
    "        out.update(progress(eField_index+1,n_field_intensities,'E-field intensities processed'))\n",
    "    out.update(progress(n_field_intensities,n_field_intensities,'E-field intensities processed'))\n",
    "print('Done.')"
   ]
  },
  {
   "cell_type": "code",
   "execution_count": 29,
   "metadata": {},
   "outputs": [
    {
     "data": {
      "text/html": [
       "\n",
       "        <progress \n",
       "            value='10'\n",
       "            max='10',\n",
       "            style='width: 30%'\n",
       "        >\n",
       "            10\n",
       "        </progress> 10/10 E-field intensities processed (100%) ... \n",
       "    "
      ],
      "text/plain": [
       "<IPython.core.display.HTML object>"
      ]
     },
     "metadata": {},
     "output_type": "display_data"
    },
    {
     "name": "stdout",
     "output_type": "stream",
     "text": [
      "Done.\n"
     ]
    }
   ],
   "source": [
    "# abs(Phi) [deg] vs. Spread_x (spread_x = track_start_pos_x - track_end_pos_x)\n",
    "if plot_all or plot_phi_vs_spread_x:\n",
    "    out = display(progress(0,n_field_intensities,'E-field intensities processed'),display_id=True)\n",
    "    for eField_index in range(n_field_intensities):\n",
    "        #print(track_phi_list[eField_index])\n",
    "        if len(track_phi_list[eField_index]) == 0: continue\n",
    "        plot_folder = str(e_field_list[eField_index]) + '_kV_per_cm'\n",
    "        #print(' plot_folder: ', plot_folder)\n",
    "        x_min    = pixels_x_min\n",
    "        x_max    = pixels_x_max\n",
    "        y_min    = 0.\n",
    "        y_max    = 180.\n",
    "        n_bins_x = n_pixels_x\n",
    "        n_bins_y = 90\n",
    "        x_bins = np.linspace(x_min,x_max,n_bins_x)\n",
    "        y_bins = np.linspace(y_min,y_max,n_bins_y)\n",
    "        #x_bins = np.arange(x_min,x_max+1,step=1.)\n",
    "        #y_bins = np.arange(y_min,y_max+1,step=1.)\n",
    "        axis_labels = ['Track start_x - end_x [mm]','Track |Phi| [deg]','Entries [-]']\n",
    "        save_name = 'plots/'+str(plot_folder)+'/'+'h2_phi_deg_vs_spread_x.png'\n",
    "        plot_h2([track_spread_x_list[eField_index],abs(np.array(track_phi_list[eField_index])*180./np.pi)],x_bins,y_bins,axis_labels,save_name)\n",
    "        out.update(progress(eField_index+1,n_field_intensities,'E-field intensities processed'))\n",
    "    out.update(progress(n_field_intensities,n_field_intensities,'E-field intensities processed'))\n",
    "print('Done.')"
   ]
  },
  {
   "cell_type": "code",
   "execution_count": 30,
   "metadata": {},
   "outputs": [
    {
     "data": {
      "text/html": [
       "\n",
       "        <progress \n",
       "            value='10'\n",
       "            max='10',\n",
       "            style='width: 30%'\n",
       "        >\n",
       "            10\n",
       "        </progress> 10/10 E-field intensities processed (100%) ... \n",
       "    "
      ],
      "text/plain": [
       "<IPython.core.display.HTML object>"
      ]
     },
     "metadata": {},
     "output_type": "display_data"
    },
    {
     "name": "stdout",
     "output_type": "stream",
     "text": [
      "Done.\n"
     ]
    }
   ],
   "source": [
    "# 3D plot of gravicentres\n",
    "if plot_all or plot_3D_graviCentre:\n",
    "    out = display(progress(0,n_field_intensities,'E-field intensities processed'),display_id=True)\n",
    "    for eField_index in range(n_field_intensities):\n",
    "        #print(track_cgx_list[eField_index])\n",
    "        if len(track_cgx_list[eField_index]) == 0: continue\n",
    "        plot_folder = str(e_field_list[eField_index]) + '_kV_per_cm'\n",
    "        #print(' plot_folder: ', plot_folder)\n",
    "        x_min    = pixels_x_min\n",
    "        x_max    = pixels_x_max\n",
    "        y_min    = pixels_y_min\n",
    "        y_max    = pixels_y_max\n",
    "        z_min    = 0\n",
    "        z_max    = 600 #max(pixels_z_max,np.max(track_cgz_list[eField_index]))\n",
    "        n_bins_x = n_pixels_x\n",
    "        n_bins_y = n_pixels_y\n",
    "        n_bins_z = n_pixels_z\n",
    "        x_bins = np.linspace(x_min,x_max,n_bins_x)\n",
    "        y_bins = np.linspace(y_min,y_max,n_bins_y)\n",
    "        z_bins = np.linspace(z_min,z_max,n_bins_z)\n",
    "        save_name = 'plots/'+str(plot_folder)+'/'+'h3_graviCentre.png'\n",
    "        plot_h3_unweighted([track_cgx_list[eField_index],track_cgy_list[eField_index],track_cgz_list[eField_index]],\\\n",
    "                           x_bins,y_bins,z_bins,['Coordinate x [mm]','Coordinate y [mm]','Coordinate z [mm]'],save_name)\n",
    "        out.update(progress(eField_index+1,n_field_intensities,'E-field intensities processed'))\n",
    "    out.update(progress(n_field_intensities,n_field_intensities,'E-field intensities processed'))\n",
    "print('Done.')"
   ]
  },
  {
   "cell_type": "code",
   "execution_count": 31,
   "metadata": {},
   "outputs": [
    {
     "data": {
      "text/html": [
       "\n",
       "        <progress \n",
       "            value='10'\n",
       "            max='10',\n",
       "            style='width: 30%'\n",
       "        >\n",
       "            10\n",
       "        </progress> 10/10 E-field intensities processed (100%) ... \n",
       "    "
      ],
      "text/plain": [
       "<IPython.core.display.HTML object>"
      ]
     },
     "metadata": {},
     "output_type": "display_data"
    },
    {
     "name": "stdout",
     "output_type": "stream",
     "text": [
      "Done.\n"
     ]
    }
   ],
   "source": [
    "# Gravycentre projection onto xy plane\n",
    "if plot_all or plot_graviCentre_projection_xy:\n",
    "    out = display(progress(0,n_field_intensities,'E-field intensities processed'),display_id=True)\n",
    "    for eField_index in range(n_field_intensities):\n",
    "        #print(track_cgx_list[eField_index])\n",
    "        if len(track_cgx_list[eField_index]) == 0: continue\n",
    "        plot_folder = str(e_field_list[eField_index]) + '_kV_per_cm'\n",
    "        #print(' plot_folder: ', plot_folder)\n",
    "        x_min    = pixels_x_min\n",
    "        x_max    = pixels_x_max\n",
    "        y_min    = pixels_y_min\n",
    "        y_max    = pixels_y_max\n",
    "        n_bins_x = n_pixels_x\n",
    "        n_bins_y = n_pixels_y\n",
    "        x_bins = np.linspace(x_min,x_max,n_bins_x)\n",
    "        y_bins = np.linspace(y_min,y_max,n_bins_y)\n",
    "        #x_bins = np.arange(x_min,x_max+1,step=1.)\n",
    "        #y_bins = np.arange(y_min,y_max+1,step=1.)\n",
    "        axis_labels = ['Coordinate x [mm]','Coordinate y [mm]','Entries [-]']\n",
    "        save_name = 'plots/'+str(plot_folder)+'/'+'h2_graviCentre_xy.png'\n",
    "        plot_h2([track_cgx_list[eField_index],track_cgy_list[eField_index]],x_bins,y_bins,axis_labels,save_name)\n",
    "        out.update(progress(eField_index+1,n_field_intensities,'E-field intensities processed'))\n",
    "    out.update(progress(n_field_intensities,n_field_intensities,'E-field intensities processed'))\n",
    "print('Done.')"
   ]
  },
  {
   "cell_type": "code",
   "execution_count": 32,
   "metadata": {},
   "outputs": [
    {
     "data": {
      "text/html": [
       "\n",
       "        <progress \n",
       "            value='10'\n",
       "            max='10',\n",
       "            style='width: 30%'\n",
       "        >\n",
       "            10\n",
       "        </progress> 10/10 E-field intensities processed (100%) ... \n",
       "    "
      ],
      "text/plain": [
       "<IPython.core.display.HTML object>"
      ]
     },
     "metadata": {},
     "output_type": "display_data"
    },
    {
     "name": "stdout",
     "output_type": "stream",
     "text": [
      "Done.\n"
     ]
    }
   ],
   "source": [
    "# Gravycentre projection onto xz plane\n",
    "if plot_all or plot_graviCentre_projection_xz:\n",
    "    out = display(progress(0,n_field_intensities,'E-field intensities processed'),display_id=True)\n",
    "    for eField_index in range(n_field_intensities):\n",
    "        #print(track_cgx_list[eField_index])\n",
    "        if len(track_cgx_list[eField_index]) == 0: continue\n",
    "        plot_folder = str(e_field_list[eField_index]) + '_kV_per_cm'\n",
    "        #print(' plot_folder: ', plot_folder)\n",
    "        x_min    = pixels_x_min\n",
    "        x_max    = pixels_x_max\n",
    "        z_min    = 0\n",
    "        z_max    = max(pixels_z_max,np.max(track_cgz_list[eField_index]))\n",
    "        n_bins_x = n_pixels_x\n",
    "        n_bins_z = n_pixels_z\n",
    "        x_bins = np.linspace(x_min,x_max,n_bins_x)\n",
    "        z_bins = np.linspace(z_min,z_max,n_bins_z)\n",
    "        #x_bins = np.arange(x_min,x_max+1,step=1.)\n",
    "        #y_bins = np.arange(y_min,y_max+1,step=1.)\n",
    "        axis_labels = ['Coordinate x [mm]','Coordinate z [mm]','Entries [-]']\n",
    "        save_name = 'plots/'+str(plot_folder)+'/'+'h2_graviCentre_xz.png'\n",
    "        plot_h2([track_cgx_list[eField_index],track_cgz_list[eField_index]],x_bins,z_bins,axis_labels,save_name)\n",
    "        out.update(progress(eField_index+1,n_field_intensities,'E-field intensities processed'))\n",
    "    out.update(progress(n_field_intensities,n_field_intensities,'E-field intensities processed'))\n",
    "print('Done.')"
   ]
  },
  {
   "cell_type": "code",
   "execution_count": 33,
   "metadata": {},
   "outputs": [
    {
     "data": {
      "text/html": [
       "\n",
       "        <progress \n",
       "            value='10'\n",
       "            max='10',\n",
       "            style='width: 30%'\n",
       "        >\n",
       "            10\n",
       "        </progress> 10/10 E-field intensities processed (100%) ... \n",
       "    "
      ],
      "text/plain": [
       "<IPython.core.display.HTML object>"
      ]
     },
     "metadata": {},
     "output_type": "display_data"
    },
    {
     "name": "stdout",
     "output_type": "stream",
     "text": [
      "Done.\n"
     ]
    }
   ],
   "source": [
    "# Gravycentre projection onto yz plane\n",
    "if plot_all or plot_graviCentre_projection_yz:\n",
    "    out = display(progress(0,n_field_intensities,'E-field intensities processed'),display_id=True)\n",
    "    for eField_index in range(n_field_intensities):\n",
    "        #print(track_cgy_list[eField_index])\n",
    "        if len(track_cgy_list[eField_index]) == 0: continue\n",
    "        plot_folder = str(e_field_list[eField_index]) + '_kV_per_cm'\n",
    "        #print(' plot_folder: ', plot_folder)\n",
    "        y_min    = pixels_y_min\n",
    "        y_max    = pixels_y_max\n",
    "        z_min    = 0\n",
    "        z_max    = max(pixels_z_max,np.max(track_cgz_list[eField_index]))\n",
    "        n_bins_y = n_pixels_y\n",
    "        n_bins_z = n_pixels_z\n",
    "        y_bins = np.linspace(y_min,y_max,n_bins_y)\n",
    "        z_bins = np.linspace(z_min,z_max,n_bins_z)\n",
    "        #y_bins = np.arange(y_min,y_max+1,step=1.)\n",
    "        #z_bins = np.arange(z_min,z_max+1,step=1.)\n",
    "        axis_labels = ['Coordinate y [mm]','Coordinate z [mm]','Entries [-]']\n",
    "        save_name = 'plots/'+str(plot_folder)+'/'+'h2_graviCentre_yz.png'\n",
    "        plot_h2([track_cgy_list[eField_index],track_cgz_list[eField_index]],y_bins,z_bins,axis_labels,save_name)\n",
    "        out.update(progress(eField_index+1,n_field_intensities,'E-field intensities processed'))\n",
    "    out.update(progress(n_field_intensities,n_field_intensities,'E-field intensities processed'))\n",
    "print('Done.')"
   ]
  },
  {
   "cell_type": "code",
   "execution_count": 34,
   "metadata": {},
   "outputs": [
    {
     "data": {
      "text/html": [
       "\n",
       "        <progress \n",
       "            value='10'\n",
       "            max='10',\n",
       "            style='width: 30%'\n",
       "        >\n",
       "            10\n",
       "        </progress> 10/10 E-field intensities processed (100%) ... \n",
       "    "
      ],
      "text/plain": [
       "<IPython.core.display.HTML object>"
      ]
     },
     "metadata": {},
     "output_type": "display_data"
    },
    {
     "name": "stdout",
     "output_type": "stream",
     "text": [
      "Done.\n"
     ]
    }
   ],
   "source": [
    "# LCM light-yield vs. track gravicentre_x\n",
    "if plot_all or plot_lightYield_vs_graviCentre_x:\n",
    "    out = display(progress(0,n_field_intensities,'E-field intensities processed'),display_id=True)\n",
    "    for eField_index in range(n_field_intensities):\n",
    "        #print(track_cgx_list[eField_index])\n",
    "        if len(track_cgx_list[eField_index]) == 0: continue\n",
    "        plot_folder = str(e_field_list[eField_index]) + '_kV_per_cm'\n",
    "        #print(' plot_folder: ', plot_folder)\n",
    "        x_min    = pixels_x_min\n",
    "        x_max    = pixels_x_max\n",
    "        y_min    = 0 # np.min(LCM_lightYield_list[eField_index])\n",
    "        y_max    = 1500 # np.max(LCM_lightYield_list[eField_index])\n",
    "        n_bins_x = n_pixels_x\n",
    "        n_bins_y = n_pixels_y\n",
    "        x_bins = np.linspace(x_min,x_max,n_bins_x)\n",
    "        y_bins = np.linspace(y_min,y_max,n_bins_y)\n",
    "        axis_labels = ['Track Gravicentre x [mm]','LCM Light Yield [p.e.]','Entries [-]']\n",
    "        save_name = 'plots/'+str(plot_folder)+'/'+'h2_LCM_lightYield_vs_trackGC.png'\n",
    "        plot_h2([track_cgx_list[eField_index],LCM_lightYield_list[eField_index]],x_bins,y_bins,axis_labels,save_name)\n",
    "        out.update(progress(eField_index+1,n_field_intensities,'E-field intensities processed'))\n",
    "    out.update(progress(n_field_intensities,n_field_intensities,'E-field intensities processed'))\n",
    "print('Done.')"
   ]
  },
  {
   "cell_type": "code",
   "execution_count": 35,
   "metadata": {},
   "outputs": [
    {
     "name": "stdout",
     "output_type": "stream",
     "text": [
      "plotting selection...\n"
     ]
    },
    {
     "data": {
      "text/html": [
       "\n",
       "        <progress \n",
       "            value='10'\n",
       "            max='10',\n",
       "            style='width: 30%'\n",
       "        >\n",
       "            10\n",
       "        </progress> 10/10 E-field intensities processed (100%) ... \n",
       "    "
      ],
      "text/plain": [
       "<IPython.core.display.HTML object>"
      ]
     },
     "metadata": {},
     "output_type": "display_data"
    },
    {
     "name": "stdout",
     "output_type": "stream",
     "text": [
      "plotting all...\n"
     ]
    },
    {
     "data": {
      "text/html": [
       "\n",
       "        <progress \n",
       "            value='10'\n",
       "            max='10',\n",
       "            style='width: 30%'\n",
       "        >\n",
       "            10\n",
       "        </progress> 10/10 E-field intensities processed (100%) ... \n",
       "    "
      ],
      "text/plain": [
       "<IPython.core.display.HTML object>"
      ]
     },
     "metadata": {},
     "output_type": "display_data"
    },
    {
     "name": "stdout",
     "output_type": "stream",
     "text": [
      "Done.\n"
     ]
    }
   ],
   "source": [
    "# LCM light-yield vs. track gravicentre_x, all with selection cut line, and only selected with selection cut line\n",
    "if plot_all or plot_lightYield_vs_graviCentre_x_Selection:\n",
    "    x_min = pixels_x_min\n",
    "    x_max = pixels_x_max\n",
    "    y_min = 0\n",
    "    y_max = 1500\n",
    "    #for i in range(len(LCM_lightYield_list)):\n",
    "    #    if np.max(LCM_lightYield_list[i]) > y_max:\n",
    "    #        y_max = np.max(LCM_lightYield_list[i])\n",
    "    n_bins_x = n_pixels_x\n",
    "    n_bins_y = n_pixels_y\n",
    "    x_bins = np.linspace(x_min,x_max,n_bins_x)\n",
    "    y_bins = np.linspace(y_min,y_max,n_bins_y)\n",
    "    axis_labels = ['Track Gravicentre x [mm]','LCM Light Yield [p.e.]','Entries [-]']\n",
    "\n",
    "    LY_cut_at_xmin = 400 # min. light yield at x_min (near end)\n",
    "    LY_cut_at_xmax = 50  # min. light yield at x_max (far end)\n",
    "\n",
    "    # Plot only selected\n",
    "    print('plotting selection...')\n",
    "    out = display(progress(0,n_field_intensities,'E-field intensities processed'),display_id=True)\n",
    "    for eField_index in range(n_field_intensities):\n",
    "        plot_folder = str(e_field_list[eField_index]) + '_kV_per_cm'\n",
    "        #print(' plot_folder: ', plot_folder)\n",
    "        save_name = 'plots/'+str(plot_folder)+'/h2_LCM_lightYield_vs_trackGC_selected.png'\n",
    "        gc_list = []\n",
    "        ly_list = []\n",
    "        for entry in range(len(LCM_lightYield_list[eField_index])):\n",
    "            if LCM_lightYield_list[eField_index][entry]>-(track_cgx_list[eField_index][entry]-x_min)*(LY_cut_at_xmin-LY_cut_at_xmax)/(x_max-x_min)+LY_cut_at_xmin:\n",
    "                gc_list.append(track_cgx_list[eField_index][entry])\n",
    "                ly_list.append(LCM_lightYield_list[eField_index][entry])\n",
    "        plot_LY_vs_GCx_selection([gc_list,ly_list],x_bins,y_bins,axis_labels,save_name,LY_cut_at_xmin,LY_cut_at_xmax)\n",
    "        out.update(progress(eField_index+1,n_field_intensities,'E-field intensities processed'))\n",
    "    out.update(progress(n_field_intensities,n_field_intensities,'E-field intensities processed'))\n",
    "\n",
    "    # Plot all\n",
    "    print('plotting all...')\n",
    "    out = display(progress(0,n_field_intensities,'E-field intensities processed'),display_id=True)\n",
    "    for eField_index in range(n_field_intensities):\n",
    "        plot_folder = str(e_field_list[eField_index]) + '_kV_per_cm'\n",
    "        #print(' plot_folder: ', plot_folder)\n",
    "        save_name = 'plots/'+str(plot_folder)+'/h2_LCM_lightYield_vs_trackGC_all.png'\n",
    "        gc_list = []\n",
    "        ly_list = []\n",
    "        for entry in range(len(LCM_lightYield_list[eField_index])):\n",
    "            if True:\n",
    "                gc_list.append(track_cgx_list[eField_index][entry])\n",
    "                ly_list.append(LCM_lightYield_list[eField_index][entry])\n",
    "        plot_LY_vs_GCx_selection([gc_list,ly_list],x_bins,y_bins,axis_labels,save_name,LY_cut_at_xmin,LY_cut_at_xmax)\n",
    "        out.update(progress(eField_index+1,n_field_intensities,'E-field intensities processed'))\n",
    "    out.update(progress(n_field_intensities,n_field_intensities,'E-field intensities processed'))\n",
    "\n",
    "print('Done.')"
   ]
  },
  {
   "cell_type": "code",
   "execution_count": 36,
   "metadata": {},
   "outputs": [
    {
     "name": "stderr",
     "output_type": "stream",
     "text": [
      "/home/roman/software/anaconda3/envs/larpix-analysis-38/lib/python3.8/site-packages/numpy/core/fromnumeric.py:3372: RuntimeWarning: Mean of empty slice.\n",
      "  return _methods._mean(a, axis=axis, dtype=dtype,\n",
      "/home/roman/software/anaconda3/envs/larpix-analysis-38/lib/python3.8/site-packages/numpy/core/_methods.py:170: RuntimeWarning: invalid value encountered in double_scalars\n",
      "  ret = ret.dtype.type(ret / rcount)\n",
      "/home/roman/software/anaconda3/envs/larpix-analysis-38/lib/python3.8/site-packages/numpy/core/_methods.py:233: RuntimeWarning: Degrees of freedom <= 0 for slice\n",
      "  ret = _var(a, axis=axis, dtype=dtype, out=out, ddof=ddof,\n",
      "/home/roman/software/anaconda3/envs/larpix-analysis-38/lib/python3.8/site-packages/numpy/core/_methods.py:194: RuntimeWarning: invalid value encountered in true_divide\n",
      "  arrmean = um.true_divide(\n",
      "/home/roman/software/anaconda3/envs/larpix-analysis-38/lib/python3.8/site-packages/numpy/core/_methods.py:226: RuntimeWarning: invalid value encountered in double_scalars\n",
      "  ret = ret.dtype.type(ret / rcount)\n"
     ]
    },
    {
     "name": "stdout",
     "output_type": "stream",
     "text": [
      "Done.\n"
     ]
    }
   ],
   "source": [
    "# Profile plot of LCM light-yield vs. track gravicentre_x\n",
    "if plot_all or plot_lightYield_vs_graviCentre_x_ProfilePlot:\n",
    "    x_min    = pixels_x_min\n",
    "    x_max    = pixels_x_max\n",
    "    n_bins_x = n_graviCentre_bins\n",
    "    x_width  = (x_max-x_min)/n_bins_x\n",
    "    x_err    = [0.5*x_width for i in range(n_bins_x)]\n",
    "    y_min    = 0\n",
    "    y_max    = 1500\n",
    "    #for i in range(len(LCM_lightYield_list)):\n",
    "    #    if np.max(LCM_lightYield_list[i]) > y_max:\n",
    "    #        y_max = np.max(LCM_lightYield_list[i])\n",
    "\n",
    "    # Define lists which will be filled with n (=number of different eField-intensities) lists with info about\n",
    "    # gravicentre, mean light yield and standard deviation of the mean light yield\n",
    "    gc_bin_i_list      = []\n",
    "    ly_mean_bin_i_list = []\n",
    "    ly_std_bin_i_list  = []\n",
    "    ly_sem_bin_i_list  = []\n",
    "    plot_folder_list   = []\n",
    "\n",
    "    # Loop over all TChains and obtain data for the profile plots\n",
    "    for eField_index in range(n_field_intensities):\n",
    "        #print(track_cgx_list[eField_index])\n",
    "        gc_bin_i      = []\n",
    "        ly_mean_bin_i = []\n",
    "        ly_std_bin_i  = []\n",
    "        ly_sem_bin_i  =[]\n",
    "        # Loop over all bins\n",
    "        for bin_i in range(n_bins_x):\n",
    "            gc_bin_i.append((bin_i+0.5)*x_width+x_min)\n",
    "            ly_in_bin_i = []\n",
    "            # Loop over all TChains\n",
    "            for entry in range(len(LCM_lightYield_list[eField_index])):\n",
    "                # Check if GC is in current bin\n",
    "                if track_cgx_list[eField_index][entry]>((bin_i)*x_width+x_min) and track_cgx_list[eField_index][entry]<((bin_i+1)*x_width+x_min):\n",
    "                    # Check if LY is not below selection criterium\n",
    "                    if LCM_lightYield_list[eField_index][entry]>-(track_cgx_list[eField_index][entry]-x_min)*(LY_cut_at_xmin-LY_cut_at_xmax)/(x_max-x_min)+LY_cut_at_xmin:\n",
    "                        ly_in_bin_i.append(LCM_lightYield_list[eField_index][entry])\n",
    "            ly_mean_bin_i.append(np.mean(ly_in_bin_i))\n",
    "            ly_std_bin_i.append(np.std(ly_in_bin_i))\n",
    "            ly_sem_bin_i.append(scipy.stats.sem(ly_in_bin_i))\n",
    "        gc_bin_i_list.append(gc_bin_i)\n",
    "        ly_mean_bin_i_list.append(ly_mean_bin_i)\n",
    "        ly_std_bin_i_list.append(ly_std_bin_i)\n",
    "        ly_sem_bin_i_list.append(ly_sem_bin_i)\n",
    "        plot_folder_list.append(str(e_field_list[eField_index]) + '_kV_per_cm')\n",
    "\n",
    "    # Don't plot points with sem = 0 (likely points with only 1 measurement):\n",
    "    for entry1 in range(len(ly_sem_bin_i_list)):\n",
    "        for entry2 in range(len(ly_sem_bin_i_list[entry1])):\n",
    "            if ly_sem_bin_i_list[entry1][entry2]==0:\n",
    "                ly_mean_bin_i_list[entry1][entry2]=float('nan')\n",
    "\n",
    "    restrict_to_entries = [2,5,9]\n",
    "    \n",
    "    axis_labels = ['Track Gravicentre x [mm]','LCM Light Yield [p.e.]']\n",
    "    save_name = 'plots/profile2D_LCM_lightYield_vs_trackGC.png'\n",
    "    plot_profile_of_2D_hist_00(gc_bin_i_list,\\\n",
    "                            ly_mean_bin_i_list,\\\n",
    "                            x_err,\\\n",
    "                            ly_sem_bin_i_list,\\\n",
    "                            plot_folder_list,\\\n",
    "                            axis_labels,\\\n",
    "                            x_min,\\\n",
    "                            x_max,\\\n",
    "                            y_min,\\\n",
    "                            y_max,\\\n",
    "                            save_name,\\\n",
    "                            restrict_to_entries)\n",
    "print('Done.')"
   ]
  },
  {
   "cell_type": "code",
   "execution_count": 37,
   "metadata": {},
   "outputs": [
    {
     "name": "stdout",
     "output_type": "stream",
     "text": [
      "Done.\n"
     ]
    }
   ],
   "source": [
    "# pixel chargeYield vs. E-field intensity\n",
    "if plot_all or plot_chargeYield_vs_eField:\n",
    "    chargeYield_values = []\n",
    "    eField_values      = []\n",
    "    for eField_index in range(n_field_intensities):\n",
    "        #print(pixels_chargeYield_list[eField_index])\n",
    "        if len(pixels_chargeYield_list[eField_index]) == 0: continue\n",
    "        for entry in range(len(pixels_chargeYield_list[eField_index])):\n",
    "            chargeYield_values.append(pixels_chargeYield_list[eField_index][entry])\n",
    "            eField_values.append((eField_index+1)/10.)\n",
    "        #print((eField_index+1)/10.)\n",
    "    x_min    = -0.05\n",
    "    x_max    = 1.05\n",
    "    y_min    = 4000  # np.min(chargeYield_values)\n",
    "    y_max    = 15000 # np.max(chargeYield_values)\n",
    "    n_bins_x = 10+2\n",
    "    n_bins_y = 50\n",
    "    x_bins = np.linspace(x_min,x_max,n_bins_x)\n",
    "    y_bins = np.linspace(y_min,y_max,n_bins_y)\n",
    "    axis_labels = ['E Field Intensity [kV/cm]','Total Pixel Charge Yield [ke]','Entries [-]']\n",
    "    save_name = 'plots/'+'h2_pixel_chargeYield_vs_eField.png'\n",
    "    plot_h2([eField_values,chargeYield_values],x_bins,y_bins,axis_labels,save_name)\n",
    "print('Done.')"
   ]
  },
  {
   "cell_type": "code",
   "execution_count": 38,
   "metadata": {},
   "outputs": [
    {
     "data": {
      "text/html": [
       "\n",
       "        <progress \n",
       "            value='10'\n",
       "            max='10',\n",
       "            style='width: 30%'\n",
       "        >\n",
       "            10\n",
       "        </progress> 10/10 E-field intensities processed (100%) ... \n",
       "    "
      ],
      "text/plain": [
       "<IPython.core.display.HTML object>"
      ]
     },
     "metadata": {},
     "output_type": "display_data"
    },
    {
     "name": "stdout",
     "output_type": "stream",
     "text": [
      "Done.\n"
     ]
    }
   ],
   "source": [
    "# Profile plot of pixel charge-yield vs. eField\n",
    "if plot_all or plot_chargeYield_vs_eField_ProfilePlot:\n",
    "    x_min    = -0.05\n",
    "    x_max    = 1.05\n",
    "    y_min    = 6000  # np.min(chargeYield_values)\n",
    "    y_max    = 10000 # np.max(chargeYield_values)\n",
    "    \n",
    "    chargeYield_mean = []\n",
    "    chargeYield_std  = []\n",
    "    chargeYield_sem  = []\n",
    "    eField_vals      = []\n",
    "    #eField_errors    = []\n",
    "    x_err = 0.05\n",
    "    plot_folder_list = []\n",
    "    out = display(progress(0,n_field_intensities,'E-field intensities processed'),display_id=True)\n",
    "    for eField_index in range(n_field_intensities):\n",
    "        #print(pixels_chargeYield_list[eField_index])\n",
    "        if len(pixels_chargeYield_list[eField_index]) == 0: continue\n",
    "        \n",
    "        CY_values = []\n",
    "        for entry in range(len(pixels_chargeYield_list[eField_index])):\n",
    "            CY_values.append(pixels_chargeYield_list[eField_index][entry])\n",
    "        \n",
    "        chargeYield_mean.append(np.mean(CY_values))\n",
    "        chargeYield_std.append(np.std(CY_values))\n",
    "        chargeYield_sem.append(scipy.stats.sem(CY_values))\n",
    "        eField_vals.append((eField_index+1)/10.)\n",
    "        #eField_errors.append(0.05)\n",
    "        plot_folder_list.append(str(e_field_list[eField_index]) + '_kV_per_cm')\n",
    "    \n",
    "    axis_labels = ['E Field Intensity [kV/cm]','Total Pixel Charge Yield [ke]']\n",
    "    save_name = 'plots/profile2D_pixel_chargeYield_vs_eField.png'\n",
    "    plot_legend = False\n",
    "    plot_profile_of_2D_hist_01(eField_vals,\\\n",
    "                            chargeYield_mean,\\\n",
    "                            x_err,\\\n",
    "                            chargeYield_sem,\\\n",
    "                            axis_labels,\\\n",
    "                            x_min,\\\n",
    "                            x_max,\\\n",
    "                            y_min,\\\n",
    "                            y_max,\\\n",
    "                            save_name)\n",
    "    out.update(progress(eField_index+1,n_field_intensities,'E-field intensities processed'))\n",
    "out.update(progress(n_field_intensities,n_field_intensities,'E-field intensities processed'))\n",
    "#'''\n",
    "print('Done.')"
   ]
  },
  {
   "cell_type": "code",
   "execution_count": 39,
   "metadata": {},
   "outputs": [
    {
     "name": "stdout",
     "output_type": "stream",
     "text": [
      "Done.\n"
     ]
    }
   ],
   "source": [
    "# This plot will be the same as the first one in the next cell\n",
    "'''\n",
    "# pixel chargeYield vs. track gravicentre_x\n",
    "if plot_all or plot_chargeYield_vs_graviCentre_x or True:\n",
    "    out = display(progress(0,n_field_intensities,'E-field intensities processed'),display_id=True)\n",
    "    for eField_index in range(n_field_intensities):\n",
    "        #print(pixels_chargeYield_list[eField_index])\n",
    "        if len(pixels_chargeYield_list[eField_index]) == 0: continue\n",
    "        plot_folder = str(e_field_list[eField_index]) + '_kV_per_cm'\n",
    "        #print(' plot_folder: ', plot_folder)\n",
    "        x_min    = pixels_x_min\n",
    "        x_max    = pixels_x_max\n",
    "        y_min    = 0 # np.min(pixels_chargeYield_list[eField_index])\n",
    "        y_max    = 20000 #np.max(pixels_chargeYield_list[eField_index])\n",
    "        n_bins_x = n_pixels_x\n",
    "        n_bins_y = n_pixels_y\n",
    "        x_bins = np.linspace(x_min,x_max,n_bins_x)\n",
    "        y_bins = np.linspace(y_min,y_max,n_bins_y)\n",
    "        axis_labels = ['Track Gravicentre x [mm]','Total Pixel Charge Yield [ke]','Entries [-]']\n",
    "        save_name = 'plots/'+str(plot_folder)+'/'+'h2_pixel_chargeYield_vs_trackGC.png'\n",
    "        plot_h2([track_cgx_list[eField_index],pixels_chargeYield_list[eField_index]],x_bins,y_bins,axis_labels,save_name)\n",
    "        out.update(progress(eField_index+1,n_field_intensities,'E-field intensities processed'))\n",
    "    out.update(progress(n_field_intensities,n_field_intensities,'E-field intensities processed'))\n",
    "'''\n",
    "print('Done.')"
   ]
  },
  {
   "cell_type": "code",
   "execution_count": 40,
   "metadata": {},
   "outputs": [
    {
     "name": "stdout",
     "output_type": "stream",
     "text": [
      "plotting selection...\n"
     ]
    },
    {
     "data": {
      "text/html": [
       "\n",
       "        <progress \n",
       "            value='10'\n",
       "            max='10',\n",
       "            style='width: 30%'\n",
       "        >\n",
       "            10\n",
       "        </progress> 10/10 E-field intensities processed (100%) ... \n",
       "    "
      ],
      "text/plain": [
       "<IPython.core.display.HTML object>"
      ]
     },
     "metadata": {},
     "output_type": "display_data"
    },
    {
     "name": "stdout",
     "output_type": "stream",
     "text": [
      "plotting all...\n"
     ]
    },
    {
     "data": {
      "text/html": [
       "\n",
       "        <progress \n",
       "            value='10'\n",
       "            max='10',\n",
       "            style='width: 30%'\n",
       "        >\n",
       "            10\n",
       "        </progress> 10/10 E-field intensities processed (100%) ... \n",
       "    "
      ],
      "text/plain": [
       "<IPython.core.display.HTML object>"
      ]
     },
     "metadata": {},
     "output_type": "display_data"
    },
    {
     "name": "stdout",
     "output_type": "stream",
     "text": [
      "Done.\n"
     ]
    }
   ],
   "source": [
    "# Pixel charge-yield vs. track gravicentre_x, all and in a second plot only those which passed the lightYield selection\n",
    "if plot_all or plot_chargeYield_vs_graviCentre_x_Selection:\n",
    "    x_min    = pixels_x_min\n",
    "    x_max    = pixels_x_max\n",
    "    y_min    = 0 # np.min(pixels_chargeYield_list[eField_index])\n",
    "    y_max    = 20000\n",
    "    #for i in range(len(pixels_chargeYield_list)):\n",
    "    #    if np.max(pixels_chargeYield_list[i]) > y_max:\n",
    "    #        y_max = np.max(pixels_chargeYield_list[i])\n",
    "    n_bins_x = n_pixels_x\n",
    "    n_bins_y = n_pixels_y\n",
    "    x_bins = np.linspace(x_min,x_max,n_bins_x)\n",
    "    y_bins = np.linspace(y_min,y_max,n_bins_y)\n",
    "    axis_labels = ['Track Gravicentre x [mm]','Total Pixel Charge Yield [ke]','Entries [-]']\n",
    "\n",
    "    LY_cut_at_xmin = 400 # min. light yield at x_min (near end)\n",
    "    LY_cut_at_xmax = 50  # min. light yield at x_max (far end)\n",
    "\n",
    "    # Plot only those passing the lightYield selection\n",
    "    print('plotting selection...')\n",
    "    out = display(progress(0,n_field_intensities,'E-field intensities processed'),display_id=True)\n",
    "    for eField_index in range(n_field_intensities):\n",
    "        plot_folder = str(e_field_list[eField_index]) + '_kV_per_cm'\n",
    "        #print(' plot_folder: ', plot_folder)\n",
    "        save_name = 'plots/'+str(plot_folder)+'/h2_pixel_chargeYield_vs_trackGC_selected.png'\n",
    "        gc_list = []\n",
    "        cy_list = []\n",
    "        for entry in range(len(LCM_lightYield_list[eField_index])):\n",
    "            if LCM_lightYield_list[eField_index][entry]>-(track_cgx_list[eField_index][entry]-x_min)*(LY_cut_at_xmin-LY_cut_at_xmax)/(x_max-x_min)+LY_cut_at_xmin:\n",
    "                gc_list.append(track_cgx_list[eField_index][entry])\n",
    "                cy_list.append(pixels_chargeYield_list[eField_index][entry])\n",
    "        plot_LY_vs_GCx_selection([gc_list,cy_list],x_bins,y_bins,axis_labels,save_name,-1,-1) # Note: Use the same function as for the lightYield\n",
    "        out.update(progress(eField_index+1,n_field_intensities,'E-field intensities processed'))\n",
    "    out.update(progress(n_field_intensities,n_field_intensities,'E-field intensities processed'))\n",
    "\n",
    "    # Plot all\n",
    "    print('plotting all...')\n",
    "    out = display(progress(0,n_field_intensities,'E-field intensities processed'),display_id=True)\n",
    "    for eField_index in range(n_field_intensities):\n",
    "        plot_folder = str(e_field_list[eField_index]) + '_kV_per_cm'\n",
    "        #print(' plot_folder: ', plot_folder)\n",
    "        save_name = 'plots/'+str(plot_folder)+'/h2_pixel_chargeYield_vs_trackGC_all.png'\n",
    "        gc_list = []\n",
    "        cy_list = []\n",
    "        for entry in range(len(LCM_lightYield_list[eField_index])):\n",
    "            if True:\n",
    "                gc_list.append(track_cgx_list[eField_index][entry])\n",
    "                cy_list.append(pixels_chargeYield_list[eField_index][entry])\n",
    "        plot_LY_vs_GCx_selection([gc_list,cy_list],x_bins,y_bins,axis_labels,save_name,-1,-1) # Note: Use the same function as for the lightYield\n",
    "        out.update(progress(eField_index+1,n_field_intensities,'E-field intensities processed'))\n",
    "    out.update(progress(n_field_intensities,n_field_intensities,'E-field intensities processed'))\n",
    "\n",
    "print('Done.')"
   ]
  },
  {
   "cell_type": "code",
   "execution_count": 41,
   "metadata": {},
   "outputs": [
    {
     "name": "stdout",
     "output_type": "stream",
     "text": [
      "Done.\n"
     ]
    }
   ],
   "source": [
    "# Profile plot of pixel charge-yield vs. track gravicentre_x\n",
    "if plot_all or plot_chargeYield_vs_graviCentre_x_ProfilePlot:\n",
    "    x_min    = pixels_x_min\n",
    "    x_max    = pixels_x_max\n",
    "    n_bins_x = n_graviCentre_bins\n",
    "    x_width  = (x_max-x_min)/n_bins_x\n",
    "    x_err    = [0.5*x_width for i in range(n_bins_x)]\n",
    "    y_min    = 6000\n",
    "    y_max    = 10000\n",
    "    #for i in range(len(pixels_chargeYield_list)):\n",
    "    #    if np.max(pixels_chargeYield_list[i]) > y_max:\n",
    "    #        y_max = np.max(pixels_chargeYield_list[i])\n",
    "\n",
    "    # Define lists which will be filled with n (=number of different eField-intensities) lists with info about\n",
    "    # gravicentre, mean charge yield and standard deviation of the mean charge yield\n",
    "    gc_bin_i_list      = []\n",
    "    cy_mean_bin_i_list = []\n",
    "    cy_std_bin_i_list  = [] # standard deviation\n",
    "    cy_sem_bin_i_list  = [] # standard error of the mean\n",
    "    plot_folder_list   = []\n",
    "\n",
    "    # Loop over all TChains and obtain data for the profile plots\n",
    "    for eField_index in range(n_field_intensities):\n",
    "        #print(track_cgx_list[eField_index])\n",
    "        gc_bin_i      = []\n",
    "        cy_mean_bin_i = []\n",
    "        cy_std_bin_i  = []\n",
    "        cy_sem_bin_i  = []\n",
    "        # Loop over all bins\n",
    "        for bin_i in range(n_bins_x):\n",
    "            gc_bin_i.append((bin_i+0.5)*x_width+x_min)\n",
    "            cy_in_bin_i = []\n",
    "            # Loop over all TChains\n",
    "            for entry in range(len(pixels_chargeYield_list[eField_index])):\n",
    "                # Check if GC is in current bin\n",
    "                if track_cgx_list[eField_index][entry]>((bin_i)*x_width+x_min) and track_cgx_list[eField_index][entry]<((bin_i+1)*x_width+x_min):\n",
    "                    # Check if LY (not CY!) is not below selection criterium\n",
    "                    if LCM_lightYield_list[eField_index][entry]>-(track_cgx_list[eField_index][entry]-x_min)*(LY_cut_at_xmin-LY_cut_at_xmax)/(x_max-x_min)+LY_cut_at_xmin:\n",
    "                        cy_in_bin_i.append(pixels_chargeYield_list[eField_index][entry])\n",
    "            cy_mean_bin_i.append(np.mean(cy_in_bin_i))\n",
    "            cy_std_bin_i.append(np.std(cy_in_bin_i))\n",
    "            cy_sem_bin_i.append(scipy.stats.sem(cy_in_bin_i))\n",
    "        gc_bin_i_list.append(gc_bin_i)\n",
    "        cy_mean_bin_i_list.append(cy_mean_bin_i)\n",
    "        cy_std_bin_i_list.append(cy_std_bin_i)\n",
    "        cy_sem_bin_i_list.append(cy_sem_bin_i)\n",
    "        plot_folder_list.append(str(e_field_list[eField_index]) + '_kV_per_cm')\n",
    "        \n",
    "    restrict_to_entries = [2,5,9]\n",
    "\n",
    "    axis_labels = ['Track Gravicentre x [mm]','Total Pixel Charge Yield [ke]']\n",
    "    save_name = 'plots/profile2D_pixel_chargeYield_vs_trackGC.png'\n",
    "    plot_profile_of_2D_hist_00(gc_bin_i_list,\\\n",
    "                            cy_mean_bin_i_list,\\\n",
    "                            x_err,\\\n",
    "                            cy_sem_bin_i_list,\\\n",
    "                            plot_folder_list,\\\n",
    "                            axis_labels,\\\n",
    "                            x_min,\\\n",
    "                            x_max,\\\n",
    "                            y_min,\\\n",
    "                            y_max,\\\n",
    "                            save_name,\\\n",
    "                            restrict_to_entries)\n",
    "print('Done.')"
   ]
  },
  {
   "cell_type": "code",
   "execution_count": 42,
   "metadata": {},
   "outputs": [
    {
     "name": "stdout",
     "output_type": "stream",
     "text": [
      "Done.\n"
     ]
    }
   ],
   "source": [
    "# TGraphError plot of light-yield and charge-yield vs. eField intensity\n",
    "'''\n",
    "np.set_printoptions(precision=2)\n",
    "for eField in range(len(cy_mean_bin_i_list)): #(len(cy_mean_bin_i_list)):\n",
    "    #if eField not in [1,5,9]:\n",
    "    #    continue\n",
    "    print(' ------------------------------------------------------------------------------- ')\n",
    "    print(' eField [kV/cm]: ', (eField+1)/10.)\n",
    "    print(' At this field, have the following bins: ')\n",
    "    #print('     x-bins:    ', np.array(gc_bin_i_list[eField]))\n",
    "    print('     ly_mean:   ', np.array(ly_mean_bin_i_list[eField]))\n",
    "    print('     ly_std:    ', np.array(ly_std_bin_i_list[eField]))\n",
    "    print('     ly_sem:    ', np.array(ly_sem_bin_i_list[eField]))\n",
    "    #print('     cy_mean:   ', np.array(cy_mean_bin_i_list[eField]))\n",
    "    #print('     cy_std:    ', np.array(cy_std_bin_i_list[eField]))\n",
    "    #print('     cy_sem:    ', np.array(cy_sem_bin_i_list[eField]))\n",
    "    #print('     x_err:     ', np.array(x_err))\n",
    "    \n",
    "print(' \\n ')\n",
    "print(' eField_vals:      ', np.array(eField_vals))\n",
    "print(' chargeYield_mean: ', np.array(chargeYield_mean))\n",
    "print(' x_err:            ', np.array(x_err))\n",
    "print(' chargeYield_std : ', np.array(chargeYield_std))\n",
    "print(' chargeYield_sem : ', np.array(chargeYield_sem))\n",
    "'''\n",
    "\n",
    "# TODO: Those plots are outdated (chargeYield not anymore a function of track_gravicentre_x but as a function of hit_position_x)\n",
    "'''\n",
    "x_err = [] # error for the eField values\n",
    "for eField in range(len(eField_vals)):\n",
    "    x_err.append(0.05)\n",
    "\n",
    "out = display(progress(0,len(ly_mean_bin_i_list[eField]),'GC processed'),display_id=True)\n",
    "for GC in range(len(ly_mean_bin_i_list[eField])):\n",
    "    lightYield_mean = []\n",
    "    lightYield_std  = []\n",
    "    lightYield_sem  = []\n",
    "    for eField in range(n_field_intensities):\n",
    "        field_intensity = (eField+1)/10.\n",
    "        #print(' GC: ', GC, '\\t eField: ', eField, '\\t ly: ', ly_mean_bin_i_list[eField][GC], ' \\t ly sem: ', ly_sem_bin_i_list[eField][GC])\n",
    "        if not (np.isnan(ly_mean_bin_i_list[eField][GC]) or np.isnan(ly_sem_bin_i_list[eField][GC]) or ly_sem_bin_i_list[eField][GC]==0.):\n",
    "            lightYield_mean.append(ly_mean_bin_i_list[eField][GC])\n",
    "            lightYield_std.append(ly_std_bin_i_list[eField][GC])\n",
    "            lightYield_sem.append(ly_sem_bin_i_list[eField][GC])\n",
    "        else:\n",
    "            lightYield_mean.append(float('nan'))\n",
    "            lightYield_std.append(float('nan'))\n",
    "            lightYield_sem.append(float('nan'))\n",
    "\n",
    "    series_mean       = [lightYield_mean,np.array(chargeYield_mean)/10.]\n",
    "    series_err        = [np.nanmean(lightYield_sem),np.array(chargeYield_sem)/10.]\n",
    "    #print(' ly mean: ', series_mean[0])\n",
    "    #print(' ly err:  ',series_err[0])\n",
    "    #print(' cy mean: ',series_mean[1])\n",
    "    #print(' cy err:  ',series_err[1])\n",
    "    \n",
    "    series_label_list = ['LCM Light Yield [p.e.]','Pixel Charge Yield [ke] (scale factor: 1/10)']\n",
    "    axis_labels = ['E Field Intensity [kV/cm]','Yield']\n",
    "    x_min,x_max = -0.05,1.05\n",
    "    y_min,y_max = 0,1500\n",
    "    save_name = 'plots/TGraphError_LightAndChargeYield_vs_eField_GC_bin_'+ str(GC) + '.png'\n",
    "    plot_TGraphErr(eField_vals,series_mean,x_err,series_err,series_label_list,axis_labels,x_min,x_max,y_min,y_max,save_name)\n",
    "    out.update(progress(GC+1,len(ly_mean_bin_i_list[eField]),'GCs processed'))\n",
    "out.update(progress(len(ly_mean_bin_i_list[eField]),len(ly_mean_bin_i_list[eField]),'GCs processed'))\n",
    "'''\n",
    "print('Done.')"
   ]
  },
  {
   "cell_type": "code",
   "execution_count": null,
   "metadata": {},
   "outputs": [],
   "source": []
  },
  {
   "cell_type": "code",
   "execution_count": null,
   "metadata": {},
   "outputs": [],
   "source": []
  },
  {
   "cell_type": "code",
   "execution_count": null,
   "metadata": {},
   "outputs": [],
   "source": []
  },
  {
   "cell_type": "code",
   "execution_count": null,
   "metadata": {},
   "outputs": [],
   "source": []
  },
  {
   "cell_type": "code",
   "execution_count": null,
   "metadata": {},
   "outputs": [],
   "source": []
  },
  {
   "cell_type": "code",
   "execution_count": null,
   "metadata": {},
   "outputs": [],
   "source": []
  },
  {
   "cell_type": "code",
   "execution_count": null,
   "metadata": {},
   "outputs": [],
   "source": []
  },
  {
   "cell_type": "markdown",
   "metadata": {},
   "source": [
    "#### Event Display"
   ]
  },
  {
   "cell_type": "code",
   "execution_count": 43,
   "metadata": {},
   "outputs": [
    {
     "name": "stdout",
     "output_type": "stream",
     "text": [
      " n_tracks:           15905\n",
      " plot_folder:  0.4_kV_per_cm\n",
      " Processing track 0 of 15905 in total...\n",
      " --------------- \n",
      " trackID:  10\n",
      " start x:  77.35040283203125\n",
      " end x:    51.099483489990234\n",
      " phi:      1.6602439880371094  \t / \t  95.1249734764947\n",
      " theta:    1.5894619226455688  \t / \t  91.06945986434043\n",
      " --------------- \n",
      " trackID:  12\n",
      " start x:  126.6305923461914\n",
      " end x:    51.308326721191406\n",
      " phi:      1.8172787427902222  \t / \t  104.12240216072001\n",
      " theta:    1.5216138362884521  \t / \t  87.1820508680385\n",
      "Done.\n"
     ]
    }
   ],
   "source": [
    "# Define which TChain to be used\n",
    "chain = 15\n",
    "\n",
    "input_tree = input_tree_list[chain]\n",
    "n_tracks = input_tree.GetEntries()\n",
    "\n",
    "print(' n_tracks:          ', input_tree.GetEntries())\n",
    "\n",
    "plot_folder = str(eField_intensity_list[chain]) + '_kV_per_cm'\n",
    "print(' plot_folder: ', plot_folder)\n",
    "\n",
    "# Delete old eventDisplays\n",
    "os.system('rm -rf plots/' + str(plot_folder) +'/eventDisplays')\n",
    "os.system('mkdir plots/' + str(plot_folder) +'/eventDisplays')\n",
    "\n",
    "for track in range(n_tracks):\n",
    "    input_tree.GetEntry(track)\n",
    "    \n",
    "    if track>10:\n",
    "        break\n",
    "    \n",
    "    if track%200==0:\n",
    "        print(' Processing track', track, 'of', n_tracks, 'in total...')\n",
    "\n",
    "    # Apply Selection Cuts (those should be the same as at the very beginning!)\n",
    "    # Note: Make a selected_trackID list does not work since there are >1 files in a TChain.\n",
    "    # Could, e.g., use unique unix_ts or so.\n",
    "    # For the moment, just apply exactly the same selection cuts as above.\n",
    "    if input_tree_list[chain].t_track_length < cut_lenght:\n",
    "        continue\n",
    "    if input_tree_list[chain].t_event_ntracks > cut_ntracks:\n",
    "        continue\n",
    "    if abs(max(input_tree_list[chain].t_track_start_pos_y,input_tree_list[chain].t_track_end_pos_y)) < cut_throughgoing or\\\n",
    "       abs(min(input_tree_list[chain].t_track_start_pos_y,input_tree_list[chain].t_track_end_pos_y)) < cut_throughgoing:\n",
    "        #print(input_tree_list[chain].t_track_start_pos_y)\n",
    "        #print(input_tree_list[chain].t_track_end_pos_y)\n",
    "        #print(' ---------------- ')\n",
    "        continue\n",
    "    \n",
    "    print(' --------------- ')\n",
    "    print(' trackID: ', input_tree.t_trackID)\n",
    "    print(' start x: ', input_tree.t_track_start_pos_x)\n",
    "    print(' end x:   ', input_tree.t_track_end_pos_x)\n",
    "    print(' phi:     ', input_tree_list[chain].t_track_phi, ' \\t / \\t ', input_tree_list[chain].t_track_phi*180./np.pi)\n",
    "    print(' theta:   ', input_tree_list[chain].t_track_theta, ' \\t / \\t ', input_tree_list[chain].t_track_theta*180./np.pi)\n",
    "\n",
    "    \n",
    "    hits_x = []\n",
    "    hits_y = []\n",
    "    hits_z = []\n",
    "    hits_q = []\n",
    "\n",
    "    '''    \n",
    "    print(' ----------------------------------------- ')\n",
    "    #print(' t_eventID:        ', input_tree.t_eventID)\n",
    "    print(' t_trackID:        ', input_tree.t_trackID)\n",
    "    #print(' t_event_q:        ', input_tree.t_event_q)\n",
    "    #print(' t_track_q:        ', input_tree.t_track_q)\n",
    "    #print(' t_event_nhits:    ', input_tree.t_event_nhits)\n",
    "    print(' t_track_start:    [%.2f , %.2f , %.2f]' %(input_tree.t_track_start_pos_x,input_tree.t_track_start_pos_y,input_tree.t_track_start_pos_z))\n",
    "    print(' t_track_end:      [%.2f , %.2f , %.2f]' %(input_tree.t_track_end_pos_x,input_tree.t_track_end_pos_y,input_tree.t_track_end_pos_z))\n",
    "    #print(' max(start_y):     ', max(input_tree.t_track_start_pos_y,input_tree.t_track_end_pos_y))\n",
    "    #print(' min(start_y):     ', min(input_tree.t_track_start_pos_y,input_tree.t_track_end_pos_y))\n",
    "    print(' t_track_nhits:    ', input_tree.t_track_nhits)\n",
    "    #print(' t_track_res_x:    ', input_tree.t_track_residual_x)\n",
    "    #print(' t_track_res_y:    ', input_tree.t_track_residual_y)\n",
    "    #print(' t_track_res_z:    ', input_tree.t_track_residual_z)\n",
    "    #print(' sqrt(res_sum2):   ', np.sqrt(input_tree.t_track_residual_x**2 + input_tree.t_track_residual_y**2 + input_tree.t_track_residual_z**2  ))\n",
    "    \n",
    "    #print(' l_LCM_tot :      ', input_tree.l_tlcm1_tot)\n",
    "    '''\n",
    "    \n",
    "    # Loop over all hits\n",
    "    for hit in range(input_tree.t_track_nhits):\n",
    "        hits_x.append(input_tree.t_track_hits_x[hit])\n",
    "        hits_y.append(input_tree.t_track_hits_y[hit])\n",
    "        hits_z.append(input_tree.t_track_hits_z[hit])\n",
    "        hits_q.append(input_tree.t_track_hits_q[hit])\n",
    "    \n",
    "    \n",
    "    # Plot 2D projection (onto xy pixel tile)\n",
    "    x_min    = pixels_x_min\n",
    "    x_max    = pixels_x_max\n",
    "    y_min    = pixels_y_min\n",
    "    y_max    = pixels_y_max\n",
    "    n_bins_x = n_pixels_x\n",
    "    n_bins_y = n_pixels_y\n",
    "    x_bins = np.linspace(x_min,x_max,n_bins_x)\n",
    "    y_bins = np.linspace(y_min,y_max,n_bins_y)\n",
    "    #save_name = 'plots/'+str(plot_folder)+'/eventDisplays/trackID_'+str(input_tree.t_trackID)+'_2D.png'\n",
    "    save_name = 'plots/'+str(plot_folder)+'/eventDisplays/chain_'+str(chain)+'_trackID_'+str(input_tree.t_trackID)+'_2D.png'\n",
    "    plot_event_2D([hits_x,hits_y,hits_q],x_bins,y_bins,['Coordinate x [mm]','Coordinate y [mm]','Charge Deposition [ke]'],save_name)\n",
    "    \n",
    "    \n",
    "    # Plot 3D event display\n",
    "    x_min    = pixels_x_min\n",
    "    x_max    = pixels_x_max\n",
    "    y_min    = pixels_y_min\n",
    "    y_max    = pixels_y_max\n",
    "    z_min    = 0\n",
    "    z_max    = max(pixels_z_max,np.max(hits_z))\n",
    "    n_bins_x = n_pixels_x\n",
    "    n_bins_y = n_pixels_y\n",
    "    n_bins_z = n_pixels_z\n",
    "    x_bins = np.linspace(x_min,x_max,n_bins_x)\n",
    "    y_bins = np.linspace(y_min,y_max,n_bins_y)\n",
    "    z_bins = np.linspace(z_min,z_max,n_bins_z)\n",
    "    #save_name = 'plots/'+str(plot_folder)+'/eventDisplays/trackID_'+str(input_tree.t_trackID)+'_3D.png'\n",
    "    save_name = 'plots/'+str(plot_folder)+'/eventDisplays/chain_'+str(chain)+'_trackID_'+str(input_tree.t_trackID)+'_3D.png'\n",
    "    plot_event_3D([hits_x,hits_y,hits_z,hits_q],x_bins,y_bins,z_bins,\\\n",
    "                  ['Coordinate x [mm]','Coordinate y [mm]','Coordinate z [mm]','Charge Deposition [ke]'],save_name)\n",
    "    '''\n",
    "    # OLD VERSION\n",
    "    fig = plt.figure()\n",
    "    ax = fig.add_subplot(111, projection='3d')\n",
    "    ax.set_xlim((pixels_x_min,pixels_x_max))\n",
    "    ax.set_ylim((pixels_y_min,pixels_y_max))\n",
    "    ax.set_zlim((0.,max(3200,np.max(hits_z))))\n",
    "    img = ax.scatter(hits_x,hits_y,hits_z,c=hits_q,cmap=plt.hot())\n",
    "    fig.colorbar(img)\n",
    "    plt.show()\n",
    "    save_name = 'evDisplay_3D.png'\n",
    "    plt.savefig(save_name, dpi=400)\n",
    "    plt.close()\n",
    "    '''\n",
    "    \n",
    "print('Done.')"
   ]
  },
  {
   "cell_type": "markdown",
   "metadata": {},
   "source": [
    "### Testing Voxelisation algorithm"
   ]
  },
  {
   "cell_type": "code",
   "execution_count": 44,
   "metadata": {},
   "outputs": [
    {
     "name": "stdout",
     "output_type": "stream",
     "text": [
      "Done.\n"
     ]
    }
   ],
   "source": [
    "'''\n",
    "# Get all hits in the EVENT (!) and make voxelisation\n",
    "voxels = np.zeros((n_voxels_x, n_voxels_y, n_voxels_z))\n",
    "\n",
    "for hit in range(10): #input_tree.t_event_nhits):\n",
    "    #print(' hit: ', hit, ' \\t x: ', input_tree.t_event_hits_x[hit], '\\t y: ', input_tree.t_event_hits_y[hit], ' \\t z: ', input_tree.t_event_hits_z[hit])\n",
    "\n",
    "    voxel_x = math.floor((input_tree.t_event_hits_x[hit]+(pitch_x*(n_voxels_x)/2.))/pitch_x)\n",
    "    voxel_y = math.floor((input_tree.t_event_hits_y[hit]+(pitch_y*(n_voxels_y)/2.))/pitch_y)\n",
    "    voxel_z = math.floor((input_tree.t_event_hits_z[hit]+(pitch_z*(n_voxels_z)/2.))/pitch_z)\n",
    "\n",
    "    #print(' voxel_x: ', voxel_x, ' \\t voxel_y: ', voxel_y, ' \\t voxel_z: ', voxel_z)\n",
    "    if voxel_x<n_voxels_x and voxel_y<n_voxels_y and voxel_z<n_voxels_z:\n",
    "        voxels[voxel_x][voxel_y][voxel_z] += input_tree.t_event_hits_q[hit]\n",
    "    # TODO: make under- and overflow voxel for every coordinate\n",
    "\n",
    "    h3_event_hits.Fill(input_tree.t_event_hits_x[hit],input_tree.t_event_hits_y[hit],input_tree.t_event_hits_z[hit],input_tree.t_event_hits_q[hit])\n",
    "\n",
    "for vox_x in range(n_voxels_x):\n",
    "    vox_x_middle = x_min + (vox_x+0.5)*pitch_x\n",
    "    for vox_y in range(n_voxels_y):\n",
    "        vox_y_middle = y_min + (vox_y+0.5)*pitch_y\n",
    "        for vox_z in range(n_voxels_z):\n",
    "            vox_z_middle = z_min + (vox_z+0.5)*pitch_z\n",
    "            if voxels[vox_x][vox_y][vox_z] > 0:\n",
    "                ntuple.Fill(vox_x_middle,vox_y_middle,vox_z_middle,voxels[vox_x][vox_y][vox_z])\n",
    "                #h3_event_hits.Fill(vox_x_middle,vox_y_middle,vox_z_middle,voxels[vox_x][vox_y][vox_z])\n",
    "'''\n",
    "print('Done.')"
   ]
  },
  {
   "cell_type": "code",
   "execution_count": null,
   "metadata": {},
   "outputs": [],
   "source": []
  }
 ],
 "metadata": {
  "kernelspec": {
   "display_name": "Python 3",
   "language": "python",
   "name": "python3"
  },
  "language_info": {
   "codemirror_mode": {
    "name": "ipython",
    "version": 3
   },
   "file_extension": ".py",
   "mimetype": "text/x-python",
   "name": "python",
   "nbconvert_exporter": "python",
   "pygments_lexer": "ipython3",
   "version": "3.8.5"
  }
 },
 "nbformat": 4,
 "nbformat_minor": 4
}
