{
 "cells": [
  {
   "cell_type": "markdown",
   "metadata": {},
   "source": [
    "# Description:\n",
    "To be done"
   ]
  },
  {
   "cell_type": "markdown",
   "metadata": {},
   "source": [
    "### Imports"
   ]
  },
  {
   "cell_type": "code",
   "execution_count": 1,
   "metadata": {},
   "outputs": [
    {
     "name": "stdout",
     "output_type": "stream",
     "text": [
      "Welcome to JupyROOT 6.22/02\n"
     ]
    }
   ],
   "source": [
    "#import argparse\n",
    "#from array import array\n",
    "import glob\n",
    "import math\n",
    "import numpy as np\n",
    "import os\n",
    "import ROOT\n",
    "from ROOT import TCanvas, TFile, TProfile, TNtuple, TH1F, TH2F, TH3F, TH1, TLine\n",
    "#from ROOT import gROOT, gBenchmark, gRandom, gSystem, Double, gStyle\n",
    "import time"
   ]
  },
  {
   "cell_type": "markdown",
   "metadata": {},
   "source": [
    "### ROOT Batch Mode"
   ]
  },
  {
   "cell_type": "code",
   "execution_count": 2,
   "metadata": {},
   "outputs": [],
   "source": [
    "# ROOT.gROOT.SetBatch(1)"
   ]
  },
  {
   "cell_type": "markdown",
   "metadata": {},
   "source": [
    "### Paths"
   ]
  },
  {
   "cell_type": "code",
   "execution_count": 3,
   "metadata": {},
   "outputs": [
    {
     "name": "stdout",
     "output_type": "stream",
     "text": [
      " datapath:    /data/SingleModule_Nov2020/LArPix/dataRuns/rootTrees/combined_with_light\n",
      " outputpath:  /home/lhep/PACMAN/larpix-analysis/lightCharge_anticorrelation\n",
      " datafiles ( 22 ): \n",
      "               sync_wLightReco_20201129_122204.root\n",
      "               sync_wLightReco_20201129_122655.root\n",
      "               sync_wLightReco_20201129_130449.root\n",
      "               sync_wLightReco_20201129_134857.root\n",
      "               sync_wLightReco_20201129_143427.root\n",
      "               sync_wLightReco_20201129_150749.root\n",
      "               sync_wLightReco_20201129_155227.root\n",
      "               sync_wLightReco_20201129_162434.root\n",
      "               sync_wLightReco_20201129_170918.root\n",
      "               sync_wLightReco_20201129_174140.root\n",
      "               sync_wLightReco_20201129_182214.root\n",
      "               sync_wLightReco_20201129_185437.root\n",
      "               sync_wLightReco_20201129_193550.root\n",
      "               sync_wLightReco_20201129_200721.root\n",
      "               sync_wLightReco_20201129_204607.root\n",
      "               sync_wLightReco_20201129_211819.root\n",
      "               sync_wLightReco_20201129_215550.root\n",
      "               sync_wLightReco_20201129_222751.root\n",
      "               sync_wLightReco_20201129_230700.root\n",
      "               sync_wLightReco_20201129_234000.root\n",
      "               sync_wLightReco_20201130_002722.root\n",
      "               sync_wLightReco_20201130_005847.root\n"
     ]
    }
   ],
   "source": [
    "# ============================================================\n",
    "# Set paths\n",
    "# ============================================================\n",
    "datapath = '/data/SingleModule_Nov2020/LArPix/dataRuns/rootTrees/combined_with_light'\n",
    "print(' datapath:   ', datapath)\n",
    "\n",
    "outputpath = '/home/lhep/PACMAN/larpix-analysis/lightCharge_anticorrelation'\n",
    "print(' outputpath: ', outputpath)\n",
    "\n",
    "files = sorted([os.path.basename(path) for path in glob.glob(datapath+'/*.root')])\n",
    "print(' datafiles (', len(files), '): ')\n",
    "for f in files:\n",
    "    print('              ', f)"
   ]
  },
  {
   "cell_type": "markdown",
   "metadata": {},
   "source": [
    "### Define voxelisation"
   ]
  },
  {
   "cell_type": "code",
   "execution_count": 4,
   "metadata": {},
   "outputs": [],
   "source": [
    "# ============================================================\n",
    "# Define voxelisation\n",
    "# ============================================================\n",
    "n_pixels_x = 70\n",
    "n_pixels_y = 70\n",
    "n_pixels_z = 70\n",
    "pitch_x = 4.434\n",
    "pitch_y = 4.434\n",
    "pitch_z = 4.434\n",
    "pixels_x_min = - pitch_x * n_pixels_x/2. #155.19\n",
    "pixels_x_max =   pitch_x * n_pixels_x/2. #155.19\n",
    "pixels_y_min = - pitch_y * n_pixels_y/2. #155.19\n",
    "pixels_y_max =   pitch_y * n_pixels_y/2. #155.19\n",
    "pixels_z_min = 0\n",
    "pixels_z_max = n_pixels_z*pitch_z*10 # factor 10 for correction... TODO: CHANGE THIS FOR NEXT PRODUCTION!!\n",
    "#pixels_z_min = - pitch_z * n_pixels_z/2. #155.19\n",
    "#pixels_z_max =   pitch_z * n_pixels_z/2. #155.19\n",
    "#pixels_y_min = -155.19\n",
    "#pixels_y_max = 155.19"
   ]
  },
  {
   "cell_type": "markdown",
   "metadata": {},
   "source": [
    "### Define which plots to make"
   ]
  },
  {
   "cell_type": "code",
   "execution_count": 5,
   "metadata": {},
   "outputs": [],
   "source": [
    "plot_all                                      = False\n",
    "\n",
    "plot_lightYield                               = False\n",
    "plot_trackLength                              = False\n",
    "plot_nHits                                    = False\n",
    "plot_q_raw_tot                                = False\n",
    "plot_chargeYield                              = False\n",
    "plot_dQdl                                     = False\n",
    "plot_startPosY_vs_startPosX                   = False\n",
    "plot_endPosY_vs_endPosX                       = False\n",
    "plot_startPosZ_vs_endPosZ                     = False\n",
    "plot_nHits_vs_trackLength                     = False\n",
    "plot_3D_graviCentre                           = False\n",
    "plot_graviCentre_projection_xy                = False\n",
    "plot_graviCentre_projection_xz                = False\n",
    "plot_graviCentre_projection_yz                = False\n",
    "plot_lightYield_vs_graviCentre_x              = True\n",
    "plot_lightYield_vs_graviCentre_x_Selection    = True\n",
    "plot_lightYield_vs_graviCentre_x_ProfilePlot  = True\n",
    "plot_chargeYield_vs_eField                    = True\n",
    "plot_chargeYield_vs_eField_ProfilePlot        = True\n",
    "plot_chargeYield_vs_graviCentre_x             = True\n",
    "plot_chargeYield_vs_graviCentre_x_Selection   = True\n",
    "plot_chargeYield_vs_graviCentre_x_ProfilePlot = True"
   ]
  },
  {
   "cell_type": "markdown",
   "metadata": {},
   "source": [
    "### Make a single TChain with input files"
   ]
  },
  {
   "cell_type": "code",
   "execution_count": 6,
   "metadata": {},
   "outputs": [
    {
     "name": "stdout",
     "output_type": "stream",
     "text": [
      "Done.\n"
     ]
    }
   ],
   "source": [
    "'''\n",
    "#inputFileName = files[0]\n",
    "inputFileName = 'sync_wLightReco_20201129_122204.root'\n",
    "print(' Processing file', inputFileName)\n",
    "\n",
    "input_tree = ROOT.TChain(\"t_out\", \"t_out\")\n",
    "input_tree.Add(datapath + '/' + inputFileName)\n",
    "#for root_file in config[\"data_files\"]:\n",
    "#    input_tree.Add(root_file)\n",
    "#input_tree.Add( \"/path/to.root\" )\n",
    "\n",
    "# Turn on all branches of input tree\n",
    "input_tree.SetBranchStatus(\"*\",           1)\n",
    "'''\n",
    "print('Done.')"
   ]
  },
  {
   "cell_type": "markdown",
   "metadata": {},
   "source": [
    "### Make List of TChains\n",
    "Note: Make for every file a separate TChain.\n",
    "Could substitute >1 files to a single TChain, but then it is more complicated to apply the electron lifetime correction..."
   ]
  },
  {
   "cell_type": "code",
   "execution_count": 7,
   "metadata": {},
   "outputs": [
    {
     "name": "stdout",
     "output_type": "stream",
     "text": [
      "Number of different field intensities:  10\n",
      "List with input trees: \n",
      "    1.0 kV/cm: \t [ Name: t_out Title: t_out ] \t ( 1807 entries )\n",
      "    1.0 kV/cm: \t [ Name: t_out Title: t_out ] \t ( 19770 entries )\n",
      "    1.0 kV/cm: \t [ Name: t_out Title: t_out ] \t ( 19234 entries )\n",
      "    1.0 kV/cm: \t [ Name: t_out Title: t_out ] \t ( 19520 entries )\n",
      "    0.9 kV/cm: \t [ Name: t_out Title: t_out ] \t ( 19657 entries )\n",
      "    0.9 kV/cm: \t [ Name: t_out Title: t_out ] \t ( 19369 entries )\n",
      "    0.8 kV/cm: \t [ Name: t_out Title: t_out ] \t ( 19261 entries )\n",
      "    0.8 kV/cm: \t [ Name: t_out Title: t_out ] \t ( 18800 entries )\n",
      "    0.7 kV/cm: \t [ Name: t_out Title: t_out ] \t ( 19185 entries )\n",
      "    0.7 kV/cm: \t [ Name: t_out Title: t_out ] \t ( 18178 entries )\n",
      "    0.6 kV/cm: \t [ Name: t_out Title: t_out ] \t ( 18720 entries )\n",
      "    0.6 kV/cm: \t [ Name: t_out Title: t_out ] \t ( 18202 entries )\n",
      "    0.5 kV/cm: \t [ Name: t_out Title: t_out ] \t ( 18086 entries )\n",
      "    0.5 kV/cm: \t [ Name: t_out Title: t_out ] \t ( 18149 entries )\n",
      "    0.4 kV/cm: \t [ Name: t_out Title: t_out ] \t ( 15773 entries )\n",
      "    0.4 kV/cm: \t [ Name: t_out Title: t_out ] \t ( 15905 entries )\n",
      "    0.3 kV/cm: \t [ Name: t_out Title: t_out ] \t ( 12815 entries )\n",
      "    0.3 kV/cm: \t [ Name: t_out Title: t_out ] \t ( 12816 entries )\n",
      "    0.2 kV/cm: \t [ Name: t_out Title: t_out ] \t ( 7770 entries )\n",
      "    0.2 kV/cm: \t [ Name: t_out Title: t_out ] \t ( 1144 entries )\n",
      "    0.1 kV/cm: \t [ Name: t_out Title: t_out ] \t ( 2068 entries )\n",
      "    0.1 kV/cm: \t [ Name: t_out Title: t_out ] \t ( 1964 entries )\n",
      "Done.\n"
     ]
    }
   ],
   "source": [
    "#inputFileName = files[20]\n",
    "#inputFileName = 'sync_wLightReco_20201129_122204.root'\n",
    "#print(' Processing file', inputFileName)\n",
    "\n",
    "input_tree_list       = []\n",
    "eField_intensity_list = [] # [kV/cm]\n",
    "\n",
    "'''\n",
    "for i in range(10):\n",
    "    input_tree = ROOT.TChain(\"t_out\", \"t_out\")\n",
    "    \n",
    "    if i == 0: # 0.1 kV/cm\n",
    "        input_tree.Add(datapath + '/sync_wLightReco_20201130_002722.root')\n",
    "        input_tree.Add(datapath + '/sync_wLightReco_20201130_005847.root')\n",
    "        eField_intensity_list.append(0.1)\n",
    "    if i == 1: # 0.2 kV/cm\n",
    "        input_tree.Add(datapath + '/sync_wLightReco_20201129_230700.root')\n",
    "        input_tree.Add(datapath + '/sync_wLightReco_20201129_234000.root')\n",
    "        eField_intensity_list.append(0.2)\n",
    "    if i == 2: # 0.3 kV/cm\n",
    "        input_tree.Add(datapath + '/sync_wLightReco_20201129_215550.root')\n",
    "        input_tree.Add(datapath + '/sync_wLightReco_20201129_222751.root')\n",
    "        eField_intensity_list.append(0.3)\n",
    "    if i == 3: # 0.4 kV/cm\n",
    "        input_tree.Add(datapath + '/sync_wLightReco_20201129_204607.root')\n",
    "        input_tree.Add(datapath + '/sync_wLightReco_20201129_211819.root')\n",
    "        eField_intensity_list.append(0.4)\n",
    "    if i == 4: # 0.5 kV/cm\n",
    "        input_tree.Add(datapath + '/sync_wLightReco_20201129_193550.root')\n",
    "        input_tree.Add(datapath + '/sync_wLightReco_20201129_200721.root')\n",
    "        eField_intensity_list.append(0.5)\n",
    "    if i == 5: # 0.6 kV/cm\n",
    "        input_tree.Add(datapath + '/sync_wLightReco_20201129_182214.root')\n",
    "        input_tree.Add(datapath + '/sync_wLightReco_20201129_185437.root')\n",
    "        eField_intensity_list.append(0.6)\n",
    "    if i == 6: # 0.7 kV/cm\n",
    "        input_tree.Add(datapath + '/sync_wLightReco_20201129_170918.root')\n",
    "        input_tree.Add(datapath + '/sync_wLightReco_20201129_174140.root')\n",
    "        eField_intensity_list.append(0.7)\n",
    "    if i == 7: # 0.8 kV/cm\n",
    "        input_tree.Add(datapath + '/sync_wLightReco_20201129_155227.root')\n",
    "        input_tree.Add(datapath + '/sync_wLightReco_20201129_162434.root')\n",
    "        eField_intensity_list.append(0.8)\n",
    "    if i == 8: # 0.9 kV/cm\n",
    "        input_tree.Add(datapath + '/sync_wLightReco_20201129_143427.root')\n",
    "        input_tree.Add(datapath + '/sync_wLightReco_20201129_150749.root')\n",
    "        eField_intensity_list.append(0.9)\n",
    "    if i == 9: # 1.0 kV/cm\n",
    "        input_tree.Add(datapath + '/sync_wLightReco_20201129_122204.root')\n",
    "        input_tree.Add(datapath + '/sync_wLightReco_20201129_122655.root')\n",
    "        input_tree.Add(datapath + '/sync_wLightReco_20201129_130449.root')\n",
    "        input_tree.Add(datapath + '/sync_wLightReco_20201129_134857.root')\n",
    "        eField_intensity_list.append(1.0)\n",
    "    \n",
    "    # Turn on all branches of input tree\n",
    "    input_tree.SetBranchStatus(\"*\",           1)\n",
    "    \n",
    "    # Append input_tree TChain to the input_tree_list\n",
    "    input_tree_list.append(input_tree)\n",
    "'''\n",
    "\n",
    "for i in range(len(files)):\n",
    "    input_tree = ROOT.TChain(\"t_out\", \"t_out\")\n",
    "    #print(' files[',i,']: ', files[i])\n",
    "    \n",
    "    if files[i] == 'sync_wLightReco_20201130_002722.root' or\\\n",
    "       files[i] == 'sync_wLightReco_20201130_005847.root':\n",
    "        input_tree.Add(datapath + '/' + files[i])\n",
    "        eField_intensity_list.append(0.1)\n",
    "    if files[i] == 'sync_wLightReco_20201129_230700.root' or\\\n",
    "       files[i] == 'sync_wLightReco_20201129_234000.root':\n",
    "        input_tree.Add(datapath + '/' + files[i])\n",
    "        eField_intensity_list.append(0.2)\n",
    "    if files[i] == 'sync_wLightReco_20201129_215550.root' or\\\n",
    "       files[i] == 'sync_wLightReco_20201129_222751.root':\n",
    "        input_tree.Add(datapath + '/' + files[i])\n",
    "        eField_intensity_list.append(0.3)\n",
    "    if files[i] == 'sync_wLightReco_20201129_204607.root' or\\\n",
    "       files[i] == 'sync_wLightReco_20201129_211819.root':\n",
    "        input_tree.Add(datapath + '/' + files[i])\n",
    "        eField_intensity_list.append(0.4)\n",
    "    if files[i] == 'sync_wLightReco_20201129_193550.root' or\\\n",
    "       files[i] == 'sync_wLightReco_20201129_200721.root':\n",
    "        input_tree.Add(datapath + '/' + files[i])\n",
    "        eField_intensity_list.append(0.5)\n",
    "    if files[i] == 'sync_wLightReco_20201129_182214.root' or\\\n",
    "       files[i] == 'sync_wLightReco_20201129_185437.root':\n",
    "        input_tree.Add(datapath + '/' + files[i])\n",
    "        eField_intensity_list.append(0.6)\n",
    "    if files[i] == 'sync_wLightReco_20201129_170918.root' or\\\n",
    "       files[i] == 'sync_wLightReco_20201129_174140.root':\n",
    "        input_tree.Add(datapath + '/' + files[i])\n",
    "        eField_intensity_list.append(0.7)\n",
    "    if files[i] == 'sync_wLightReco_20201129_155227.root' or\\\n",
    "       files[i] == 'sync_wLightReco_20201129_162434.root':\n",
    "        input_tree.Add(datapath + '/' + files[i])\n",
    "        eField_intensity_list.append(0.8)\n",
    "    if files[i] == 'sync_wLightReco_20201129_143427.root' or\\\n",
    "       files[i] == 'sync_wLightReco_20201129_150749.root':\n",
    "        input_tree.Add(datapath + '/' + files[i])\n",
    "        eField_intensity_list.append(0.9)\n",
    "    if files[i] == 'sync_wLightReco_20201129_122204.root' or\\\n",
    "       files[i] == 'sync_wLightReco_20201129_122655.root' or\\\n",
    "       files[i] == 'sync_wLightReco_20201129_130449.root' or\\\n",
    "       files[i] == 'sync_wLightReco_20201129_134857.root':\n",
    "        input_tree.Add(datapath + '/' + files[i])\n",
    "        eField_intensity_list.append(1.0)\n",
    "    \n",
    "    # Turn on all branches of input tree\n",
    "    input_tree.SetBranchStatus(\"*\",           1)\n",
    "    \n",
    "    # Append input_tree TChain to the input_tree_list\n",
    "    input_tree_list.append(input_tree)\n",
    "    \n",
    "n_field_intensities = len(np.unique(eField_intensity_list))\n",
    "print('Number of different field intensities: ', n_field_intensities)\n",
    "    \n",
    "print('List with input trees: ')\n",
    "for i in range(len(input_tree_list)):\n",
    "    print('   ', eField_intensity_list[i], 'kV/cm: \\t [', input_tree_list[i], '] \\t (', input_tree_list[i].GetEntries(), 'entries )')\n",
    "    \n",
    "print('Done.')"
   ]
  },
  {
   "cell_type": "markdown",
   "metadata": {},
   "source": [
    "### Create directories for plots"
   ]
  },
  {
   "cell_type": "code",
   "execution_count": 8,
   "metadata": {},
   "outputs": [
    {
     "name": "stdout",
     "output_type": "stream",
     "text": [
      "Done.\n"
     ]
    }
   ],
   "source": [
    "'''\n",
    "# If make_plots: Create corresponding folder\n",
    "make_plots = True\n",
    "\n",
    "if make_plots:\n",
    "    plot_folder = inputFileName[16:-5]\n",
    "    os.system('rm -rf plots/' + str(plot_folder))\n",
    "    os.system('mkdir plots/' + str(plot_folder))\n",
    "    os.system('mkdir plots/' + str(plot_folder) + '/eventDisplays')\n",
    "'''\n",
    "for i in range(len(eField_intensity_list)):\n",
    "    plot_folder = str(eField_intensity_list[i]) + '_kV_per_cm'\n",
    "    os.system('rm -rf plots/' + str(plot_folder))\n",
    "    os.system('mkdir plots/' + str(plot_folder))\n",
    "    os.system('mkdir plots/' + str(plot_folder) + '/eventDisplays')\n",
    "print('Done.')"
   ]
  },
  {
   "cell_type": "markdown",
   "metadata": {},
   "source": [
    "### Define track selection cuts"
   ]
  },
  {
   "cell_type": "code",
   "execution_count": 9,
   "metadata": {},
   "outputs": [],
   "source": [
    "# Define Selection Cuts\n",
    "cut_ntracks      = 1    # Only consider events with number of reconstructed tracks == cut_ntracks\n",
    "cut_lenght       = 250. # Track minimum length [mm]\n",
    "cut_throughgoing = 130. # |max(track_start_y,track_end_y)| and |min(track_start_y,track_end_y)| must be greater than cut_throughgoing [mm]\n",
    "#cut_nhits        = 50.  # Min. number of hits in the track [-]\n",
    "#cut_residual2    = 3.   # Maximum allowed sqrt(res_x**2+res_y**2+res_z**2), in order to only allow tracks which are 'track-like' with a small spread\n",
    "\n",
    "#TODO:\n",
    "# CUT ON ANGLE (THETA?) -> THETA? MUST BE CLOSE TO ZERO IN ORDER TO HAVE ALMOST VERTICAL TRACKS"
   ]
  },
  {
   "cell_type": "markdown",
   "metadata": {},
   "source": [
    "### Define electron drift velocities and lifetimes for every TChain"
   ]
  },
  {
   "cell_type": "code",
   "execution_count": 10,
   "metadata": {},
   "outputs": [
    {
     "name": "stdout",
     "output_type": "stream",
     "text": [
      "File summary: \n",
      "    file 0 :\t sync_wLightReco_20201129_122204.root \t E-field:  1.0 kV/cm \t eLifetime:  2.0 ms \t eDrift:  2.261 mm/us\n",
      "    file 1 :\t sync_wLightReco_20201129_122655.root \t E-field:  1.0 kV/cm \t eLifetime:  2.0 ms \t eDrift:  2.261 mm/us\n",
      "    file 2 :\t sync_wLightReco_20201129_130449.root \t E-field:  1.0 kV/cm \t eLifetime:  2.0 ms \t eDrift:  2.261 mm/us\n",
      "    file 3 :\t sync_wLightReco_20201129_134857.root \t E-field:  1.0 kV/cm \t eLifetime:  2.0 ms \t eDrift:  2.261 mm/us\n",
      "    file 4 :\t sync_wLightReco_20201129_143427.root \t E-field:  0.9 kV/cm \t eLifetime:  2.0 ms \t eDrift:  2.166 mm/us\n",
      "    file 5 :\t sync_wLightReco_20201129_150749.root \t E-field:  0.9 kV/cm \t eLifetime:  2.0 ms \t eDrift:  2.166 mm/us\n",
      "    file 6 :\t sync_wLightReco_20201129_155227.root \t E-field:  0.8 kV/cm \t eLifetime:  2.0 ms \t eDrift:  2.06 mm/us\n",
      "    file 7 :\t sync_wLightReco_20201129_162434.root \t E-field:  0.8 kV/cm \t eLifetime:  2.0 ms \t eDrift:  2.06 mm/us\n",
      "    file 8 :\t sync_wLightReco_20201129_170918.root \t E-field:  0.7 kV/cm \t eLifetime:  2.0 ms \t eDrift:  1.941 mm/us\n",
      "    file 9 :\t sync_wLightReco_20201129_174140.root \t E-field:  0.7 kV/cm \t eLifetime:  2.0 ms \t eDrift:  1.941 mm/us\n",
      "    file 10 :\t sync_wLightReco_20201129_182214.root \t E-field:  0.6 kV/cm \t eLifetime:  2.0 ms \t eDrift:  1.806 mm/us\n",
      "    file 11 :\t sync_wLightReco_20201129_185437.root \t E-field:  0.6 kV/cm \t eLifetime:  2.0 ms \t eDrift:  1.806 mm/us\n",
      "    file 12 :\t sync_wLightReco_20201129_193550.root \t E-field:  0.5 kV/cm \t eLifetime:  2.0 ms \t eDrift:  1.648 mm/us\n",
      "    file 13 :\t sync_wLightReco_20201129_200721.root \t E-field:  0.5 kV/cm \t eLifetime:  2.0 ms \t eDrift:  1.648 mm/us\n",
      "    file 14 :\t sync_wLightReco_20201129_204607.root \t E-field:  0.4 kV/cm \t eLifetime:  2.0 ms \t eDrift:  1.461 mm/us\n",
      "    file 15 :\t sync_wLightReco_20201129_211819.root \t E-field:  0.4 kV/cm \t eLifetime:  2.0 ms \t eDrift:  1.461 mm/us\n",
      "    file 16 :\t sync_wLightReco_20201129_215550.root \t E-field:  0.3 kV/cm \t eLifetime:  2.0 ms \t eDrift:  1.23 mm/us\n",
      "    file 17 :\t sync_wLightReco_20201129_222751.root \t E-field:  0.3 kV/cm \t eLifetime:  2.0 ms \t eDrift:  1.23 mm/us\n",
      "    file 18 :\t sync_wLightReco_20201129_230700.root \t E-field:  0.2 kV/cm \t eLifetime:  2.0 ms \t eDrift:  0.933 mm/us\n",
      "    file 19 :\t sync_wLightReco_20201129_234000.root \t E-field:  0.2 kV/cm \t eLifetime:  2.0 ms \t eDrift:  0.933 mm/us\n",
      "    file 20 :\t sync_wLightReco_20201130_002722.root \t E-field:  0.1 kV/cm \t eLifetime:  2.0 ms \t eDrift:  0.535 mm/us\n",
      "    file 21 :\t sync_wLightReco_20201130_005847.root \t E-field:  0.1 kV/cm \t eLifetime:  2.0 ms \t eDrift:  0.535 mm/us\n",
      "Done.\n"
     ]
    }
   ],
   "source": [
    "# Make a list with electron lifetimes\n",
    "eDrift_vel = [] # drift velocities [mm/us]\n",
    "eLifetimes = [] # one float for every TChain. Lifetime in [ms]\n",
    "\n",
    "for chain in range(len(input_tree_list)):\n",
    "    if   eField_intensity_list[chain] == 0.1: eDrift_vel.append(0.535)\n",
    "    elif eField_intensity_list[chain] == 0.2: eDrift_vel.append(0.933)\n",
    "    elif eField_intensity_list[chain] == 0.3: eDrift_vel.append(1.230)\n",
    "    elif eField_intensity_list[chain] == 0.4: eDrift_vel.append(1.461)\n",
    "    elif eField_intensity_list[chain] == 0.5: eDrift_vel.append(1.648)\n",
    "    elif eField_intensity_list[chain] == 0.6: eDrift_vel.append(1.806)\n",
    "    elif eField_intensity_list[chain] == 0.7: eDrift_vel.append(1.941)\n",
    "    elif eField_intensity_list[chain] == 0.8: eDrift_vel.append(2.060)\n",
    "    elif eField_intensity_list[chain] == 0.9: eDrift_vel.append(2.166)\n",
    "    elif eField_intensity_list[chain] == 1.0: eDrift_vel.append(2.261)\n",
    "    else:\n",
    "        print(' WARNING: No eDrift velocity defined for eField intensity =', eField_intensity_list[chain], 'kV/cm ...')\n",
    "        eDrift_vel.append(9999.9)\n",
    "\n",
    "    eLifetimes.append(2.0) # TODO: Put here the proper lifetimes!\n",
    "    \n",
    "print('File summary: ')\n",
    "for i in range(len(input_tree_list)):\n",
    "    print('    file', i, ':\\t', files[i],\\\n",
    "          '\\t E-field: ', eField_intensity_list[i],\\\n",
    "          'kV/cm \\t eLifetime: ', eLifetimes[i],\\\n",
    "          'ms \\t eDrift: ', eDrift_vel[i], 'mm/us')\n",
    "    \n",
    "print('Done.')"
   ]
  },
  {
   "cell_type": "markdown",
   "metadata": {},
   "source": [
    "### Loop over all TChains in input_tree_list"
   ]
  },
  {
   "cell_type": "code",
   "execution_count": 11,
   "metadata": {},
   "outputs": [
    {
     "name": "stdout",
     "output_type": "stream",
     "text": [
      " ----------------------------------------------------------------------------------- \n",
      " Processing chains with field_intensity:  0.1 kV/cm\n",
      "     Chain Nr. 20\n",
      "         eField [kV/cm]:      0.1\n",
      "         eLifetime [ms]:      2.0\n",
      "         eDrift_vel [mm/us]:  0.535\n",
      "         Number of tracks :  2068\n",
      "             Processed 0 of 2068 tracks. \t Elapsed time: 0.0017244815826416016  seconds ... \n",
      "     Chain Nr. 21\n",
      "         eField [kV/cm]:      0.1\n",
      "         eLifetime [ms]:      2.0\n",
      "         eDrift_vel [mm/us]:  0.535\n",
      "         Number of tracks :  1964\n",
      "             Processed 0 of 1964 tracks. \t Elapsed time: 0.12468123435974121  seconds ... \n",
      " ----------------------------------------------------------------------------------- \n",
      " Processing chains with field_intensity:  0.2 kV/cm\n",
      "     Chain Nr. 18\n",
      "         eField [kV/cm]:      0.2\n",
      "         eLifetime [ms]:      2.0\n",
      "         eDrift_vel [mm/us]:  0.933\n",
      "         Number of tracks :  7770\n",
      "             Processed 0 of 7770 tracks. \t Elapsed time: 0.23685455322265625  seconds ... \n",
      "             Processed 5000 of 7770 tracks. \t Elapsed time: 1.0008995532989502  seconds ... \n",
      "     Chain Nr. 19\n",
      "         eField [kV/cm]:      0.2\n",
      "         eLifetime [ms]:      2.0\n",
      "         eDrift_vel [mm/us]:  0.933\n",
      "         Number of tracks :  1144\n",
      "             Processed 0 of 1144 tracks. \t Elapsed time: 1.5275013446807861  seconds ... \n",
      " ----------------------------------------------------------------------------------- \n",
      " Processing chains with field_intensity:  0.3 kV/cm\n",
      "     Chain Nr. 16\n",
      "         eField [kV/cm]:      0.3\n",
      "         eLifetime [ms]:      2.0\n",
      "         eDrift_vel [mm/us]:  1.23\n",
      "         Number of tracks :  12815\n",
      "             Processed 0 of 12815 tracks. \t Elapsed time: 1.7258305549621582  seconds ... \n",
      "             Processed 5000 of 12815 tracks. \t Elapsed time: 3.7031373977661133  seconds ... \n",
      "             Processed 10000 of 12815 tracks. \t Elapsed time: 6.031538486480713  seconds ... \n",
      "     Chain Nr. 17\n",
      "         eField [kV/cm]:      0.3\n",
      "         eLifetime [ms]:      2.0\n",
      "         eDrift_vel [mm/us]:  1.23\n",
      "         Number of tracks :  12816\n",
      "             Processed 0 of 12816 tracks. \t Elapsed time: 7.425822496414185  seconds ... \n",
      "             Processed 5000 of 12816 tracks. \t Elapsed time: 9.344947814941406  seconds ... \n",
      "             Processed 10000 of 12816 tracks. \t Elapsed time: 11.438414573669434  seconds ... \n",
      " ----------------------------------------------------------------------------------- \n",
      " Processing chains with field_intensity:  0.4 kV/cm\n",
      "     Chain Nr. 14\n",
      "         eField [kV/cm]:      0.4\n",
      "         eLifetime [ms]:      2.0\n",
      "         eDrift_vel [mm/us]:  1.461\n",
      "         Number of tracks :  15773\n",
      "             Processed 0 of 15773 tracks. \t Elapsed time: 12.431243896484375  seconds ... \n",
      "             Processed 5000 of 15773 tracks. \t Elapsed time: 15.181291818618774  seconds ... \n",
      "             Processed 10000 of 15773 tracks. \t Elapsed time: 18.101952075958252  seconds ... \n",
      "             Processed 15000 of 15773 tracks. \t Elapsed time: 20.50003743171692  seconds ... \n",
      "     Chain Nr. 15\n",
      "         eField [kV/cm]:      0.4\n",
      "         eLifetime [ms]:      2.0\n",
      "         eDrift_vel [mm/us]:  1.461\n",
      "         Number of tracks :  15905\n",
      "             Processed 0 of 15905 tracks. \t Elapsed time: 20.917487621307373  seconds ... \n",
      "             Processed 5000 of 15905 tracks. \t Elapsed time: 23.740305185317993  seconds ... \n",
      "             Processed 10000 of 15905 tracks. \t Elapsed time: 26.7187180519104  seconds ... \n",
      "             Processed 15000 of 15905 tracks. \t Elapsed time: 29.618282318115234  seconds ... \n",
      " ----------------------------------------------------------------------------------- \n",
      " Processing chains with field_intensity:  0.5 kV/cm\n",
      "     Chain Nr. 12\n",
      "         eField [kV/cm]:      0.5\n",
      "         eLifetime [ms]:      2.0\n",
      "         eDrift_vel [mm/us]:  1.648\n",
      "         Number of tracks :  18086\n",
      "             Processed 0 of 18086 tracks. \t Elapsed time: 30.210126876831055  seconds ... \n",
      "             Processed 5000 of 18086 tracks. \t Elapsed time: 34.00736141204834  seconds ... \n",
      "             Processed 10000 of 18086 tracks. \t Elapsed time: 38.26755928993225  seconds ... \n",
      "             Processed 15000 of 18086 tracks. \t Elapsed time: 42.63300275802612  seconds ... \n",
      "     Chain Nr. 13\n",
      "         eField [kV/cm]:      0.5\n",
      "         eLifetime [ms]:      2.0\n",
      "         eDrift_vel [mm/us]:  1.648\n",
      "         Number of tracks :  18149\n",
      "             Processed 0 of 18149 tracks. \t Elapsed time: 45.44917702674866  seconds ... \n",
      "             Processed 5000 of 18149 tracks. \t Elapsed time: 48.655123233795166  seconds ... \n",
      "             Processed 10000 of 18149 tracks. \t Elapsed time: 52.018003940582275  seconds ... \n",
      "             Processed 15000 of 18149 tracks. \t Elapsed time: 55.603825092315674  seconds ... \n",
      " ----------------------------------------------------------------------------------- \n",
      " Processing chains with field_intensity:  0.6 kV/cm\n",
      "     Chain Nr. 10\n",
      "         eField [kV/cm]:      0.6\n",
      "         eLifetime [ms]:      2.0\n",
      "         eDrift_vel [mm/us]:  1.806\n",
      "         Number of tracks :  18720\n",
      "             Processed 0 of 18720 tracks. \t Elapsed time: 57.76694965362549  seconds ... \n",
      "             Processed 5000 of 18720 tracks. \t Elapsed time: 61.8252387046814  seconds ... \n",
      "             Processed 10000 of 18720 tracks. \t Elapsed time: 65.95747637748718  seconds ... \n",
      "             Processed 15000 of 18720 tracks. \t Elapsed time: 70.05360817909241  seconds ... \n",
      "     Chain Nr. 11\n",
      "         eField [kV/cm]:      0.6\n",
      "         eLifetime [ms]:      2.0\n",
      "         eDrift_vel [mm/us]:  1.806\n",
      "         Number of tracks :  18202\n",
      "             Processed 0 of 18202 tracks. \t Elapsed time: 72.9911458492279  seconds ... \n",
      "             Processed 5000 of 18202 tracks. \t Elapsed time: 77.27211833000183  seconds ... \n",
      "             Processed 10000 of 18202 tracks. \t Elapsed time: 81.58163237571716  seconds ... \n",
      "             Processed 15000 of 18202 tracks. \t Elapsed time: 85.4970006942749  seconds ... \n",
      " ----------------------------------------------------------------------------------- \n",
      " Processing chains with field_intensity:  0.7 kV/cm\n",
      "     Chain Nr. 8\n",
      "         eField [kV/cm]:      0.7\n",
      "         eLifetime [ms]:      2.0\n",
      "         eDrift_vel [mm/us]:  1.941\n",
      "         Number of tracks :  19185\n",
      "             Processed 0 of 19185 tracks. \t Elapsed time: 87.94849395751953  seconds ... \n",
      "             Processed 5000 of 19185 tracks. \t Elapsed time: 92.34364104270935  seconds ... \n",
      "             Processed 10000 of 19185 tracks. \t Elapsed time: 96.96447849273682  seconds ... \n",
      "             Processed 15000 of 19185 tracks. \t Elapsed time: 102.66589689254761  seconds ... \n",
      "     Chain Nr. 9\n",
      "         eField [kV/cm]:      0.7\n",
      "         eLifetime [ms]:      2.0\n",
      "         eDrift_vel [mm/us]:  1.941\n",
      "         Number of tracks :  18178\n",
      "             Processed 0 of 18178 tracks. \t Elapsed time: 107.4961473941803  seconds ... \n",
      "             Processed 5000 of 18178 tracks. \t Elapsed time: 113.67112851142883  seconds ... \n",
      "             Processed 10000 of 18178 tracks. \t Elapsed time: 119.37046790122986  seconds ... \n",
      "             Processed 15000 of 18178 tracks. \t Elapsed time: 125.26094770431519  seconds ... \n",
      " ----------------------------------------------------------------------------------- \n",
      " Processing chains with field_intensity:  0.8 kV/cm\n",
      "     Chain Nr. 6\n",
      "         eField [kV/cm]:      0.8\n",
      "         eLifetime [ms]:      2.0\n",
      "         eDrift_vel [mm/us]:  2.06\n",
      "         Number of tracks :  19261\n",
      "             Processed 0 of 19261 tracks. \t Elapsed time: 128.84007596969604  seconds ... \n",
      "             Processed 5000 of 19261 tracks. \t Elapsed time: 135.44556379318237  seconds ... \n",
      "             Processed 10000 of 19261 tracks. \t Elapsed time: 142.00508046150208  seconds ... \n",
      "             Processed 15000 of 19261 tracks. \t Elapsed time: 149.30339360237122  seconds ... \n",
      "     Chain Nr. 7\n",
      "         eField [kV/cm]:      0.8\n",
      "         eLifetime [ms]:      2.0\n",
      "         eDrift_vel [mm/us]:  2.06\n",
      "         Number of tracks :  18800\n",
      "             Processed 0 of 18800 tracks. \t Elapsed time: 154.6610391139984  seconds ... \n",
      "             Processed 5000 of 18800 tracks. \t Elapsed time: 161.59579634666443  seconds ... \n",
      "             Processed 10000 of 18800 tracks. \t Elapsed time: 168.32042789459229  seconds ... \n",
      "             Processed 15000 of 18800 tracks. \t Elapsed time: 175.34157800674438  seconds ... \n",
      " ----------------------------------------------------------------------------------- \n",
      " Processing chains with field_intensity:  0.9 kV/cm\n",
      "     Chain Nr. 4\n",
      "         eField [kV/cm]:      0.9\n",
      "         eLifetime [ms]:      2.0\n",
      "         eDrift_vel [mm/us]:  2.166\n",
      "         Number of tracks :  19657\n",
      "             Processed 0 of 19657 tracks. \t Elapsed time: 180.31486558914185  seconds ... \n",
      "             Processed 5000 of 19657 tracks. \t Elapsed time: 187.74345016479492  seconds ... \n",
      "             Processed 10000 of 19657 tracks. \t Elapsed time: 195.18287706375122  seconds ... \n",
      "             Processed 15000 of 19657 tracks. \t Elapsed time: 202.08673000335693  seconds ... \n",
      "     Chain Nr. 5\n",
      "         eField [kV/cm]:      0.9\n",
      "         eLifetime [ms]:      2.0\n",
      "         eDrift_vel [mm/us]:  2.166\n",
      "         Number of tracks :  19369\n",
      "             Processed 0 of 19369 tracks. \t Elapsed time: 208.3987820148468  seconds ... \n",
      "             Processed 5000 of 19369 tracks. \t Elapsed time: 215.5647749900818  seconds ... \n",
      "             Processed 10000 of 19369 tracks. \t Elapsed time: 222.57068538665771  seconds ... \n",
      "             Processed 15000 of 19369 tracks. \t Elapsed time: 229.3623285293579  seconds ... \n",
      " ----------------------------------------------------------------------------------- \n",
      " Processing chains with field_intensity:  1.0 kV/cm\n",
      "     Chain Nr. 2\n",
      "         eField [kV/cm]:      1.0\n",
      "         eLifetime [ms]:      2.0\n",
      "         eDrift_vel [mm/us]:  2.261\n",
      "         Number of tracks :  19234\n",
      "             Processed 0 of 19234 tracks. \t Elapsed time: 235.53410077095032  seconds ... \n",
      "             Processed 5000 of 19234 tracks. \t Elapsed time: 242.6551194190979  seconds ... \n",
      "             Processed 10000 of 19234 tracks. \t Elapsed time: 249.6165909767151  seconds ... \n",
      "             Processed 15000 of 19234 tracks. \t Elapsed time: 256.47958731651306  seconds ... \n",
      "     Chain Nr. 3\n",
      "         eField [kV/cm]:      1.0\n",
      "         eLifetime [ms]:      2.0\n",
      "         eDrift_vel [mm/us]:  2.261\n",
      "         Number of tracks :  19520\n",
      "             Processed 0 of 19520 tracks. \t Elapsed time: 262.3658709526062  seconds ... \n",
      "             Processed 5000 of 19520 tracks. \t Elapsed time: 269.381808757782  seconds ... \n",
      "             Processed 10000 of 19520 tracks. \t Elapsed time: 277.13602113723755  seconds ... \n",
      "             Processed 15000 of 19520 tracks. \t Elapsed time: 284.2250142097473  seconds ... \n",
      " Done.\n"
     ]
    }
   ],
   "source": [
    "e_field_list            = []\n",
    "track_length_list       = []\n",
    "track_n_hits_list       = []\n",
    "track_start_pos_x_list  = []\n",
    "track_start_pos_y_list  = []\n",
    "track_start_pos_z_list  = []\n",
    "track_end_pos_x_list    = []\n",
    "track_end_pos_y_list    = []\n",
    "track_end_pos_z_list    = []\n",
    "LCM_lightYield_list     = []\n",
    "track_q_raw_tot_list    = []\n",
    "pixels_chargeYield_list = [] # containing n (=number of E-field intensities) lists with m (=number of gravicentres) lists\n",
    "track_cgx_list          = []\n",
    "track_cgy_list          = []\n",
    "track_cgz_list          = []\n",
    "\n",
    "start = time.time()\n",
    "for eField in range(n_field_intensities):\n",
    "    field_intensity = (eField+1)/10.\n",
    "    \n",
    "    #if not (field_intensity == 0.5 or field_intensity == 0.6):\n",
    "    #    continue\n",
    "    \n",
    "    print( ' ----------------------------------------------------------------------------------- ')\n",
    "    print(' Processing chains with field_intensity: ', field_intensity, 'kV/cm')\n",
    "    \n",
    "    # Define lists with interesting quantities\n",
    "    track_length         = [] # Reconstructed track's length [mm]\n",
    "    track_n_hits         = [] # Reconstructed track's total number of hits [-]\n",
    "    track_start_pos_x    = [] # Reconstructed track's start position coordinates x [mm]\n",
    "    track_start_pos_y    = [] # Reconstructed track's start position coordinates y [mm]\n",
    "    track_start_pos_z    = [] # Reconstructed track's start position coordinates z [mm]\n",
    "    track_end_pos_x      = [] # Reconstructed track's end position coordinates x [mm]\n",
    "    track_end_pos_y      = [] # Reconstructed track's end position coordinates y [mm]\n",
    "    track_end_pos_z      = [] # Reconstructed track's end position coordinates z [mm]\n",
    "    LCM_lightYield       = [] # Total reconstructed light yield of LCM [units?] # TODO: which units?\n",
    "    track_q_raw_tot      = [] # Reconstructed track's total charge deposit [ke] (no eLifetime correction)\n",
    "    pixels_chargeYield   = [] # Reconstructed charge on pixels for every GC bin [ke] (eLifetime corrected)\n",
    "    pix_tile_chargeYield = [] # Reconstructed charge on entire pixel tile [ke] (eLifetime corrected)\n",
    "    track_cgx            = [] # gravicentre of the track (weighted by hits_q, but NOT YET ELECTRON LIFETIME CORRECTED -> TODO)\n",
    "    track_cgy            = [] # gravicentre of the track (weighted by hits_q, but NOT YET ELECTRON LIFETIME CORRECTED -> TODO)\n",
    "    track_cgz            = [] # gravicentre of the track (weighted by hits_q, but NOT YET ELECTRON LIFETIME CORRECTED -> TODO)\n",
    "    \n",
    "    for chain in range(len(input_tree_list)):\n",
    "        \n",
    "        # Skip the first two files (in order to have ~ the same statistics for all eField intensities):\n",
    "        if chain == 0 or chain == 1:\n",
    "            continue\n",
    "        \n",
    "        if eField_intensity_list[chain] != field_intensity:\n",
    "            continue\n",
    "        print('     Chain Nr.', chain)\n",
    "        print('         eField [kV/cm]:     ', eField_intensity_list[chain])\n",
    "        print('         eLifetime [ms]:     ', eLifetimes[chain])\n",
    "        print('         eDrift_vel [mm/us]: ', eDrift_vel[chain])\n",
    "\n",
    "        # Number of tracks in the TChain\n",
    "        n_tracks = input_tree_list[chain].GetEntries()\n",
    "        print('         Number of tracks : ', n_tracks)\n",
    "\n",
    "        #print(input_tree_list[chain].Print())\n",
    "\n",
    "        # List for events with a low light yield\n",
    "        #low_light_events = []\n",
    "\n",
    "        # List for track selection\n",
    "        #selected_trackIDs = []\n",
    "\n",
    "        # Loop over all tracks in input_tree\n",
    "        for track_id in range(n_tracks):\n",
    "            if(track_id%5000==0):\n",
    "                now = time.time()\n",
    "                print('             Processed', track_id, 'of', n_tracks, 'tracks. \\t Elapsed time:', math.ceil(now-start), ' seconds ... \\r')\n",
    "                \n",
    "            input_tree_list[chain].GetEntry(track_id)\n",
    "\n",
    "            # Apply Selection Cuts\n",
    "            if input_tree_list[chain].t_track_length < cut_lenght:\n",
    "                continue\n",
    "            if input_tree_list[chain].t_event_ntracks > cut_ntracks:\n",
    "                continue\n",
    "            if abs(max(input_tree_list[chain].t_track_start_pos_y,input_tree_list[chain].t_track_end_pos_y)) < cut_throughgoing or\\\n",
    "               abs(min(input_tree_list[chain].t_track_start_pos_y,input_tree_list[chain].t_track_end_pos_y)) < cut_throughgoing:\n",
    "                #print(input_tree_list[chain].t_track_start_pos_y)\n",
    "                #print(input_tree_list[chain].t_track_end_pos_y)\n",
    "                #print(' ---------------- ')\n",
    "                continue\n",
    "\n",
    "            #if track_id > 200:\n",
    "            #    break\n",
    "\n",
    "            #selected_trackIDs.append(input_tree_list[chain].t_trackID)\n",
    "\n",
    "            #if track_id > 15:\n",
    "            #    break\n",
    "\n",
    "            '''        \n",
    "            print(' ----------------------------------------- ')\n",
    "            #print(' t_eventID:           ', input_tree_list[chain].t_eventID)\n",
    "            print(' t_trackID:           ', input_tree_list[chain].t_trackID)\n",
    "            #print(' t_event_q:           ', input_tree_list[chain].t_event_q)\n",
    "            print(' t_track_length:      ', input_tree_list[chain].t_track_length)\n",
    "            print(' t_event_ntracks:     ', input_tree_list[chain].t_event_ntracks)\n",
    "            print(' t_track_start_pos_y: ', input_tree_list[chain].t_track_start_pos_y)\n",
    "            print(' t_track_end_pos_y:   ', input_tree_list[chain].t_track_end_pos_y)\n",
    "            #print(' t_track_q:           ', input_tree_list[chain].t_track_q)\n",
    "            #print(' t_event_nhits:       ', input_tree_list[chain].t_event_nhits)\n",
    "            #print(' t_track_nhits:       ', input_tree_list[chain].t_track_nhits)\n",
    "            #print(' t_tlcm1_tot:         ', input_tree_list[chain].l_tlcm1_tot)\n",
    "            '''\n",
    "\n",
    "            track_length.append(input_tree_list[chain].t_track_length)\n",
    "            track_n_hits.append(input_tree_list[chain].t_track_nhits)\n",
    "            #track_q_tot.append(input_tree_list[chain].t_track_q) # this needs to be corrected by the electron lifetime (see below)\n",
    "\n",
    "            track_start_pos_x.append(input_tree_list[chain].t_track_start_pos_x)\n",
    "            track_start_pos_y.append(input_tree_list[chain].t_track_start_pos_y)\n",
    "            track_start_pos_z.append(input_tree_list[chain].t_track_start_pos_z)\n",
    "            track_end_pos_x.append(input_tree_list[chain].t_track_end_pos_x)\n",
    "            track_end_pos_y.append(input_tree_list[chain].t_track_end_pos_y)\n",
    "            track_end_pos_z.append(input_tree_list[chain].t_track_end_pos_z)\n",
    "\n",
    "            LCM_lightYield.append(input_tree_list[chain].l_tlcm1_tot)\n",
    "            \n",
    "            # For low light events\n",
    "            #if input_tree_list[chain].l_tlcm1_tot<150:\n",
    "            #    low_light_events.append(input_tree_list[chain].t_trackID)\n",
    "\n",
    "            # Obtain the track's total charge and its center of gravity (weighted by deposited charge) #TODO: Correct for the electron lifetime!!!\n",
    "            # Loop over all hits\n",
    "            q_raw_tot  = 0.\n",
    "            q_corr_tot = 0.\n",
    "            cgx        = 0.\n",
    "            cgy        = 0.\n",
    "            cgz        = 0.\n",
    "            z_min = 99999.  # TODO: In order to test z coordinates (factors of 10) # TODO: delete this variable this factor 10 problem is solved\n",
    "            z_max = -99999. # TODO: In order to test z coordinates (factors of 10) # TODO: delete this variable this factor 10 problem is solved\n",
    "            for hit in range(input_tree_list[chain].t_track_nhits):\n",
    "                q_corr_factor = np.exp(0.1*input_tree_list[chain].t_track_hits_z[hit]/(eDrift_vel[chain]*eLifetimes[chain]*1000.)) # TODO: factor 0.1 due to factor 10 problem -> fix it\n",
    "                if input_tree_list[chain].t_track_hits_z[hit] < z_min:\n",
    "                    z_min = input_tree_list[chain].t_track_hits_z[hit]\n",
    "                if input_tree_list[chain].t_track_hits_z[hit] > z_max:\n",
    "                    z_max = input_tree_list[chain].t_track_hits_z[hit]\n",
    "                #    print(' hit_z [mm]:    ', 0.1 * input_tree_list[chain].t_track_hits_z[hit]) # TODO: factor 0.1 due to factor 10 problem -> fix it\n",
    "                #    print(' q_corr_factor: ', q_corr_factor)\n",
    "                q_raw_tot += input_tree_list[chain].t_track_hits_q[hit]\n",
    "                hit_q_corr = input_tree_list[chain].t_track_hits_q[hit] * q_corr_factor # q_corr_factor corrects for the electron lifetime\n",
    "                q_corr_tot += hit_q_corr\n",
    "                cgx += input_tree_list[chain].t_track_hits_x[hit]*hit_q_corr\n",
    "                cgy += input_tree_list[chain].t_track_hits_y[hit]*hit_q_corr\n",
    "                cgz += 0.1 * input_tree_list[chain].t_track_hits_z[hit]*hit_q_corr # TODO: factor 0.1 due to factor 10 problem -> fix it\n",
    "            track_q_raw_tot.append(q_raw_tot)\n",
    "            pixels_chargeYield.append(q_corr_tot)\n",
    "            #print('z_min: ', z_min) # TODO: delete this variable the factor 10 problem is solved\n",
    "            #print('z_max: ', z_max) # TODO: delete this variable the factor 10 problem is solved\n",
    "            # normalize gravicentre\n",
    "            gravicentre_x = cgx/(q_corr_tot)\n",
    "            gravicentre_y = cgy/(q_corr_tot)\n",
    "            gravicentre_z = cgz/(q_corr_tot)\n",
    "            track_cgx.append(gravicentre_x)\n",
    "            track_cgy.append(gravicentre_y)\n",
    "            track_cgz.append(gravicentre_z)\n",
    "            #print(' ------------------------------ ')\n",
    "            #print(' t_trackID:     ', input_tree_list[chain].t_trackID)\n",
    "            #print(' cgx:           ', gravicentre_x)\n",
    "            #print(' cgy:           ', gravicentre_y)\n",
    "            #print(' cgz:           ', gravicentre_z)\n",
    "            #print(' pixels_chargeYield:   ', pixels_chargeYield[-1])\n",
    "\n",
    "    e_field_list.append(field_intensity)\n",
    "    track_length_list.append(track_length)\n",
    "    track_n_hits_list.append(track_n_hits)\n",
    "    track_q_raw_tot_list.append(track_q_raw_tot)\n",
    "    track_start_pos_x_list.append(track_start_pos_x)\n",
    "    track_start_pos_y_list.append(track_start_pos_y)\n",
    "    track_start_pos_z_list.append(track_start_pos_z)\n",
    "    track_end_pos_x_list.append(track_end_pos_x)\n",
    "    track_end_pos_y_list.append(track_end_pos_y)\n",
    "    track_end_pos_z_list.append(track_end_pos_z)\n",
    "    LCM_lightYield_list.append(LCM_lightYield)\n",
    "    pixels_chargeYield_list.append(pixels_chargeYield)\n",
    "    track_cgx_list.append(track_cgx)\n",
    "    track_cgy_list.append(track_cgy)\n",
    "    track_cgz_list.append(track_cgz)\n",
    "    \n",
    "    #print(' Number of selected tracks: ', len(selected_trackIDs))\n",
    "\n",
    "print(' Done.')"
   ]
  },
  {
   "cell_type": "markdown",
   "metadata": {},
   "source": [
    "### Make Plots for Selected (!) Events"
   ]
  },
  {
   "cell_type": "code",
   "execution_count": 12,
   "metadata": {},
   "outputs": [],
   "source": [
    "from plot_functions import *"
   ]
  },
  {
   "cell_type": "code",
   "execution_count": 13,
   "metadata": {},
   "outputs": [
    {
     "name": "stdout",
     "output_type": "stream",
     "text": [
      "Done.\n"
     ]
    }
   ],
   "source": [
    "# LCM_lightYield\n",
    "if plot_all or plot_lightYield:\n",
    "    for eField_index in range(n_field_intensities):\n",
    "        #print(LCM_lightYield_list[eField_index])\n",
    "        if len(LCM_lightYield_list[eField_index]) == 0: continue\n",
    "        plot_folder = str(e_field_list[eField_index]) + '_kV_per_cm'\n",
    "        #print(' plot_folder: ', plot_folder)\n",
    "        x_min  = np.min(LCM_lightYield_list[eField_index])\n",
    "        x_max  = np.max(LCM_lightYield_list[eField_index])\n",
    "        n_bins = 50\n",
    "        axis_labels = ['Reconstructed LCM Light Yield [-]','Entries [-]']\n",
    "        save_name = 'plots/'+str(plot_folder)+'/'+'h1_LCM_lightYield.png'\n",
    "        plot_h1(LCM_lightYield_list[eField],x_min,x_max,n_bins,axis_labels,save_name)\n",
    "print('Done.')"
   ]
  },
  {
   "cell_type": "code",
   "execution_count": 14,
   "metadata": {},
   "outputs": [
    {
     "name": "stdout",
     "output_type": "stream",
     "text": [
      "Done.\n"
     ]
    }
   ],
   "source": [
    "# Track Length\n",
    "if plot_all or plot_trackLength:\n",
    "    for eField_index in range(n_field_intensities):\n",
    "        #print(track_length_list[eField_index])\n",
    "        if len(track_length_list[eField_index]) == 0: continue\n",
    "        plot_folder = str(e_field_list[eField_index]) + '_kV_per_cm'\n",
    "        #print(' plot_folder: ', plot_folder)\n",
    "        x_min  = 0\n",
    "        x_max  = np.max(track_length_list[eField_index])\n",
    "        n_bins = 50\n",
    "        axis_labels = ['Track Length [mm]','Entries [-]']\n",
    "        save_name = 'plots/'+str(plot_folder)+'/'+'h1_track_lengths.png'\n",
    "        plot_h1(track_length_list[eField_index],x_min,x_max,n_bins,axis_labels,save_name)\n",
    "print('Done.')"
   ]
  },
  {
   "cell_type": "code",
   "execution_count": 15,
   "metadata": {},
   "outputs": [
    {
     "name": "stdout",
     "output_type": "stream",
     "text": [
      "Done.\n"
     ]
    }
   ],
   "source": [
    "# Track n_hits\n",
    "if plot_all or plot_nHits:\n",
    "    for eField_index in range(n_field_intensities):\n",
    "        #print(track_n_hits_list[eField_index])\n",
    "        if len(track_n_hits_list[eField_index]) == 0: continue\n",
    "        plot_folder = str(e_field_list[eField_index]) + '_kV_per_cm'\n",
    "        #print(' plot_folder: ', plot_folder)\n",
    "        x_min  = 0\n",
    "        x_max  = np.max(track_n_hits_list[eField_index])\n",
    "        n_bins = 50\n",
    "        axis_labels = ['Number of Hits [-]','Entries [-]']\n",
    "        save_name = 'plots/'+str(plot_folder)+'/'+'h1_track_nhits.png'\n",
    "        plot_h1(track_n_hits_list[eField_index],x_min,x_max,n_bins,axis_labels,save_name)\n",
    "print('Done.')"
   ]
  },
  {
   "cell_type": "code",
   "execution_count": 16,
   "metadata": {},
   "outputs": [
    {
     "name": "stdout",
     "output_type": "stream",
     "text": [
      "Done.\n"
     ]
    }
   ],
   "source": [
    "# Track q_raw_tot\n",
    "if plot_all or plot_q_raw_tot:\n",
    "    for eField_index in range(n_field_intensities):\n",
    "        #print(track_q_raw_tot_list[eField_index])\n",
    "        plot_folder = str(e_field_list[eField_index]) + '_kV_per_cm'\n",
    "        #print(' plot_folder: ', plot_folder)\n",
    "        x_min  = 0\n",
    "        x_max  = np.max(track_q_raw_tot_list[eField_index])\n",
    "        n_bins = 50\n",
    "        axis_labels = ['Total Deposited Charge [ke]','Entries [-]']\n",
    "        save_name = 'plots/'+str(plot_folder)+'/'+'h1_track_q_raw_tot.png'\n",
    "        plot_h1(track_q_raw_tot_list[eField_index],x_min,x_max,n_bins,axis_labels,save_name)\n",
    "print('Done.')"
   ]
  },
  {
   "cell_type": "code",
   "execution_count": 17,
   "metadata": {},
   "outputs": [
    {
     "name": "stdout",
     "output_type": "stream",
     "text": [
      "Done.\n"
     ]
    }
   ],
   "source": [
    "# Track chargeYield (eLifetime corrected)\n",
    "if plot_all or plot_chargeYield:\n",
    "    for eField_index in range(n_field_intensities):\n",
    "        #print(pixels_chargeYield_list[eField_index])\n",
    "        if len(pixels_chargeYield_list[eField_index]) == 0: continue\n",
    "        plot_folder = str(e_field_list[eField_index]) + '_kV_per_cm'\n",
    "        #print(' plot_folder: ', plot_folder)\n",
    "        x_min  = 0\n",
    "        x_max  = np.max(pixels_chargeYield_list[eField_index])\n",
    "        n_bins = 50\n",
    "        axis_labels = ['Total Deposited Charge [ke]','Entries [-]']\n",
    "        save_name = 'plots/'+str(plot_folder)+'/'+'h1_track_chargeYield.png'\n",
    "        plot_h1(pixels_chargeYield_list[eField_index],x_min,x_max,n_bins,axis_labels,save_name)\n",
    "print('Done.')"
   ]
  },
  {
   "cell_type": "code",
   "execution_count": 18,
   "metadata": {},
   "outputs": [
    {
     "name": "stdout",
     "output_type": "stream",
     "text": [
      "Done.\n"
     ]
    }
   ],
   "source": [
    "# Track dQ/dl (eLifetime corrected)\n",
    "if plot_all or plot_dQdl:\n",
    "    for eField_index in range(n_field_intensities):\n",
    "        #print(pixels_chargeYield_list[eField_index])\n",
    "        if len(pixels_chargeYield_list[eField_index]) == 0: continue\n",
    "        plot_folder = str(e_field_list[eField_index]) + '_kV_per_cm'\n",
    "        #print(' plot_folder: ', plot_folder)\n",
    "        x_min  = 0\n",
    "        #x_max  = np.max(np.array(track_q_raw_tot_list[eField_index])/np.array(track_length_list[eField_index]))\n",
    "        x_max  = np.max(np.array(pixels_chargeYield_list[eField_index])/np.array(track_length_list[eField_index]))\n",
    "        n_bins = 50\n",
    "        axis_labels = ['<dQ/dl> [ke/mm]','Entries [-]']\n",
    "        save_name = 'plots/'+str(plot_folder)+'/'+'h1_track_dQ_dl_2.png'\n",
    "        #plot_h1(np.array(track_q_raw_tot_list[eField_index])/np.array(track_length_list[eField_index]),x_min,x_max,n_bins,axis_labels,save_name)\n",
    "        plot_h1(np.array(pixels_chargeYield_list[eField_index])/np.array(track_length_list[eField_index]),x_min,x_max,n_bins,axis_labels,save_name)\n",
    "print('Done.')"
   ]
  },
  {
   "cell_type": "code",
   "execution_count": 19,
   "metadata": {},
   "outputs": [
    {
     "name": "stdout",
     "output_type": "stream",
     "text": [
      "Done.\n"
     ]
    }
   ],
   "source": [
    "# start_pos_y vs. start_pos_x\n",
    "if plot_all or plot_startPosY_vs_startPosX:\n",
    "    for eField_index in range(n_field_intensities):\n",
    "        #print(track_start_pos_x_list[eField_index])\n",
    "        if len(track_start_pos_x_list[eField_index]) == 0: continue\n",
    "        plot_folder = str(e_field_list[eField_index]) + '_kV_per_cm'\n",
    "        #print(' plot_folder: ', plot_folder)\n",
    "        x_min    = pixels_x_min # np.min(track_start_pos_x_list[eField_index])\n",
    "        x_max    = pixels_x_max # np.max(track_start_pos_x_list[eField_index])\n",
    "        y_min    = pixels_y_min # np.min(track_start_pos_y_list[eField_index])\n",
    "        y_max    = pixels_y_max # np.max(track_start_pos_y_list[eField_index])\n",
    "        n_bins_x = n_pixels_x\n",
    "        n_bins_y = n_pixels_y\n",
    "        x_bins = np.linspace(x_min,x_max,n_bins_x)\n",
    "        y_bins = np.linspace(y_min,y_max,n_bins_y)\n",
    "        #x_bins = np.arange(x_min,x_max+1,step=1.)\n",
    "        #y_bins = np.arange(y_min,y_max+1,step=1.)\n",
    "        axis_labels = ['Track Start Position x [mm]','Track Start Position y [mm]','Entries [-]']\n",
    "        save_name = 'plots/'+str(plot_folder)+'/'+'h2_track_startPos.png'\n",
    "        plot_h2([track_start_pos_x_list[eField_index],track_start_pos_y_list[eField_index]],x_bins,y_bins,axis_labels,save_name)\n",
    "print('Done.')"
   ]
  },
  {
   "cell_type": "code",
   "execution_count": 20,
   "metadata": {},
   "outputs": [
    {
     "name": "stdout",
     "output_type": "stream",
     "text": [
      "Done.\n"
     ]
    }
   ],
   "source": [
    "# end_pos_y vs. end_pos_x\n",
    "if plot_all or plot_endPosY_vs_endPosX:\n",
    "    for eField_index in range(n_field_intensities):\n",
    "        #print(track_end_pos_x_list[eField_index])\n",
    "        if len(track_end_pos_x_list[eField_index]) == 0: continue\n",
    "        plot_folder = str(e_field_list[eField_index]) + '_kV_per_cm'\n",
    "        #print(' plot_folder: ', plot_folder)\n",
    "        x_min    = pixels_x_min # np.min(track_start_pos_x_list[eField_index])\n",
    "        x_max    = pixels_x_max # np.max(track_start_pos_x_list[eField_index])\n",
    "        y_min    = pixels_y_min # np.min(track_start_pos_y_list[eField_index])\n",
    "        y_max    = pixels_y_max # np.max(track_start_pos_y_list[eField_index])\n",
    "        n_bins_x = n_pixels_x\n",
    "        n_bins_y = n_pixels_y\n",
    "        x_bins = np.linspace(x_min,x_max,n_bins_x)\n",
    "        y_bins = np.linspace(y_min,y_max,n_bins_y)\n",
    "        #x_bins = np.arange(x_min,x_max+1,step=1.)\n",
    "        #y_bins = np.arange(y_min,y_max+1,step=1.)\n",
    "        axis_labels = ['Track End Position x [mm]','Track End Position y [mm]','Entries [-]']\n",
    "        save_name = 'plots/'+str(plot_folder)+'/'+'h2_track_endPos.png'\n",
    "        plot_h2([track_end_pos_x_list[eField_index],track_end_pos_y_list[eField_index]],x_bins,y_bins,axis_labels,save_name)\n",
    "print('Done.')"
   ]
  },
  {
   "cell_type": "code",
   "execution_count": 21,
   "metadata": {},
   "outputs": [
    {
     "name": "stdout",
     "output_type": "stream",
     "text": [
      "Done.\n"
     ]
    }
   ],
   "source": [
    "# start_pos_z vs. end_pos_z\n",
    "if plot_all or plot_startPosZ_vs_endPosZ:\n",
    "    for eField_index in range(n_field_intensities):\n",
    "        #print(track_start_pos_x_list[eField_index])\n",
    "        if len(track_start_pos_z_list[eField_index]) == 0: continue\n",
    "        plot_folder = str(e_field_list[eField_index]) + '_kV_per_cm'\n",
    "        #print(' plot_folder: ', plot_folder)\n",
    "        z_start_min = np.min(track_start_pos_z_list[eField_index])\n",
    "        z_start_max = np.max(track_start_pos_z_list[eField_index])\n",
    "        z_end_min   = np.min(track_end_pos_z_list[eField_index])\n",
    "        z_end_max   = np.max(track_end_pos_z_list[eField_index])\n",
    "        n_bins = n_pixels_z\n",
    "        x_bins = np.linspace(z_start_min,z_start_max,n_bins)\n",
    "        y_bins = np.linspace(z_end_min,z_end_max,n_bins)\n",
    "        #x_bins = np.arange(x_min,x_max+1,step=1.)\n",
    "        #y_bins = np.arange(y_min,y_max+1,step=1.)\n",
    "        axis_labels = ['Track Start Position z [mm]','Track End Position z [mm]','Entries [-]']\n",
    "        save_name = 'plots/'+str(plot_folder)+'/'+'h2_trEndz_vs_trStartz.png'\n",
    "        plot_h2([track_start_pos_z_list[eField_index],track_end_pos_z_list[eField_index]],x_bins,y_bins,axis_labels,save_name)\n",
    "print('Done.')"
   ]
  },
  {
   "cell_type": "code",
   "execution_count": 22,
   "metadata": {},
   "outputs": [
    {
     "name": "stdout",
     "output_type": "stream",
     "text": [
      "Done.\n"
     ]
    }
   ],
   "source": [
    "# NHits vs. TrackLength\n",
    "if plot_all or plot_nHits_vs_trackLength:\n",
    "    for eField_index in range(n_field_intensities):\n",
    "        #print(track_length_list[eField_index])\n",
    "        if len(track_length_list[eField_index]) == 0: continue\n",
    "        plot_folder = str(e_field_list[eField_index]) + '_kV_per_cm'\n",
    "        #print(' plot_folder: ', plot_folder)\n",
    "        x_min    = 0\n",
    "        x_max    = 500\n",
    "        y_min    = 0\n",
    "        y_max    = 200\n",
    "        n_bins_x = 50\n",
    "        n_bins_y = 50\n",
    "        x_bins = np.linspace(x_min,x_max,n_bins_x)\n",
    "        y_bins = np.linspace(y_min,y_max,n_bins_y)\n",
    "        #x_bins = np.arange(x_min,x_max+1,step=1.)\n",
    "        #y_bins = np.arange(y_min,y_max+1,step=1.)\n",
    "        axis_labels = ['Track Length [mm]','Number of Hits [-]','Entries [-]']\n",
    "        save_name = 'plots/'+str(plot_folder)+'/'+'h2_trackLength_vs_trackNHits.png'\n",
    "        plot_h2([track_length_list[eField_index],track_n_hits_list[eField_index]],x_bins,y_bins,axis_labels,save_name)\n",
    "print('Done.')"
   ]
  },
  {
   "cell_type": "code",
   "execution_count": 23,
   "metadata": {},
   "outputs": [
    {
     "name": "stdout",
     "output_type": "stream",
     "text": [
      "Done.\n"
     ]
    }
   ],
   "source": [
    "# 3D plot of gravicentres\n",
    "if plot_all or plot_3D_graviCentre:\n",
    "    for eField_index in range(n_field_intensities):\n",
    "        #print(track_cgx_list[eField_index])\n",
    "        if len(track_cgx_list[eField_index]) == 0: continue\n",
    "        plot_folder = str(e_field_list[eField_index]) + '_kV_per_cm'\n",
    "        #print(' plot_folder: ', plot_folder)\n",
    "        x_min    = pixels_x_min\n",
    "        x_max    = pixels_x_max\n",
    "        y_min    = pixels_y_min\n",
    "        y_max    = pixels_y_max\n",
    "        z_min    = 0\n",
    "        z_max    = max(pixels_z_max,np.max(track_cgz_list[eField_index]))\n",
    "        n_bins_x = n_pixels_x\n",
    "        n_bins_y = n_pixels_y\n",
    "        n_bins_z = n_pixels_z\n",
    "        x_bins = np.linspace(x_min,x_max,n_bins_x)\n",
    "        y_bins = np.linspace(y_min,y_max,n_bins_y)\n",
    "        z_bins = np.linspace(z_min,z_max,n_bins_z)\n",
    "        save_name = 'plots/'+str(plot_folder)+'/'+'h3_graviCentre.png'\n",
    "        plot_h3_unweighted([track_cgx_list[eField_index],track_cgy_list[eField_index],track_cgz_list[eField_index]],\\\n",
    "                           x_bins,y_bins,z_bins,['Coordinate x [mm]','Coordinate y [mm]','Coordinate z [mm]'],save_name)\n",
    "print('Done.')"
   ]
  },
  {
   "cell_type": "code",
   "execution_count": 24,
   "metadata": {},
   "outputs": [
    {
     "name": "stdout",
     "output_type": "stream",
     "text": [
      "Done.\n"
     ]
    }
   ],
   "source": [
    "# Gravycentre projection onto xy plane\n",
    "if plot_all or plot_graviCentre_projection_xy:\n",
    "    for eField_index in range(n_field_intensities):\n",
    "        #print(track_cgx_list[eField_index])\n",
    "        if len(track_cgx_list[eField_index]) == 0: continue\n",
    "        plot_folder = str(e_field_list[eField_index]) + '_kV_per_cm'\n",
    "        #print(' plot_folder: ', plot_folder)\n",
    "        x_min    = pixels_x_min\n",
    "        x_max    = pixels_x_max\n",
    "        y_min    = pixels_y_min\n",
    "        y_max    = pixels_y_max\n",
    "        n_bins_x = n_pixels_x\n",
    "        n_bins_y = n_pixels_y\n",
    "        x_bins = np.linspace(x_min,x_max,n_bins_x)\n",
    "        y_bins = np.linspace(y_min,y_max,n_bins_y)\n",
    "        #x_bins = np.arange(x_min,x_max+1,step=1.)\n",
    "        #y_bins = np.arange(y_min,y_max+1,step=1.)\n",
    "        axis_labels = ['Coordinate x [mm]','Coordinate y [mm]','Entries [-]']\n",
    "        save_name = 'plots/'+str(plot_folder)+'/'+'h2_graviCentre_xy.png'\n",
    "        plot_h2([track_cgx_list[eField_index],track_cgy_list[eField_index]],x_bins,y_bins,axis_labels,save_name)\n",
    "print('Done.')"
   ]
  },
  {
   "cell_type": "code",
   "execution_count": 25,
   "metadata": {},
   "outputs": [
    {
     "name": "stdout",
     "output_type": "stream",
     "text": [
      "Done.\n"
     ]
    }
   ],
   "source": [
    "# Gravycentre projection onto xz plane\n",
    "if plot_all or plot_graviCentre_projection_xz:\n",
    "    for eField_index in range(n_field_intensities):\n",
    "        #print(track_cgx_list[eField_index])\n",
    "        if len(track_cgx_list[eField_index]) == 0: continue\n",
    "        plot_folder = str(e_field_list[eField_index]) + '_kV_per_cm'\n",
    "        #print(' plot_folder: ', plot_folder)\n",
    "        x_min    = pixels_x_min\n",
    "        x_max    = pixels_x_max\n",
    "        z_min    = 0\n",
    "        z_max    = max(pixels_z_max,np.max(track_cgz_list[eField_index]))\n",
    "        n_bins_x = n_pixels_x\n",
    "        n_bins_z = n_pixels_z\n",
    "        x_bins = np.linspace(x_min,x_max,n_bins_x)\n",
    "        z_bins = np.linspace(z_min,z_max,n_bins_z)\n",
    "        #x_bins = np.arange(x_min,x_max+1,step=1.)\n",
    "        #y_bins = np.arange(y_min,y_max+1,step=1.)\n",
    "        axis_labels = ['Coordinate x [mm]','Coordinate z [mm]','Entries [-]']\n",
    "        save_name = 'plots/'+str(plot_folder)+'/'+'h2_graviCentre_xz.png'\n",
    "        plot_h2([track_cgx_list[eField_index],track_cgz_list[eField_index]],x_bins,z_bins,axis_labels,save_name)\n",
    "print('Done.')"
   ]
  },
  {
   "cell_type": "code",
   "execution_count": 26,
   "metadata": {},
   "outputs": [
    {
     "name": "stdout",
     "output_type": "stream",
     "text": [
      "Done.\n"
     ]
    }
   ],
   "source": [
    "# Gravycentre projection onto yz plane\n",
    "if plot_all or plot_graviCentre_projection_yz:\n",
    "    for eField_index in range(n_field_intensities):\n",
    "        #print(track_cgy_list[eField_index])\n",
    "        if len(track_cgy_list[eField_index]) == 0: continue\n",
    "        plot_folder = str(e_field_list[eField_index]) + '_kV_per_cm'\n",
    "        #print(' plot_folder: ', plot_folder)\n",
    "        y_min    = pixels_y_min\n",
    "        y_max    = pixels_y_max\n",
    "        z_min    = 0\n",
    "        z_max    = max(pixels_z_max,np.max(track_cgz_list[eField_index]))\n",
    "        n_bins_y = n_pixels_y\n",
    "        n_bins_z = n_pixels_z\n",
    "        y_bins = np.linspace(y_min,y_max,n_bins_y)\n",
    "        z_bins = np.linspace(z_min,z_max,n_bins_z)\n",
    "        #y_bins = np.arange(y_min,y_max+1,step=1.)\n",
    "        #z_bins = np.arange(z_min,z_max+1,step=1.)\n",
    "        axis_labels = ['Coordinate y [mm]','Coordinate z [mm]','Entries [-]']\n",
    "        save_name = 'plots/'+str(plot_folder)+'/'+'h2_graviCentre_yz.png'\n",
    "        plot_h2([track_cgy_list[eField_index],track_cgz_list[eField_index]],y_bins,z_bins,axis_labels,save_name)\n",
    "print('Done.')"
   ]
  },
  {
   "cell_type": "code",
   "execution_count": 27,
   "metadata": {},
   "outputs": [
    {
     "name": "stderr",
     "output_type": "stream",
     "text": [
      "/home/roman/software/anaconda3/envs/larpix-analysis-38/lib/python3.8/site-packages/matplotlib/backends/backend_agg.py:238: RuntimeWarning: Glyph 8722 missing from current font.\n",
      "  font.set_text(s, 0.0, flags=flags)\n",
      "/home/roman/software/anaconda3/envs/larpix-analysis-38/lib/python3.8/site-packages/matplotlib/backends/backend_agg.py:201: RuntimeWarning: Glyph 8722 missing from current font.\n",
      "  font.set_text(s, 0, flags=flags)\n"
     ]
    },
    {
     "name": "stdout",
     "output_type": "stream",
     "text": [
      "Done.\n"
     ]
    }
   ],
   "source": [
    "# LCM light-yield vs. track gravicentre_x\n",
    "if plot_all or plot_lightYield_vs_graviCentre_x:\n",
    "    for eField_index in range(n_field_intensities):\n",
    "        #print(track_cgx_list[eField_index])\n",
    "        if len(track_cgx_list[eField_index]) == 0: continue\n",
    "        plot_folder = str(e_field_list[eField_index]) + '_kV_per_cm'\n",
    "        #print(' plot_folder: ', plot_folder)\n",
    "        x_min    = pixels_x_min\n",
    "        x_max    = pixels_x_max\n",
    "        y_min    = 0 # np.min(LCM_lightYield_list[eField_index])\n",
    "        y_max    = 1500 # np.max(LCM_lightYield_list[eField_index])\n",
    "        n_bins_x = n_pixels_x\n",
    "        n_bins_y = n_pixels_y\n",
    "        x_bins = np.linspace(x_min,x_max,n_bins_x)\n",
    "        y_bins = np.linspace(y_min,y_max,n_bins_y)\n",
    "        axis_labels = ['Track Gravicentre x [mm]','LCM Light Yield [UNITS?]','Entries [-]']\n",
    "        save_name = 'plots/'+str(plot_folder)+'/'+'h2_LCM_lightYield_vs_trackGC.png'\n",
    "        plot_h2([track_cgx_list[eField_index],LCM_lightYield_list[eField_index]],x_bins,y_bins,axis_labels,save_name)\n",
    "print('Done.')"
   ]
  },
  {
   "cell_type": "code",
   "execution_count": 28,
   "metadata": {},
   "outputs": [
    {
     "name": "stdout",
     "output_type": "stream",
     "text": [
      "plotting selection...\n",
      "plotting all...\n",
      "Done.\n"
     ]
    }
   ],
   "source": [
    "# LCM light-yield vs. track gravicentre_x, all with selection cut line, and only selected with selection cut line\n",
    "if plot_all or plot_lightYield_vs_graviCentre_x_Selection:\n",
    "    x_min = pixels_x_min\n",
    "    x_max = pixels_x_max\n",
    "    y_min = 0\n",
    "    y_max = 1500\n",
    "    #for i in range(len(LCM_lightYield_list)):\n",
    "    #    if np.max(LCM_lightYield_list[i]) > y_max:\n",
    "    #        y_max = np.max(LCM_lightYield_list[i])\n",
    "    n_bins_x = n_pixels_x\n",
    "    n_bins_y = n_pixels_y\n",
    "    x_bins = np.linspace(x_min,x_max,n_bins_x)\n",
    "    y_bins = np.linspace(y_min,y_max,n_bins_y)\n",
    "    axis_labels = ['Track Gravicentre x [mm]','LCM Light Yield [UNITS?]','Entries [-]']\n",
    "\n",
    "    LY_cut_at_xmin = 400 # min. light yield at x_min (near end)\n",
    "    LY_cut_at_xmax = 50  # min. light yield at x_max (far end)\n",
    "\n",
    "    # Plot only selected\n",
    "    print('plotting selection...')\n",
    "    for eField_index in range(n_field_intensities):\n",
    "        plot_folder = str(e_field_list[eField_index]) + '_kV_per_cm'\n",
    "        #print(' plot_folder: ', plot_folder)\n",
    "        save_name = 'plots/'+str(plot_folder)+'/h2_LCM_lightYield_vs_trackGC_selected.png'\n",
    "        gc_list = []\n",
    "        ly_list = []\n",
    "        for entry in range(len(LCM_lightYield_list[eField_index])):\n",
    "            if LCM_lightYield_list[eField_index][entry]>-(track_cgx_list[eField_index][entry]-x_min)*(LY_cut_at_xmin-LY_cut_at_xmax)/(x_max-x_min)+LY_cut_at_xmin:\n",
    "                gc_list.append(track_cgx_list[eField_index][entry])\n",
    "                ly_list.append(LCM_lightYield_list[eField_index][entry])\n",
    "        plot_LY_vs_GCx_selection([gc_list,ly_list],x_bins,y_bins,axis_labels,save_name,LY_cut_at_xmin,LY_cut_at_xmax)\n",
    "\n",
    "    # Plot all\n",
    "    print('plotting all...')\n",
    "    for eField_index in range(n_field_intensities):\n",
    "        plot_folder = str(e_field_list[eField_index]) + '_kV_per_cm'\n",
    "        #print(' plot_folder: ', plot_folder)\n",
    "        save_name = 'plots/'+str(plot_folder)+'/h2_LCM_lightYield_vs_trackGC_all.png'\n",
    "        gc_list = []\n",
    "        ly_list = []\n",
    "        for entry in range(len(LCM_lightYield_list[eField_index])):\n",
    "            if True:\n",
    "                gc_list.append(track_cgx_list[eField_index][entry])\n",
    "                ly_list.append(LCM_lightYield_list[eField_index][entry])\n",
    "        plot_LY_vs_GCx_selection([gc_list,ly_list],x_bins,y_bins,axis_labels,save_name,LY_cut_at_xmin,LY_cut_at_xmax)\n",
    "\n",
    "print('Done.')"
   ]
  },
  {
   "cell_type": "code",
   "execution_count": 29,
   "metadata": {},
   "outputs": [
    {
     "name": "stderr",
     "output_type": "stream",
     "text": [
      "/home/roman/software/anaconda3/envs/larpix-analysis-38/lib/python3.8/site-packages/numpy/core/fromnumeric.py:3372: RuntimeWarning: Mean of empty slice.\n",
      "  return _methods._mean(a, axis=axis, dtype=dtype,\n",
      "/home/roman/software/anaconda3/envs/larpix-analysis-38/lib/python3.8/site-packages/numpy/core/_methods.py:170: RuntimeWarning: invalid value encountered in double_scalars\n",
      "  ret = ret.dtype.type(ret / rcount)\n",
      "/home/roman/software/anaconda3/envs/larpix-analysis-38/lib/python3.8/site-packages/numpy/core/_methods.py:233: RuntimeWarning: Degrees of freedom <= 0 for slice\n",
      "  ret = _var(a, axis=axis, dtype=dtype, out=out, ddof=ddof,\n",
      "/home/roman/software/anaconda3/envs/larpix-analysis-38/lib/python3.8/site-packages/numpy/core/_methods.py:194: RuntimeWarning: invalid value encountered in true_divide\n",
      "  arrmean = um.true_divide(\n",
      "/home/roman/software/anaconda3/envs/larpix-analysis-38/lib/python3.8/site-packages/numpy/core/_methods.py:226: RuntimeWarning: invalid value encountered in double_scalars\n",
      "  ret = ret.dtype.type(ret / rcount)\n"
     ]
    },
    {
     "name": "stdout",
     "output_type": "stream",
     "text": [
      "Done.\n"
     ]
    }
   ],
   "source": [
    "# Profile plot of LCM light-yield vs. track gravicentre_x\n",
    "if plot_all or plot_lightYield_vs_graviCentre_x_ProfilePlot:\n",
    "    x_min    = pixels_x_min\n",
    "    x_max    = pixels_x_max\n",
    "    n_bins_x = 10\n",
    "    x_width  = (x_max-x_min)/n_bins_x\n",
    "    x_err    = [0.5*x_width for i in range(n_bins_x)]\n",
    "    y_min    = 0\n",
    "    y_max    = 1500\n",
    "    #for i in range(len(LCM_lightYield_list)):\n",
    "    #    if np.max(LCM_lightYield_list[i]) > y_max:\n",
    "    #        y_max = np.max(LCM_lightYield_list[i])\n",
    "\n",
    "    # Define lists which will be filled with n (=number of different eField-intensities) lists with info about\n",
    "    # gravicentre, mean light yield and standard deviation of the mean light yield\n",
    "    gc_bin_i_list      = []\n",
    "    ly_mean_bin_i_list = []\n",
    "    ly_std_bin_i_list  = []\n",
    "    plot_folder_list   = []\n",
    "\n",
    "    # Loop over all TChains and obtain data for the profile plots\n",
    "    for eField_index in range(n_field_intensities):\n",
    "        #print(track_cgx_list[eField_index])\n",
    "        gc_bin_i      = []\n",
    "        ly_mean_bin_i = []\n",
    "        ly_std_bin_i  = []\n",
    "        # Loop over all bins\n",
    "        for bin_i in range(n_bins_x):\n",
    "            gc_bin_i.append((bin_i+0.5)*x_width+x_min)\n",
    "            ly_in_bin_i = []\n",
    "            # Loop over all TChains\n",
    "            for entry in range(len(LCM_lightYield_list[eField_index])):\n",
    "                # Check if GC is in current bin\n",
    "                if track_cgx_list[eField_index][entry]>((bin_i)*x_width+x_min) and track_cgx_list[eField_index][entry]<((bin_i+1)*x_width+x_min):\n",
    "                    # Check if LY is not below selection criterium\n",
    "                    if LCM_lightYield_list[eField_index][entry]>-(track_cgx_list[eField_index][entry]-x_min)*(LY_cut_at_xmin-LY_cut_at_xmax)/(x_max-x_min)+LY_cut_at_xmin:\n",
    "                        ly_in_bin_i.append(LCM_lightYield_list[eField_index][entry])\n",
    "            ly_mean_bin_i.append(np.mean(ly_in_bin_i))\n",
    "            ly_std_bin_i.append(np.std(ly_in_bin_i))\n",
    "        gc_bin_i_list.append(gc_bin_i)\n",
    "        ly_mean_bin_i_list.append(ly_mean_bin_i)\n",
    "        ly_std_bin_i_list.append(ly_std_bin_i)\n",
    "        plot_folder_list.append(str(e_field_list[eField_index]) + '_kV_per_cm')\n",
    "\n",
    "    restrict_to_entries = [2,5,9]\n",
    "    \n",
    "    axis_labels = ['Track Gravicentre x [mm]','LCM Light Yield [UNITS?]']\n",
    "    save_name = 'plots/profile2D_LCM_lightYield_vs_trackGC.png'\n",
    "    plot_profile_of_2D_hist_00(gc_bin_i_list,\\\n",
    "                            ly_mean_bin_i_list,\\\n",
    "                            x_err,\\\n",
    "                            ly_std_bin_i_list,\\\n",
    "                            plot_folder_list,\\\n",
    "                            axis_labels,\\\n",
    "                            x_min,\\\n",
    "                            x_max,\\\n",
    "                            y_min,\\\n",
    "                            y_max,\\\n",
    "                            save_name,\\\n",
    "                            restrict_to_entries)\n",
    "print('Done.')"
   ]
  },
  {
   "cell_type": "code",
   "execution_count": 30,
   "metadata": {},
   "outputs": [
    {
     "name": "stdout",
     "output_type": "stream",
     "text": [
      "Done.\n"
     ]
    }
   ],
   "source": [
    "# pixel chargeYield vs. E-field intensity\n",
    "if plot_all or plot_chargeYield_vs_eField:\n",
    "    chargeYield_values = []\n",
    "    eField_values      = []\n",
    "    for eField_index in range(n_field_intensities):\n",
    "        #print(pixels_chargeYield_list[eField_index])\n",
    "        if len(pixels_chargeYield_list[eField_index]) == 0: continue\n",
    "        for entry in range(len(pixels_chargeYield_list[eField_index])):\n",
    "            chargeYield_values.append(pixels_chargeYield_list[eField_index][entry])\n",
    "            eField_values.append((eField_index+1)/10.)\n",
    "        #print((eField_index+1)/10.)\n",
    "    x_min    = -0.05\n",
    "    x_max    = 1.05\n",
    "    y_min    = 4000  # np.min(chargeYield_values)\n",
    "    y_max    = 15000 # np.max(chargeYield_values)\n",
    "    n_bins_x = 10+2\n",
    "    n_bins_y = 50\n",
    "    x_bins = np.linspace(x_min,x_max,n_bins_x)\n",
    "    y_bins = np.linspace(y_min,y_max,n_bins_y)\n",
    "    axis_labels = ['E Field Intensity [kV/cm]','Pixel Charge Yield [ke]','Entries [-]']\n",
    "    save_name = 'plots/'+'h2_pixel_chargeYield_vs_eField.png'\n",
    "    plot_h2([eField_values,chargeYield_values],x_bins,y_bins,axis_labels,save_name)\n",
    "print('Done.')"
   ]
  },
  {
   "cell_type": "code",
   "execution_count": 31,
   "metadata": {},
   "outputs": [
    {
     "name": "stdout",
     "output_type": "stream",
     "text": [
      "Done.\n"
     ]
    }
   ],
   "source": [
    "# Profile plot of pixel charge-yield vs. eField\n",
    "if plot_all or plot_chargeYield_vs_eField_ProfilePlot:\n",
    "    x_min    = -0.05\n",
    "    x_max    = 1.05\n",
    "    y_min    = 4000  # np.min(chargeYield_values)\n",
    "    y_max    = 15000 # np.max(chargeYield_values)\n",
    "    \n",
    "    chargeYield_mean = []\n",
    "    chargeYield_std  = []\n",
    "    eField_vals      = []\n",
    "    #eField_errors    = []\n",
    "    x_err = 0.05\n",
    "    plot_folder_list = []\n",
    "    for eField_index in range(n_field_intensities):\n",
    "        #print(pixels_chargeYield_list[eField_index])\n",
    "        if len(pixels_chargeYield_list[eField_index]) == 0: continue\n",
    "        \n",
    "        CY_values = []\n",
    "        for entry in range(len(pixels_chargeYield_list[eField_index])):\n",
    "            CY_values.append(pixels_chargeYield_list[eField_index][entry])\n",
    "        \n",
    "        chargeYield_mean.append(np.mean(CY_values))\n",
    "        chargeYield_std.append(np.std(CY_values))\n",
    "        eField_vals.append((eField_index+1)/10.)\n",
    "        #eField_errors.append(0.05)\n",
    "        plot_folder_list.append(str(e_field_list[eField_index]) + '_kV_per_cm')\n",
    "    \n",
    "    axis_labels = ['E Field Intensity [kV/cm]','Pixel Charge Yield [ke]']\n",
    "    save_name = 'plots/profile2D_pixel_chargeYield_vs_eField.png'\n",
    "    plot_legend = False\n",
    "    plot_profile_of_2D_hist_01(eField_vals,\\\n",
    "                            chargeYield_mean,\\\n",
    "                            x_err,\\\n",
    "                            chargeYield_std,\\\n",
    "                            axis_labels,\\\n",
    "                            x_min,\\\n",
    "                            x_max,\\\n",
    "                            y_min,\\\n",
    "                            y_max,\\\n",
    "                            save_name)\n",
    "print('Done.')"
   ]
  },
  {
   "cell_type": "code",
   "execution_count": 32,
   "metadata": {},
   "outputs": [
    {
     "name": "stdout",
     "output_type": "stream",
     "text": [
      "Done.\n"
     ]
    }
   ],
   "source": [
    "# pixel chargeYield vs. track gravicentre_x\n",
    "if plot_all or plot_chargeYield_vs_graviCentre_x:\n",
    "    for eField_index in range(n_field_intensities):\n",
    "        #print(pixels_chargeYield_list[eField_index])\n",
    "        if len(pixels_chargeYield_list[eField_index]) == 0: continue\n",
    "        plot_folder = str(e_field_list[eField_index]) + '_kV_per_cm'\n",
    "        #print(' plot_folder: ', plot_folder)\n",
    "        x_min    = pixels_x_min\n",
    "        x_max    = pixels_x_max\n",
    "        y_min    = 0 # np.min(pixels_chargeYield_list[eField_index])\n",
    "        y_max    = np.max(pixels_chargeYield_list[eField_index])\n",
    "        n_bins_x = n_pixels_x\n",
    "        n_bins_y = n_pixels_y\n",
    "        x_bins = np.linspace(x_min,x_max,n_bins_x)\n",
    "        y_bins = np.linspace(y_min,y_max,n_bins_y)\n",
    "        axis_labels = ['Track Gravicentre x [mm]','Pixel Charge Yield [ke]','Entries [-]']\n",
    "        save_name = 'plots/'+str(plot_folder)+'/'+'h2_pixel_chargeYield_vs_trackGC.png'\n",
    "        plot_h2([track_cgx_list[eField_index],pixels_chargeYield_list[eField_index]],x_bins,y_bins,axis_labels,save_name)\n",
    "print('Done.')"
   ]
  },
  {
   "cell_type": "code",
   "execution_count": 33,
   "metadata": {},
   "outputs": [
    {
     "name": "stdout",
     "output_type": "stream",
     "text": [
      "plotting selection...\n",
      "plotting all...\n",
      "Done.\n"
     ]
    }
   ],
   "source": [
    "# Pixel charge-yield vs. track gravicentre_x, all and in a second plot only those which passed the lightYield selection\n",
    "if plot_all or plot_chargeYield_vs_graviCentre_x_Selection:\n",
    "    x_min    = pixels_x_min\n",
    "    x_max    = pixels_x_max\n",
    "    y_min    = 0 # np.min(pixels_chargeYield_list[eField_index])\n",
    "    y_max    = 1500\n",
    "    #for i in range(len(pixels_chargeYield_list)):\n",
    "    #    if np.max(pixels_chargeYield_list[i]) > y_max:\n",
    "    #        y_max = np.max(pixels_chargeYield_list[i])\n",
    "    n_bins_x = n_pixels_x\n",
    "    n_bins_y = n_pixels_y\n",
    "    x_bins = np.linspace(x_min,x_max,n_bins_x)\n",
    "    y_bins = np.linspace(y_min,y_max,n_bins_y)\n",
    "    axis_labels = ['Track Gravicentre x [mm]','Pixel Charge Yield [ke]','Entries [-]']\n",
    "\n",
    "    LY_cut_at_xmin = 400 # min. light yield at x_min (near end)\n",
    "    LY_cut_at_xmax = 50  # min. light yield at x_max (far end)\n",
    "\n",
    "    # Plot only those passing the lightYield selection\n",
    "    print('plotting selection...')\n",
    "    for eField_index in range(n_field_intensities):\n",
    "        plot_folder = str(e_field_list[eField_index]) + '_kV_per_cm'\n",
    "        #print(' plot_folder: ', plot_folder)\n",
    "        save_name = 'plots/'+str(plot_folder)+'/h2_pixel_chargeYield_vs_trackGC_selected.png'\n",
    "        gc_list = []\n",
    "        cy_list = []\n",
    "        for entry in range(len(LCM_lightYield_list[eField_index])):\n",
    "            if LCM_lightYield_list[eField_index][entry]>-(track_cgx_list[eField_index][entry]-x_min)*(LY_cut_at_xmin-LY_cut_at_xmax)/(x_max-x_min)+LY_cut_at_xmin:\n",
    "                gc_list.append(track_cgx_list[eField_index][entry])\n",
    "                cy_list.append(pixels_chargeYield_list[eField_index][entry])\n",
    "        plot_LY_vs_GCx_selection([gc_list,cy_list],x_bins,y_bins,axis_labels,save_name,-1,-1) # Note: Use the same function as for the lightYield\n",
    "\n",
    "    # Plot all\n",
    "    print('plotting all...')\n",
    "    for eField_index in range(n_field_intensities):\n",
    "        plot_folder = str(e_field_list[eField_index]) + '_kV_per_cm'\n",
    "        #print(' plot_folder: ', plot_folder)\n",
    "        save_name = 'plots/'+str(plot_folder)+'/h2_pixel_chargeYield_vs_trackGC_all.png'\n",
    "        gc_list = []\n",
    "        cy_list = []\n",
    "        for entry in range(len(LCM_lightYield_list[eField_index])):\n",
    "            if True:\n",
    "                gc_list.append(track_cgx_list[eField_index][entry])\n",
    "                cy_list.append(pixels_chargeYield_list[eField_index][entry])\n",
    "        plot_LY_vs_GCx_selection([gc_list,cy_list],x_bins,y_bins,axis_labels,save_name,-1,-1) # Note: Use the same function as for the lightYield\n",
    "\n",
    "print('Done.')"
   ]
  },
  {
   "cell_type": "code",
   "execution_count": 34,
   "metadata": {},
   "outputs": [
    {
     "name": "stdout",
     "output_type": "stream",
     "text": [
      "Done.\n"
     ]
    }
   ],
   "source": [
    "# Profile plot of pixel charge-yield vs. track gravicentre_x\n",
    "if plot_all or plot_chargeYield_vs_graviCentre_x_ProfilePlot:\n",
    "    x_min    = pixels_x_min\n",
    "    x_max    = pixels_x_max\n",
    "    n_bins_x = 10\n",
    "    x_width  = (x_max-x_min)/n_bins_x\n",
    "    x_err    = [0.5*x_width for i in range(n_bins_x)]\n",
    "    y_min    = 0\n",
    "    y_max    = 15000\n",
    "    #for i in range(len(pixels_chargeYield_list)):\n",
    "    #    if np.max(pixels_chargeYield_list[i]) > y_max:\n",
    "    #        y_max = np.max(pixels_chargeYield_list[i])\n",
    "\n",
    "    # Define lists which will be filled with n (=number of different eField-intensities) lists with info about\n",
    "    # gravicentre, mean charge yield and standard deviation of the mean charge yield\n",
    "    gc_bin_i_list      = []\n",
    "    cy_mean_bin_i_list = []\n",
    "    cy_std_bin_i_list  = []\n",
    "    plot_folder_list   = []\n",
    "\n",
    "    # Loop over all TChains and obtain data for the profile plots\n",
    "    for eField_index in range(n_field_intensities):\n",
    "        #print(track_cgx_list[eField_index])\n",
    "        gc_bin_i      = []\n",
    "        cy_mean_bin_i = []\n",
    "        cy_std_bin_i  = []\n",
    "        # Loop over all bins\n",
    "        for bin_i in range(n_bins_x):\n",
    "            gc_bin_i.append((bin_i+0.5)*x_width+x_min)\n",
    "            cy_in_bin_i = []\n",
    "            # Loop over all TChains\n",
    "            for entry in range(len(pixels_chargeYield_list[eField_index])):\n",
    "                # Check if GC is in current bin\n",
    "                if track_cgx_list[eField_index][entry]>((bin_i)*x_width+x_min) and track_cgx_list[eField_index][entry]<((bin_i+1)*x_width+x_min):\n",
    "                    # Check if LY (not CY!) is not below selection criterium\n",
    "                    if LCM_lightYield_list[eField_index][entry]>-(track_cgx_list[eField_index][entry]-x_min)*(LY_cut_at_xmin-LY_cut_at_xmax)/(x_max-x_min)+LY_cut_at_xmin:\n",
    "                        cy_in_bin_i.append(pixels_chargeYield_list[eField_index][entry])\n",
    "            cy_mean_bin_i.append(np.mean(cy_in_bin_i))\n",
    "            cy_std_bin_i.append(np.std(cy_in_bin_i))\n",
    "        gc_bin_i_list.append(gc_bin_i)\n",
    "        cy_mean_bin_i_list.append(cy_mean_bin_i)\n",
    "        cy_std_bin_i_list.append(cy_std_bin_i)\n",
    "        plot_folder_list.append(str(e_field_list[eField_index]) + '_kV_per_cm')\n",
    "        \n",
    "    restrict_to_entries = [2,5,9]\n",
    "\n",
    "    axis_labels = ['Track Gravicentre x [mm]','Pixel Charge Light Yield [ke]']\n",
    "    save_name = 'plots/profile2D_pixel_chargeYield_vs_trackGC.png'\n",
    "    plot_profile_of_2D_hist_00(gc_bin_i_list,\\\n",
    "                            cy_mean_bin_i_list,\\\n",
    "                            x_err,\\\n",
    "                            cy_std_bin_i_list,\\\n",
    "                            plot_folder_list,\\\n",
    "                            axis_labels,\\\n",
    "                            x_min,\\\n",
    "                            x_max,\\\n",
    "                            y_min,\\\n",
    "                            y_max,\\\n",
    "                            save_name,\\\n",
    "                            restrict_to_entries)\n",
    "print('Done.')"
   ]
  },
  {
   "cell_type": "code",
   "execution_count": 35,
   "metadata": {},
   "outputs": [
    {
     "name": "stdout",
     "output_type": "stream",
     "text": [
      " ------------------------------------------------------------------------------- \n",
      " eField [kV/cm]:  0.2\n",
      " At this field, have the following bins: \n",
      "     x-bins:     [-139.671, -108.633, -77.595, -46.557, -15.519000000000005, 15.519000000000005, 46.557000000000016, 77.595, 108.63299999999998, 139.671]\n",
      "     ly_mean:    [1148.08  983.58  848.02  811.2   666.05  605.85  495.4   443.98  556.43\n",
      "  480.  ]\n",
      "     ly_std:     [  0.    85.72  68.64 109.37  65.99 125.24 131.11 134.   225.75   0.  ]\n",
      "     cy_mean:    [ 7387.48  6911.48  7413.49  8075.36  7323.63  7826.3   7932.48  7752.78\n",
      " 10530.4  10585.93]\n",
      "     cy_std:     [   0.    457.71 1545.61 1558.66 1113.38 1879.59 1463.38 1850.2  2197.77\n",
      "    0.  ]\n",
      "     x_err:      [15.52 15.52 15.52 15.52 15.52 15.52 15.52 15.52 15.52 15.52]\n",
      " ------------------------------------------------------------------------------- \n",
      " eField [kV/cm]:  0.6\n",
      " At this field, have the following bins: \n",
      "     x-bins:     [-139.671, -108.633, -77.595, -46.557, -15.519000000000005, 15.519000000000005, 46.557000000000016, 77.595, 108.63299999999998, 139.671]\n",
      "     ly_mean:    [998.81 898.36 758.72 663.64 573.82 488.11 411.75 359.78 292.56 249.17]\n",
      "     ly_std:     [ 98.03 103.25  98.71  93.37  82.04  84.29  77.63  93.63  91.41  91.8 ]\n",
      "     cy_mean:    [8946.22 8761.8  8808.22 8871.08 8747.69 8859.49 8652.59 8537.38 8499.21\n",
      " 8761.07]\n",
      "     cy_std:     [1908.38 1714.75 1673.71 1606.17 1779.39 1767.27 1619.06 1587.64 1555.96\n",
      " 1828.8 ]\n",
      "     x_err:      [15.52 15.52 15.52 15.52 15.52 15.52 15.52 15.52 15.52 15.52]\n",
      " ------------------------------------------------------------------------------- \n",
      " eField [kV/cm]:  1.0\n",
      " At this field, have the following bins: \n",
      "     x-bins:     [-139.671, -108.633, -77.595, -46.557, -15.519000000000005, 15.519000000000005, 46.557000000000016, 77.595, 108.63299999999998, 139.671]\n",
      "     ly_mean:    [928.34 825.88 716.59 627.04 534.42 462.23 381.9  332.96 267.54 223.68]\n",
      "     ly_std:     [118.96 109.58  91.79  80.43  86.69  79.22  74.    80.34  76.92  77.75]\n",
      "     cy_mean:    [9270.37 9228.37 9271.28 9379.08 9404.59 9457.7  9179.1  9008.45 8869.71\n",
      " 8902.38]\n",
      "     cy_std:     [2187.04 1943.92 1736.16 1736.25 1924.46 1707.37 1582.88 1710.1  1648.35\n",
      " 1696.56]\n",
      "     x_err:      [15.52 15.52 15.52 15.52 15.52 15.52 15.52 15.52 15.52 15.52]\n"
     ]
    }
   ],
   "source": [
    "np.set_printoptions(precision=2)\n",
    "for eField in range(len(cy_mean_bin_i_list)): #(len(cy_mean_bin_i_list)):\n",
    "    if eField not in [1,5,9]:\n",
    "        continue\n",
    "    print(' ------------------------------------------------------------------------------- ')\n",
    "    print(' eField [kV/cm]: ', (eField+1)/10.)\n",
    "    print(' At this field, have the following bins: ')\n",
    "    print('     x-bins:    ', gc_bin_i_list[eField])\n",
    "    print('     ly_mean:   ', np.array(ly_mean_bin_i_list[eField]))\n",
    "    print('     ly_std:    ', np.array(ly_std_bin_i_list[eField]))\n",
    "    print('     cy_mean:   ', np.array(cy_mean_bin_i_list[eField]))\n",
    "    print('     cy_std:    ', np.array(cy_std_bin_i_list[eField]))\n",
    "    print('     x_err:     ', np.array(x_err))"
   ]
  },
  {
   "cell_type": "code",
   "execution_count": 36,
   "metadata": {},
   "outputs": [],
   "source": [
    "def plot_TGraphError(x_val_lists,y_val_lists,x_err_list,y_err_lists,plot_folder_list,axis_labels,x_min,x_max,y_min,y_max,save_name):\n",
    "    # Size\n",
    "    seaborn.set(rc={'figure.figsize':(12.3, 10),})\n",
    "    seaborn.set_context('talk') # or paper\n",
    "\n",
    "    # Define parameters of the frame\n",
    "    fig = plt.figure() # plt.figure(figsize=(width,height))\n",
    "    ax = fig.add_subplot(111)\n",
    "    ax.patch.set_alpha(0.0)\n",
    "    ax.spines['bottom'].set_color('0.5') #'black', ...\n",
    "    ax.spines['bottom'].set_linewidth(2)\n",
    "    ax.spines['bottom'].set_visible(True)\n",
    "    ax.spines['top'].set_color('0.5')\n",
    "    ax.spines['top'].set_linewidth(2)\n",
    "    ax.spines['top'].set_visible(True)\n",
    "    ax.spines['right'].set_color('0.5')\n",
    "    ax.spines['right'].set_linewidth(2)\n",
    "    ax.spines['right'].set_visible(True)\n",
    "    ax.spines['left'].set_color('0.5')\n",
    "    ax.spines['left'].set_linewidth(2)\n",
    "    ax.spines['left'].set_visible(True)\n",
    "\n",
    "    # Ticks, grid and ticks labels\n",
    "    ax.tick_params(direction='in', length=10, width=2,                  # direction, length and width of the ticks (in, out, inout)\n",
    "                   colors='0.5',                                       # color of the ticks ('black', '0.5')\n",
    "                   bottom=True, top=True, right=True, left=True,       # whether to draw the respective ticks\n",
    "                   zorder = 10.,                                       # tick and label zorder\n",
    "                   pad = 10.,                                          # distance between ticks and tick labels\n",
    "                   labelsize = 17,                                     # size of the tick labels\n",
    "                   labelright=False, labeltop=False)                   # wether to draw the tick labels on axes\n",
    "    # Axis limits\n",
    "    ax.set_xlim((x_min,x_max))\n",
    "    ax.set_ylim((y_min,y_max))\n",
    "\n",
    "    # Axis labels\n",
    "    plt.xlabel(axis_labels[0], fontsize=20, labelpad=20)\n",
    "    plt.ylabel(axis_labels[1], fontsize=20, labelpad=20)\n",
    "\n",
    "    # TODO: Select representatives!\n",
    "    # Don't plot all 10 series but restrict to a few only...\n",
    "    #restrict_to_entries_1 = [1,5,9]\n",
    "    #restrict_to_entries_2 = [0,4,8]\n",
    "    #restrict_to_entries_3 = [2,3,6,7]\n",
    "\n",
    "    for i in range(10):\n",
    "        #if i not in restrict_to_entries_1:\n",
    "        #    continue\n",
    "        plt.errorbar(x_val_lists[i], y_val_lists[i], xerr=x_err_list, yerr=y_err_lists[i], fmt='o', label=plot_folder_list[i][0:3]+' kV/cm') # fmt='-o'\n",
    "    \n",
    "    # Legend\n",
    "    plt.legend(loc=[0.75,0.8], prop={'size': 17}) # loc='upper right'\n",
    "    \n",
    "    # Save figure\n",
    "    plt.savefig(save_name, dpi=400) # bbox_inches='tight'\n",
    "    plt.close()"
   ]
  },
  {
   "cell_type": "code",
   "execution_count": 37,
   "metadata": {},
   "outputs": [
    {
     "name": "stdout",
     "output_type": "stream",
     "text": [
      "Done.\n"
     ]
    },
    {
     "data": {
      "image/png": "[encoded data removed]",
      "text/plain": [
       "<Figure size 885.6x720 with 1 Axes>"
      ]
     },
     "metadata": {},
     "output_type": "display_data"
    },
    {
     "data": {
      "image/png": "[encoded data removed]",
      "text/plain": [
       "<Figure size 885.6x720 with 1 Axes>"
      ]
     },
     "metadata": {},
     "output_type": "display_data"
    },
    {
     "data": {
      "image/png": "[encoded data removed]",
      "text/plain": [
       "<Figure size 885.6x720 with 1 Axes>"
      ]
     },
     "metadata": {},
     "output_type": "display_data"
    },
    {
     "data": {
      "image/png": "[encoded data removed]",
      "text/plain": [
       "<Figure size 885.6x720 with 1 Axes>"
      ]
     },
     "metadata": {},
     "output_type": "display_data"
    },
    {
     "data": {
      "image/png": "[encoded data removed]",
      "text/plain": [
       "<Figure size 885.6x720 with 1 Axes>"
      ]
     },
     "metadata": {},
     "output_type": "display_data"
    },
    {
     "data": {
      "image/png": "[encoded data removed]",
      "text/plain": [
       "<Figure size 885.6x720 with 1 Axes>"
      ]
     },
     "metadata": {},
     "output_type": "display_data"
    },
    {
     "data": {
      "image/png": "[encoded data removed]",
      "text/plain": [
       "<Figure size 885.6x720 with 1 Axes>"
      ]
     },
     "metadata": {},
     "output_type": "display_data"
    },
    {
     "data": {
      "image/png": "[encoded data removed]",
      "text/plain": [
       "<Figure size 885.6x720 with 1 Axes>"
      ]
     },
     "metadata": {},
     "output_type": "display_data"
    },
    {
     "data": {
      "image/png": "[encoded data removed]",
      "text/plain": [
       "<Figure size 885.6x720 with 1 Axes>"
      ]
     },
     "metadata": {},
     "output_type": "display_data"
    },
    {
     "data": {
      "image/png": "[encoded data removed]",
      "text/plain": [
       "<Figure size 885.6x720 with 1 Axes>"
      ]
     },
     "metadata": {},
     "output_type": "display_data"
    }
   ],
   "source": [
    "#print(gc_bin_i_list)\n",
    "#print(ly_mean_bin_i_list)\n",
    "#print(ly_std_bin_i_list)\n",
    "#print(cy_mean_bin_i_list)\n",
    "#print(y_std_bin_i_list)\n",
    "#print(x_err)\n",
    "\n",
    "eField_list = [0.1,0.2,0.3,0.4,0.5,0.6,0.7,0.8,0.9,1.0]\n",
    "\n",
    "LY_list = [] # list containing N (=number of gravicentre_x values) lists\n",
    "CY_list = [] # list containing N (=number of gravicentre_x values) lists\n",
    "#LY_err_list = [] # TODO: IS THIS DONE CORRECTLY?\n",
    "#CY_err_list = [] # TODO: IS THIS DONE CORRECTLY?\n",
    "\n",
    "for GC_bin in range(10):\n",
    "    ly     = []\n",
    "    cy     = []\n",
    "    #ly_err = []\n",
    "    #cy_err = []\n",
    "    for eField in range(10):\n",
    "        ly.append(ly_mean_bin_i_list[eField][GC_bin])\n",
    "        cy.append(cy_mean_bin_i_list[eField][GC_bin])\n",
    "    # Append normalized list\n",
    "    LY_list.append(ly/np.nanmax(ly))\n",
    "    CY_list.append(cy/np.nanmax(cy))\n",
    "    #LY_err_list.append(np.nanstd(ly/np.nanmax(ly))) # TODO: IS THIS DONE CORRECTLY?\n",
    "    #CY_err_list.append(np.nanstd(cy/np.nanmax(cy))) # TODO: IS THIS DONE CORRECTLY?\n",
    "    \n",
    "# Add GC lists of the same eField intensity\n",
    "#ly_all = []\n",
    "#cy_all = []\n",
    "#for eField in range(10):\n",
    "#    ly_all.append(np.nanmean(LY_list[eField],axis=0))\n",
    "#    cy_all.append(np.nanmean(CY_list[eField],axis=0))\n",
    "#print(ly_all)\n",
    "\n",
    "x_err_list = [0.05,0.05,0.05,0.05,0.05,0.05,0.05,0.05,0.05,0.05]\n",
    "y_err_list = [0.0,0.0,0.0,0.0,0.0,0.0,0.0,0.0,0.0,0.0]\n",
    "#labels_list = ['0.1','0.2','0.3','0.4','0.5','0.6','0.7','0.8','0.9','1.0']\n",
    "\n",
    "\n",
    "\n",
    "# @@@@@@@@@@@@@@@@@@@@@@@@@@@@@@@@@@@@@@@@@@@@@@@@@@@@@@@@@@@@@@@@@@@@@@@@@@@@@\n",
    "# @@@@@@@@@@@@@@@@@@@@@@@@@@@@@@@@@@@@@@@@@@@@@@@@@@@@@@@@@@@@@@@@@@@@@@@@@@@@@\n",
    "x_min = 0.0\n",
    "x_max = 1.1\n",
    "y_min = 0.0\n",
    "y_max = 1.1\n",
    "\n",
    "for GC_bin in range(len(LY_list)):\n",
    "    # Size\n",
    "    seaborn.set(rc={'figure.figsize':(12.3, 10),})\n",
    "    seaborn.set_context('talk') # or paper\n",
    "\n",
    "    # Define parameters of the frame\n",
    "    fig = plt.figure() # plt.figure(figsize=(width,height))\n",
    "    ax = fig.add_subplot(111)\n",
    "    ax.patch.set_alpha(0.0)\n",
    "    ax.spines['bottom'].set_color('0.5') #'black', ...\n",
    "    ax.spines['bottom'].set_linewidth(2)\n",
    "    ax.spines['bottom'].set_visible(True)\n",
    "    ax.spines['top'].set_color('0.5')\n",
    "    ax.spines['top'].set_linewidth(2)\n",
    "    ax.spines['top'].set_visible(True)\n",
    "    ax.spines['right'].set_color('0.5')\n",
    "    ax.spines['right'].set_linewidth(2)\n",
    "    ax.spines['right'].set_visible(True)\n",
    "    ax.spines['left'].set_color('0.5')\n",
    "    ax.spines['left'].set_linewidth(2)\n",
    "    ax.spines['left'].set_visible(True)\n",
    "\n",
    "    # Ticks, grid and ticks labels\n",
    "    ax.tick_params(direction='in', length=10, width=2,                  # direction, length and width of the ticks (in, out, inout)\n",
    "                   colors='0.5',                                       # color of the ticks ('black', '0.5')\n",
    "                   bottom=True, top=True, right=True, left=True,       # whether to draw the respective ticks\n",
    "                   zorder = 10.,                                       # tick and label zorder\n",
    "                   pad = 10.,                                          # distance between ticks and tick labels\n",
    "                   labelsize = 17,                                     # size of the tick labels\n",
    "                   labelright=False, labeltop=False)                   # wether to draw the tick labels on axes\n",
    "    # Axis limits\n",
    "    ax.set_xlim((x_min,x_max))\n",
    "    ax.set_ylim((y_min,y_max))\n",
    "\n",
    "    # Axis labels\n",
    "    plt.xlabel('E-Field Intensity [kV/cm]', fontsize=20, labelpad=20)\n",
    "    plt.ylabel('Normalized Yield [-]', fontsize=20, labelpad=20)\n",
    "\n",
    "    #if GC_bin in [6]:\n",
    "    plt.errorbar(eField_list, LY_list[GC_bin], xerr=x_err_list, yerr=y_err_list[GC_bin], fmt='o', label='LightYield') # fmt='-o' # TODO: PROPERLY IMPLEMENT Y_ERRORS/UNCERTAINTIES\n",
    "    plt.errorbar(eField_list, CY_list[GC_bin], xerr=x_err_list, yerr=y_err_list[GC_bin], fmt='o', label='ChargeYield') # fmt='-o' # TODO: PROPERLY IMPLEMENT Y_ERRORS/UNCERTAINTIES\n",
    "\n",
    "    #plt.errorbar(eField_list, ly_all, xerr=x_err_list, yerr=y_err_list, fmt='o', label='LightYield') # fmt='-o'\n",
    "    #plt.errorbar(eField_list, cy_all, xerr=x_err_list, yerr=y_err_list, fmt='o', label='ChargeYield') # fmt='-o'\n",
    "\n",
    "    # Legend\n",
    "    plt.legend(loc=[0.7,0.1], prop={'size': 17}) # loc='upper right'\n",
    "\n",
    "    # Save figure\n",
    "    save_name = 'plots/NormalizedYield_vs_EField_in_GCbin_' + str(GC_bin)\n",
    "    plt.savefig(save_name, dpi=400) # bbox_inches='tight'\n",
    "    #plt.close()\n",
    "print('Done.')"
   ]
  },
  {
   "cell_type": "code",
   "execution_count": 38,
   "metadata": {},
   "outputs": [
    {
     "name": "stdout",
     "output_type": "stream",
     "text": [
      "[1170.6143798828125, 1115.4857177734375, 208.14549255371094, 782.405517578125, 1148.0804443359375, 983.5781860351562, 848.0180751255581, 811.2001495361328, 666.0458804859835, 605.8535485839843, 495.4009124755859, 443.9773979187012, 556.4278564453125, 480.0044860839844, 1071.0377875434028, 964.2164268493652, 854.5912832706532, 743.0106100406286, 629.4369893196301, 535.2162492214105, 451.37244611467634, 398.2744879784522, 303.78170705396076, 277.4264875139509, 1045.3246270541488, 961.4847683376736, 801.7838658592253, 713.6468631690148, 607.4362429018374, 509.75910974803725, 435.2758668119257, 374.48487735929945, 292.46598118911555, 245.235013961792, 1055.1079850630326, 905.9771921424668, 785.8357251132729, 679.9641034494039, 593.5620986261025, 509.0391792459691, 422.62754762217014, 367.8940631384137, 294.1011336477179, 237.34841341585727, 998.8072861180161, 898.3635264295212, 758.7247472985998, 663.6398191763685, 573.8236560083456, 488.10902910989427, 411.7534290074955, 359.7845809793918, 292.56472509047563, 249.1676451365153, 985.4417096038363, 871.8680175011899, 742.5006977317822, 645.0150459891038, 556.2329174150374, 487.1170814235715, 396.42622669483944, 342.2268836433119, 282.9770024734708, 242.0297117335822, 971.5380332797181, 853.6024339695432, 736.091586185552, 639.897984701711, 545.5764667210292, 470.41625364189906, 400.88093464173187, 342.67450101135404, 274.3335002746582, 241.62391819463713, 942.8435786785466, 840.7442184012277, 716.9063569445391, 632.9958255890878, 539.3503588220232, 469.97064218828757, 383.1017373754051, 340.65265366887473, 273.49330629223454, 230.24895079930624, 928.3389679251366, 825.8811002712313, 716.5873591725419, 627.0421837725273, 534.4199421648416, 462.22840989648313, 381.90447963064935, 332.9608935378413, 267.5400948917165, 223.68313723025113]\n",
      "[11090.450206078931, 9024.306495952666, 6665.162665002468, 8390.724355783897, 7387.483005301363, 6911.479053972061, 7413.4869126653875, 8075.3590131364435, 7323.633852695252, 7826.299866640831, 7932.482204433914, 7752.7799074814375, 10530.403706519546, 10585.931838706243, 8522.765288397459, 8426.848369217923, 8222.09000594258, 8025.778099529939, 7748.644530796383, 8050.016995513167, 8030.336721541869, 8070.932590796987, 7498.149608413212, 8199.582726442624, 8965.704332310235, 8481.988886527915, 8322.973343307554, 8232.256236245283, 8138.531242365514, 8172.038941323475, 8106.1555959588095, 8097.324224969544, 7880.603314361419, 8090.106426918685, 8839.021120793312, 8534.979032869463, 8457.40531546512, 8633.300660493887, 8585.390216249174, 8397.110665618942, 8338.703349328664, 8222.518421750141, 8109.453466287675, 7972.9094457788015, 8946.22110612393, 8761.804533591092, 8808.216159292508, 8871.077849298023, 8747.69283326427, 8859.492113449274, 8652.586206688366, 8537.375476705818, 8499.21390878914, 8761.072848625501, 8860.8604496427, 9057.172604580446, 8866.8297785308, 8816.567339307525, 8914.878817630404, 9076.273660916906, 8669.189878334602, 8732.638391451941, 8519.613605498673, 8812.942925279604, 9172.497448163705, 9005.880959602671, 9090.991252721124, 9101.920533938874, 9098.451728038905, 9115.354678143804, 9051.279409495748, 8842.414180741787, 8651.3500986226, 9150.676435208972, 8957.548269169225, 9079.969034337058, 9203.771123813513, 9251.075866028601, 9255.118200200292, 9730.949512009633, 9154.120006531079, 8961.17683484767, 8875.02145329478, 8975.87647610239, 9270.373162307831, 9228.365637279936, 9271.279137960997, 9379.078615278595, 9404.589381837894, 9457.696155306898, 9179.099428748603, 9008.453011059955, 8869.713176713632, 8902.37503073235]\n",
      "[ nan 1.   0.93 0.91 0.92 0.87 0.86 0.85 0.82 0.81]\n",
      "[ nan 0.8  0.92 0.97 0.95 0.97 0.96 0.99 0.97 1.  ]\n",
      "Done.\n"
     ]
    }
   ],
   "source": [
    "ly_list = []\n",
    "cy_list = []\n",
    "for i in range(10):\n",
    "    for k in range(10):\n",
    "        if not (math.isnan(ly_mean_bin_i_list[i][k]) or math.isnan(cy_mean_bin_i_list[i][k])):\n",
    "            ly_list.append(ly_mean_bin_i_list[i][k])\n",
    "            cy_list.append(cy_mean_bin_i_list[i][k])\n",
    "print(ly_list)\n",
    "print(cy_list)\n",
    "print(LY_list[0])\n",
    "print(CY_list[0])\n",
    "            \n",
    "x_min    = 0 # np.nanmin(ly_list)\n",
    "x_max    = 1200 # np.nanmax(ly_list)\n",
    "y_min    = 0 # np.nanmin(cy_list)\n",
    "y_max    = 12000 # np.nanmax(cy_list)\n",
    "n_bins_x = 50\n",
    "n_bins_y = 50\n",
    "x_bins = np.linspace(x_min,x_max,n_bins_x)\n",
    "y_bins = np.linspace(y_min,y_max,n_bins_y)\n",
    "axis_labels = ['Light Yield [-]','Charge Yield [-]','Entries [-]']\n",
    "save_name = 'test.png'\n",
    "\n",
    "\n",
    "#plot_h2([LY_list[0],CY_list[0]],x_bins,y_bins,axis_labels,save_name)\n",
    "plot_h2([ly_list,cy_list],x_bins,y_bins,axis_labels,save_name)\n",
    "\n",
    "print('Done.')"
   ]
  },
  {
   "cell_type": "markdown",
   "metadata": {},
   "source": [
    "#### Event Display"
   ]
  },
  {
   "cell_type": "code",
   "execution_count": null,
   "metadata": {},
   "outputs": [
    {
     "name": "stdout",
     "output_type": "stream",
     "text": [
      " n_tracks:           1807\n",
      " plot_folder:  1.0_kV_per_cm\n",
      " Processing track 0 of 1807 in total...\n"
     ]
    }
   ],
   "source": [
    "# Define which TChain to be used\n",
    "chain = 0\n",
    "\n",
    "input_tree = input_tree_list[chain]\n",
    "n_tracks = input_tree.GetEntries()\n",
    "\n",
    "print(' n_tracks:          ', input_tree.GetEntries())\n",
    "\n",
    "plot_folder = str(eField_intensity_list[chain]) + '_kV_per_cm'\n",
    "print(' plot_folder: ', plot_folder)\n",
    "\n",
    "# Delete old eventDisplays\n",
    "os.system('rm -rf plots/' + str(plot_folder) +'/eventDisplays')\n",
    "os.system('mkdir plots/' + str(plot_folder) +'/eventDisplays')\n",
    "\n",
    "for track in range(n_tracks):\n",
    "    if False:\n",
    "        break\n",
    "    input_tree.GetEntry(track)\n",
    "    \n",
    "    if track%200==0:\n",
    "        print(' Processing track', track, 'of', n_tracks, 'in total...')\n",
    "\n",
    "    # Apply Selection Cuts (those should be the same as at the very beginning!)\n",
    "    # Note: Make a selected_trackID list does not work since there are >1 files in a TChain.\n",
    "    # Could, e.g., use unique unix_ts or so.\n",
    "    # For the moment, just apply exactly the same selection cuts as above.\n",
    "    if input_tree_list[chain].t_track_length < cut_lenght:\n",
    "        continue\n",
    "    if input_tree_list[chain].t_event_ntracks > cut_ntracks:\n",
    "        continue\n",
    "    if abs(max(input_tree_list[chain].t_track_start_pos_y,input_tree_list[chain].t_track_end_pos_y)) < cut_throughgoing or\\\n",
    "       abs(min(input_tree_list[chain].t_track_start_pos_y,input_tree_list[chain].t_track_end_pos_y)) < cut_throughgoing:\n",
    "        #print(input_tree_list[chain].t_track_start_pos_y)\n",
    "        #print(input_tree_list[chain].t_track_end_pos_y)\n",
    "        #print(' ---------------- ')\n",
    "        continue\n",
    "    \n",
    "    hits_x = []\n",
    "    hits_y = []\n",
    "    hits_z = []\n",
    "    hits_q = []\n",
    "\n",
    "    '''    \n",
    "    print(' ----------------------------------------- ')\n",
    "    #print(' t_eventID:        ', input_tree.t_eventID)\n",
    "    print(' t_trackID:        ', input_tree.t_trackID)\n",
    "    #print(' t_event_q:        ', input_tree.t_event_q)\n",
    "    #print(' t_track_q:        ', input_tree.t_track_q)\n",
    "    #print(' t_event_nhits:    ', input_tree.t_event_nhits)\n",
    "    print(' t_track_start:    [%.2f , %.2f , %.2f]' %(input_tree.t_track_start_pos_x,input_tree.t_track_start_pos_y,input_tree.t_track_start_pos_z))\n",
    "    print(' t_track_end:      [%.2f , %.2f , %.2f]' %(input_tree.t_track_end_pos_x,input_tree.t_track_end_pos_y,input_tree.t_track_end_pos_z))\n",
    "    #print(' max(start_y):     ', max(input_tree.t_track_start_pos_y,input_tree.t_track_end_pos_y))\n",
    "    #print(' min(start_y):     ', min(input_tree.t_track_start_pos_y,input_tree.t_track_end_pos_y))\n",
    "    print(' t_track_nhits:    ', input_tree.t_track_nhits)\n",
    "    #print(' t_track_res_x:    ', input_tree.t_track_residual_x)\n",
    "    #print(' t_track_res_y:    ', input_tree.t_track_residual_y)\n",
    "    #print(' t_track_res_z:    ', input_tree.t_track_residual_z)\n",
    "    #print(' sqrt(res_sum2):   ', np.sqrt(input_tree.t_track_residual_x**2 + input_tree.t_track_residual_y**2 + input_tree.t_track_residual_z**2  ))\n",
    "    \n",
    "    #print(' l_LCM_tot :      ', input_tree.l_tlcm1_tot)\n",
    "    '''\n",
    "    \n",
    "    # Loop over all hits\n",
    "    for hit in range(input_tree.t_track_nhits):\n",
    "        hits_x.append(input_tree.t_track_hits_x[hit])\n",
    "        hits_y.append(input_tree.t_track_hits_y[hit])\n",
    "        hits_z.append(input_tree.t_track_hits_z[hit])\n",
    "        hits_q.append(input_tree.t_track_hits_q[hit])\n",
    "    \n",
    "    \n",
    "    # Plot 2D projection (onto xy pixel tile)\n",
    "    x_min    = pixels_x_min\n",
    "    x_max    = pixels_x_max\n",
    "    y_min    = pixels_y_min\n",
    "    y_max    = pixels_y_max\n",
    "    n_bins_x = n_pixels_x\n",
    "    n_bins_y = n_pixels_y\n",
    "    x_bins = np.linspace(x_min,x_max,n_bins_x)\n",
    "    y_bins = np.linspace(y_min,y_max,n_bins_y)\n",
    "    #save_name = 'plots/'+str(plot_folder)+'/eventDisplays/trackID_'+str(input_tree.t_trackID)+'_2D.png'\n",
    "    save_name = 'plots/'+str(plot_folder)+'/eventDisplays/chain_'+str(chain)+'_trackID_'+str(input_tree.t_trackID)+'_2D.png'\n",
    "    plot_event_2D([hits_x,hits_y,hits_q],x_bins,y_bins,['Coordinate x [mm]','Coordinate y [mm]','Charge Deposition [ke]'],save_name)\n",
    "    \n",
    "    \n",
    "    # Plot 3D event display\n",
    "    x_min    = pixels_x_min\n",
    "    x_max    = pixels_x_max\n",
    "    y_min    = pixels_y_min\n",
    "    y_max    = pixels_y_max\n",
    "    z_min    = 0\n",
    "    z_max    = max(pixels_z_max,np.max(hits_z))\n",
    "    n_bins_x = n_pixels_x\n",
    "    n_bins_y = n_pixels_y\n",
    "    n_bins_z = n_pixels_z\n",
    "    x_bins = np.linspace(x_min,x_max,n_bins_x)\n",
    "    y_bins = np.linspace(y_min,y_max,n_bins_y)\n",
    "    z_bins = np.linspace(z_min,z_max,n_bins_z)\n",
    "    #save_name = 'plots/'+str(plot_folder)+'/eventDisplays/trackID_'+str(input_tree.t_trackID)+'_3D.png'\n",
    "    save_name = 'plots/'+str(plot_folder)+'/eventDisplays/chain_'+str(chain)+'_trackID_'+str(input_tree.t_trackID)+'_3D.png'\n",
    "    plot_event_3D([hits_x,hits_y,hits_z,hits_q],x_bins,y_bins,z_bins,\\\n",
    "                  ['Coordinate x [mm]','Coordinate y [mm]','Coordinate z [mm]','Charge Deposition [ke]'],save_name)\n",
    "    '''\n",
    "    # OLD VERSION\n",
    "    fig = plt.figure()\n",
    "    ax = fig.add_subplot(111, projection='3d')\n",
    "    ax.set_xlim((pixels_x_min,pixels_x_max))\n",
    "    ax.set_ylim((pixels_y_min,pixels_y_max))\n",
    "    ax.set_zlim((0.,max(3200,np.max(hits_z))))\n",
    "    img = ax.scatter(hits_x,hits_y,hits_z,c=hits_q,cmap=plt.hot())\n",
    "    fig.colorbar(img)\n",
    "    plt.show()\n",
    "    save_name = 'evDisplay_3D.png'\n",
    "    plt.savefig(save_name, dpi=400)\n",
    "    plt.close()\n",
    "    '''\n",
    "    \n",
    "print('Done.')"
   ]
  },
  {
   "cell_type": "code",
   "execution_count": null,
   "metadata": {},
   "outputs": [],
   "source": []
  },
  {
   "cell_type": "code",
   "execution_count": null,
   "metadata": {},
   "outputs": [],
   "source": []
  },
  {
   "cell_type": "code",
   "execution_count": null,
   "metadata": {},
   "outputs": [],
   "source": []
  },
  {
   "cell_type": "code",
   "execution_count": null,
   "metadata": {},
   "outputs": [],
   "source": []
  },
  {
   "cell_type": "markdown",
   "metadata": {},
   "source": [
    "### Testing Voxelisation algorithm"
   ]
  },
  {
   "cell_type": "code",
   "execution_count": null,
   "metadata": {},
   "outputs": [],
   "source": [
    "'''\n",
    "# Get all hits in the EVENT (!) and make voxelisation\n",
    "voxels = np.zeros((n_voxels_x, n_voxels_y, n_voxels_z))\n",
    "\n",
    "for hit in range(10): #input_tree.t_event_nhits):\n",
    "    #print(' hit: ', hit, ' \\t x: ', input_tree.t_event_hits_x[hit], '\\t y: ', input_tree.t_event_hits_y[hit], ' \\t z: ', input_tree.t_event_hits_z[hit])\n",
    "\n",
    "    voxel_x = math.floor((input_tree.t_event_hits_x[hit]+(pitch_x*(n_voxels_x)/2.))/pitch_x)\n",
    "    voxel_y = math.floor((input_tree.t_event_hits_y[hit]+(pitch_y*(n_voxels_y)/2.))/pitch_y)\n",
    "    voxel_z = math.floor((input_tree.t_event_hits_z[hit]+(pitch_z*(n_voxels_z)/2.))/pitch_z)\n",
    "\n",
    "    #print(' voxel_x: ', voxel_x, ' \\t voxel_y: ', voxel_y, ' \\t voxel_z: ', voxel_z)\n",
    "    if voxel_x<n_voxels_x and voxel_y<n_voxels_y and voxel_z<n_voxels_z:\n",
    "        voxels[voxel_x][voxel_y][voxel_z] += input_tree.t_event_hits_q[hit]\n",
    "    # TODO: make under- and overflow voxel for every coordinate\n",
    "\n",
    "    h3_event_hits.Fill(input_tree.t_event_hits_x[hit],input_tree.t_event_hits_y[hit],input_tree.t_event_hits_z[hit],input_tree.t_event_hits_q[hit])\n",
    "\n",
    "for vox_x in range(n_voxels_x):\n",
    "    vox_x_middle = x_min + (vox_x+0.5)*pitch_x\n",
    "    for vox_y in range(n_voxels_y):\n",
    "        vox_y_middle = y_min + (vox_y+0.5)*pitch_y\n",
    "        for vox_z in range(n_voxels_z):\n",
    "            vox_z_middle = z_min + (vox_z+0.5)*pitch_z\n",
    "            if voxels[vox_x][vox_y][vox_z] > 0:\n",
    "                ntuple.Fill(vox_x_middle,vox_y_middle,vox_z_middle,voxels[vox_x][vox_y][vox_z])\n",
    "                #h3_event_hits.Fill(vox_x_middle,vox_y_middle,vox_z_middle,voxels[vox_x][vox_y][vox_z])\n",
    "'''"
   ]
  }
 ],
 "metadata": {
  "kernelspec": {
   "display_name": "Python 3",
   "language": "python",
   "name": "python3"
  },
  "language_info": {
   "codemirror_mode": {
    "name": "ipython",
    "version": 3
   },
   "file_extension": ".py",
   "mimetype": "text/x-python",
   "name": "python",
   "nbconvert_exporter": "python",
   "pygments_lexer": "ipython3",
   "version": "3.8.5"
  }
 },
 "nbformat": 4,
 "nbformat_minor": 4
}
