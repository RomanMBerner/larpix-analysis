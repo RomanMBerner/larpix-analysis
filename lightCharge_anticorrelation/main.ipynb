{
 "cells": [
  {
   "cell_type": "markdown",
   "metadata": {},
   "source": [
    "# Description:\n",
    "To be done"
   ]
  },
  {
   "cell_type": "markdown",
   "metadata": {},
   "source": [
    "### Imports"
   ]
  },
  {
   "cell_type": "code",
   "execution_count": 1,
   "metadata": {},
   "outputs": [
    {
     "name": "stdout",
     "output_type": "stream",
     "text": [
      "Welcome to JupyROOT 6.22/02\n"
     ]
    }
   ],
   "source": [
    "#import argparse\n",
    "#from array import array\n",
    "import glob\n",
    "import math\n",
    "import numpy as np\n",
    "import os\n",
    "import ROOT\n",
    "from ROOT import TCanvas, TFile, TProfile, TNtuple, TH1F, TH2F, TH3F, TH1, TLine\n",
    "#from ROOT import gROOT, gBenchmark, gRandom, gSystem, Double, gStyle\n",
    "import time"
   ]
  },
  {
   "cell_type": "markdown",
   "metadata": {},
   "source": [
    "### ROOT Batch Mode"
   ]
  },
  {
   "cell_type": "code",
   "execution_count": 2,
   "metadata": {},
   "outputs": [],
   "source": [
    "# ROOT.gROOT.SetBatch(1)"
   ]
  },
  {
   "cell_type": "markdown",
   "metadata": {},
   "source": [
    "### Paths"
   ]
  },
  {
   "cell_type": "code",
   "execution_count": 3,
   "metadata": {},
   "outputs": [
    {
     "name": "stdout",
     "output_type": "stream",
     "text": [
      " datapath:    /data/SingleModule_Nov2020/LArPix/dataRuns/rootTrees/combined_with_light\n",
      " outputpath:  /home/lhep/PACMAN/larpix-analysis/lightCharge_anticorrelation\n",
      " datafiles ( 22 ): \n",
      "               sync_wLightReco_20201129_122204.root\n",
      "               sync_wLightReco_20201129_122655.root\n",
      "               sync_wLightReco_20201129_130449.root\n",
      "               sync_wLightReco_20201129_134857.root\n",
      "               sync_wLightReco_20201129_143427.root\n",
      "               sync_wLightReco_20201129_150749.root\n",
      "               sync_wLightReco_20201129_155227.root\n",
      "               sync_wLightReco_20201129_162434.root\n",
      "               sync_wLightReco_20201129_170918.root\n",
      "               sync_wLightReco_20201129_174140.root\n",
      "               sync_wLightReco_20201129_182214.root\n",
      "               sync_wLightReco_20201129_185437.root\n",
      "               sync_wLightReco_20201129_193550.root\n",
      "               sync_wLightReco_20201129_200721.root\n",
      "               sync_wLightReco_20201129_204607.root\n",
      "               sync_wLightReco_20201129_211819.root\n",
      "               sync_wLightReco_20201129_215550.root\n",
      "               sync_wLightReco_20201129_222751.root\n",
      "               sync_wLightReco_20201129_230700.root\n",
      "               sync_wLightReco_20201129_234000.root\n",
      "               sync_wLightReco_20201130_002722.root\n",
      "               sync_wLightReco_20201130_005847.root\n"
     ]
    }
   ],
   "source": [
    "# ============================================================\n",
    "# Set paths\n",
    "# ============================================================\n",
    "datapath = '/data/SingleModule_Nov2020/LArPix/dataRuns/rootTrees/combined_with_light'\n",
    "print(' datapath:   ', datapath)\n",
    "\n",
    "outputpath = '/home/lhep/PACMAN/larpix-analysis/lightCharge_anticorrelation'\n",
    "print(' outputpath: ', outputpath)\n",
    "\n",
    "files = sorted([os.path.basename(path) for path in glob.glob(datapath+'/*.root')])\n",
    "print(' datafiles (', len(files), '): ')\n",
    "for f in files:\n",
    "    print('              ', f)"
   ]
  },
  {
   "cell_type": "markdown",
   "metadata": {},
   "source": [
    "### Define voxelisation"
   ]
  },
  {
   "cell_type": "code",
   "execution_count": 4,
   "metadata": {},
   "outputs": [],
   "source": [
    "# ============================================================\n",
    "# Define voxelisation\n",
    "# ============================================================\n",
    "n_pixels_x = 70\n",
    "n_pixels_y = 70\n",
    "n_pixels_z = 70\n",
    "pitch_x = 4.434\n",
    "pitch_y = 4.434\n",
    "pitch_z = 4.434\n",
    "pixels_x_min = - pitch_x * n_pixels_x/2. #155.19\n",
    "pixels_x_max =   pitch_x * n_pixels_x/2. #155.19\n",
    "pixels_y_min = - pitch_y * n_pixels_y/2. #155.19\n",
    "pixels_y_max =   pitch_y * n_pixels_y/2. #155.19\n",
    "pixels_z_min = 0\n",
    "pixels_z_max = n_pixels_z*pitch_z*10 # factor 10 for correction... TODO: CHANGE THIS FOR NEXT PRODUCTION!!\n",
    "#pixels_z_min = - pitch_z * n_pixels_z/2. #155.19\n",
    "#pixels_z_max =   pitch_z * n_pixels_z/2. #155.19\n",
    "#pixels_y_min = -155.19\n",
    "#pixels_y_max = 155.19"
   ]
  },
  {
   "cell_type": "markdown",
   "metadata": {},
   "source": [
    "### Make TChain with input files"
   ]
  },
  {
   "cell_type": "code",
   "execution_count": 5,
   "metadata": {},
   "outputs": [
    {
     "name": "stdout",
     "output_type": "stream",
     "text": [
      "Done.\n"
     ]
    }
   ],
   "source": [
    "'''\n",
    "#inputFileName = files[0]\n",
    "inputFileName = 'sync_wLightReco_20201129_122204.root'\n",
    "print(' Processing file', inputFileName)\n",
    "\n",
    "input_tree = ROOT.TChain(\"t_out\", \"t_out\")\n",
    "input_tree.Add(datapath + '/' + inputFileName)\n",
    "#for root_file in config[\"data_files\"]:\n",
    "#    input_tree.Add(root_file)\n",
    "#input_tree.Add( \"/path/to.root\" )\n",
    "\n",
    "# Turn on all branches of input tree\n",
    "input_tree.SetBranchStatus(\"*\",           1)\n",
    "'''\n",
    "print('Done.')"
   ]
  },
  {
   "cell_type": "markdown",
   "metadata": {},
   "source": [
    "### Make List of TChains (each TChain for a different electric field strength)"
   ]
  },
  {
   "cell_type": "code",
   "execution_count": 6,
   "metadata": {},
   "outputs": [
    {
     "name": "stdout",
     "output_type": "stream",
     "text": [
      " List with input trees: \n",
      "    0.1 kV/cm: \t [ Name: t_out Title: t_out ] \t ( 4032 entries )\n",
      "    0.2 kV/cm: \t [ Name: t_out Title: t_out ] \t ( 8914 entries )\n",
      "    0.3 kV/cm: \t [ Name: t_out Title: t_out ] \t ( 25631 entries )\n",
      "    0.4 kV/cm: \t [ Name: t_out Title: t_out ] \t ( 31678 entries )\n",
      "    0.5 kV/cm: \t [ Name: t_out Title: t_out ] \t ( 36235 entries )\n",
      "    0.6 kV/cm: \t [ Name: t_out Title: t_out ] \t ( 36922 entries )\n",
      "    0.7 kV/cm: \t [ Name: t_out Title: t_out ] \t ( 37363 entries )\n",
      "    0.8 kV/cm: \t [ Name: t_out Title: t_out ] \t ( 38061 entries )\n",
      "    0.9 kV/cm: \t [ Name: t_out Title: t_out ] \t ( 39026 entries )\n",
      "    1.0 kV/cm: \t [ Name: t_out Title: t_out ] \t ( 60331 entries )\n",
      "Done.\n"
     ]
    }
   ],
   "source": [
    "#inputFileName = files[20]\n",
    "#inputFileName = 'sync_wLightReco_20201129_122204.root'\n",
    "#print(' Processing file', inputFileName)\n",
    "\n",
    "input_tree_list = []\n",
    "\n",
    "n_field_intensities = 10 # (0.1, 0.2, ..., 0.9, 1.0) kV/cm\n",
    "\n",
    "for i in range(n_field_intensities):\n",
    "    input_tree = ROOT.TChain(\"t_out\", \"t_out\")\n",
    "    \n",
    "    if i == 0: # 0.1 kV/cm\n",
    "        input_tree.Add(datapath + '/sync_wLightReco_20201130_002722.root')\n",
    "        input_tree.Add(datapath + '/sync_wLightReco_20201130_005847.root')\n",
    "    if i == 1: # 0.2 kV/cm\n",
    "        input_tree.Add(datapath + '/sync_wLightReco_20201129_230700.root')\n",
    "        input_tree.Add(datapath + '/sync_wLightReco_20201129_234000.root')\n",
    "    if i == 2: # 0.3 kV/cm\n",
    "        input_tree.Add(datapath + '/sync_wLightReco_20201129_215550.root')\n",
    "        input_tree.Add(datapath + '/sync_wLightReco_20201129_222751.root')\n",
    "    if i == 3: # 0.4 kV/cm\n",
    "        input_tree.Add(datapath + '/sync_wLightReco_20201129_204607.root')\n",
    "        input_tree.Add(datapath + '/sync_wLightReco_20201129_211819.root')\n",
    "    if i == 4: # 0.5 kV/cm\n",
    "        input_tree.Add(datapath + '/sync_wLightReco_20201129_193550.root')\n",
    "        input_tree.Add(datapath + '/sync_wLightReco_20201129_200721.root')\n",
    "    if i == 5: # 0.6 kV/cm\n",
    "        input_tree.Add(datapath + '/sync_wLightReco_20201129_182214.root')\n",
    "        input_tree.Add(datapath + '/sync_wLightReco_20201129_185437.root')\n",
    "    if i == 6: # 0.7 kV/cm\n",
    "        input_tree.Add(datapath + '/sync_wLightReco_20201129_170918.root')\n",
    "        input_tree.Add(datapath + '/sync_wLightReco_20201129_174140.root')\n",
    "    if i == 7: # 0.8 kV/cm\n",
    "        input_tree.Add(datapath + '/sync_wLightReco_20201129_155227.root')\n",
    "        input_tree.Add(datapath + '/sync_wLightReco_20201129_162434.root')\n",
    "    if i == 8: # 0.9 kV/cm\n",
    "        input_tree.Add(datapath + '/sync_wLightReco_20201129_143427.root')\n",
    "        input_tree.Add(datapath + '/sync_wLightReco_20201129_150749.root')\n",
    "    if i == 9: # 1.0 kV/cm\n",
    "        input_tree.Add(datapath + '/sync_wLightReco_20201129_122204.root')\n",
    "        input_tree.Add(datapath + '/sync_wLightReco_20201129_122655.root')\n",
    "        input_tree.Add(datapath + '/sync_wLightReco_20201129_130449.root')\n",
    "        input_tree.Add(datapath + '/sync_wLightReco_20201129_134857.root')\n",
    "    \n",
    "    # Turn on all branches of input tree\n",
    "    input_tree.SetBranchStatus(\"*\",           1)\n",
    "    \n",
    "    # Append input_tree TChain to the input_tree_list\n",
    "    input_tree_list.append(input_tree)\n",
    "    \n",
    "print(' List with input trees: ')\n",
    "for i in range(10):\n",
    "    print('   ', (i+1)/10., 'kV/cm: \\t [', input_tree_list[i], '] \\t (', input_tree_list[i].GetEntries(), 'entries )')\n",
    "    \n",
    "print('Done.')"
   ]
  },
  {
   "cell_type": "markdown",
   "metadata": {},
   "source": [
    "### Create directories for plots"
   ]
  },
  {
   "cell_type": "code",
   "execution_count": 7,
   "metadata": {},
   "outputs": [
    {
     "name": "stdout",
     "output_type": "stream",
     "text": [
      "Done.\n"
     ]
    }
   ],
   "source": [
    "'''\n",
    "# If make_plots: Create corresponding folder\n",
    "make_plots = True\n",
    "\n",
    "if make_plots:\n",
    "    plot_folder = inputFileName[16:-5]\n",
    "    os.system('rm -rf plots/' + str(plot_folder))\n",
    "    os.system('mkdir plots/' + str(plot_folder))\n",
    "    os.system('mkdir plots/' + str(plot_folder) + '/eventDisplays')\n",
    "'''\n",
    "print('Done.')"
   ]
  },
  {
   "cell_type": "code",
   "execution_count": 8,
   "metadata": {},
   "outputs": [],
   "source": [
    "for i in range(len(input_tree_list)):\n",
    "    plot_folder = str((i+1)/10.) + '_kV_per_cm'\n",
    "    os.system('rm -rf plots/' + str(plot_folder))\n",
    "    os.system('mkdir plots/' + str(plot_folder))\n",
    "    os.system('mkdir plots/' + str(plot_folder) + '/eventDisplays')"
   ]
  },
  {
   "cell_type": "markdown",
   "metadata": {},
   "source": [
    "### Define track selection cuts"
   ]
  },
  {
   "cell_type": "code",
   "execution_count": 9,
   "metadata": {},
   "outputs": [],
   "source": [
    "# Define Selection Cuts\n",
    "cut_ntracks      = 1    # Only consider events with number of reconstructed tracks == cut_ntracks\n",
    "cut_lenght       = 250. # Track minimum length [mm]\n",
    "cut_throughgoing = 130. # |max(track_start_y,track_end_y)| and |min(track_start_y,track_end_y)| must be greater than cut_throughgoing [mm]\n",
    "#cut_nhits        = 50.  # Min. number of hits in the track [-]\n",
    "#cut_residual2    = 3.   # Maximum allowed sqrt(res_x**2+res_y**2+res_z**2), in order to only allow tracks which are 'track-like' with a small spread"
   ]
  },
  {
   "cell_type": "markdown",
   "metadata": {},
   "source": [
    "### Loop over all TChains in input_tree_list"
   ]
  },
  {
   "cell_type": "code",
   "execution_count": 10,
   "metadata": {},
   "outputs": [],
   "source": [
    "track_length_list      = []\n",
    "track_n_hits_list      = []\n",
    "track_q_tot_list       = []\n",
    "track_start_pos_x_list = []\n",
    "track_start_pos_y_list = []\n",
    "track_start_pos_z_list = []\n",
    "track_end_pos_x_list   = []\n",
    "track_end_pos_y_list   = []\n",
    "track_end_pos_z_list   = []\n",
    "LCM_lightYield_list    = []\n",
    "track_cgx_list         = []\n",
    "track_cgy_list         = []\n",
    "track_cgz_list         = []"
   ]
  },
  {
   "cell_type": "code",
   "execution_count": 11,
   "metadata": {},
   "outputs": [
    {
     "name": "stdout",
     "output_type": "stream",
     "text": [
      " ----------------------------------------------------------------------------------- \n",
      " Processing chain Nr. 0 ( 0.1 kV/cm )\n",
      " Number of tracks :  4032\n",
      " Number of selected tracks:  6\n",
      " ----------------------------------------------------------------------------------- \n",
      " Processing chain Nr. 1 ( 0.2 kV/cm )\n",
      " Number of tracks :  8914\n",
      " Processed 2001 of 8914 tracks. \t Elapsed time: 0.23361921310424805  seconds ... \n",
      " Number of selected tracks:  123\n",
      " ----------------------------------------------------------------------------------- \n",
      " Processing chain Nr. 2 ( 0.3 kV/cm )\n",
      " Number of tracks :  25631\n",
      " Processed 3601 of 25631 tracks. \t Elapsed time: 0.7914800643920898  seconds ... \n",
      " Processed 6401 of 25631 tracks. \t Elapsed time: 1.4550752639770508  seconds ... \n",
      " Processed 11401 of 25631 tracks. \t Elapsed time: 2.633225440979004  seconds ... \n",
      " Processed 12001 of 25631 tracks. \t Elapsed time: 2.768171548843384  seconds ... \n",
      " Processed 13801 of 25631 tracks. \t Elapsed time: 3.1677768230438232  seconds ... \n",
      " Processed 19201 of 25631 tracks. \t Elapsed time: 4.520285367965698  seconds ... \n",
      " Processed 20201 of 25631 tracks. \t Elapsed time: 4.74616265296936  seconds ... \n",
      " Number of selected tracks:  1076\n",
      " ----------------------------------------------------------------------------------- \n",
      " Processing chain Nr. 3 ( 0.4 kV/cm )\n",
      " Number of tracks :  31678\n",
      " Processed 1401 of 31678 tracks. \t Elapsed time: 0.4911935329437256  seconds ... \n",
      " Processed 5201 of 31678 tracks. \t Elapsed time: 1.7987618446350098  seconds ... \n",
      " Processed 8601 of 31678 tracks. \t Elapsed time: 3.0635135173797607  seconds ... \n",
      " Processed 10201 of 31678 tracks. \t Elapsed time: 3.6353588104248047  seconds ... \n",
      " Processed 12201 of 31678 tracks. \t Elapsed time: 4.25545597076416  seconds ... \n",
      " Processed 16001 of 31678 tracks. \t Elapsed time: 5.555781841278076  seconds ... \n",
      " Processed 17201 of 31678 tracks. \t Elapsed time: 5.961130619049072  seconds ... \n",
      " Processed 28801 of 31678 tracks. \t Elapsed time: 9.926365852355957  seconds ... \n",
      " Number of selected tracks:  2142\n",
      " ----------------------------------------------------------------------------------- \n",
      " Processing chain Nr. 4 ( 0.5 kV/cm )\n",
      " Number of tracks :  36235\n",
      " Processed 1 of 36235 tracks. \t Elapsed time: 0.01702094078063965  seconds ... \n",
      " Processed 1201 of 36235 tracks. \t Elapsed time: 0.5447201728820801  seconds ... \n",
      " Processed 4201 of 36235 tracks. \t Elapsed time: 1.962287187576294  seconds ... \n",
      " Processed 5601 of 36235 tracks. \t Elapsed time: 2.4981882572174072  seconds ... \n",
      " Processed 9001 of 36235 tracks. \t Elapsed time: 4.067211389541626  seconds ... \n",
      " Processed 9201 of 36235 tracks. \t Elapsed time: 4.160206317901611  seconds ... \n",
      " Processed 11001 of 36235 tracks. \t Elapsed time: 5.058566331863403  seconds ... \n",
      " Processed 14801 of 36235 tracks. \t Elapsed time: 6.86928129196167  seconds ... \n",
      " Processed 17001 of 36235 tracks. \t Elapsed time: 8.068968534469604  seconds ... \n",
      " Processed 21401 of 36235 tracks. \t Elapsed time: 10.02196979522705  seconds ... \n",
      " Processed 21801 of 36235 tracks. \t Elapsed time: 10.216202974319458  seconds ... \n",
      " Processed 23401 of 36235 tracks. \t Elapsed time: 10.962669610977173  seconds ... \n",
      " Processed 25201 of 36235 tracks. \t Elapsed time: 11.719372510910034  seconds ... \n",
      " Processed 26001 of 36235 tracks. \t Elapsed time: 12.16632866859436  seconds ... \n",
      " Processed 29001 of 36235 tracks. \t Elapsed time: 13.602034330368042  seconds ... \n",
      " Processed 29201 of 36235 tracks. \t Elapsed time: 13.69517707824707  seconds ... \n",
      " Processed 30401 of 36235 tracks. \t Elapsed time: 14.292961359024048  seconds ... \n",
      " Processed 31001 of 36235 tracks. \t Elapsed time: 14.57271695137024  seconds ... \n",
      " Processed 33801 of 36235 tracks. \t Elapsed time: 15.902367353439331  seconds ... \n",
      " Processed 36001 of 36235 tracks. \t Elapsed time: 16.887439489364624  seconds ... \n",
      " Number of selected tracks:  3441\n",
      " ----------------------------------------------------------------------------------- \n",
      " Processing chain Nr. 5 ( 0.6 kV/cm )\n",
      " Number of tracks :  36922\n",
      " Processed 1 of 36922 tracks. \t Elapsed time: 0.018982410430908203  seconds ... \n",
      " Processed 1201 of 36922 tracks. \t Elapsed time: 0.7423546314239502  seconds ... \n",
      " Processed 6001 of 36922 tracks. \t Elapsed time: 3.4521214962005615  seconds ... \n",
      " Processed 8401 of 36922 tracks. \t Elapsed time: 4.8571038246154785  seconds ... \n",
      " Processed 9801 of 36922 tracks. \t Elapsed time: 5.581245183944702  seconds ... \n",
      " Processed 10601 of 36922 tracks. \t Elapsed time: 5.985808610916138  seconds ... \n",
      " Processed 12001 of 36922 tracks. \t Elapsed time: 6.766947507858276  seconds ... \n",
      " Processed 17001 of 36922 tracks. \t Elapsed time: 9.525571584701538  seconds ... \n",
      " Processed 17401 of 36922 tracks. \t Elapsed time: 9.753998041152954  seconds ... \n",
      " Processed 18601 of 36922 tracks. \t Elapsed time: 10.48291563987732  seconds ... \n",
      " Processed 22601 of 36922 tracks. \t Elapsed time: 12.906782150268555  seconds ... \n",
      " Processed 22801 of 36922 tracks. \t Elapsed time: 13.035595893859863  seconds ... \n",
      " Processed 23001 of 36922 tracks. \t Elapsed time: 13.115665912628174  seconds ... \n",
      " Processed 29601 of 36922 tracks. \t Elapsed time: 16.99518585205078  seconds ... \n",
      " Processed 34601 of 36922 tracks. \t Elapsed time: 19.708104848861694  seconds ... \n",
      " Processed 35401 of 36922 tracks. \t Elapsed time: 20.153898239135742  seconds ... \n",
      " Number of selected tracks:  4222\n",
      " ----------------------------------------------------------------------------------- \n",
      " Processing chain Nr. 6 ( 0.7 kV/cm )\n",
      " Number of tracks :  37363\n",
      " Processed 1201 of 37363 tracks. \t Elapsed time: 0.7189135551452637  seconds ... \n",
      " Processed 3801 of 37363 tracks. \t Elapsed time: 2.317725658416748  seconds ... \n",
      " Processed 4201 of 37363 tracks. \t Elapsed time: 2.5647950172424316  seconds ... \n",
      " Processed 6601 of 37363 tracks. \t Elapsed time: 4.105360269546509  seconds ... \n",
      " Processed 6801 of 37363 tracks. \t Elapsed time: 4.260185241699219  seconds ... \n",
      " Processed 10001 of 37363 tracks. \t Elapsed time: 6.260529279708862  seconds ... \n",
      " Processed 12601 of 37363 tracks. \t Elapsed time: 8.006399631500244  seconds ... \n",
      " Processed 14001 of 37363 tracks. \t Elapsed time: 8.882383346557617  seconds ... \n",
      " Processed 14201 of 37363 tracks. \t Elapsed time: 9.040515422821045  seconds ... \n",
      " Processed 14401 of 37363 tracks. \t Elapsed time: 9.202093124389648  seconds ... \n",
      " Processed 15801 of 37363 tracks. \t Elapsed time: 10.02476167678833  seconds ... \n",
      " Processed 17001 of 37363 tracks. \t Elapsed time: 10.718676328659058  seconds ... \n",
      " Processed 19201 of 37363 tracks. \t Elapsed time: 12.071195363998413  seconds ... \n",
      " Processed 25801 of 37363 tracks. \t Elapsed time: 16.44704294204712  seconds ... \n",
      " Processed 26801 of 37363 tracks. \t Elapsed time: 17.01555037498474  seconds ... \n",
      " Processed 28001 of 37363 tracks. \t Elapsed time: 17.880080461502075  seconds ... \n",
      " Processed 29201 of 37363 tracks. \t Elapsed time: 18.627679586410522  seconds ... \n",
      " Processed 32401 of 37363 tracks. \t Elapsed time: 20.631701469421387  seconds ... \n",
      " Processed 33001 of 37363 tracks. \t Elapsed time: 20.98887610435486  seconds ... \n",
      " Processed 33401 of 37363 tracks. \t Elapsed time: 21.225311040878296  seconds ... \n",
      " Processed 33801 of 37363 tracks. \t Elapsed time: 21.56495451927185  seconds ... \n",
      " Processed 34201 of 37363 tracks. \t Elapsed time: 21.819375038146973  seconds ... \n",
      " Processed 36801 of 37363 tracks. \t Elapsed time: 23.416297912597656  seconds ... \n",
      " Number of selected tracks:  4688\n",
      " ----------------------------------------------------------------------------------- \n",
      " Processing chain Nr. 7 ( 0.8 kV/cm )\n",
      " Number of tracks :  38061\n",
      " Processed 401 of 38061 tracks. \t Elapsed time: 0.2902987003326416  seconds ... \n",
      " Processed 1001 of 38061 tracks. \t Elapsed time: 0.7161624431610107  seconds ... \n",
      " Processed 6001 of 38061 tracks. \t Elapsed time: 4.001008749008179  seconds ... \n",
      " Processed 9401 of 38061 tracks. \t Elapsed time: 6.31124210357666  seconds ... \n",
      " Processed 9601 of 38061 tracks. \t Elapsed time: 6.469260931015015  seconds ... \n",
      " Processed 10001 of 38061 tracks. \t Elapsed time: 6.697994709014893  seconds ... \n",
      " Processed 12401 of 38061 tracks. \t Elapsed time: 8.445866107940674  seconds ... \n",
      " Processed 15001 of 38061 tracks. \t Elapsed time: 10.394318103790283  seconds ... \n",
      " Processed 15201 of 38061 tracks. \t Elapsed time: 10.551272630691528  seconds ... \n",
      " Processed 17001 of 38061 tracks. \t Elapsed time: 11.644690752029419  seconds ... \n",
      " Processed 19601 of 38061 tracks. \t Elapsed time: 13.365231037139893  seconds ... \n",
      " Processed 21401 of 38061 tracks. \t Elapsed time: 14.647765398025513  seconds ... \n",
      " Processed 21601 of 38061 tracks. \t Elapsed time: 14.770588397979736  seconds ... \n",
      " Processed 23001 of 38061 tracks. \t Elapsed time: 15.778129816055298  seconds ... \n",
      " Processed 24001 of 38061 tracks. \t Elapsed time: 16.503018140792847  seconds ... \n",
      " Processed 24401 of 38061 tracks. \t Elapsed time: 16.773356914520264  seconds ... \n",
      " Processed 25801 of 38061 tracks. \t Elapsed time: 17.85151219367981  seconds ... \n",
      " Processed 30001 of 38061 tracks. \t Elapsed time: 20.684856414794922  seconds ... \n",
      " Processed 34001 of 38061 tracks. \t Elapsed time: 23.49273109436035  seconds ... \n",
      " Processed 34201 of 38061 tracks. \t Elapsed time: 23.626072645187378  seconds ... \n",
      " Processed 34801 of 38061 tracks. \t Elapsed time: 24.096068620681763  seconds ... \n",
      " Number of selected tracks:  5307\n",
      " ----------------------------------------------------------------------------------- \n",
      " Processing chain Nr. 8 ( 0.9 kV/cm )\n",
      " Number of tracks :  39026\n",
      " Processed 1 of 39026 tracks. \t Elapsed time: 0.01938772201538086  seconds ... \n",
      " Processed 801 of 39026 tracks. \t Elapsed time: 0.6513066291809082  seconds ... \n",
      " Processed 3001 of 39026 tracks. \t Elapsed time: 2.2882590293884277  seconds ... \n",
      " Processed 4601 of 39026 tracks. \t Elapsed time: 3.513946771621704  seconds ... \n",
      " Processed 5001 of 39026 tracks. \t Elapsed time: 3.8178882598876953  seconds ... \n",
      " Processed 5801 of 39026 tracks. \t Elapsed time: 4.482265472412109  seconds ... \n",
      " Processed 6401 of 39026 tracks. \t Elapsed time: 4.929872035980225  seconds ... \n",
      " Processed 8201 of 39026 tracks. \t Elapsed time: 6.35036301612854  seconds ... \n",
      " Processed 9601 of 39026 tracks. \t Elapsed time: 7.292885780334473  seconds ... \n",
      " Processed 11001 of 39026 tracks. \t Elapsed time: 8.328019142150879  seconds ... \n",
      " Processed 11801 of 39026 tracks. \t Elapsed time: 8.871495962142944  seconds ... \n",
      " Processed 12201 of 39026 tracks. \t Elapsed time: 9.161500215530396  seconds ... \n",
      " Processed 12601 of 39026 tracks. \t Elapsed time: 9.40607237815857  seconds ... \n",
      " Processed 15401 of 39026 tracks. \t Elapsed time: 11.395407676696777  seconds ... \n",
      " Processed 16201 of 39026 tracks. \t Elapsed time: 11.944647312164307  seconds ... \n",
      " Processed 19201 of 39026 tracks. \t Elapsed time: 14.088537454605103  seconds ... \n",
      " Processed 20001 of 39026 tracks. \t Elapsed time: 14.664090394973755  seconds ... \n",
      " Processed 21801 of 39026 tracks. \t Elapsed time: 16.028658866882324  seconds ... \n",
      " Processed 22201 of 39026 tracks. \t Elapsed time: 16.25351047515869  seconds ... \n",
      " Processed 23201 of 39026 tracks. \t Elapsed time: 16.99415111541748  seconds ... \n",
      " Processed 24201 of 39026 tracks. \t Elapsed time: 17.80245614051819  seconds ... \n",
      " Processed 24401 of 39026 tracks. \t Elapsed time: 17.954689264297485  seconds ... \n",
      " Processed 26201 of 39026 tracks. \t Elapsed time: 19.20862340927124  seconds ... \n",
      " Processed 28401 of 39026 tracks. \t Elapsed time: 20.909313201904297  seconds ... \n",
      " Processed 32401 of 39026 tracks. \t Elapsed time: 23.91142773628235  seconds ... \n",
      " Processed 34001 of 39026 tracks. \t Elapsed time: 25.0124351978302  seconds ... \n",
      " Processed 34601 of 39026 tracks. \t Elapsed time: 25.39259910583496  seconds ... \n",
      " Processed 35801 of 39026 tracks. \t Elapsed time: 26.320209741592407  seconds ... \n",
      " Processed 36001 of 39026 tracks. \t Elapsed time: 26.44515347480774  seconds ... \n",
      " Processed 36201 of 39026 tracks. \t Elapsed time: 26.668341636657715  seconds ... \n",
      " Processed 37401 of 39026 tracks. \t Elapsed time: 27.629465341567993  seconds ... \n",
      " Processed 38801 of 39026 tracks. \t Elapsed time: 28.633753538131714  seconds ... \n",
      " Processed 39001 of 39026 tracks. \t Elapsed time: 28.72691559791565  seconds ... \n",
      " Number of selected tracks:  5709\n",
      " ----------------------------------------------------------------------------------- \n",
      " Processing chain Nr. 9 ( 1.0 kV/cm )\n",
      " Number of tracks :  60331\n",
      " Processed 1201 of 60331 tracks. \t Elapsed time: 0.9695968627929688  seconds ... \n",
      " Processed 1601 of 60331 tracks. \t Elapsed time: 1.3025107383728027  seconds ... \n",
      " Processed 3801 of 60331 tracks. \t Elapsed time: 2.8926522731781006  seconds ... \n",
      " Processed 4201 of 60331 tracks. \t Elapsed time: 3.154975414276123  seconds ... \n",
      " Processed 7801 of 60331 tracks. \t Elapsed time: 5.7073822021484375  seconds ... \n",
      " Processed 8401 of 60331 tracks. \t Elapsed time: 6.261064529418945  seconds ... \n",
      " Processed 8801 of 60331 tracks. \t Elapsed time: 6.5491437911987305  seconds ... \n",
      " Processed 11601 of 60331 tracks. \t Elapsed time: 8.591882228851318  seconds ... \n",
      " Processed 12201 of 60331 tracks. \t Elapsed time: 9.055056095123291  seconds ... \n",
      " Processed 12401 of 60331 tracks. \t Elapsed time: 9.216590642929077  seconds ... \n",
      " Processed 14801 of 60331 tracks. \t Elapsed time: 11.04445195198059  seconds ... \n",
      " Processed 16401 of 60331 tracks. \t Elapsed time: 12.222941637039185  seconds ... \n",
      " Processed 17201 of 60331 tracks. \t Elapsed time: 12.766294240951538  seconds ... \n",
      " Processed 21801 of 60331 tracks. \t Elapsed time: 16.213414192199707  seconds ... \n",
      " Processed 22001 of 60331 tracks. \t Elapsed time: 16.407202005386353  seconds ... \n",
      " Processed 23601 of 60331 tracks. \t Elapsed time: 17.53879141807556  seconds ... \n",
      " Processed 23801 of 60331 tracks. \t Elapsed time: 17.704033851623535  seconds ... \n",
      " Processed 26401 of 60331 tracks. \t Elapsed time: 19.61258363723755  seconds ... \n",
      " Processed 27601 of 60331 tracks. \t Elapsed time: 20.509785413742065  seconds ... \n",
      " Processed 28201 of 60331 tracks. \t Elapsed time: 20.859994173049927  seconds ... \n",
      " Processed 28601 of 60331 tracks. \t Elapsed time: 21.20211887359619  seconds ... \n",
      " Processed 31201 of 60331 tracks. \t Elapsed time: 23.126544952392578  seconds ... \n",
      " Processed 31601 of 60331 tracks. \t Elapsed time: 23.418095588684082  seconds ... \n",
      " Processed 32401 of 60331 tracks. \t Elapsed time: 24.02729320526123  seconds ... \n",
      " Processed 36001 of 60331 tracks. \t Elapsed time: 26.52460026741028  seconds ... \n",
      " Processed 36401 of 60331 tracks. \t Elapsed time: 26.872325897216797  seconds ... \n",
      " Processed 38001 of 60331 tracks. \t Elapsed time: 27.960529565811157  seconds ... \n",
      " Processed 41001 of 60331 tracks. \t Elapsed time: 30.244672536849976  seconds ... \n",
      " Processed 43601 of 60331 tracks. \t Elapsed time: 32.18372559547424  seconds ... \n",
      " Processed 45001 of 60331 tracks. \t Elapsed time: 33.23960542678833  seconds ... \n",
      " Processed 46601 of 60331 tracks. \t Elapsed time: 34.38545370101929  seconds ... \n",
      " Processed 46801 of 60331 tracks. \t Elapsed time: 34.56231117248535  seconds ... \n",
      " Processed 48001 of 60331 tracks. \t Elapsed time: 35.44213533401489  seconds ... \n",
      " Processed 48401 of 60331 tracks. \t Elapsed time: 35.817776679992676  seconds ... \n",
      " Processed 48601 of 60331 tracks. \t Elapsed time: 36.04350996017456  seconds ... \n",
      " Processed 51801 of 60331 tracks. \t Elapsed time: 38.569254875183105  seconds ... \n",
      " Processed 52601 of 60331 tracks. \t Elapsed time: 39.140283823013306  seconds ... \n",
      " Processed 53001 of 60331 tracks. \t Elapsed time: 39.39755034446716  seconds ... \n",
      " Processed 53201 of 60331 tracks. \t Elapsed time: 39.633573055267334  seconds ... \n",
      " Processed 54001 of 60331 tracks. \t Elapsed time: 40.257357597351074  seconds ... \n",
      " Processed 56401 of 60331 tracks. \t Elapsed time: 42.16278600692749  seconds ... \n",
      " Processed 56601 of 60331 tracks. \t Elapsed time: 42.30988311767578  seconds ... \n",
      " Processed 58401 of 60331 tracks. \t Elapsed time: 43.66766381263733  seconds ... \n",
      " Processed 59401 of 60331 tracks. \t Elapsed time: 44.43913269042969  seconds ... \n",
      " Processed 59801 of 60331 tracks. \t Elapsed time: 44.71341371536255  seconds ... \n",
      " Number of selected tracks:  9016\n",
      " Done.\n"
     ]
    }
   ],
   "source": [
    "for chain in range(len(input_tree_list)):\n",
    "    \n",
    "    print( ' ----------------------------------------------------------------------------------- ')\n",
    "    print(' Processing chain Nr.', chain, '(', (chain+1)/10., 'kV/cm )')\n",
    "    \n",
    "    #if chain != 0:\n",
    "    #    continue\n",
    "    \n",
    "    # Define lists with interesting quantities\n",
    "    track_length      = [] # Reconstructed track's length [mm]\n",
    "    track_n_hits      = [] # Reconstructed track's total number of hits [-]\n",
    "    track_q_tot       = [] # Reconstructed track's total charge deposit [ke] NOT YET ELECTRON LIFETIME CORRECTED -> TODO)\n",
    "    track_start_pos_x = [] # Reconstructed track's start position coordinates x [mm]\n",
    "    track_start_pos_y = [] # Reconstructed track's start position coordinates y [mm]\n",
    "    track_start_pos_z = [] # Reconstructed track's start position coordinates z [mm]\n",
    "    track_end_pos_x   = [] # Reconstructed track's end position coordinates x [mm]\n",
    "    track_end_pos_y   = [] # Reconstructed track's end position coordinates y [mm]\n",
    "    track_end_pos_z   = [] # Reconstructed track's end position coordinates z [mm]\n",
    "    LCM_lightYield    = [] # Total reconstructed light yield of LCM\n",
    "    track_cgx         = [] # gravicentre of the track (weighted by hits_q, but NOT YET ELECTRON LIFETIME CORRECTED -> TODO)\n",
    "    track_cgy         = [] # gravicentre of the track (weighted by hits_q, but NOT YET ELECTRON LIFETIME CORRECTED -> TODO)\n",
    "    track_cgz         = [] # gravicentre of the track (weighted by hits_q, but NOT YET ELECTRON LIFETIME CORRECTED -> TODO)\n",
    "    \n",
    "    # Number of tracks in the TChain\n",
    "    n_tracks = input_tree_list[chain].GetEntries()\n",
    "    print(' Number of tracks : ', n_tracks)\n",
    "\n",
    "    # Loop over all tracks in input_tree\n",
    "    start = time.time()\n",
    "\n",
    "    #print(input_tree_list[chain].Print())\n",
    "\n",
    "    # List for events with a low light yield\n",
    "    #low_light_events = []\n",
    "\n",
    "    # List for track selection\n",
    "    selected_trackIDs = []\n",
    "    \n",
    "    for track_id in range(n_tracks):\n",
    "        input_tree_list[chain].GetEntry(track_id)\n",
    "\n",
    "        # Apply Selection Cuts\n",
    "        if input_tree_list[chain].t_track_length < cut_lenght:\n",
    "            continue\n",
    "        if input_tree_list[chain].t_event_ntracks > cut_ntracks:\n",
    "            continue\n",
    "        if abs(max(input_tree_list[chain].t_track_start_pos_y,input_tree_list[chain].t_track_end_pos_y)) < cut_throughgoing or\\\n",
    "           abs(min(input_tree_list[chain].t_track_start_pos_y,input_tree_list[chain].t_track_end_pos_y)) < cut_throughgoing:\n",
    "            #print(input_tree_list[chain].t_track_start_pos_y)\n",
    "            #print(input_tree_list[chain].t_track_end_pos_y)\n",
    "            #print(' ---------------- ')\n",
    "            continue\n",
    "\n",
    "        #if track_id > 200:\n",
    "        #    break\n",
    "        \n",
    "        selected_trackIDs.append(input_tree_list[chain].t_trackID)\n",
    "\n",
    "\n",
    "        #if track_id > 15:\n",
    "        #    break\n",
    "\n",
    "        '''        \n",
    "        print(' ----------------------------------------- ')\n",
    "        #print(' t_eventID:           ', input_tree_list[chain].t_eventID)\n",
    "        print(' t_trackID:           ', input_tree_list[chain].t_trackID)\n",
    "        #print(' t_event_q:           ', input_tree_list[chain].t_event_q)\n",
    "        print(' t_track_length:      ', input_tree_list[chain].t_track_length)\n",
    "        print(' t_event_ntracks:     ', input_tree_list[chain].t_event_ntracks)\n",
    "        print(' t_track_start_pos_y: ', input_tree_list[chain].t_track_start_pos_y)\n",
    "        print(' t_track_end_pos_y:   ', input_tree_list[chain].t_track_end_pos_y)\n",
    "        #print(' t_track_q:           ', input_tree_list[chain].t_track_q)\n",
    "        #print(' t_event_nhits:       ', input_tree_list[chain].t_event_nhits)\n",
    "        #print(' t_track_nhits:       ', input_tree_list[chain].t_track_nhits)\n",
    "        #print(' t_tlcm1_tot:         ', input_tree_list[chain].l_tlcm1_tot)\n",
    "        '''\n",
    "\n",
    "        track_length.append(input_tree_list[chain].t_track_length)\n",
    "        track_n_hits.append(input_tree_list[chain].t_track_nhits)\n",
    "        track_q_tot.append(input_tree_list[chain].t_track_q)\n",
    "\n",
    "        track_start_pos_x.append(input_tree_list[chain].t_track_start_pos_x)\n",
    "        track_start_pos_y.append(input_tree_list[chain].t_track_start_pos_y)\n",
    "        track_start_pos_z.append(input_tree_list[chain].t_track_start_pos_z)\n",
    "        track_end_pos_x.append(input_tree_list[chain].t_track_end_pos_x)\n",
    "        track_end_pos_y.append(input_tree_list[chain].t_track_end_pos_y)\n",
    "        track_end_pos_z.append(input_tree_list[chain].t_track_end_pos_z)\n",
    "\n",
    "        LCM_lightYield.append(input_tree_list[chain].l_tlcm1_tot)\n",
    "\n",
    "        # For low light events\n",
    "        #if input_tree_list[chain].l_tlcm1_tot<150:\n",
    "        #    low_light_events.append(input_tree_list[chain].t_trackID)\n",
    "\n",
    "        # Obtain center of gravity for the track (weighted by deposited charge) #TODO: Correct for the electron lifetime!!!\n",
    "        # Loop over all hits\n",
    "        cgx = 0.\n",
    "        cgy = 0.\n",
    "        cgz = 0.\n",
    "        for hit in range(input_tree_list[chain].t_track_nhits):\n",
    "            cgx += input_tree_list[chain].t_track_hits_x[hit]*input_tree_list[chain].t_track_hits_q[hit] # TODO: CORRECT FOR ELECTRON LIFETIME\n",
    "            cgy += input_tree_list[chain].t_track_hits_y[hit]*input_tree_list[chain].t_track_hits_q[hit] # TODO: CORRECT FOR ELECTRON LIFETIME\n",
    "            cgz += input_tree_list[chain].t_track_hits_z[hit]*input_tree_list[chain].t_track_hits_q[hit] # TODO: CORRECT FOR ELECTRON LIFETIME\n",
    "        # normalize...\n",
    "        gravicentre_x = cgx/(np.sum(input_tree_list[chain].t_track_hits_q))\n",
    "        gravicentre_y = cgy/(np.sum(input_tree_list[chain].t_track_hits_q))\n",
    "        gravicentre_z = cgz/(np.sum(input_tree_list[chain].t_track_hits_q))\n",
    "        track_cgx.append(gravicentre_x)\n",
    "        track_cgy.append(gravicentre_y)\n",
    "        track_cgz.append(gravicentre_z)\n",
    "        #print(' ------------------------------ ')\n",
    "        #print(' t_trackID:     ', input_tree_list[chain].t_trackID)\n",
    "        #print(' cgx:           ', gravicentre_x)\n",
    "        #print(' cgy:           ', gravicentre_y)\n",
    "        #print(' cgz:           ', gravicentre_z)\n",
    "\n",
    "        if(track_id%200==0):\n",
    "            now = time.time()\n",
    "            print(' Processed', track_id+1, 'of', n_tracks, 'tracks. \\t Elapsed time:', (now-start), ' seconds ... \\r')\n",
    "    \n",
    "    track_length_list.append(track_length)\n",
    "    track_n_hits_list.append(track_n_hits)\n",
    "    track_q_tot_list.append(track_q_tot)\n",
    "    track_start_pos_x_list.append(track_start_pos_x)\n",
    "    track_start_pos_y_list.append(track_start_pos_y)\n",
    "    track_start_pos_z_list.append(track_start_pos_z)\n",
    "    track_end_pos_x_list.append(track_end_pos_x)\n",
    "    track_end_pos_y_list.append(track_end_pos_y)\n",
    "    track_end_pos_z_list.append(track_end_pos_z)\n",
    "    LCM_lightYield_list.append(LCM_lightYield)\n",
    "    track_cgx_list.append(track_cgx)\n",
    "    track_cgy_list.append(track_cgy)\n",
    "    track_cgz_list.append(track_cgz)\n",
    "            \n",
    "    print(' Number of selected tracks: ', len(selected_trackIDs))\n",
    "    \n",
    "print(' Done.')"
   ]
  },
  {
   "cell_type": "markdown",
   "metadata": {},
   "source": [
    "### Make Plots for Selected (!) Events"
   ]
  },
  {
   "cell_type": "code",
   "execution_count": 12,
   "metadata": {},
   "outputs": [],
   "source": [
    "from plot_functions import *"
   ]
  },
  {
   "cell_type": "code",
   "execution_count": 13,
   "metadata": {},
   "outputs": [
    {
     "name": "stdout",
     "output_type": "stream",
     "text": [
      "Done.\n"
     ]
    }
   ],
   "source": [
    "# LCM_lightYield\n",
    "for chain in range(len(input_tree_list)):\n",
    "    #print(LCM_lightYield_list[chain])\n",
    "    plot_folder = str((chain+1)/10.) + '_kV_per_cm'\n",
    "    x_min  = np.min(LCM_lightYield_list[chain])\n",
    "    x_max  = np.max(LCM_lightYield_list[chain])\n",
    "    n_bins = 50\n",
    "    axis_labels = ['Reconstructed LCM Light Yield [-]','Entries [-]']\n",
    "    save_name = 'plots/'+str(plot_folder)+'/'+'h1_LCM_lightYield.png'\n",
    "    plot_h1(LCM_lightYield_list[chain],x_min,x_max,n_bins,axis_labels,save_name)\n",
    "print('Done.')"
   ]
  },
  {
   "cell_type": "code",
   "execution_count": 14,
   "metadata": {},
   "outputs": [
    {
     "name": "stdout",
     "output_type": "stream",
     "text": [
      "Done.\n"
     ]
    }
   ],
   "source": [
    "# Track Length\n",
    "for chain in range(len(input_tree_list)):\n",
    "    #print(track_length_list[chain])\n",
    "    plot_folder = str((chain+1)/10.) + '_kV_per_cm'\n",
    "    x_min  = 0\n",
    "    x_max  = np.max(track_length_list[chain])\n",
    "    n_bins = 50\n",
    "    axis_labels = ['Track Length [mm]','Entries [-]']\n",
    "    save_name = 'plots/'+str(plot_folder)+'/'+'h1_track_lengths.png'\n",
    "    plot_h1(track_length_list[chain],x_min,x_max,n_bins,axis_labels,save_name)\n",
    "print('Done.')"
   ]
  },
  {
   "cell_type": "code",
   "execution_count": 15,
   "metadata": {},
   "outputs": [
    {
     "name": "stdout",
     "output_type": "stream",
     "text": [
      "Done.\n"
     ]
    }
   ],
   "source": [
    "# Track n_hits\n",
    "for chain in range(len(input_tree_list)):\n",
    "    #print(track_n_hits_list[chain])\n",
    "    plot_folder = str((chain+1)/10.) + '_kV_per_cm'\n",
    "    x_min  = 0\n",
    "    x_max  = np.max(track_n_hits_list[chain])\n",
    "    n_bins = 50\n",
    "    axis_labels = ['Number of Hits [-]','Entries [-]']\n",
    "    save_name = 'plots/'+str(plot_folder)+'/'+'h1_track_nhits.png'\n",
    "    plot_h1(track_n_hits_list[chain],x_min,x_max,n_bins,axis_labels,save_name)\n",
    "print('Done.')"
   ]
  },
  {
   "cell_type": "code",
   "execution_count": 16,
   "metadata": {},
   "outputs": [
    {
     "name": "stdout",
     "output_type": "stream",
     "text": [
      "Done.\n"
     ]
    }
   ],
   "source": [
    "# Track q_tot\n",
    "for chain in range(len(input_tree_list)):\n",
    "    #print(track_q_tot_list[chain])\n",
    "    plot_folder = str((chain+1)/10.) + '_kV_per_cm'\n",
    "    x_min  = 0\n",
    "    x_max  = np.max(track_q_tot_list[chain])\n",
    "    n_bins = 50\n",
    "    axis_labels = ['Total Deposited Charge [ke]','Entries [-]']\n",
    "    save_name = 'plots/'+str(plot_folder)+'/'+'h1_track_qtot.png'\n",
    "    plot_h1(track_q_tot_list[chain],x_min,x_max,n_bins,axis_labels,save_name)\n",
    "print('Done.')"
   ]
  },
  {
   "cell_type": "code",
   "execution_count": 17,
   "metadata": {},
   "outputs": [
    {
     "name": "stderr",
     "output_type": "stream",
     "text": [
      "/home/roman/software/anaconda3/envs/larpix-analysis-38/lib/python3.8/site-packages/matplotlib/backends/backend_agg.py:238: RuntimeWarning: Glyph 8722 missing from current font.\n",
      "  font.set_text(s, 0.0, flags=flags)\n",
      "/home/roman/software/anaconda3/envs/larpix-analysis-38/lib/python3.8/site-packages/matplotlib/backends/backend_agg.py:201: RuntimeWarning: Glyph 8722 missing from current font.\n",
      "  font.set_text(s, 0, flags=flags)\n"
     ]
    },
    {
     "name": "stdout",
     "output_type": "stream",
     "text": [
      "Done.\n"
     ]
    }
   ],
   "source": [
    "# start_pos_y vs. start_pos_x\n",
    "for chain in range(len(input_tree_list)):\n",
    "    #print(track_start_pos_x_list[chain])\n",
    "    plot_folder = str((chain+1)/10.) + '_kV_per_cm'\n",
    "    x_min    = pixels_x_min # np.min(track_start_pos_x_list[chain])\n",
    "    x_max    = pixels_x_max # np.max(track_start_pos_x_list[chain])\n",
    "    y_min    = pixels_y_min # np.min(track_start_pos_y_list[chain])\n",
    "    y_max    = pixels_y_max # np.max(track_start_pos_y_list[chain])\n",
    "    n_bins_x = n_pixels_x\n",
    "    n_bins_y = n_pixels_y\n",
    "    x_bins = np.linspace(x_min,x_max,n_bins_x)\n",
    "    y_bins = np.linspace(y_min,y_max,n_bins_y)\n",
    "    #x_bins = np.arange(x_min,x_max+1,step=1.)\n",
    "    #y_bins = np.arange(y_min,y_max+1,step=1.)\n",
    "    axis_labels = ['Track Start Position x [mm]','Track Start Position y [mm]','Entries [-]']\n",
    "    save_name = 'plots/'+str(plot_folder)+'/'+'h2_track_startPos.png'\n",
    "    plot_h2([track_start_pos_x_list[chain],track_start_pos_y_list[chain]],x_bins,y_bins,axis_labels,save_name)\n",
    "print('Done.')"
   ]
  },
  {
   "cell_type": "code",
   "execution_count": 18,
   "metadata": {},
   "outputs": [
    {
     "name": "stdout",
     "output_type": "stream",
     "text": [
      "Done.\n"
     ]
    }
   ],
   "source": [
    "# end_pos_y vs. end_pos_x\n",
    "for chain in range(len(input_tree_list)):\n",
    "    #print(track_end_pos_x_list[chain])\n",
    "    plot_folder = str((chain+1)/10.) + '_kV_per_cm'\n",
    "    x_min    = pixels_x_min # np.min(track_start_pos_x_list[chain])\n",
    "    x_max    = pixels_x_max # np.max(track_start_pos_x_list[chain])\n",
    "    y_min    = pixels_y_min # np.min(track_start_pos_y_list[chain])\n",
    "    y_max    = pixels_y_max # np.max(track_start_pos_y_list[chain])\n",
    "    n_bins_x = n_pixels_x\n",
    "    n_bins_y = n_pixels_y\n",
    "    x_bins = np.linspace(x_min,x_max,n_bins_x)\n",
    "    y_bins = np.linspace(y_min,y_max,n_bins_y)\n",
    "    #x_bins = np.arange(x_min,x_max+1,step=1.)\n",
    "    #y_bins = np.arange(y_min,y_max+1,step=1.)\n",
    "    axis_labels = ['Track End Position x [mm]','Track End Position y [mm]','Entries [-]']\n",
    "    save_name = 'plots/'+str(plot_folder)+'/'+'h2_track_endPos.png'\n",
    "    plot_h2([track_end_pos_x_list[chain],track_end_pos_y_list[chain]],x_bins,y_bins,axis_labels,save_name)\n",
    "print('Done.')"
   ]
  },
  {
   "cell_type": "code",
   "execution_count": 19,
   "metadata": {},
   "outputs": [
    {
     "name": "stdout",
     "output_type": "stream",
     "text": [
      "Done.\n"
     ]
    }
   ],
   "source": [
    "# NHits vs. TrackLength\n",
    "for chain in range(len(input_tree_list)):\n",
    "    #print(track_length_list[chain])\n",
    "    plot_folder = str((chain+1)/10.) + '_kV_per_cm'\n",
    "    x_min    = 0\n",
    "    x_max    = 500\n",
    "    y_min    = 0\n",
    "    y_max    = 200\n",
    "    n_bins_x = 50\n",
    "    n_bins_y = 50\n",
    "    x_bins = np.linspace(x_min,x_max,n_bins_x)\n",
    "    y_bins = np.linspace(y_min,y_max,n_bins_y)\n",
    "    #x_bins = np.arange(x_min,x_max+1,step=1.)\n",
    "    #y_bins = np.arange(y_min,y_max+1,step=1.)\n",
    "    axis_labels = ['Track Length [mm]','Number of Hits [-]','Entries [-]']\n",
    "    save_name = 'plots/'+str(plot_folder)+'/'+'h2_trackLength_vs_trackNHits.png'\n",
    "    plot_h2([track_length_list[chain],track_n_hits_list[chain]],x_bins,y_bins,axis_labels,save_name)\n",
    "print('Done.')"
   ]
  },
  {
   "cell_type": "code",
   "execution_count": 20,
   "metadata": {},
   "outputs": [],
   "source": [
    "# 3D plot of gravicentres\n",
    "for chain in range(len(input_tree_list)):\n",
    "    #print(track_cgx_list[chain])\n",
    "    plot_folder = str((chain+1)/10.) + '_kV_per_cm'\n",
    "    x_min    = pixels_x_min\n",
    "    x_max    = pixels_x_max\n",
    "    y_min    = pixels_y_min\n",
    "    y_max    = pixels_y_max\n",
    "    z_min    = 0\n",
    "    z_max    = max(pixels_z_max,np.max(track_cgz_list[chain]))\n",
    "    n_bins_x = n_pixels_x\n",
    "    n_bins_y = n_pixels_y\n",
    "    n_bins_z = n_pixels_z\n",
    "    x_bins = np.linspace(x_min,x_max,n_bins_x)\n",
    "    y_bins = np.linspace(y_min,y_max,n_bins_y)\n",
    "    z_bins = np.linspace(z_min,z_max,n_bins_z)\n",
    "    save_name = 'plots/'+str(plot_folder)+'/'+'h3_graviCentre.png'\n",
    "    plot_h3_unweighted([track_cgx_list[chain],track_cgy_list[chain],track_cgz_list[chain]],x_bins,y_bins,z_bins,['Coordinate x [mm]','Coordinate y [mm]','Coordinate z [mm]'],save_name)"
   ]
  },
  {
   "cell_type": "code",
   "execution_count": 21,
   "metadata": {},
   "outputs": [
    {
     "name": "stdout",
     "output_type": "stream",
     "text": [
      "Done.\n"
     ]
    }
   ],
   "source": [
    "# Gravycentre projection onto xy plane\n",
    "for chain in range(len(input_tree_list)):\n",
    "    #print(track_cgx_list[chain])\n",
    "    plot_folder = str((chain+1)/10.) + '_kV_per_cm'\n",
    "    x_min    = pixels_x_min\n",
    "    x_max    = pixels_x_max\n",
    "    y_min    = pixels_y_min\n",
    "    y_max    = pixels_y_max\n",
    "    n_bins_x = n_pixels_x\n",
    "    n_bins_y = n_pixels_y\n",
    "    x_bins = np.linspace(x_min,x_max,n_bins_x)\n",
    "    y_bins = np.linspace(y_min,y_max,n_bins_y)\n",
    "    #x_bins = np.arange(x_min,x_max+1,step=1.)\n",
    "    #y_bins = np.arange(y_min,y_max+1,step=1.)\n",
    "    axis_labels = ['Coordinate x [mm]','Coordinate y [mm]','Entries [-]']\n",
    "    save_name = 'plots/'+str(plot_folder)+'/'+'h2_graviCentre_xy.png'\n",
    "    plot_h2([track_cgx_list[chain],track_cgy_list[chain]],x_bins,y_bins,axis_labels,save_name)\n",
    "print('Done.')"
   ]
  },
  {
   "cell_type": "code",
   "execution_count": 22,
   "metadata": {},
   "outputs": [
    {
     "name": "stdout",
     "output_type": "stream",
     "text": [
      "Done.\n"
     ]
    }
   ],
   "source": [
    "# Gravycentre projection onto xz plane\n",
    "for chain in range(len(input_tree_list)):\n",
    "    #print(track_cgx_list[chain])\n",
    "    plot_folder = str((chain+1)/10.) + '_kV_per_cm'\n",
    "    x_min    = pixels_x_min\n",
    "    x_max    = pixels_x_max\n",
    "    z_min    = 0\n",
    "    z_max    = max(pixels_z_max,np.max(track_cgz_list[chain]))\n",
    "    n_bins_x = n_pixels_x\n",
    "    n_bins_z = n_pixels_z\n",
    "    x_bins = np.linspace(x_min,x_max,n_bins_x)\n",
    "    z_bins = np.linspace(z_min,z_max,n_bins_z)\n",
    "    #x_bins = np.arange(x_min,x_max+1,step=1.)\n",
    "    #y_bins = np.arange(y_min,y_max+1,step=1.)\n",
    "    axis_labels = ['Coordinate x [mm]','Coordinate z [mm]','Entries [-]']\n",
    "    save_name = 'plots/'+str(plot_folder)+'/'+'h2_graviCentre_xz.png'\n",
    "    plot_h2([track_cgx_list[chain],track_cgz_list[chain]],x_bins,z_bins,axis_labels,save_name)\n",
    "print('Done.')"
   ]
  },
  {
   "cell_type": "code",
   "execution_count": 23,
   "metadata": {},
   "outputs": [
    {
     "name": "stdout",
     "output_type": "stream",
     "text": [
      "Done.\n"
     ]
    }
   ],
   "source": [
    "# Gravycentre projection onto yz plane\n",
    "for chain in range(len(input_tree_list)):\n",
    "    #print(track_cgy_list[chain])\n",
    "    plot_folder = str((chain+1)/10.) + '_kV_per_cm'\n",
    "    y_min    = pixels_y_min\n",
    "    y_max    = pixels_y_max\n",
    "    z_min    = 0\n",
    "    z_max    = max(pixels_z_max,np.max(track_cgz_list[chain]))\n",
    "    n_bins_y = n_pixels_y\n",
    "    n_bins_z = n_pixels_z\n",
    "    y_bins = np.linspace(y_min,y_max,n_bins_y)\n",
    "    z_bins = np.linspace(z_min,z_max,n_bins_z)\n",
    "    #y_bins = np.arange(y_min,y_max+1,step=1.)\n",
    "    #z_bins = np.arange(z_min,z_max+1,step=1.)\n",
    "    axis_labels = ['Coordinate y [mm]','Coordinate z [mm]','Entries [-]']\n",
    "    save_name = 'plots/'+str(plot_folder)+'/'+'h2_graviCentre_yz.png'\n",
    "    plot_h2([track_cgy_list[chain],track_cgz_list[chain]],y_bins,z_bins,axis_labels,save_name)\n",
    "print('Done.')"
   ]
  },
  {
   "cell_type": "code",
   "execution_count": 24,
   "metadata": {},
   "outputs": [
    {
     "name": "stdout",
     "output_type": "stream",
     "text": [
      "Done.\n"
     ]
    }
   ],
   "source": [
    "# LCM light-yield vs. track gravicentre_x\n",
    "for chain in range(len(input_tree_list)):\n",
    "    #print(track_cgx_list[chain])\n",
    "    plot_folder = str((chain+1)/10.) + '_kV_per_cm'\n",
    "    x_min    = pixels_x_min\n",
    "    x_max    = pixels_x_max\n",
    "    y_min    = 0 # np.min(LCM_lightYield_list[chain])\n",
    "    y_max    = 1500 # np.max(LCM_lightYield_list[chain])\n",
    "    n_bins_x = n_pixels_x\n",
    "    n_bins_y = n_pixels_y\n",
    "    x_bins = np.linspace(x_min,x_max,n_bins_x)\n",
    "    y_bins = np.linspace(y_min,y_max,n_bins_y)\n",
    "    axis_labels = ['Track Gravicentre x [mm]','LCM Light Yield [UNITS?]','Entries [-]']\n",
    "    save_name = 'plots/'+str(plot_folder)+'/'+'h2_LCM_lightYield_vs_trackGC.png'\n",
    "    plot_h2([track_cgx_list[chain],LCM_lightYield_list[chain]],x_bins,y_bins,axis_labels,save_name)\n",
    "print('Done.')"
   ]
  },
  {
   "cell_type": "code",
   "execution_count": 25,
   "metadata": {},
   "outputs": [
    {
     "name": "stdout",
     "output_type": "stream",
     "text": [
      "Done.\n"
     ]
    }
   ],
   "source": [
    "# LCM light-yield vs. track gravicentre_x, all with selection cut line, and only selected with selection cut line\n",
    "x_min    = pixels_x_min\n",
    "x_max    = pixels_x_max\n",
    "y_min    = 0 # np.min(LCM_lightYield_list[chain])\n",
    "y_max    = 1500 # np.max(LCM_lightYield_list[chain])\n",
    "n_bins_x = n_pixels_x\n",
    "n_bins_y = n_pixels_y\n",
    "x_bins = np.linspace(x_min,x_max,n_bins_x)\n",
    "y_bins = np.linspace(y_min,y_max,n_bins_y)\n",
    "axis_labels = ['Track Gravicentre x [mm]','LCM Light Yield [UNITS?]','Entries [-]']\n",
    "\n",
    "LY_cut_at_xmin = 400 # min. light yield at x_min (near end)\n",
    "LY_cut_at_xmax = 50  # min. light yield at x_max (far end)\n",
    "\n",
    "# Plot only selected\n",
    "for chain in range(len(input_tree_list)):\n",
    "    plot_folder = str((chain+1)/10.) + '_kV_per_cm'\n",
    "    save_name = 'plots/'+str(plot_folder)+'/h2_LCM_lightYield_vs_trackGC_selected.png'\n",
    "    gc_list = []\n",
    "    ly_list = []\n",
    "    for entry in range(len(LCM_lightYield_list[chain])):\n",
    "        if LCM_lightYield_list[chain][entry]>-(track_cgx_list[chain][entry]-x_min)*(LY_cut_at_xmin-LY_cut_at_xmax)/(x_max-x_min)+LY_cut_at_xmin:\n",
    "            gc_list.append(track_cgx_list[chain][entry])\n",
    "            ly_list.append(LCM_lightYield_list[chain][entry])\n",
    "    plot_LY_vs_GCx_selection([gc_list,ly_list],x_bins,y_bins,axis_labels,save_name,LY_cut_at_xmin,LY_cut_at_xmax)\n",
    "    \n",
    "# Plot all\n",
    "for chain in range(len(input_tree_list)):\n",
    "    plot_folder = str((chain+1)/10.) + '_kV_per_cm'\n",
    "    save_name = 'plots/'+str(plot_folder)+'/h2_LCM_lightYield_vs_trackGC_selection_cut.png'\n",
    "    gc_list = []\n",
    "    ly_list = []\n",
    "    for entry in range(len(LCM_lightYield_list[chain])):\n",
    "        if True:\n",
    "            gc_list.append(track_cgx_list[chain][entry])\n",
    "            ly_list.append(LCM_lightYield_list[chain][entry])\n",
    "    plot_LY_vs_GCx_selection([gc_list,ly_list],x_bins,y_bins,axis_labels,save_name,LY_cut_at_xmin,LY_cut_at_xmax)\n",
    "\n",
    "print('Done.')"
   ]
  },
  {
   "cell_type": "code",
   "execution_count": 26,
   "metadata": {},
   "outputs": [
    {
     "name": "stderr",
     "output_type": "stream",
     "text": [
      "/home/roman/software/anaconda3/envs/larpix-analysis-38/lib/python3.8/site-packages/numpy/core/fromnumeric.py:3372: RuntimeWarning: Mean of empty slice.\n",
      "  return _methods._mean(a, axis=axis, dtype=dtype,\n",
      "/home/roman/software/anaconda3/envs/larpix-analysis-38/lib/python3.8/site-packages/numpy/core/_methods.py:170: RuntimeWarning: invalid value encountered in double_scalars\n",
      "  ret = ret.dtype.type(ret / rcount)\n",
      "/home/roman/software/anaconda3/envs/larpix-analysis-38/lib/python3.8/site-packages/numpy/core/_methods.py:233: RuntimeWarning: Degrees of freedom <= 0 for slice\n",
      "  ret = _var(a, axis=axis, dtype=dtype, out=out, ddof=ddof,\n",
      "/home/roman/software/anaconda3/envs/larpix-analysis-38/lib/python3.8/site-packages/numpy/core/_methods.py:194: RuntimeWarning: invalid value encountered in true_divide\n",
      "  arrmean = um.true_divide(\n",
      "/home/roman/software/anaconda3/envs/larpix-analysis-38/lib/python3.8/site-packages/numpy/core/_methods.py:226: RuntimeWarning: invalid value encountered in double_scalars\n",
      "  ret = ret.dtype.type(ret / rcount)\n"
     ]
    },
    {
     "name": "stdout",
     "output_type": "stream",
     "text": [
      "Done.\n"
     ]
    }
   ],
   "source": [
    "# Profile plot of LCM light-yield vs. track gravicentre_x\n",
    "x_min    = pixels_x_min\n",
    "x_max    = pixels_x_max\n",
    "n_bins_x = 10\n",
    "x_width  = (x_max-x_min)/n_bins_x\n",
    "x_err    = [0.5*x_width for i in range(n_bins_x)]\n",
    "y_min    = 0 # np.min(LCM_lightYield_list[chain])\n",
    "y_max    = 1500 # np.max(LCM_lightYield_list[chain])\n",
    "\n",
    "# Define lists which will be filled with n (=number of TChains) lists with info about\n",
    "# gravicentre, mean light yield and standard deviation of the mean light yield\n",
    "gc_bin_i_list      = []\n",
    "ly_mean_bin_i_list = []\n",
    "ly_std_bin_i_list  = []\n",
    "plot_folder_list   = []\n",
    "\n",
    "# Loop over all TChains and obtain data for the profile plots\n",
    "for chain in range(len(input_tree_list)):\n",
    "    #print(track_cgx_list[chain])\n",
    "    gc_bin_i      = []\n",
    "    ly_mean_bin_i = []\n",
    "    ly_std_bin_i  = []\n",
    "    # Loop over all bins\n",
    "    for bin_i in range(n_bins_x):\n",
    "        gc_bin_i.append((bin_i+0.5)*x_width+x_min)\n",
    "        ly_in_bin_i = []\n",
    "        # Loop over all TChains\n",
    "        for entry in range(len(LCM_lightYield_list[chain])):\n",
    "            # Check if GC is in current bin\n",
    "            if track_cgx_list[chain][entry]>((bin_i)*x_width+x_min) and track_cgx_list[chain][entry]<((bin_i+1)*x_width+x_min):\n",
    "                # Check if LY is not below selection criterium\n",
    "                if LCM_lightYield_list[chain][entry]>-(track_cgx_list[chain][entry]-x_min)*(LY_cut_at_xmin-LY_cut_at_xmax)/(x_max-x_min)+LY_cut_at_xmin:\n",
    "                    ly_in_bin_i.append(LCM_lightYield_list[chain][entry])\n",
    "        ly_mean_bin_i.append(np.mean(ly_in_bin_i))\n",
    "        ly_std_bin_i.append(np.std(ly_in_bin_i))\n",
    "    gc_bin_i_list.append(gc_bin_i)\n",
    "    ly_mean_bin_i_list.append(ly_mean_bin_i)\n",
    "    ly_std_bin_i_list.append(ly_std_bin_i)\n",
    "    plot_folder_list.append(str((chain+1)/10.) + '_kV_per_cm')\n",
    "\n",
    "axis_labels = ['Track Gravicentre x [mm]','LCM Light Yield [UNITS?]']\n",
    "save_name = 'plots/profile2D_LCM_lightYield_vs_trackGC.png'\n",
    "plot_profile_of_2D_hist(gc_bin_i_list,\\\n",
    "                        ly_mean_bin_i_list,\\\n",
    "                        x_err,\\\n",
    "                        ly_std_bin_i_list,\\\n",
    "                        plot_folder_list,\\\n",
    "                        axis_labels,\\\n",
    "                        x_min,\\\n",
    "                        x_max,\\\n",
    "                        y_min,\\\n",
    "                        y_max,\\\n",
    "                        save_name)\n",
    "print('Done.')"
   ]
  },
  {
   "cell_type": "markdown",
   "metadata": {},
   "source": [
    "#### Event Display"
   ]
  },
  {
   "cell_type": "code",
   "execution_count": 29,
   "metadata": {},
   "outputs": [
    {
     "name": "stdout",
     "output_type": "stream",
     "text": [
      " n_tracks:           4032\n",
      " Processing track 0 of 4032 in total...\n",
      " Processing track 200 of 4032 in total...\n",
      " Processing track 400 of 4032 in total...\n",
      " Processing track 600 of 4032 in total...\n",
      " Processing track 800 of 4032 in total...\n",
      " Processing track 1000 of 4032 in total...\n",
      " Processing track 1200 of 4032 in total...\n",
      " Processing track 1400 of 4032 in total...\n",
      " Processing track 1600 of 4032 in total...\n",
      " Processing track 1800 of 4032 in total...\n",
      " Processing track 2000 of 4032 in total...\n",
      " Processing track 2200 of 4032 in total...\n",
      " Processing track 2400 of 4032 in total...\n",
      " Processing track 2600 of 4032 in total...\n",
      " Processing track 2800 of 4032 in total...\n",
      " Processing track 3000 of 4032 in total...\n",
      " Processing track 3200 of 4032 in total...\n",
      " Processing track 3400 of 4032 in total...\n",
      " Processing track 3600 of 4032 in total...\n",
      " Processing track 3800 of 4032 in total...\n",
      " Processing track 4000 of 4032 in total...\n",
      "Done.\n"
     ]
    }
   ],
   "source": [
    "#os.system('rm -rf plots/' + str(plot_folder) +'/eventDisplays')\n",
    "#os.system('mkdir plots/' + str(plot_folder) +'/eventDisplays')\n",
    "\n",
    "# Define which TChain to be used\n",
    "chain = 0\n",
    "\n",
    "input_tree = input_tree_list[chain]\n",
    "n_tracks = input_tree.GetEntries()\n",
    "\n",
    "print(' n_tracks:          ', input_tree.GetEntries())\n",
    "\n",
    "for track in range(n_tracks):\n",
    "    input_tree.GetEntry(track)\n",
    "    \n",
    "    if track%200==0:\n",
    "        print(' Processing track', track, 'of', n_tracks, 'in total...')\n",
    "\n",
    "    # Apply Selection Cuts (those should be the same as at the very beginning!)\n",
    "    # Note: Make a selected_trackID list does not work since there are >1 files in a TChain.\n",
    "    # Could, e.g., use unique unix_ts or so.\n",
    "    # For the moment, just apply exactly the same selection cuts as above.\n",
    "    if input_tree_list[chain].t_track_length < cut_lenght:\n",
    "        continue\n",
    "    if input_tree_list[chain].t_event_ntracks > cut_ntracks:\n",
    "        continue\n",
    "    if abs(max(input_tree_list[chain].t_track_start_pos_y,input_tree_list[chain].t_track_end_pos_y)) < cut_throughgoing or\\\n",
    "       abs(min(input_tree_list[chain].t_track_start_pos_y,input_tree_list[chain].t_track_end_pos_y)) < cut_throughgoing:\n",
    "        #print(input_tree_list[chain].t_track_start_pos_y)\n",
    "        #print(input_tree_list[chain].t_track_end_pos_y)\n",
    "        #print(' ---------------- ')\n",
    "        continue\n",
    "    \n",
    "    hits_x = []\n",
    "    hits_y = []\n",
    "    hits_z = []\n",
    "    hits_q = []\n",
    "\n",
    "    '''    \n",
    "    print(' ----------------------------------------- ')\n",
    "    #print(' t_eventID:        ', input_tree.t_eventID)\n",
    "    print(' t_trackID:        ', input_tree.t_trackID)\n",
    "    #print(' t_event_q:        ', input_tree.t_event_q)\n",
    "    #print(' t_track_q:        ', input_tree.t_track_q)\n",
    "    #print(' t_event_nhits:    ', input_tree.t_event_nhits)\n",
    "    print(' t_track_start:    [%.2f , %.2f , %.2f]' %(input_tree.t_track_start_pos_x,input_tree.t_track_start_pos_y,input_tree.t_track_start_pos_z))\n",
    "    print(' t_track_end:      [%.2f , %.2f , %.2f]' %(input_tree.t_track_end_pos_x,input_tree.t_track_end_pos_y,input_tree.t_track_end_pos_z))\n",
    "    #print(' max(start_y):     ', max(input_tree.t_track_start_pos_y,input_tree.t_track_end_pos_y))\n",
    "    #print(' min(start_y):     ', min(input_tree.t_track_start_pos_y,input_tree.t_track_end_pos_y))\n",
    "    print(' t_track_nhits:    ', input_tree.t_track_nhits)\n",
    "    #print(' t_track_res_x:    ', input_tree.t_track_residual_x)\n",
    "    #print(' t_track_res_y:    ', input_tree.t_track_residual_y)\n",
    "    #print(' t_track_res_z:    ', input_tree.t_track_residual_z)\n",
    "    #print(' sqrt(res_sum2):   ', np.sqrt(input_tree.t_track_residual_x**2 + input_tree.t_track_residual_y**2 + input_tree.t_track_residual_z**2  ))\n",
    "    \n",
    "    #print(' l_LCM_tot :      ', input_tree.l_tlcm1_tot)\n",
    "    '''\n",
    "    \n",
    "    # Loop over all hits\n",
    "    for hit in range(input_tree.t_track_nhits):\n",
    "        hits_x.append(input_tree.t_track_hits_x[hit])\n",
    "        hits_y.append(input_tree.t_track_hits_y[hit])\n",
    "        hits_z.append(input_tree.t_track_hits_z[hit])\n",
    "        hits_q.append(input_tree.t_track_hits_q[hit])\n",
    "    \n",
    "    \n",
    "    # Plot 2D projection (onto xy pixel tile)\n",
    "    x_min    = pixels_x_min\n",
    "    x_max    = pixels_x_max\n",
    "    y_min    = pixels_y_min\n",
    "    y_max    = pixels_y_max\n",
    "    n_bins_x = n_pixels_x\n",
    "    n_bins_y = n_pixels_y\n",
    "    x_bins = np.linspace(x_min,x_max,n_bins_x)\n",
    "    y_bins = np.linspace(y_min,y_max,n_bins_y)\n",
    "    #save_name = 'plots/'+str(plot_folder)+'/eventDisplays/trackID_'+str(input_tree.t_trackID)+'_2D.png'\n",
    "    save_name = 'plots/'+str((chain+1)/10.)+'_kV_per_cm/eventDisplays/trackID_'+str(input_tree.t_trackID)+'_2D.png'\n",
    "    plot_event_2D([hits_x,hits_y,hits_q],x_bins,y_bins,['Coordinate x [mm]','Coordinate y [mm]','Charge Deposition [ke]'],save_name)\n",
    "    \n",
    "    \n",
    "    # Plot 3D event display\n",
    "    x_min    = pixels_x_min\n",
    "    x_max    = pixels_x_max\n",
    "    y_min    = pixels_y_min\n",
    "    y_max    = pixels_y_max\n",
    "    z_min    = 0\n",
    "    z_max    = max(pixels_z_max,np.max(hits_z))\n",
    "    n_bins_x = n_pixels_x\n",
    "    n_bins_y = n_pixels_y\n",
    "    n_bins_z = n_pixels_z\n",
    "    x_bins = np.linspace(x_min,x_max,n_bins_x)\n",
    "    y_bins = np.linspace(y_min,y_max,n_bins_y)\n",
    "    z_bins = np.linspace(z_min,z_max,n_bins_z)\n",
    "    #save_name = 'plots/'+str(plot_folder)+'/eventDisplays/trackID_'+str(input_tree.t_trackID)+'_3D.png'\n",
    "    save_name = 'plots/'+str((chain+1)/10.)+'_kV_per_cm/eventDisplays/trackID_'+str(input_tree.t_trackID)+'_3D.png'\n",
    "    plot_event_3D([hits_x,hits_y,hits_z,hits_q],x_bins,y_bins,z_bins,['Coordinate x [mm]','Coordinate y [mm]','Coordinate z [mm]','Charge Deposition [ke]'],save_name)\n",
    "    '''\n",
    "    # OLD VERSION\n",
    "    fig = plt.figure()\n",
    "    ax = fig.add_subplot(111, projection='3d')\n",
    "    ax.set_xlim((pixels_x_min,pixels_x_max))\n",
    "    ax.set_ylim((pixels_y_min,pixels_y_max))\n",
    "    ax.set_zlim((0.,max(3200,np.max(hits_z))))\n",
    "    img = ax.scatter(hits_x,hits_y,hits_z,c=hits_q,cmap=plt.hot())\n",
    "    fig.colorbar(img)\n",
    "    plt.show()\n",
    "    save_name = 'evDisplay_3D.png'\n",
    "    plt.savefig(save_name, dpi=400)\n",
    "    plt.close()\n",
    "    '''\n",
    "    \n",
    "print('Done.')"
   ]
  },
  {
   "cell_type": "code",
   "execution_count": null,
   "metadata": {},
   "outputs": [],
   "source": []
  },
  {
   "cell_type": "code",
   "execution_count": null,
   "metadata": {},
   "outputs": [],
   "source": []
  },
  {
   "cell_type": "code",
   "execution_count": null,
   "metadata": {},
   "outputs": [],
   "source": []
  },
  {
   "cell_type": "code",
   "execution_count": null,
   "metadata": {},
   "outputs": [],
   "source": []
  },
  {
   "cell_type": "markdown",
   "metadata": {},
   "source": [
    "### Testing Voxelisation algorithm"
   ]
  },
  {
   "cell_type": "code",
   "execution_count": null,
   "metadata": {},
   "outputs": [],
   "source": [
    "'''\n",
    "# Get all hits in the EVENT (!) and make voxelisation\n",
    "voxels = np.zeros((n_voxels_x, n_voxels_y, n_voxels_z))\n",
    "\n",
    "for hit in range(10): #input_tree.t_event_nhits):\n",
    "    #print(' hit: ', hit, ' \\t x: ', input_tree.t_event_hits_x[hit], '\\t y: ', input_tree.t_event_hits_y[hit], ' \\t z: ', input_tree.t_event_hits_z[hit])\n",
    "\n",
    "    voxel_x = math.floor((input_tree.t_event_hits_x[hit]+(pitch_x*(n_voxels_x)/2.))/pitch_x)\n",
    "    voxel_y = math.floor((input_tree.t_event_hits_y[hit]+(pitch_y*(n_voxels_y)/2.))/pitch_y)\n",
    "    voxel_z = math.floor((input_tree.t_event_hits_z[hit]+(pitch_z*(n_voxels_z)/2.))/pitch_z)\n",
    "\n",
    "    #print(' voxel_x: ', voxel_x, ' \\t voxel_y: ', voxel_y, ' \\t voxel_z: ', voxel_z)\n",
    "    if voxel_x<n_voxels_x and voxel_y<n_voxels_y and voxel_z<n_voxels_z:\n",
    "        voxels[voxel_x][voxel_y][voxel_z] += input_tree.t_event_hits_q[hit]\n",
    "    # TODO: make under- and overflow voxel for every coordinate\n",
    "\n",
    "    h3_event_hits.Fill(input_tree.t_event_hits_x[hit],input_tree.t_event_hits_y[hit],input_tree.t_event_hits_z[hit],input_tree.t_event_hits_q[hit])\n",
    "\n",
    "for vox_x in range(n_voxels_x):\n",
    "    vox_x_middle = x_min + (vox_x+0.5)*pitch_x\n",
    "    for vox_y in range(n_voxels_y):\n",
    "        vox_y_middle = y_min + (vox_y+0.5)*pitch_y\n",
    "        for vox_z in range(n_voxels_z):\n",
    "            vox_z_middle = z_min + (vox_z+0.5)*pitch_z\n",
    "            if voxels[vox_x][vox_y][vox_z] > 0:\n",
    "                ntuple.Fill(vox_x_middle,vox_y_middle,vox_z_middle,voxels[vox_x][vox_y][vox_z])\n",
    "                #h3_event_hits.Fill(vox_x_middle,vox_y_middle,vox_z_middle,voxels[vox_x][vox_y][vox_z])\n",
    "'''"
   ]
  }
 ],
 "metadata": {
  "kernelspec": {
   "display_name": "Python 3",
   "language": "python",
   "name": "python3"
  },
  "language_info": {
   "codemirror_mode": {
    "name": "ipython",
    "version": 3
   },
   "file_extension": ".py",
   "mimetype": "text/x-python",
   "name": "python",
   "nbconvert_exporter": "python",
   "pygments_lexer": "ipython3",
   "version": "3.8.5"
  }
 },
 "nbformat": 4,
 "nbformat_minor": 4
}
